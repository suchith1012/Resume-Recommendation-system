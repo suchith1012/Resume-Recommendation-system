{
  "nbformat": 4,
  "nbformat_minor": 0,
  "metadata": {
    "colab": {
      "name": "AOML_Project_V1.0.ipynb",
      "provenance": [],
      "collapsed_sections": [],
      "include_colab_link": true
    },
    "kernelspec": {
      "name": "python3",
      "display_name": "Python 3"
    },
    "language_info": {
      "name": "python"
    }
  },
  "cells": [
    {
      "cell_type": "markdown",
      "metadata": {
        "id": "view-in-github",
        "colab_type": "text"
      },
      "source": [
        "<a href=\"https://colab.research.google.com/github/suchith1012/AOML_Project/blob/main/AOML_Project_V1_0.ipynb\" target=\"_parent\"><img src=\"https://colab.research.google.com/assets/colab-badge.svg\" alt=\"Open In Colab\"/></a>"
      ]
    },
    {
      "cell_type": "code",
      "metadata": {
        "id": "E0EbO_ohUFRE"
      },
      "source": [
        "import pandas as pd\n",
        "import numpy as np\n",
        "import matplotlib.pyplot as plt"
      ],
      "execution_count": 233,
      "outputs": []
    },
    {
      "cell_type": "code",
      "metadata": {
        "id": "182utcWgSgNh"
      },
      "source": [
        "O_data=pd.read_csv('/content/sample_data/resume_dataset.csv')"
      ],
      "execution_count": 234,
      "outputs": []
    },
    {
      "cell_type": "code",
      "metadata": {
        "id": "48RIIh-rUcq_",
        "colab": {
          "base_uri": "https://localhost:8080/",
          "height": 402
        },
        "outputId": "1f53434a-15d4-4f5f-df39-37e34925dd4f"
      },
      "source": [
        "O_data"
      ],
      "execution_count": 235,
      "outputs": [
        {
          "output_type": "execute_result",
          "data": {
            "text/html": [
              "<div>\n",
              "<style scoped>\n",
              "    .dataframe tbody tr th:only-of-type {\n",
              "        vertical-align: middle;\n",
              "    }\n",
              "\n",
              "    .dataframe tbody tr th {\n",
              "        vertical-align: top;\n",
              "    }\n",
              "\n",
              "    .dataframe thead th {\n",
              "        text-align: right;\n",
              "    }\n",
              "</style>\n",
              "<table border=\"1\" class=\"dataframe\">\n",
              "  <thead>\n",
              "    <tr style=\"text-align: right;\">\n",
              "      <th></th>\n",
              "      <th>Category</th>\n",
              "      <th>Resume</th>\n",
              "    </tr>\n",
              "  </thead>\n",
              "  <tbody>\n",
              "    <tr>\n",
              "      <th>0</th>\n",
              "      <td>Data Science</td>\n",
              "      <td>Skills * Programming Languages: Python (pandas...</td>\n",
              "    </tr>\n",
              "    <tr>\n",
              "      <th>1</th>\n",
              "      <td>Data Science</td>\n",
              "      <td>Education Details \\r\\nMay 2013 to May 2017 B.E...</td>\n",
              "    </tr>\n",
              "    <tr>\n",
              "      <th>2</th>\n",
              "      <td>Data Science</td>\n",
              "      <td>Areas of Interest Deep Learning, Control Syste...</td>\n",
              "    </tr>\n",
              "    <tr>\n",
              "      <th>3</th>\n",
              "      <td>Data Science</td>\n",
              "      <td>Skills â¢ R â¢ Python â¢ SAP HANA â¢ Table...</td>\n",
              "    </tr>\n",
              "    <tr>\n",
              "      <th>4</th>\n",
              "      <td>Data Science</td>\n",
              "      <td>Education Details \\r\\n MCA   YMCAUST,  Faridab...</td>\n",
              "    </tr>\n",
              "    <tr>\n",
              "      <th>...</th>\n",
              "      <td>...</td>\n",
              "      <td>...</td>\n",
              "    </tr>\n",
              "    <tr>\n",
              "      <th>164</th>\n",
              "      <td>Testing</td>\n",
              "      <td>Computer Skills: â¢ Proficient in MS office (...</td>\n",
              "    </tr>\n",
              "    <tr>\n",
              "      <th>165</th>\n",
              "      <td>Testing</td>\n",
              "      <td>â Willingness to accept the challenges. â ...</td>\n",
              "    </tr>\n",
              "    <tr>\n",
              "      <th>166</th>\n",
              "      <td>Testing</td>\n",
              "      <td>PERSONAL SKILLS â¢ Quick learner, â¢ Eagerne...</td>\n",
              "    </tr>\n",
              "    <tr>\n",
              "      <th>167</th>\n",
              "      <td>Testing</td>\n",
              "      <td>COMPUTER SKILLS &amp; SOFTWARE KNOWLEDGE MS-Power ...</td>\n",
              "    </tr>\n",
              "    <tr>\n",
              "      <th>168</th>\n",
              "      <td>Testing</td>\n",
              "      <td>Skill Set OS Windows XP/7/8/8.1/10 Database MY...</td>\n",
              "    </tr>\n",
              "  </tbody>\n",
              "</table>\n",
              "<p>169 rows × 2 columns</p>\n",
              "</div>"
            ],
            "text/plain": [
              "         Category                                             Resume\n",
              "0    Data Science  Skills * Programming Languages: Python (pandas...\n",
              "1    Data Science  Education Details \\r\\nMay 2013 to May 2017 B.E...\n",
              "2    Data Science  Areas of Interest Deep Learning, Control Syste...\n",
              "3    Data Science  Skills â¢ R â¢ Python â¢ SAP HANA â¢ Table...\n",
              "4    Data Science  Education Details \\r\\n MCA   YMCAUST,  Faridab...\n",
              "..            ...                                                ...\n",
              "164       Testing  Computer Skills: â¢ Proficient in MS office (...\n",
              "165       Testing  â Willingness to accept the challenges. â ...\n",
              "166       Testing  PERSONAL SKILLS â¢ Quick learner, â¢ Eagerne...\n",
              "167       Testing  COMPUTER SKILLS & SOFTWARE KNOWLEDGE MS-Power ...\n",
              "168       Testing  Skill Set OS Windows XP/7/8/8.1/10 Database MY...\n",
              "\n",
              "[169 rows x 2 columns]"
            ]
          },
          "metadata": {
            "tags": []
          },
          "execution_count": 235
        }
      ]
    },
    {
      "cell_type": "code",
      "metadata": {
        "id": "lj4VW7GvnIef",
        "colab": {
          "base_uri": "https://localhost:8080/",
          "height": 166
        },
        "outputId": "bb46b522-5807-4679-bf91-8141ad46ef5b"
      },
      "source": [
        "O_data.describe()"
      ],
      "execution_count": 236,
      "outputs": [
        {
          "output_type": "execute_result",
          "data": {
            "text/html": [
              "<div>\n",
              "<style scoped>\n",
              "    .dataframe tbody tr th:only-of-type {\n",
              "        vertical-align: middle;\n",
              "    }\n",
              "\n",
              "    .dataframe tbody tr th {\n",
              "        vertical-align: top;\n",
              "    }\n",
              "\n",
              "    .dataframe thead th {\n",
              "        text-align: right;\n",
              "    }\n",
              "</style>\n",
              "<table border=\"1\" class=\"dataframe\">\n",
              "  <thead>\n",
              "    <tr style=\"text-align: right;\">\n",
              "      <th></th>\n",
              "      <th>Category</th>\n",
              "      <th>Resume</th>\n",
              "    </tr>\n",
              "  </thead>\n",
              "  <tbody>\n",
              "    <tr>\n",
              "      <th>count</th>\n",
              "      <td>169</td>\n",
              "      <td>169</td>\n",
              "    </tr>\n",
              "    <tr>\n",
              "      <th>unique</th>\n",
              "      <td>25</td>\n",
              "      <td>166</td>\n",
              "    </tr>\n",
              "    <tr>\n",
              "      <th>top</th>\n",
              "      <td>Java Developer</td>\n",
              "      <td>Technical Skills Web Technologies: Angular JS,...</td>\n",
              "    </tr>\n",
              "    <tr>\n",
              "      <th>freq</th>\n",
              "      <td>14</td>\n",
              "      <td>2</td>\n",
              "    </tr>\n",
              "  </tbody>\n",
              "</table>\n",
              "</div>"
            ],
            "text/plain": [
              "              Category                                             Resume\n",
              "count              169                                                169\n",
              "unique              25                                                166\n",
              "top     Java Developer  Technical Skills Web Technologies: Angular JS,...\n",
              "freq                14                                                  2"
            ]
          },
          "metadata": {
            "tags": []
          },
          "execution_count": 236
        }
      ]
    },
    {
      "cell_type": "code",
      "metadata": {
        "id": "S4nwIDnoamen"
      },
      "source": [
        "from random import randint\n",
        "\n",
        "def candidateid(name):\n",
        "  temp=name.split(\" \")\n",
        "  temp_rand=str(randint(100, 999))\n",
        "  if(len(temp)>=2):\n",
        "    return temp[0][0]+temp[1][0]+temp_rand\n",
        "  else:\n",
        "    return temp[0][0]+temp[0][1]+temp_rand\n"
      ],
      "execution_count": 237,
      "outputs": []
    },
    {
      "cell_type": "code",
      "metadata": {
        "id": "jWfwK6GKap3Y",
        "colab": {
          "base_uri": "https://localhost:8080/",
          "height": 195
        },
        "outputId": "f52725d7-af97-40f6-c5e5-57bb6fc39198"
      },
      "source": [
        "O_data[\"candidate_id\"] = O_data[\"Category\"].apply(lambda text: candidateid(text))\n",
        "O_data.head()"
      ],
      "execution_count": 238,
      "outputs": [
        {
          "output_type": "execute_result",
          "data": {
            "text/html": [
              "<div>\n",
              "<style scoped>\n",
              "    .dataframe tbody tr th:only-of-type {\n",
              "        vertical-align: middle;\n",
              "    }\n",
              "\n",
              "    .dataframe tbody tr th {\n",
              "        vertical-align: top;\n",
              "    }\n",
              "\n",
              "    .dataframe thead th {\n",
              "        text-align: right;\n",
              "    }\n",
              "</style>\n",
              "<table border=\"1\" class=\"dataframe\">\n",
              "  <thead>\n",
              "    <tr style=\"text-align: right;\">\n",
              "      <th></th>\n",
              "      <th>Category</th>\n",
              "      <th>Resume</th>\n",
              "      <th>candidate_id</th>\n",
              "    </tr>\n",
              "  </thead>\n",
              "  <tbody>\n",
              "    <tr>\n",
              "      <th>0</th>\n",
              "      <td>Data Science</td>\n",
              "      <td>Skills * Programming Languages: Python (pandas...</td>\n",
              "      <td>DS538</td>\n",
              "    </tr>\n",
              "    <tr>\n",
              "      <th>1</th>\n",
              "      <td>Data Science</td>\n",
              "      <td>Education Details \\r\\nMay 2013 to May 2017 B.E...</td>\n",
              "      <td>DS505</td>\n",
              "    </tr>\n",
              "    <tr>\n",
              "      <th>2</th>\n",
              "      <td>Data Science</td>\n",
              "      <td>Areas of Interest Deep Learning, Control Syste...</td>\n",
              "      <td>DS809</td>\n",
              "    </tr>\n",
              "    <tr>\n",
              "      <th>3</th>\n",
              "      <td>Data Science</td>\n",
              "      <td>Skills â¢ R â¢ Python â¢ SAP HANA â¢ Table...</td>\n",
              "      <td>DS137</td>\n",
              "    </tr>\n",
              "    <tr>\n",
              "      <th>4</th>\n",
              "      <td>Data Science</td>\n",
              "      <td>Education Details \\r\\n MCA   YMCAUST,  Faridab...</td>\n",
              "      <td>DS277</td>\n",
              "    </tr>\n",
              "  </tbody>\n",
              "</table>\n",
              "</div>"
            ],
            "text/plain": [
              "       Category                                             Resume candidate_id\n",
              "0  Data Science  Skills * Programming Languages: Python (pandas...        DS538\n",
              "1  Data Science  Education Details \\r\\nMay 2013 to May 2017 B.E...        DS505\n",
              "2  Data Science  Areas of Interest Deep Learning, Control Syste...        DS809\n",
              "3  Data Science  Skills â¢ R â¢ Python â¢ SAP HANA â¢ Table...        DS137\n",
              "4  Data Science  Education Details \\r\\n MCA   YMCAUST,  Faridab...        DS277"
            ]
          },
          "metadata": {
            "tags": []
          },
          "execution_count": 238
        }
      ]
    },
    {
      "cell_type": "code",
      "metadata": {
        "id": "Eej2LMqOwefV"
      },
      "source": [
        "O_data['processed_resume']=''"
      ],
      "execution_count": 239,
      "outputs": []
    },
    {
      "cell_type": "code",
      "metadata": {
        "id": "7RjlFGrbwiT3",
        "colab": {
          "base_uri": "https://localhost:8080/",
          "height": 166
        },
        "outputId": "02e4710f-0f16-4a28-85b7-f16ef2392856"
      },
      "source": [
        "O_data.describe()"
      ],
      "execution_count": 240,
      "outputs": [
        {
          "output_type": "execute_result",
          "data": {
            "text/html": [
              "<div>\n",
              "<style scoped>\n",
              "    .dataframe tbody tr th:only-of-type {\n",
              "        vertical-align: middle;\n",
              "    }\n",
              "\n",
              "    .dataframe tbody tr th {\n",
              "        vertical-align: top;\n",
              "    }\n",
              "\n",
              "    .dataframe thead th {\n",
              "        text-align: right;\n",
              "    }\n",
              "</style>\n",
              "<table border=\"1\" class=\"dataframe\">\n",
              "  <thead>\n",
              "    <tr style=\"text-align: right;\">\n",
              "      <th></th>\n",
              "      <th>Category</th>\n",
              "      <th>Resume</th>\n",
              "      <th>candidate_id</th>\n",
              "      <th>processed_resume</th>\n",
              "    </tr>\n",
              "  </thead>\n",
              "  <tbody>\n",
              "    <tr>\n",
              "      <th>count</th>\n",
              "      <td>169</td>\n",
              "      <td>169</td>\n",
              "      <td>169</td>\n",
              "      <td>169</td>\n",
              "    </tr>\n",
              "    <tr>\n",
              "      <th>unique</th>\n",
              "      <td>25</td>\n",
              "      <td>166</td>\n",
              "      <td>168</td>\n",
              "      <td>1</td>\n",
              "    </tr>\n",
              "    <tr>\n",
              "      <th>top</th>\n",
              "      <td>Java Developer</td>\n",
              "      <td>Technical Skills Web Technologies: Angular JS,...</td>\n",
              "      <td>Te307</td>\n",
              "      <td></td>\n",
              "    </tr>\n",
              "    <tr>\n",
              "      <th>freq</th>\n",
              "      <td>14</td>\n",
              "      <td>2</td>\n",
              "      <td>2</td>\n",
              "      <td>169</td>\n",
              "    </tr>\n",
              "  </tbody>\n",
              "</table>\n",
              "</div>"
            ],
            "text/plain": [
              "              Category  ... processed_resume\n",
              "count              169  ...              169\n",
              "unique              25  ...                1\n",
              "top     Java Developer  ...                 \n",
              "freq                14  ...              169\n",
              "\n",
              "[4 rows x 4 columns]"
            ]
          },
          "metadata": {
            "tags": []
          },
          "execution_count": 240
        }
      ]
    },
    {
      "cell_type": "code",
      "metadata": {
        "id": "VHsEXpMhOWxI"
      },
      "source": [
        "data_distribution = O_data['Category'].value_counts()"
      ],
      "execution_count": 241,
      "outputs": []
    },
    {
      "cell_type": "code",
      "metadata": {
        "id": "O0hDr-nfPihU",
        "colab": {
          "base_uri": "https://localhost:8080/",
          "height": 389
        },
        "outputId": "d67ec557-6840-4837-b063-d4988944df06"
      },
      "source": [
        "import matplotlib.pyplot as plt\n",
        "data_distribution.plot.bar()\n",
        "plt.show()"
      ],
      "execution_count": 242,
      "outputs": [
        {
          "output_type": "display_data",
          "data": {
            "image/png": "[encoded data removed]",
            "text/plain": [
              "<Figure size 432x288 with 1 Axes>"
            ]
          },
          "metadata": {
            "tags": [],
            "needs_background": "light"
          }
        }
      ]
    },
    {
      "cell_type": "markdown",
      "metadata": {
        "id": "zJXeaNHMZj3j"
      },
      "source": [
        "# Text Preprocessing"
      ]
    },
    {
      "cell_type": "markdown",
      "metadata": {
        "id": "RV09KkW-dpaC"
      },
      "source": [
        "### Convert text to lowercase"
      ]
    },
    {
      "cell_type": "code",
      "metadata": {
        "id": "pX31XzFYvMdS"
      },
      "source": [
        "O_data['processed_resume']=O_data['Resume'].str.lower()"
      ],
      "execution_count": 243,
      "outputs": []
    },
    {
      "cell_type": "code",
      "metadata": {
        "id": "Zxry_BEKxUD7",
        "colab": {
          "base_uri": "https://localhost:8080/",
          "height": 195
        },
        "outputId": "63e79c16-b588-4ca3-b984-4aaad6294c8d"
      },
      "source": [
        "O_data.head()"
      ],
      "execution_count": 244,
      "outputs": [
        {
          "output_type": "execute_result",
          "data": {
            "text/html": [
              "<div>\n",
              "<style scoped>\n",
              "    .dataframe tbody tr th:only-of-type {\n",
              "        vertical-align: middle;\n",
              "    }\n",
              "\n",
              "    .dataframe tbody tr th {\n",
              "        vertical-align: top;\n",
              "    }\n",
              "\n",
              "    .dataframe thead th {\n",
              "        text-align: right;\n",
              "    }\n",
              "</style>\n",
              "<table border=\"1\" class=\"dataframe\">\n",
              "  <thead>\n",
              "    <tr style=\"text-align: right;\">\n",
              "      <th></th>\n",
              "      <th>Category</th>\n",
              "      <th>Resume</th>\n",
              "      <th>candidate_id</th>\n",
              "      <th>processed_resume</th>\n",
              "    </tr>\n",
              "  </thead>\n",
              "  <tbody>\n",
              "    <tr>\n",
              "      <th>0</th>\n",
              "      <td>Data Science</td>\n",
              "      <td>Skills * Programming Languages: Python (pandas...</td>\n",
              "      <td>DS538</td>\n",
              "      <td>skills * programming languages: python (pandas...</td>\n",
              "    </tr>\n",
              "    <tr>\n",
              "      <th>1</th>\n",
              "      <td>Data Science</td>\n",
              "      <td>Education Details \\r\\nMay 2013 to May 2017 B.E...</td>\n",
              "      <td>DS505</td>\n",
              "      <td>education details \\r\\nmay 2013 to may 2017 b.e...</td>\n",
              "    </tr>\n",
              "    <tr>\n",
              "      <th>2</th>\n",
              "      <td>Data Science</td>\n",
              "      <td>Areas of Interest Deep Learning, Control Syste...</td>\n",
              "      <td>DS809</td>\n",
              "      <td>areas of interest deep learning, control syste...</td>\n",
              "    </tr>\n",
              "    <tr>\n",
              "      <th>3</th>\n",
              "      <td>Data Science</td>\n",
              "      <td>Skills â¢ R â¢ Python â¢ SAP HANA â¢ Table...</td>\n",
              "      <td>DS137</td>\n",
              "      <td>skills â¢ r â¢ python â¢ sap hana â¢ table...</td>\n",
              "    </tr>\n",
              "    <tr>\n",
              "      <th>4</th>\n",
              "      <td>Data Science</td>\n",
              "      <td>Education Details \\r\\n MCA   YMCAUST,  Faridab...</td>\n",
              "      <td>DS277</td>\n",
              "      <td>education details \\r\\n mca   ymcaust,  faridab...</td>\n",
              "    </tr>\n",
              "  </tbody>\n",
              "</table>\n",
              "</div>"
            ],
            "text/plain": [
              "       Category  ...                                   processed_resume\n",
              "0  Data Science  ...  skills * programming languages: python (pandas...\n",
              "1  Data Science  ...  education details \\r\\nmay 2013 to may 2017 b.e...\n",
              "2  Data Science  ...  areas of interest deep learning, control syste...\n",
              "3  Data Science  ...  skills â¢ r â¢ python â¢ sap hana â¢ table...\n",
              "4  Data Science  ...  education details \\r\\n mca   ymcaust,  faridab...\n",
              "\n",
              "[5 rows x 4 columns]"
            ]
          },
          "metadata": {
            "tags": []
          },
          "execution_count": 244
        }
      ]
    },
    {
      "cell_type": "markdown",
      "metadata": {
        "id": "7Q0eC3C8xYgW"
      },
      "source": [
        "### Removal of Punctuations"
      ]
    },
    {
      "cell_type": "code",
      "metadata": {
        "id": "0lQrPVExxd-d"
      },
      "source": [
        "O_data[\"processed_resume\"] = O_data['processed_resume'].str.replace('[^\\w\\s]','')"
      ],
      "execution_count": 245,
      "outputs": []
    },
    {
      "cell_type": "code",
      "metadata": {
        "id": "uvjLVjbuyaeV",
        "colab": {
          "base_uri": "https://localhost:8080/",
          "height": 402
        },
        "outputId": "7efc0131-1c77-4236-ccbf-884cafda9d77"
      },
      "source": [
        "O_data"
      ],
      "execution_count": 246,
      "outputs": [
        {
          "output_type": "execute_result",
          "data": {
            "text/html": [
              "<div>\n",
              "<style scoped>\n",
              "    .dataframe tbody tr th:only-of-type {\n",
              "        vertical-align: middle;\n",
              "    }\n",
              "\n",
              "    .dataframe tbody tr th {\n",
              "        vertical-align: top;\n",
              "    }\n",
              "\n",
              "    .dataframe thead th {\n",
              "        text-align: right;\n",
              "    }\n",
              "</style>\n",
              "<table border=\"1\" class=\"dataframe\">\n",
              "  <thead>\n",
              "    <tr style=\"text-align: right;\">\n",
              "      <th></th>\n",
              "      <th>Category</th>\n",
              "      <th>Resume</th>\n",
              "      <th>candidate_id</th>\n",
              "      <th>processed_resume</th>\n",
              "    </tr>\n",
              "  </thead>\n",
              "  <tbody>\n",
              "    <tr>\n",
              "      <th>0</th>\n",
              "      <td>Data Science</td>\n",
              "      <td>Skills * Programming Languages: Python (pandas...</td>\n",
              "      <td>DS538</td>\n",
              "      <td>skills  programming languages python pandas nu...</td>\n",
              "    </tr>\n",
              "    <tr>\n",
              "      <th>1</th>\n",
              "      <td>Data Science</td>\n",
              "      <td>Education Details \\r\\nMay 2013 to May 2017 B.E...</td>\n",
              "      <td>DS505</td>\n",
              "      <td>education details \\r\\nmay 2013 to may 2017 be ...</td>\n",
              "    </tr>\n",
              "    <tr>\n",
              "      <th>2</th>\n",
              "      <td>Data Science</td>\n",
              "      <td>Areas of Interest Deep Learning, Control Syste...</td>\n",
              "      <td>DS809</td>\n",
              "      <td>areas of interest deep learning control system...</td>\n",
              "    </tr>\n",
              "    <tr>\n",
              "      <th>3</th>\n",
              "      <td>Data Science</td>\n",
              "      <td>Skills â¢ R â¢ Python â¢ SAP HANA â¢ Table...</td>\n",
              "      <td>DS137</td>\n",
              "      <td>skills â r â python â sap hana â tableau â sap...</td>\n",
              "    </tr>\n",
              "    <tr>\n",
              "      <th>4</th>\n",
              "      <td>Data Science</td>\n",
              "      <td>Education Details \\r\\n MCA   YMCAUST,  Faridab...</td>\n",
              "      <td>DS277</td>\n",
              "      <td>education details \\r\\n mca   ymcaust  faridaba...</td>\n",
              "    </tr>\n",
              "    <tr>\n",
              "      <th>...</th>\n",
              "      <td>...</td>\n",
              "      <td>...</td>\n",
              "      <td>...</td>\n",
              "      <td>...</td>\n",
              "    </tr>\n",
              "    <tr>\n",
              "      <th>164</th>\n",
              "      <td>Testing</td>\n",
              "      <td>Computer Skills: â¢ Proficient in MS office (...</td>\n",
              "      <td>Te892</td>\n",
              "      <td>computer skills â proficient in ms office word...</td>\n",
              "    </tr>\n",
              "    <tr>\n",
              "      <th>165</th>\n",
              "      <td>Testing</td>\n",
              "      <td>â Willingness to accept the challenges. â ...</td>\n",
              "      <td>Te307</td>\n",
              "      <td>â willingness to accept the challenges â posit...</td>\n",
              "    </tr>\n",
              "    <tr>\n",
              "      <th>166</th>\n",
              "      <td>Testing</td>\n",
              "      <td>PERSONAL SKILLS â¢ Quick learner, â¢ Eagerne...</td>\n",
              "      <td>Te891</td>\n",
              "      <td>personal skills â quick learner â eagerness to...</td>\n",
              "    </tr>\n",
              "    <tr>\n",
              "      <th>167</th>\n",
              "      <td>Testing</td>\n",
              "      <td>COMPUTER SKILLS &amp; SOFTWARE KNOWLEDGE MS-Power ...</td>\n",
              "      <td>Te307</td>\n",
              "      <td>computer skills  software knowledge mspower po...</td>\n",
              "    </tr>\n",
              "    <tr>\n",
              "      <th>168</th>\n",
              "      <td>Testing</td>\n",
              "      <td>Skill Set OS Windows XP/7/8/8.1/10 Database MY...</td>\n",
              "      <td>Te786</td>\n",
              "      <td>skill set os windows xp788110 database mysql s...</td>\n",
              "    </tr>\n",
              "  </tbody>\n",
              "</table>\n",
              "<p>169 rows × 4 columns</p>\n",
              "</div>"
            ],
            "text/plain": [
              "         Category  ...                                   processed_resume\n",
              "0    Data Science  ...  skills  programming languages python pandas nu...\n",
              "1    Data Science  ...  education details \\r\\nmay 2013 to may 2017 be ...\n",
              "2    Data Science  ...  areas of interest deep learning control system...\n",
              "3    Data Science  ...  skills â r â python â sap hana â tableau â sap...\n",
              "4    Data Science  ...  education details \\r\\n mca   ymcaust  faridaba...\n",
              "..            ...  ...                                                ...\n",
              "164       Testing  ...  computer skills â proficient in ms office word...\n",
              "165       Testing  ...  â willingness to accept the challenges â posit...\n",
              "166       Testing  ...  personal skills â quick learner â eagerness to...\n",
              "167       Testing  ...  computer skills  software knowledge mspower po...\n",
              "168       Testing  ...  skill set os windows xp788110 database mysql s...\n",
              "\n",
              "[169 rows x 4 columns]"
            ]
          },
          "metadata": {
            "tags": []
          },
          "execution_count": 246
        }
      ]
    },
    {
      "cell_type": "markdown",
      "metadata": {
        "id": "XxFhG2FLy8fj"
      },
      "source": [
        "### Remove url"
      ]
    },
    {
      "cell_type": "code",
      "metadata": {
        "id": "IObXOcoJyz26",
        "colab": {
          "base_uri": "https://localhost:8080/",
          "height": 402
        },
        "outputId": "d7d8b77c-c8d0-4870-b179-96f1083645d9"
      },
      "source": [
        "O_data[\"processed_resume\"] = O_data['processed_resume'].str.replace('http\\S+\\s*','')\n",
        "O_data"
      ],
      "execution_count": 247,
      "outputs": [
        {
          "output_type": "execute_result",
          "data": {
            "text/html": [
              "<div>\n",
              "<style scoped>\n",
              "    .dataframe tbody tr th:only-of-type {\n",
              "        vertical-align: middle;\n",
              "    }\n",
              "\n",
              "    .dataframe tbody tr th {\n",
              "        vertical-align: top;\n",
              "    }\n",
              "\n",
              "    .dataframe thead th {\n",
              "        text-align: right;\n",
              "    }\n",
              "</style>\n",
              "<table border=\"1\" class=\"dataframe\">\n",
              "  <thead>\n",
              "    <tr style=\"text-align: right;\">\n",
              "      <th></th>\n",
              "      <th>Category</th>\n",
              "      <th>Resume</th>\n",
              "      <th>candidate_id</th>\n",
              "      <th>processed_resume</th>\n",
              "    </tr>\n",
              "  </thead>\n",
              "  <tbody>\n",
              "    <tr>\n",
              "      <th>0</th>\n",
              "      <td>Data Science</td>\n",
              "      <td>Skills * Programming Languages: Python (pandas...</td>\n",
              "      <td>DS538</td>\n",
              "      <td>skills  programming languages python pandas nu...</td>\n",
              "    </tr>\n",
              "    <tr>\n",
              "      <th>1</th>\n",
              "      <td>Data Science</td>\n",
              "      <td>Education Details \\r\\nMay 2013 to May 2017 B.E...</td>\n",
              "      <td>DS505</td>\n",
              "      <td>education details \\r\\nmay 2013 to may 2017 be ...</td>\n",
              "    </tr>\n",
              "    <tr>\n",
              "      <th>2</th>\n",
              "      <td>Data Science</td>\n",
              "      <td>Areas of Interest Deep Learning, Control Syste...</td>\n",
              "      <td>DS809</td>\n",
              "      <td>areas of interest deep learning control system...</td>\n",
              "    </tr>\n",
              "    <tr>\n",
              "      <th>3</th>\n",
              "      <td>Data Science</td>\n",
              "      <td>Skills â¢ R â¢ Python â¢ SAP HANA â¢ Table...</td>\n",
              "      <td>DS137</td>\n",
              "      <td>skills â r â python â sap hana â tableau â sap...</td>\n",
              "    </tr>\n",
              "    <tr>\n",
              "      <th>4</th>\n",
              "      <td>Data Science</td>\n",
              "      <td>Education Details \\r\\n MCA   YMCAUST,  Faridab...</td>\n",
              "      <td>DS277</td>\n",
              "      <td>education details \\r\\n mca   ymcaust  faridaba...</td>\n",
              "    </tr>\n",
              "    <tr>\n",
              "      <th>...</th>\n",
              "      <td>...</td>\n",
              "      <td>...</td>\n",
              "      <td>...</td>\n",
              "      <td>...</td>\n",
              "    </tr>\n",
              "    <tr>\n",
              "      <th>164</th>\n",
              "      <td>Testing</td>\n",
              "      <td>Computer Skills: â¢ Proficient in MS office (...</td>\n",
              "      <td>Te892</td>\n",
              "      <td>computer skills â proficient in ms office word...</td>\n",
              "    </tr>\n",
              "    <tr>\n",
              "      <th>165</th>\n",
              "      <td>Testing</td>\n",
              "      <td>â Willingness to accept the challenges. â ...</td>\n",
              "      <td>Te307</td>\n",
              "      <td>â willingness to accept the challenges â posit...</td>\n",
              "    </tr>\n",
              "    <tr>\n",
              "      <th>166</th>\n",
              "      <td>Testing</td>\n",
              "      <td>PERSONAL SKILLS â¢ Quick learner, â¢ Eagerne...</td>\n",
              "      <td>Te891</td>\n",
              "      <td>personal skills â quick learner â eagerness to...</td>\n",
              "    </tr>\n",
              "    <tr>\n",
              "      <th>167</th>\n",
              "      <td>Testing</td>\n",
              "      <td>COMPUTER SKILLS &amp; SOFTWARE KNOWLEDGE MS-Power ...</td>\n",
              "      <td>Te307</td>\n",
              "      <td>computer skills  software knowledge mspower po...</td>\n",
              "    </tr>\n",
              "    <tr>\n",
              "      <th>168</th>\n",
              "      <td>Testing</td>\n",
              "      <td>Skill Set OS Windows XP/7/8/8.1/10 Database MY...</td>\n",
              "      <td>Te786</td>\n",
              "      <td>skill set os windows xp788110 database mysql s...</td>\n",
              "    </tr>\n",
              "  </tbody>\n",
              "</table>\n",
              "<p>169 rows × 4 columns</p>\n",
              "</div>"
            ],
            "text/plain": [
              "         Category  ...                                   processed_resume\n",
              "0    Data Science  ...  skills  programming languages python pandas nu...\n",
              "1    Data Science  ...  education details \\r\\nmay 2013 to may 2017 be ...\n",
              "2    Data Science  ...  areas of interest deep learning control system...\n",
              "3    Data Science  ...  skills â r â python â sap hana â tableau â sap...\n",
              "4    Data Science  ...  education details \\r\\n mca   ymcaust  faridaba...\n",
              "..            ...  ...                                                ...\n",
              "164       Testing  ...  computer skills â proficient in ms office word...\n",
              "165       Testing  ...  â willingness to accept the challenges â posit...\n",
              "166       Testing  ...  personal skills â quick learner â eagerness to...\n",
              "167       Testing  ...  computer skills  software knowledge mspower po...\n",
              "168       Testing  ...  skill set os windows xp788110 database mysql s...\n",
              "\n",
              "[169 rows x 4 columns]"
            ]
          },
          "metadata": {
            "tags": []
          },
          "execution_count": 247
        }
      ]
    },
    {
      "cell_type": "markdown",
      "metadata": {
        "id": "RjSnMKVQzC2f"
      },
      "source": [
        "### Remove RT and CC"
      ]
    },
    {
      "cell_type": "code",
      "metadata": {
        "id": "yZuTF5wwzChH",
        "colab": {
          "base_uri": "https://localhost:8080/",
          "height": 402
        },
        "outputId": "0f1fe046-8c66-4482-a937-90337aaaacd9"
      },
      "source": [
        "O_data[\"processed_resume\"] = O_data['processed_resume'].str.replace('RT|cc','')\n",
        "O_data"
      ],
      "execution_count": 248,
      "outputs": [
        {
          "output_type": "execute_result",
          "data": {
            "text/html": [
              "<div>\n",
              "<style scoped>\n",
              "    .dataframe tbody tr th:only-of-type {\n",
              "        vertical-align: middle;\n",
              "    }\n",
              "\n",
              "    .dataframe tbody tr th {\n",
              "        vertical-align: top;\n",
              "    }\n",
              "\n",
              "    .dataframe thead th {\n",
              "        text-align: right;\n",
              "    }\n",
              "</style>\n",
              "<table border=\"1\" class=\"dataframe\">\n",
              "  <thead>\n",
              "    <tr style=\"text-align: right;\">\n",
              "      <th></th>\n",
              "      <th>Category</th>\n",
              "      <th>Resume</th>\n",
              "      <th>candidate_id</th>\n",
              "      <th>processed_resume</th>\n",
              "    </tr>\n",
              "  </thead>\n",
              "  <tbody>\n",
              "    <tr>\n",
              "      <th>0</th>\n",
              "      <td>Data Science</td>\n",
              "      <td>Skills * Programming Languages: Python (pandas...</td>\n",
              "      <td>DS538</td>\n",
              "      <td>skills  programming languages python pandas nu...</td>\n",
              "    </tr>\n",
              "    <tr>\n",
              "      <th>1</th>\n",
              "      <td>Data Science</td>\n",
              "      <td>Education Details \\r\\nMay 2013 to May 2017 B.E...</td>\n",
              "      <td>DS505</td>\n",
              "      <td>education details \\r\\nmay 2013 to may 2017 be ...</td>\n",
              "    </tr>\n",
              "    <tr>\n",
              "      <th>2</th>\n",
              "      <td>Data Science</td>\n",
              "      <td>Areas of Interest Deep Learning, Control Syste...</td>\n",
              "      <td>DS809</td>\n",
              "      <td>areas of interest deep learning control system...</td>\n",
              "    </tr>\n",
              "    <tr>\n",
              "      <th>3</th>\n",
              "      <td>Data Science</td>\n",
              "      <td>Skills â¢ R â¢ Python â¢ SAP HANA â¢ Table...</td>\n",
              "      <td>DS137</td>\n",
              "      <td>skills â r â python â sap hana â tableau â sap...</td>\n",
              "    </tr>\n",
              "    <tr>\n",
              "      <th>4</th>\n",
              "      <td>Data Science</td>\n",
              "      <td>Education Details \\r\\n MCA   YMCAUST,  Faridab...</td>\n",
              "      <td>DS277</td>\n",
              "      <td>education details \\r\\n mca   ymcaust  faridaba...</td>\n",
              "    </tr>\n",
              "    <tr>\n",
              "      <th>...</th>\n",
              "      <td>...</td>\n",
              "      <td>...</td>\n",
              "      <td>...</td>\n",
              "      <td>...</td>\n",
              "    </tr>\n",
              "    <tr>\n",
              "      <th>164</th>\n",
              "      <td>Testing</td>\n",
              "      <td>Computer Skills: â¢ Proficient in MS office (...</td>\n",
              "      <td>Te892</td>\n",
              "      <td>computer skills â proficient in ms office word...</td>\n",
              "    </tr>\n",
              "    <tr>\n",
              "      <th>165</th>\n",
              "      <td>Testing</td>\n",
              "      <td>â Willingness to accept the challenges. â ...</td>\n",
              "      <td>Te307</td>\n",
              "      <td>â willingness to aept the challenges â positiv...</td>\n",
              "    </tr>\n",
              "    <tr>\n",
              "      <th>166</th>\n",
              "      <td>Testing</td>\n",
              "      <td>PERSONAL SKILLS â¢ Quick learner, â¢ Eagerne...</td>\n",
              "      <td>Te891</td>\n",
              "      <td>personal skills â quick learner â eagerness to...</td>\n",
              "    </tr>\n",
              "    <tr>\n",
              "      <th>167</th>\n",
              "      <td>Testing</td>\n",
              "      <td>COMPUTER SKILLS &amp; SOFTWARE KNOWLEDGE MS-Power ...</td>\n",
              "      <td>Te307</td>\n",
              "      <td>computer skills  software knowledge mspower po...</td>\n",
              "    </tr>\n",
              "    <tr>\n",
              "      <th>168</th>\n",
              "      <td>Testing</td>\n",
              "      <td>Skill Set OS Windows XP/7/8/8.1/10 Database MY...</td>\n",
              "      <td>Te786</td>\n",
              "      <td>skill set os windows xp788110 database mysql s...</td>\n",
              "    </tr>\n",
              "  </tbody>\n",
              "</table>\n",
              "<p>169 rows × 4 columns</p>\n",
              "</div>"
            ],
            "text/plain": [
              "         Category  ...                                   processed_resume\n",
              "0    Data Science  ...  skills  programming languages python pandas nu...\n",
              "1    Data Science  ...  education details \\r\\nmay 2013 to may 2017 be ...\n",
              "2    Data Science  ...  areas of interest deep learning control system...\n",
              "3    Data Science  ...  skills â r â python â sap hana â tableau â sap...\n",
              "4    Data Science  ...  education details \\r\\n mca   ymcaust  faridaba...\n",
              "..            ...  ...                                                ...\n",
              "164       Testing  ...  computer skills â proficient in ms office word...\n",
              "165       Testing  ...  â willingness to aept the challenges â positiv...\n",
              "166       Testing  ...  personal skills â quick learner â eagerness to...\n",
              "167       Testing  ...  computer skills  software knowledge mspower po...\n",
              "168       Testing  ...  skill set os windows xp788110 database mysql s...\n",
              "\n",
              "[169 rows x 4 columns]"
            ]
          },
          "metadata": {
            "tags": []
          },
          "execution_count": 248
        }
      ]
    },
    {
      "cell_type": "markdown",
      "metadata": {
        "id": "t2WJRNQBzYgi"
      },
      "source": [
        "### Remove hashtags"
      ]
    },
    {
      "cell_type": "code",
      "metadata": {
        "id": "iw0f1twhzZKQ",
        "colab": {
          "base_uri": "https://localhost:8080/",
          "height": 402
        },
        "outputId": "e9cd9a28-a2f0-4912-dd64-b616f54aa313"
      },
      "source": [
        "O_data[\"processed_resume\"] = O_data['processed_resume'].str.replace('#\\S+','')\n",
        "O_data"
      ],
      "execution_count": 249,
      "outputs": [
        {
          "output_type": "execute_result",
          "data": {
            "text/html": [
              "<div>\n",
              "<style scoped>\n",
              "    .dataframe tbody tr th:only-of-type {\n",
              "        vertical-align: middle;\n",
              "    }\n",
              "\n",
              "    .dataframe tbody tr th {\n",
              "        vertical-align: top;\n",
              "    }\n",
              "\n",
              "    .dataframe thead th {\n",
              "        text-align: right;\n",
              "    }\n",
              "</style>\n",
              "<table border=\"1\" class=\"dataframe\">\n",
              "  <thead>\n",
              "    <tr style=\"text-align: right;\">\n",
              "      <th></th>\n",
              "      <th>Category</th>\n",
              "      <th>Resume</th>\n",
              "      <th>candidate_id</th>\n",
              "      <th>processed_resume</th>\n",
              "    </tr>\n",
              "  </thead>\n",
              "  <tbody>\n",
              "    <tr>\n",
              "      <th>0</th>\n",
              "      <td>Data Science</td>\n",
              "      <td>Skills * Programming Languages: Python (pandas...</td>\n",
              "      <td>DS538</td>\n",
              "      <td>skills  programming languages python pandas nu...</td>\n",
              "    </tr>\n",
              "    <tr>\n",
              "      <th>1</th>\n",
              "      <td>Data Science</td>\n",
              "      <td>Education Details \\r\\nMay 2013 to May 2017 B.E...</td>\n",
              "      <td>DS505</td>\n",
              "      <td>education details \\r\\nmay 2013 to may 2017 be ...</td>\n",
              "    </tr>\n",
              "    <tr>\n",
              "      <th>2</th>\n",
              "      <td>Data Science</td>\n",
              "      <td>Areas of Interest Deep Learning, Control Syste...</td>\n",
              "      <td>DS809</td>\n",
              "      <td>areas of interest deep learning control system...</td>\n",
              "    </tr>\n",
              "    <tr>\n",
              "      <th>3</th>\n",
              "      <td>Data Science</td>\n",
              "      <td>Skills â¢ R â¢ Python â¢ SAP HANA â¢ Table...</td>\n",
              "      <td>DS137</td>\n",
              "      <td>skills â r â python â sap hana â tableau â sap...</td>\n",
              "    </tr>\n",
              "    <tr>\n",
              "      <th>4</th>\n",
              "      <td>Data Science</td>\n",
              "      <td>Education Details \\r\\n MCA   YMCAUST,  Faridab...</td>\n",
              "      <td>DS277</td>\n",
              "      <td>education details \\r\\n mca   ymcaust  faridaba...</td>\n",
              "    </tr>\n",
              "    <tr>\n",
              "      <th>...</th>\n",
              "      <td>...</td>\n",
              "      <td>...</td>\n",
              "      <td>...</td>\n",
              "      <td>...</td>\n",
              "    </tr>\n",
              "    <tr>\n",
              "      <th>164</th>\n",
              "      <td>Testing</td>\n",
              "      <td>Computer Skills: â¢ Proficient in MS office (...</td>\n",
              "      <td>Te892</td>\n",
              "      <td>computer skills â proficient in ms office word...</td>\n",
              "    </tr>\n",
              "    <tr>\n",
              "      <th>165</th>\n",
              "      <td>Testing</td>\n",
              "      <td>â Willingness to accept the challenges. â ...</td>\n",
              "      <td>Te307</td>\n",
              "      <td>â willingness to aept the challenges â positiv...</td>\n",
              "    </tr>\n",
              "    <tr>\n",
              "      <th>166</th>\n",
              "      <td>Testing</td>\n",
              "      <td>PERSONAL SKILLS â¢ Quick learner, â¢ Eagerne...</td>\n",
              "      <td>Te891</td>\n",
              "      <td>personal skills â quick learner â eagerness to...</td>\n",
              "    </tr>\n",
              "    <tr>\n",
              "      <th>167</th>\n",
              "      <td>Testing</td>\n",
              "      <td>COMPUTER SKILLS &amp; SOFTWARE KNOWLEDGE MS-Power ...</td>\n",
              "      <td>Te307</td>\n",
              "      <td>computer skills  software knowledge mspower po...</td>\n",
              "    </tr>\n",
              "    <tr>\n",
              "      <th>168</th>\n",
              "      <td>Testing</td>\n",
              "      <td>Skill Set OS Windows XP/7/8/8.1/10 Database MY...</td>\n",
              "      <td>Te786</td>\n",
              "      <td>skill set os windows xp788110 database mysql s...</td>\n",
              "    </tr>\n",
              "  </tbody>\n",
              "</table>\n",
              "<p>169 rows × 4 columns</p>\n",
              "</div>"
            ],
            "text/plain": [
              "         Category  ...                                   processed_resume\n",
              "0    Data Science  ...  skills  programming languages python pandas nu...\n",
              "1    Data Science  ...  education details \\r\\nmay 2013 to may 2017 be ...\n",
              "2    Data Science  ...  areas of interest deep learning control system...\n",
              "3    Data Science  ...  skills â r â python â sap hana â tableau â sap...\n",
              "4    Data Science  ...  education details \\r\\n mca   ymcaust  faridaba...\n",
              "..            ...  ...                                                ...\n",
              "164       Testing  ...  computer skills â proficient in ms office word...\n",
              "165       Testing  ...  â willingness to aept the challenges â positiv...\n",
              "166       Testing  ...  personal skills â quick learner â eagerness to...\n",
              "167       Testing  ...  computer skills  software knowledge mspower po...\n",
              "168       Testing  ...  skill set os windows xp788110 database mysql s...\n",
              "\n",
              "[169 rows x 4 columns]"
            ]
          },
          "metadata": {
            "tags": []
          },
          "execution_count": 249
        }
      ]
    },
    {
      "cell_type": "markdown",
      "metadata": {
        "id": "uxxWaoKCzoZL"
      },
      "source": [
        "### Remove mentions"
      ]
    },
    {
      "cell_type": "code",
      "metadata": {
        "id": "NjPJufEnzpCg",
        "colab": {
          "base_uri": "https://localhost:8080/",
          "height": 402
        },
        "outputId": "1be9e6d7-35b3-4d77-951e-abfe6c4cbcba"
      },
      "source": [
        "O_data[\"processed_resume\"] = O_data['processed_resume'].str.replace('@\\S+','')\n",
        "O_data"
      ],
      "execution_count": 250,
      "outputs": [
        {
          "output_type": "execute_result",
          "data": {
            "text/html": [
              "<div>\n",
              "<style scoped>\n",
              "    .dataframe tbody tr th:only-of-type {\n",
              "        vertical-align: middle;\n",
              "    }\n",
              "\n",
              "    .dataframe tbody tr th {\n",
              "        vertical-align: top;\n",
              "    }\n",
              "\n",
              "    .dataframe thead th {\n",
              "        text-align: right;\n",
              "    }\n",
              "</style>\n",
              "<table border=\"1\" class=\"dataframe\">\n",
              "  <thead>\n",
              "    <tr style=\"text-align: right;\">\n",
              "      <th></th>\n",
              "      <th>Category</th>\n",
              "      <th>Resume</th>\n",
              "      <th>candidate_id</th>\n",
              "      <th>processed_resume</th>\n",
              "    </tr>\n",
              "  </thead>\n",
              "  <tbody>\n",
              "    <tr>\n",
              "      <th>0</th>\n",
              "      <td>Data Science</td>\n",
              "      <td>Skills * Programming Languages: Python (pandas...</td>\n",
              "      <td>DS538</td>\n",
              "      <td>skills  programming languages python pandas nu...</td>\n",
              "    </tr>\n",
              "    <tr>\n",
              "      <th>1</th>\n",
              "      <td>Data Science</td>\n",
              "      <td>Education Details \\r\\nMay 2013 to May 2017 B.E...</td>\n",
              "      <td>DS505</td>\n",
              "      <td>education details \\r\\nmay 2013 to may 2017 be ...</td>\n",
              "    </tr>\n",
              "    <tr>\n",
              "      <th>2</th>\n",
              "      <td>Data Science</td>\n",
              "      <td>Areas of Interest Deep Learning, Control Syste...</td>\n",
              "      <td>DS809</td>\n",
              "      <td>areas of interest deep learning control system...</td>\n",
              "    </tr>\n",
              "    <tr>\n",
              "      <th>3</th>\n",
              "      <td>Data Science</td>\n",
              "      <td>Skills â¢ R â¢ Python â¢ SAP HANA â¢ Table...</td>\n",
              "      <td>DS137</td>\n",
              "      <td>skills â r â python â sap hana â tableau â sap...</td>\n",
              "    </tr>\n",
              "    <tr>\n",
              "      <th>4</th>\n",
              "      <td>Data Science</td>\n",
              "      <td>Education Details \\r\\n MCA   YMCAUST,  Faridab...</td>\n",
              "      <td>DS277</td>\n",
              "      <td>education details \\r\\n mca   ymcaust  faridaba...</td>\n",
              "    </tr>\n",
              "    <tr>\n",
              "      <th>...</th>\n",
              "      <td>...</td>\n",
              "      <td>...</td>\n",
              "      <td>...</td>\n",
              "      <td>...</td>\n",
              "    </tr>\n",
              "    <tr>\n",
              "      <th>164</th>\n",
              "      <td>Testing</td>\n",
              "      <td>Computer Skills: â¢ Proficient in MS office (...</td>\n",
              "      <td>Te892</td>\n",
              "      <td>computer skills â proficient in ms office word...</td>\n",
              "    </tr>\n",
              "    <tr>\n",
              "      <th>165</th>\n",
              "      <td>Testing</td>\n",
              "      <td>â Willingness to accept the challenges. â ...</td>\n",
              "      <td>Te307</td>\n",
              "      <td>â willingness to aept the challenges â positiv...</td>\n",
              "    </tr>\n",
              "    <tr>\n",
              "      <th>166</th>\n",
              "      <td>Testing</td>\n",
              "      <td>PERSONAL SKILLS â¢ Quick learner, â¢ Eagerne...</td>\n",
              "      <td>Te891</td>\n",
              "      <td>personal skills â quick learner â eagerness to...</td>\n",
              "    </tr>\n",
              "    <tr>\n",
              "      <th>167</th>\n",
              "      <td>Testing</td>\n",
              "      <td>COMPUTER SKILLS &amp; SOFTWARE KNOWLEDGE MS-Power ...</td>\n",
              "      <td>Te307</td>\n",
              "      <td>computer skills  software knowledge mspower po...</td>\n",
              "    </tr>\n",
              "    <tr>\n",
              "      <th>168</th>\n",
              "      <td>Testing</td>\n",
              "      <td>Skill Set OS Windows XP/7/8/8.1/10 Database MY...</td>\n",
              "      <td>Te786</td>\n",
              "      <td>skill set os windows xp788110 database mysql s...</td>\n",
              "    </tr>\n",
              "  </tbody>\n",
              "</table>\n",
              "<p>169 rows × 4 columns</p>\n",
              "</div>"
            ],
            "text/plain": [
              "         Category  ...                                   processed_resume\n",
              "0    Data Science  ...  skills  programming languages python pandas nu...\n",
              "1    Data Science  ...  education details \\r\\nmay 2013 to may 2017 be ...\n",
              "2    Data Science  ...  areas of interest deep learning control system...\n",
              "3    Data Science  ...  skills â r â python â sap hana â tableau â sap...\n",
              "4    Data Science  ...  education details \\r\\n mca   ymcaust  faridaba...\n",
              "..            ...  ...                                                ...\n",
              "164       Testing  ...  computer skills â proficient in ms office word...\n",
              "165       Testing  ...  â willingness to aept the challenges â positiv...\n",
              "166       Testing  ...  personal skills â quick learner â eagerness to...\n",
              "167       Testing  ...  computer skills  software knowledge mspower po...\n",
              "168       Testing  ...  skill set os windows xp788110 database mysql s...\n",
              "\n",
              "[169 rows x 4 columns]"
            ]
          },
          "metadata": {
            "tags": []
          },
          "execution_count": 250
        }
      ]
    },
    {
      "cell_type": "markdown",
      "metadata": {
        "id": "DxbxuTUFytpJ"
      },
      "source": [
        "### Removal of stopwords"
      ]
    },
    {
      "cell_type": "code",
      "metadata": {
        "id": "MC2hj6KIkhQO",
        "colab": {
          "base_uri": "https://localhost:8080/"
        },
        "outputId": "afcf4ab6-ffb6-43e1-80cc-2829824a8dbc"
      },
      "source": [
        "import nltk\n",
        "nltk.download('stopwords')"
      ],
      "execution_count": 251,
      "outputs": [
        {
          "output_type": "stream",
          "text": [
            "[nltk_data] Downloading package stopwords to /root/nltk_data...\n",
            "[nltk_data]   Package stopwords is already up-to-date!\n"
          ],
          "name": "stdout"
        },
        {
          "output_type": "execute_result",
          "data": {
            "text/plain": [
              "True"
            ]
          },
          "metadata": {
            "tags": []
          },
          "execution_count": 251
        }
      ]
    },
    {
      "cell_type": "code",
      "metadata": {
        "id": "TCckNWu4ypgq"
      },
      "source": [
        "from nltk.corpus import stopwords\n",
        "stopwords_list = set(stopwords.words('english'))"
      ],
      "execution_count": 252,
      "outputs": []
    },
    {
      "cell_type": "code",
      "metadata": {
        "id": "PMYwlCcQzLGb",
        "colab": {
          "base_uri": "https://localhost:8080/"
        },
        "outputId": "1df2be6a-5b61-46a8-ba86-484979c5e59f"
      },
      "source": [
        "stopwords_list"
      ],
      "execution_count": 253,
      "outputs": [
        {
          "output_type": "execute_result",
          "data": {
            "text/plain": [
              "{'a',\n",
              " 'about',\n",
              " 'above',\n",
              " 'after',\n",
              " 'again',\n",
              " 'against',\n",
              " 'ain',\n",
              " 'all',\n",
              " 'am',\n",
              " 'an',\n",
              " 'and',\n",
              " 'any',\n",
              " 'are',\n",
              " 'aren',\n",
              " \"aren't\",\n",
              " 'as',\n",
              " 'at',\n",
              " 'be',\n",
              " 'because',\n",
              " 'been',\n",
              " 'before',\n",
              " 'being',\n",
              " 'below',\n",
              " 'between',\n",
              " 'both',\n",
              " 'but',\n",
              " 'by',\n",
              " 'can',\n",
              " 'couldn',\n",
              " \"couldn't\",\n",
              " 'd',\n",
              " 'did',\n",
              " 'didn',\n",
              " \"didn't\",\n",
              " 'do',\n",
              " 'does',\n",
              " 'doesn',\n",
              " \"doesn't\",\n",
              " 'doing',\n",
              " 'don',\n",
              " \"don't\",\n",
              " 'down',\n",
              " 'during',\n",
              " 'each',\n",
              " 'few',\n",
              " 'for',\n",
              " 'from',\n",
              " 'further',\n",
              " 'had',\n",
              " 'hadn',\n",
              " \"hadn't\",\n",
              " 'has',\n",
              " 'hasn',\n",
              " \"hasn't\",\n",
              " 'have',\n",
              " 'haven',\n",
              " \"haven't\",\n",
              " 'having',\n",
              " 'he',\n",
              " 'her',\n",
              " 'here',\n",
              " 'hers',\n",
              " 'herself',\n",
              " 'him',\n",
              " 'himself',\n",
              " 'his',\n",
              " 'how',\n",
              " 'i',\n",
              " 'if',\n",
              " 'in',\n",
              " 'into',\n",
              " 'is',\n",
              " 'isn',\n",
              " \"isn't\",\n",
              " 'it',\n",
              " \"it's\",\n",
              " 'its',\n",
              " 'itself',\n",
              " 'just',\n",
              " 'll',\n",
              " 'm',\n",
              " 'ma',\n",
              " 'me',\n",
              " 'mightn',\n",
              " \"mightn't\",\n",
              " 'more',\n",
              " 'most',\n",
              " 'mustn',\n",
              " \"mustn't\",\n",
              " 'my',\n",
              " 'myself',\n",
              " 'needn',\n",
              " \"needn't\",\n",
              " 'no',\n",
              " 'nor',\n",
              " 'not',\n",
              " 'now',\n",
              " 'o',\n",
              " 'of',\n",
              " 'off',\n",
              " 'on',\n",
              " 'once',\n",
              " 'only',\n",
              " 'or',\n",
              " 'other',\n",
              " 'our',\n",
              " 'ours',\n",
              " 'ourselves',\n",
              " 'out',\n",
              " 'over',\n",
              " 'own',\n",
              " 're',\n",
              " 's',\n",
              " 'same',\n",
              " 'shan',\n",
              " \"shan't\",\n",
              " 'she',\n",
              " \"she's\",\n",
              " 'should',\n",
              " \"should've\",\n",
              " 'shouldn',\n",
              " \"shouldn't\",\n",
              " 'so',\n",
              " 'some',\n",
              " 'such',\n",
              " 't',\n",
              " 'than',\n",
              " 'that',\n",
              " \"that'll\",\n",
              " 'the',\n",
              " 'their',\n",
              " 'theirs',\n",
              " 'them',\n",
              " 'themselves',\n",
              " 'then',\n",
              " 'there',\n",
              " 'these',\n",
              " 'they',\n",
              " 'this',\n",
              " 'those',\n",
              " 'through',\n",
              " 'to',\n",
              " 'too',\n",
              " 'under',\n",
              " 'until',\n",
              " 'up',\n",
              " 've',\n",
              " 'very',\n",
              " 'was',\n",
              " 'wasn',\n",
              " \"wasn't\",\n",
              " 'we',\n",
              " 'were',\n",
              " 'weren',\n",
              " \"weren't\",\n",
              " 'what',\n",
              " 'when',\n",
              " 'where',\n",
              " 'which',\n",
              " 'while',\n",
              " 'who',\n",
              " 'whom',\n",
              " 'why',\n",
              " 'will',\n",
              " 'with',\n",
              " 'won',\n",
              " \"won't\",\n",
              " 'wouldn',\n",
              " \"wouldn't\",\n",
              " 'y',\n",
              " 'you',\n",
              " \"you'd\",\n",
              " \"you'll\",\n",
              " \"you're\",\n",
              " \"you've\",\n",
              " 'your',\n",
              " 'yours',\n",
              " 'yourself',\n",
              " 'yourselves'}"
            ]
          },
          "metadata": {
            "tags": []
          },
          "execution_count": 253
        }
      ]
    },
    {
      "cell_type": "code",
      "metadata": {
        "id": "MqGJQpJLzPnT"
      },
      "source": [
        "def remove_stopwords(text):\n",
        "    return \" \".join([word for word in str(text).split() if word not in stopwords_list])"
      ],
      "execution_count": 254,
      "outputs": []
    },
    {
      "cell_type": "code",
      "metadata": {
        "id": "2qkLG2mS2H2M",
        "colab": {
          "base_uri": "https://localhost:8080/",
          "height": 195
        },
        "outputId": "d2be64c7-92fb-40f7-e1b5-11cc141decce"
      },
      "source": [
        "O_data[\"processed_resume\"] = O_data[\"processed_resume\"].apply(lambda text: remove_stopwords(text))\n",
        "O_data.head()"
      ],
      "execution_count": 255,
      "outputs": [
        {
          "output_type": "execute_result",
          "data": {
            "text/html": [
              "<div>\n",
              "<style scoped>\n",
              "    .dataframe tbody tr th:only-of-type {\n",
              "        vertical-align: middle;\n",
              "    }\n",
              "\n",
              "    .dataframe tbody tr th {\n",
              "        vertical-align: top;\n",
              "    }\n",
              "\n",
              "    .dataframe thead th {\n",
              "        text-align: right;\n",
              "    }\n",
              "</style>\n",
              "<table border=\"1\" class=\"dataframe\">\n",
              "  <thead>\n",
              "    <tr style=\"text-align: right;\">\n",
              "      <th></th>\n",
              "      <th>Category</th>\n",
              "      <th>Resume</th>\n",
              "      <th>candidate_id</th>\n",
              "      <th>processed_resume</th>\n",
              "    </tr>\n",
              "  </thead>\n",
              "  <tbody>\n",
              "    <tr>\n",
              "      <th>0</th>\n",
              "      <td>Data Science</td>\n",
              "      <td>Skills * Programming Languages: Python (pandas...</td>\n",
              "      <td>DS538</td>\n",
              "      <td>skills programming languages python pandas num...</td>\n",
              "    </tr>\n",
              "    <tr>\n",
              "      <th>1</th>\n",
              "      <td>Data Science</td>\n",
              "      <td>Education Details \\r\\nMay 2013 to May 2017 B.E...</td>\n",
              "      <td>DS505</td>\n",
              "      <td>education details may 2013 may 2017 uitrgpvdat...</td>\n",
              "    </tr>\n",
              "    <tr>\n",
              "      <th>2</th>\n",
              "      <td>Data Science</td>\n",
              "      <td>Areas of Interest Deep Learning, Control Syste...</td>\n",
              "      <td>DS809</td>\n",
              "      <td>areas interest deep learning control system de...</td>\n",
              "    </tr>\n",
              "    <tr>\n",
              "      <th>3</th>\n",
              "      <td>Data Science</td>\n",
              "      <td>Skills â¢ R â¢ Python â¢ SAP HANA â¢ Table...</td>\n",
              "      <td>DS137</td>\n",
              "      <td>skills â r â python â sap hana â tableau â sap...</td>\n",
              "    </tr>\n",
              "    <tr>\n",
              "      <th>4</th>\n",
              "      <td>Data Science</td>\n",
              "      <td>Education Details \\r\\n MCA   YMCAUST,  Faridab...</td>\n",
              "      <td>DS277</td>\n",
              "      <td>education details mca ymcaust faridabad haryan...</td>\n",
              "    </tr>\n",
              "  </tbody>\n",
              "</table>\n",
              "</div>"
            ],
            "text/plain": [
              "       Category  ...                                   processed_resume\n",
              "0  Data Science  ...  skills programming languages python pandas num...\n",
              "1  Data Science  ...  education details may 2013 may 2017 uitrgpvdat...\n",
              "2  Data Science  ...  areas interest deep learning control system de...\n",
              "3  Data Science  ...  skills â r â python â sap hana â tableau â sap...\n",
              "4  Data Science  ...  education details mca ymcaust faridabad haryan...\n",
              "\n",
              "[5 rows x 4 columns]"
            ]
          },
          "metadata": {
            "tags": []
          },
          "execution_count": 255
        }
      ]
    },
    {
      "cell_type": "markdown",
      "metadata": {
        "id": "HgL5lMA90QE1"
      },
      "source": [
        "### Removal of Frequent words"
      ]
    },
    {
      "cell_type": "code",
      "metadata": {
        "id": "GetBY4Dz2uKp",
        "colab": {
          "base_uri": "https://localhost:8080/"
        },
        "outputId": "6ada6a40-e0d7-4e75-92f1-c68dad50a2d7"
      },
      "source": [
        "from collections import Counter\n",
        "cnt = Counter()\n",
        "for text in O_data[\"processed_resume\"].values:\n",
        "    for word in text.split():\n",
        "        cnt[word] += 1\n",
        "        \n",
        "cnt.most_common(10)"
      ],
      "execution_count": 256,
      "outputs": [
        {
          "output_type": "execute_result",
          "data": {
            "text/plain": [
              "[('â', 2523),\n",
              " ('exprience', 634),\n",
              " ('company', 601),\n",
              " ('description', 551),\n",
              " ('details', 540),\n",
              " ('months', 539),\n",
              " ('project', 526),\n",
              " ('data', 372),\n",
              " ('1', 311),\n",
              " ('management', 310)]"
            ]
          },
          "metadata": {
            "tags": []
          },
          "execution_count": 256
        }
      ]
    },
    {
      "cell_type": "code",
      "metadata": {
        "id": "L12_-dHp0tSk",
        "colab": {
          "base_uri": "https://localhost:8080/",
          "height": 195
        },
        "outputId": "4d072025-437b-4d10-a7f6-45dd18b1177a"
      },
      "source": [
        "FREQWORDS = set([w for (w, wc) in cnt.most_common(10)])\n",
        "def remove_freqwords(text):\n",
        "    return \" \".join([word for word in str(text).split() if word not in FREQWORDS])\n",
        "\n",
        "O_data[\"processed_resume\"] = O_data[\"processed_resume\"].apply(lambda text: remove_freqwords(text))\n",
        "O_data.head()"
      ],
      "execution_count": 257,
      "outputs": [
        {
          "output_type": "execute_result",
          "data": {
            "text/html": [
              "<div>\n",
              "<style scoped>\n",
              "    .dataframe tbody tr th:only-of-type {\n",
              "        vertical-align: middle;\n",
              "    }\n",
              "\n",
              "    .dataframe tbody tr th {\n",
              "        vertical-align: top;\n",
              "    }\n",
              "\n",
              "    .dataframe thead th {\n",
              "        text-align: right;\n",
              "    }\n",
              "</style>\n",
              "<table border=\"1\" class=\"dataframe\">\n",
              "  <thead>\n",
              "    <tr style=\"text-align: right;\">\n",
              "      <th></th>\n",
              "      <th>Category</th>\n",
              "      <th>Resume</th>\n",
              "      <th>candidate_id</th>\n",
              "      <th>processed_resume</th>\n",
              "    </tr>\n",
              "  </thead>\n",
              "  <tbody>\n",
              "    <tr>\n",
              "      <th>0</th>\n",
              "      <td>Data Science</td>\n",
              "      <td>Skills * Programming Languages: Python (pandas...</td>\n",
              "      <td>DS538</td>\n",
              "      <td>skills programming languages python pandas num...</td>\n",
              "    </tr>\n",
              "    <tr>\n",
              "      <th>1</th>\n",
              "      <td>Data Science</td>\n",
              "      <td>Education Details \\r\\nMay 2013 to May 2017 B.E...</td>\n",
              "      <td>DS505</td>\n",
              "      <td>education may 2013 may 2017 uitrgpvdata scient...</td>\n",
              "    </tr>\n",
              "    <tr>\n",
              "      <th>2</th>\n",
              "      <td>Data Science</td>\n",
              "      <td>Areas of Interest Deep Learning, Control Syste...</td>\n",
              "      <td>DS809</td>\n",
              "      <td>areas interest deep learning control system de...</td>\n",
              "    </tr>\n",
              "    <tr>\n",
              "      <th>3</th>\n",
              "      <td>Data Science</td>\n",
              "      <td>Skills â¢ R â¢ Python â¢ SAP HANA â¢ Table...</td>\n",
              "      <td>DS137</td>\n",
              "      <td>skills r python sap hana tableau sap hana sql ...</td>\n",
              "    </tr>\n",
              "    <tr>\n",
              "      <th>4</th>\n",
              "      <td>Data Science</td>\n",
              "      <td>Education Details \\r\\n MCA   YMCAUST,  Faridab...</td>\n",
              "      <td>DS277</td>\n",
              "      <td>education mca ymcaust faridabad haryanadata sc...</td>\n",
              "    </tr>\n",
              "  </tbody>\n",
              "</table>\n",
              "</div>"
            ],
            "text/plain": [
              "       Category  ...                                   processed_resume\n",
              "0  Data Science  ...  skills programming languages python pandas num...\n",
              "1  Data Science  ...  education may 2013 may 2017 uitrgpvdata scient...\n",
              "2  Data Science  ...  areas interest deep learning control system de...\n",
              "3  Data Science  ...  skills r python sap hana tableau sap hana sql ...\n",
              "4  Data Science  ...  education mca ymcaust faridabad haryanadata sc...\n",
              "\n",
              "[5 rows x 4 columns]"
            ]
          },
          "metadata": {
            "tags": []
          },
          "execution_count": 257
        }
      ]
    },
    {
      "cell_type": "markdown",
      "metadata": {
        "id": "yWf8DUMK0-Zn"
      },
      "source": [
        "### Remove rare words"
      ]
    },
    {
      "cell_type": "code",
      "metadata": {
        "id": "gZEzdYiC0-3o",
        "colab": {
          "base_uri": "https://localhost:8080/",
          "height": 212
        },
        "outputId": "5c804451-4ee6-4358-c92a-55136ad5d33f"
      },
      "source": [
        "n_rare_words = 10\n",
        "RAREWORDS = set([w for (w, wc) in cnt.most_common()[:-n_rare_words-1:-1]])\n",
        "print(RAREWORDS)\n",
        "def remove_rarewords(text):\n",
        "    return \" \".join([word for word in str(text).split() if word not in RAREWORDS])\n",
        "\n",
        "O_data[\"processed_resume\"] = O_data[\"processed_resume\"].apply(lambda text: remove_rarewords(text))\n",
        "O_data.head()"
      ],
      "execution_count": 258,
      "outputs": [
        {
          "output_type": "stream",
          "text": [
            "{'3vistor', '1time', 'suncity', 'park', 'vankan', 'wanless', '2web', 'bramha', 'tablet', '2vehicle'}\n"
          ],
          "name": "stdout"
        },
        {
          "output_type": "execute_result",
          "data": {
            "text/html": [
              "<div>\n",
              "<style scoped>\n",
              "    .dataframe tbody tr th:only-of-type {\n",
              "        vertical-align: middle;\n",
              "    }\n",
              "\n",
              "    .dataframe tbody tr th {\n",
              "        vertical-align: top;\n",
              "    }\n",
              "\n",
              "    .dataframe thead th {\n",
              "        text-align: right;\n",
              "    }\n",
              "</style>\n",
              "<table border=\"1\" class=\"dataframe\">\n",
              "  <thead>\n",
              "    <tr style=\"text-align: right;\">\n",
              "      <th></th>\n",
              "      <th>Category</th>\n",
              "      <th>Resume</th>\n",
              "      <th>candidate_id</th>\n",
              "      <th>processed_resume</th>\n",
              "    </tr>\n",
              "  </thead>\n",
              "  <tbody>\n",
              "    <tr>\n",
              "      <th>0</th>\n",
              "      <td>Data Science</td>\n",
              "      <td>Skills * Programming Languages: Python (pandas...</td>\n",
              "      <td>DS538</td>\n",
              "      <td>skills programming languages python pandas num...</td>\n",
              "    </tr>\n",
              "    <tr>\n",
              "      <th>1</th>\n",
              "      <td>Data Science</td>\n",
              "      <td>Education Details \\r\\nMay 2013 to May 2017 B.E...</td>\n",
              "      <td>DS505</td>\n",
              "      <td>education may 2013 may 2017 uitrgpvdata scient...</td>\n",
              "    </tr>\n",
              "    <tr>\n",
              "      <th>2</th>\n",
              "      <td>Data Science</td>\n",
              "      <td>Areas of Interest Deep Learning, Control Syste...</td>\n",
              "      <td>DS809</td>\n",
              "      <td>areas interest deep learning control system de...</td>\n",
              "    </tr>\n",
              "    <tr>\n",
              "      <th>3</th>\n",
              "      <td>Data Science</td>\n",
              "      <td>Skills â¢ R â¢ Python â¢ SAP HANA â¢ Table...</td>\n",
              "      <td>DS137</td>\n",
              "      <td>skills r python sap hana tableau sap hana sql ...</td>\n",
              "    </tr>\n",
              "    <tr>\n",
              "      <th>4</th>\n",
              "      <td>Data Science</td>\n",
              "      <td>Education Details \\r\\n MCA   YMCAUST,  Faridab...</td>\n",
              "      <td>DS277</td>\n",
              "      <td>education mca ymcaust faridabad haryanadata sc...</td>\n",
              "    </tr>\n",
              "  </tbody>\n",
              "</table>\n",
              "</div>"
            ],
            "text/plain": [
              "       Category  ...                                   processed_resume\n",
              "0  Data Science  ...  skills programming languages python pandas num...\n",
              "1  Data Science  ...  education may 2013 may 2017 uitrgpvdata scient...\n",
              "2  Data Science  ...  areas interest deep learning control system de...\n",
              "3  Data Science  ...  skills r python sap hana tableau sap hana sql ...\n",
              "4  Data Science  ...  education mca ymcaust faridabad haryanadata sc...\n",
              "\n",
              "[5 rows x 4 columns]"
            ]
          },
          "metadata": {
            "tags": []
          },
          "execution_count": 258
        }
      ]
    },
    {
      "cell_type": "markdown",
      "metadata": {
        "id": "DOlD9WLn1eOK"
      },
      "source": [
        "### Stemming"
      ]
    },
    {
      "cell_type": "code",
      "metadata": {
        "id": "rYHFve7X1exD"
      },
      "source": [
        "from nltk.stem.porter import PorterStemmer"
      ],
      "execution_count": 259,
      "outputs": []
    },
    {
      "cell_type": "code",
      "metadata": {
        "id": "NDrVZEjo2Ksm",
        "colab": {
          "base_uri": "https://localhost:8080/",
          "height": 195
        },
        "outputId": "b7543d7e-11ac-4daf-8239-1310cd0752f9"
      },
      "source": [
        "stemmer = PorterStemmer()\n",
        "def stem_words(text):\n",
        "    return \" \".join([stemmer.stem(word) for word in text.split()])\n",
        "\n",
        "O_data[\"processed_resume\"] = O_data[\"processed_resume\"].apply(lambda text: stem_words(text))\n",
        "O_data.head()"
      ],
      "execution_count": 260,
      "outputs": [
        {
          "output_type": "execute_result",
          "data": {
            "text/html": [
              "<div>\n",
              "<style scoped>\n",
              "    .dataframe tbody tr th:only-of-type {\n",
              "        vertical-align: middle;\n",
              "    }\n",
              "\n",
              "    .dataframe tbody tr th {\n",
              "        vertical-align: top;\n",
              "    }\n",
              "\n",
              "    .dataframe thead th {\n",
              "        text-align: right;\n",
              "    }\n",
              "</style>\n",
              "<table border=\"1\" class=\"dataframe\">\n",
              "  <thead>\n",
              "    <tr style=\"text-align: right;\">\n",
              "      <th></th>\n",
              "      <th>Category</th>\n",
              "      <th>Resume</th>\n",
              "      <th>candidate_id</th>\n",
              "      <th>processed_resume</th>\n",
              "    </tr>\n",
              "  </thead>\n",
              "  <tbody>\n",
              "    <tr>\n",
              "      <th>0</th>\n",
              "      <td>Data Science</td>\n",
              "      <td>Skills * Programming Languages: Python (pandas...</td>\n",
              "      <td>DS538</td>\n",
              "      <td>skill program languag python panda numpi scipi...</td>\n",
              "    </tr>\n",
              "    <tr>\n",
              "      <th>1</th>\n",
              "      <td>Data Science</td>\n",
              "      <td>Education Details \\r\\nMay 2013 to May 2017 B.E...</td>\n",
              "      <td>DS505</td>\n",
              "      <td>educ may 2013 may 2017 uitrgpvdata scientistda...</td>\n",
              "    </tr>\n",
              "    <tr>\n",
              "      <th>2</th>\n",
              "      <td>Data Science</td>\n",
              "      <td>Areas of Interest Deep Learning, Control Syste...</td>\n",
              "      <td>DS809</td>\n",
              "      <td>area interest deep learn control system design...</td>\n",
              "    </tr>\n",
              "    <tr>\n",
              "      <th>3</th>\n",
              "      <td>Data Science</td>\n",
              "      <td>Skills â¢ R â¢ Python â¢ SAP HANA â¢ Table...</td>\n",
              "      <td>DS137</td>\n",
              "      <td>skill r python sap hana tableau sap hana sql s...</td>\n",
              "    </tr>\n",
              "    <tr>\n",
              "      <th>4</th>\n",
              "      <td>Data Science</td>\n",
              "      <td>Education Details \\r\\n MCA   YMCAUST,  Faridab...</td>\n",
              "      <td>DS277</td>\n",
              "      <td>educ mca ymcaust faridabad haryanadata scienc ...</td>\n",
              "    </tr>\n",
              "  </tbody>\n",
              "</table>\n",
              "</div>"
            ],
            "text/plain": [
              "       Category  ...                                   processed_resume\n",
              "0  Data Science  ...  skill program languag python panda numpi scipi...\n",
              "1  Data Science  ...  educ may 2013 may 2017 uitrgpvdata scientistda...\n",
              "2  Data Science  ...  area interest deep learn control system design...\n",
              "3  Data Science  ...  skill r python sap hana tableau sap hana sql s...\n",
              "4  Data Science  ...  educ mca ymcaust faridabad haryanadata scienc ...\n",
              "\n",
              "[5 rows x 4 columns]"
            ]
          },
          "metadata": {
            "tags": []
          },
          "execution_count": 260
        }
      ]
    },
    {
      "cell_type": "markdown",
      "metadata": {
        "id": "U_ShDAd-2YCe"
      },
      "source": [
        "### Lemmatization"
      ]
    },
    {
      "cell_type": "code",
      "metadata": {
        "id": "6L_rLFmP2Ybr"
      },
      "source": [
        "from nltk.stem import WordNetLemmatizer\n"
      ],
      "execution_count": 261,
      "outputs": []
    },
    {
      "cell_type": "code",
      "metadata": {
        "id": "tsBNUVrNk2wq",
        "colab": {
          "base_uri": "https://localhost:8080/"
        },
        "outputId": "791cf065-bbf2-49bb-e61a-0a0c7d50b14d"
      },
      "source": [
        "nltk.download('wordnet')"
      ],
      "execution_count": 262,
      "outputs": [
        {
          "output_type": "stream",
          "text": [
            "[nltk_data] Downloading package wordnet to /root/nltk_data...\n",
            "[nltk_data]   Package wordnet is already up-to-date!\n"
          ],
          "name": "stdout"
        },
        {
          "output_type": "execute_result",
          "data": {
            "text/plain": [
              "True"
            ]
          },
          "metadata": {
            "tags": []
          },
          "execution_count": 262
        }
      ]
    },
    {
      "cell_type": "code",
      "metadata": {
        "id": "T4CKLXhp2e49",
        "colab": {
          "base_uri": "https://localhost:8080/",
          "height": 195
        },
        "outputId": "ac1657ef-eb19-4b5a-e7d6-e087c8f63f34"
      },
      "source": [
        "lemmatizer = WordNetLemmatizer()\n",
        "def lemmatize_words(text):\n",
        "    return \" \".join([lemmatizer.lemmatize(word) for word in text.split()])\n",
        "\n",
        "O_data[\"processed_resume\"] = O_data[\"processed_resume\"].apply(lambda text: lemmatize_words(text))\n",
        "O_data.head()"
      ],
      "execution_count": 263,
      "outputs": [
        {
          "output_type": "execute_result",
          "data": {
            "text/html": [
              "<div>\n",
              "<style scoped>\n",
              "    .dataframe tbody tr th:only-of-type {\n",
              "        vertical-align: middle;\n",
              "    }\n",
              "\n",
              "    .dataframe tbody tr th {\n",
              "        vertical-align: top;\n",
              "    }\n",
              "\n",
              "    .dataframe thead th {\n",
              "        text-align: right;\n",
              "    }\n",
              "</style>\n",
              "<table border=\"1\" class=\"dataframe\">\n",
              "  <thead>\n",
              "    <tr style=\"text-align: right;\">\n",
              "      <th></th>\n",
              "      <th>Category</th>\n",
              "      <th>Resume</th>\n",
              "      <th>candidate_id</th>\n",
              "      <th>processed_resume</th>\n",
              "    </tr>\n",
              "  </thead>\n",
              "  <tbody>\n",
              "    <tr>\n",
              "      <th>0</th>\n",
              "      <td>Data Science</td>\n",
              "      <td>Skills * Programming Languages: Python (pandas...</td>\n",
              "      <td>DS538</td>\n",
              "      <td>skill program languag python panda numpi scipi...</td>\n",
              "    </tr>\n",
              "    <tr>\n",
              "      <th>1</th>\n",
              "      <td>Data Science</td>\n",
              "      <td>Education Details \\r\\nMay 2013 to May 2017 B.E...</td>\n",
              "      <td>DS505</td>\n",
              "      <td>educ may 2013 may 2017 uitrgpvdata scientistda...</td>\n",
              "    </tr>\n",
              "    <tr>\n",
              "      <th>2</th>\n",
              "      <td>Data Science</td>\n",
              "      <td>Areas of Interest Deep Learning, Control Syste...</td>\n",
              "      <td>DS809</td>\n",
              "      <td>area interest deep learn control system design...</td>\n",
              "    </tr>\n",
              "    <tr>\n",
              "      <th>3</th>\n",
              "      <td>Data Science</td>\n",
              "      <td>Skills â¢ R â¢ Python â¢ SAP HANA â¢ Table...</td>\n",
              "      <td>DS137</td>\n",
              "      <td>skill r python sap hana tableau sap hana sql s...</td>\n",
              "    </tr>\n",
              "    <tr>\n",
              "      <th>4</th>\n",
              "      <td>Data Science</td>\n",
              "      <td>Education Details \\r\\n MCA   YMCAUST,  Faridab...</td>\n",
              "      <td>DS277</td>\n",
              "      <td>educ mca ymcaust faridabad haryanadata scienc ...</td>\n",
              "    </tr>\n",
              "  </tbody>\n",
              "</table>\n",
              "</div>"
            ],
            "text/plain": [
              "       Category  ...                                   processed_resume\n",
              "0  Data Science  ...  skill program languag python panda numpi scipi...\n",
              "1  Data Science  ...  educ may 2013 may 2017 uitrgpvdata scientistda...\n",
              "2  Data Science  ...  area interest deep learn control system design...\n",
              "3  Data Science  ...  skill r python sap hana tableau sap hana sql s...\n",
              "4  Data Science  ...  educ mca ymcaust faridabad haryanadata scienc ...\n",
              "\n",
              "[5 rows x 4 columns]"
            ]
          },
          "metadata": {
            "tags": []
          },
          "execution_count": 263
        }
      ]
    },
    {
      "cell_type": "markdown",
      "metadata": {
        "id": "6bxA0Bdkpg6x"
      },
      "source": [
        "###LabelEncoder -from scratch"
      ]
    },
    {
      "cell_type": "code",
      "metadata": {
        "id": "U9P6RKSr4dlP",
        "colab": {
          "base_uri": "https://localhost:8080/"
        },
        "outputId": "6f58fde0-3977-4cd0-8ab4-cbf5be7e78bf"
      },
      "source": [
        "O_data['Category'].unique()"
      ],
      "execution_count": 264,
      "outputs": [
        {
          "output_type": "execute_result",
          "data": {
            "text/plain": [
              "array(['Data Science', 'HR', 'Advocate', 'Arts', 'Web Designing',\n",
              "       'Mechanical Engineer', 'Sales', 'Health and fitness',\n",
              "       'Civil Engineer', 'Java Developer', 'Business Analyst',\n",
              "       'SAP Developer', 'Automation Testing', 'Electrical Engineering',\n",
              "       'Operations Manager', 'Python Developer', 'DevOps Engineer',\n",
              "       'Network Security Engineer', 'PMO', 'Database', 'Hadoop',\n",
              "       'ETL Developer', 'DotNet Developer', 'Blockchain', 'Testing'],\n",
              "      dtype=object)"
            ]
          },
          "metadata": {
            "tags": []
          },
          "execution_count": 264
        }
      ]
    },
    {
      "cell_type": "code",
      "metadata": {
        "id": "UbMSV-gjtG1g",
        "colab": {
          "base_uri": "https://localhost:8080/",
          "height": 35
        },
        "outputId": "b47a93e8-06a2-4aff-9599-af15666a4e91"
      },
      "source": [
        "O_data.loc[0]['Category']"
      ],
      "execution_count": 265,
      "outputs": [
        {
          "output_type": "execute_result",
          "data": {
            "application/vnd.google.colaboratory.intrinsic+json": {
              "type": "string"
            },
            "text/plain": [
              "'Data Science'"
            ]
          },
          "metadata": {
            "tags": []
          },
          "execution_count": 265
        }
      ]
    },
    {
      "cell_type": "code",
      "metadata": {
        "id": "t2V2yWYEtu11",
        "colab": {
          "base_uri": "https://localhost:8080/"
        },
        "outputId": "f86cc9fb-4406-4f67-ebfd-c43f278f9d04"
      },
      "source": [
        "O_data.shape"
      ],
      "execution_count": 266,
      "outputs": [
        {
          "output_type": "execute_result",
          "data": {
            "text/plain": [
              "(169, 4)"
            ]
          },
          "metadata": {
            "tags": []
          },
          "execution_count": 266
        }
      ]
    },
    {
      "cell_type": "code",
      "metadata": {
        "id": "7wq_Eh5fueda"
      },
      "source": [
        "O_data['CategoryID'] = ''"
      ],
      "execution_count": 267,
      "outputs": []
    },
    {
      "cell_type": "code",
      "metadata": {
        "id": "mPHrx5btpnjM",
        "colab": {
          "base_uri": "https://localhost:8080/",
          "height": 195
        },
        "outputId": "dd334c33-b784-4f60-9cbf-64f602404217"
      },
      "source": [
        "category = {'Data Science':0, 'HR':1, 'Advocate':2, 'Arts':3, 'Web Designing':4,\n",
        "       'Mechanical Engineer':5, 'Sales':6, 'Health and fitness':7,\n",
        "       'Civil Engineer':8, 'Java Developer':9, 'Business Analyst':10,\n",
        "       'SAP Developer':11, 'Automation Testing':12, 'Electrical Engineering':13,\n",
        "       'Operations Manager':14, 'Python Developer':15, 'DevOps Engineer':16,\n",
        "       'Network Security Engineer':17, 'PMO':18, 'Database':19, 'Hadoop':20,\n",
        "       'ETL Developer':21, 'DotNet Developer':22, 'Blockchain':23, 'Testing':24}\n",
        "\n",
        "for i in range(O_data.shape[0]):\n",
        "  if O_data.loc[i]['Category'] in category.keys():\n",
        "    O_data.loc[i]['CategoryID'] = category[O_data.loc[i]['Category']]\n",
        "\n",
        "O_data.head()\n",
        "\n"
      ],
      "execution_count": 268,
      "outputs": [
        {
          "output_type": "execute_result",
          "data": {
            "text/html": [
              "<div>\n",
              "<style scoped>\n",
              "    .dataframe tbody tr th:only-of-type {\n",
              "        vertical-align: middle;\n",
              "    }\n",
              "\n",
              "    .dataframe tbody tr th {\n",
              "        vertical-align: top;\n",
              "    }\n",
              "\n",
              "    .dataframe thead th {\n",
              "        text-align: right;\n",
              "    }\n",
              "</style>\n",
              "<table border=\"1\" class=\"dataframe\">\n",
              "  <thead>\n",
              "    <tr style=\"text-align: right;\">\n",
              "      <th></th>\n",
              "      <th>Category</th>\n",
              "      <th>Resume</th>\n",
              "      <th>candidate_id</th>\n",
              "      <th>processed_resume</th>\n",
              "      <th>CategoryID</th>\n",
              "    </tr>\n",
              "  </thead>\n",
              "  <tbody>\n",
              "    <tr>\n",
              "      <th>0</th>\n",
              "      <td>Data Science</td>\n",
              "      <td>Skills * Programming Languages: Python (pandas...</td>\n",
              "      <td>DS538</td>\n",
              "      <td>skill program languag python panda numpi scipi...</td>\n",
              "      <td>0</td>\n",
              "    </tr>\n",
              "    <tr>\n",
              "      <th>1</th>\n",
              "      <td>Data Science</td>\n",
              "      <td>Education Details \\r\\nMay 2013 to May 2017 B.E...</td>\n",
              "      <td>DS505</td>\n",
              "      <td>educ may 2013 may 2017 uitrgpvdata scientistda...</td>\n",
              "      <td>0</td>\n",
              "    </tr>\n",
              "    <tr>\n",
              "      <th>2</th>\n",
              "      <td>Data Science</td>\n",
              "      <td>Areas of Interest Deep Learning, Control Syste...</td>\n",
              "      <td>DS809</td>\n",
              "      <td>area interest deep learn control system design...</td>\n",
              "      <td>0</td>\n",
              "    </tr>\n",
              "    <tr>\n",
              "      <th>3</th>\n",
              "      <td>Data Science</td>\n",
              "      <td>Skills â¢ R â¢ Python â¢ SAP HANA â¢ Table...</td>\n",
              "      <td>DS137</td>\n",
              "      <td>skill r python sap hana tableau sap hana sql s...</td>\n",
              "      <td>0</td>\n",
              "    </tr>\n",
              "    <tr>\n",
              "      <th>4</th>\n",
              "      <td>Data Science</td>\n",
              "      <td>Education Details \\r\\n MCA   YMCAUST,  Faridab...</td>\n",
              "      <td>DS277</td>\n",
              "      <td>educ mca ymcaust faridabad haryanadata scienc ...</td>\n",
              "      <td>0</td>\n",
              "    </tr>\n",
              "  </tbody>\n",
              "</table>\n",
              "</div>"
            ],
            "text/plain": [
              "       Category  ... CategoryID\n",
              "0  Data Science  ...          0\n",
              "1  Data Science  ...          0\n",
              "2  Data Science  ...          0\n",
              "3  Data Science  ...          0\n",
              "4  Data Science  ...          0\n",
              "\n",
              "[5 rows x 5 columns]"
            ]
          },
          "metadata": {
            "tags": []
          },
          "execution_count": 268
        }
      ]
    },
    {
      "cell_type": "markdown",
      "metadata": {
        "id": "2Ga7tREVxOsY"
      },
      "source": [
        "# Feature Extraction"
      ]
    },
    {
      "cell_type": "markdown",
      "metadata": {
        "id": "KSTPj7ntxbR2"
      },
      "source": [
        "### Bag of Words Model"
      ]
    },
    {
      "cell_type": "code",
      "metadata": {
        "id": "BEpRBOKmwj9b"
      },
      "source": [
        "import numpy\n",
        "import re\n",
        "\n",
        "def tokenize(sentences):\n",
        "    words = []\n",
        "    for sentence in sentences:\n",
        "        w = word_extraction(sentence)\n",
        "        words.extend(w)\n",
        "        \n",
        "    words = sorted(list(set(words)))\n",
        "    return words\n",
        "\n",
        "def word_extraction(sentence):\n",
        "    ignore = ['a', \"the\", \"is\"]\n",
        "    words = re.sub(\"[^\\w]\", \" \",  sentence).split()\n",
        "    cleaned_text = [w.lower() for w in words if w not in ignore]\n",
        "    return cleaned_text    \n",
        "    \n",
        "def generate_bow(allsentences):    \n",
        "    vocab = tokenize(allsentences)\n",
        "    print(\"Word List for Document \\n{0} \\n\".format(vocab));\n",
        "    bag_vec_list=[]\n",
        "    for sentence in allsentences:\n",
        "        words = word_extraction(sentence)\n",
        "        bag_vector = numpy.zeros(len(vocab))\n",
        "        for w in words:\n",
        "            for i,word in enumerate(vocab):\n",
        "                if word == w: \n",
        "                    bag_vector[i] += 1\n",
        "               \n",
        "        #print(\"{0} \\n{1}\\n\".format(sentence,numpy.array(bag_vector)))\n",
        "        bag_vec_list.append(bag_vector)\n",
        "    return numpy.array(bag_vec_list)\n",
        "        \n",
        "\n"
      ],
      "execution_count": 269,
      "outputs": []
    },
    {
      "cell_type": "code",
      "metadata": {
        "id": "WEesavjt4ibm"
      },
      "source": [
        "proc_resume_list = list(O_data['processed_resume'])\n"
      ],
      "execution_count": 270,
      "outputs": []
    },
    {
      "cell_type": "code",
      "metadata": {
        "id": "_TegqpH654Ir",
        "colab": {
          "base_uri": "https://localhost:8080/"
        },
        "outputId": "7ca0baaf-db86-4019-d169-7530cccbb65c"
      },
      "source": [
        "bag_vector_numpy=generate_bow(proc_resume_list)"
      ],
      "execution_count": 271,
      "outputs": [
        {
          "output_type": "stream",
          "text": [
            "Word List for Document \n",
            "['000', '01', '017', '02', '03', '0307', '04', '04th', '05', '050educ', '06th', '07', '07112016', '07educ', '08', '09876971076', '10', '100', '101', '104', '108', '109', '10g', '10grac', '10magicalfing', '10x', '11', '110', '110v', '11171iec60076', '11201', '11204', '115', '118', '1180', '11g', '11goracl', '11gr2', '12', '120', '1200', '1216', '125', '12c', '12d', '12k', '13', '130', '132kv', '14', '147', '15', '150', '1500', '15000', '16', '163', '168', '16aug2012', '16th', '17', '175', '17th', '18', '1800', '182', '18aug2012', '18c', '19', '1900', '1972', '19793', '1992', '1993', '1995', '1996', '1997', '1998', '1999', '19xx', '1autocad', '1evalu', '1exterior', '1intern', '1jan', '1page', '1project', '1st', '1web', '1x', '1year', '2', '20', '2000', '20002003', '20002005', '200020052008', '2000a', '2001', '2002', '2003', '200320082008', '2003xpvista78', '2004', '2005', '20052008', '200520082016', '2006', '20062007', '2006educ', '2007', '200708', '20071995', '20072015', '2008', '20082009', '2008201020122015', '20082012', '20082014', '2008r2', '2008r22008', '2008skill', '2009', '20092012', '201', '2010', '201012tf', '20102014', '2011', '2012', '20122008r22008', '20122008xp', '20122013', '2013', '2013sep', '2013till', '2014', '2015', '201516', '20152016', '2016', '201620142012', '2016201420122008', '2016201420122008r22008', '20162017', '2017', '201718', '20172018', '2018', '2018present', '2019', '2021', '2026', '2040', '2065864', '20th', '21', '210', '21031986', '218', '22', '2200', '2211kv', '229', '22k', '23', '230', '24', '242012', '2448', '247', '24hour', '24q', '24th', '24x7', '25', '250', '2500', '26', '2600', '27', '27012019', '28', '2800', '2829', '28xx', '29', '2900', '2960', '29th', '29xx', '2b', '2construct', '2d', '2fa', '2nd', '2no', '2page', '2pro', '2project', '2regul', '2x', '3', '30', '300', '3000', '301', '304050', '30th', '31', '31052016', '32', '33', '3322kv', '34', '35', '350', '3560', '36', '360', '3600', '360degre', '37', '3700', '3750', '3750e', '3800', '3845', '39', '3catia', '3d', '3deduc', '3network', '3page', '3prepar', '3provid', '3rd', '3t', '3tier', '3yearsi', '4', '40', '400', '4000', '400014', '400051', '400076', '400093', '400097', '4042', '41', '411028', '411041', '42', '43', '44', '45', '450', '4500', '47', '48', '4850', '49', '4cheack', '4page', '4project', '4word', '4x', '5', '50', '500', '5000', '55', '5500x', '555020', '56', '57', '588', '5914', '5act', '5k', '5m', '5photoshop', '5th', '6', '60', '600', '60a', '61', '621', '625', '63', '65', '6500', '66', '69', '6ensur', '6th', '6thmay', '7', '70', '7090', '70educ', '71', '712', '72', '7200', '721', '73', '74', '75', '76', '784', '784in', '78ntxp', '79', '7cee', '7educ', '7k', '7liais', '8', '80', '800', '81', '84', '85', '88i', '89', '8data', '8daytoday', '8i', '8th', '9', '90', '9001', '90012008', '91', '92', '94', '95', '96', '961', '97', '98', '993', '998', '9i', '9x', '9x2000xpvista', 'a1', 'a2', 'aaa', 'aag', 'aakruti', 'ab', 'abacu', 'abad', 'abap', 'abasaheb', 'abb', 'abil', 'abl', 'abridg', 'absa', 'absenc', 'abstract', 'abu', 'ac', 'academ', 'academi', 'academia', 'academydata', 'acb', 'ace', 'achiev', 'achievementstask', 'acid', 'acl', 'acn', 'acquir', 'acquisit', 'across', 'act', 'action', 'activ', 'activeact', 'activepass', 'activit', 'activitiesprogram', 'actual', 'actuat', 'ad', 'ada', 'adalat', 'adani', 'adapt', 'adav', 'add', 'addingdelet', 'addit', 'addm', 'addremov', 'address', 'adhar', 'adher', 'adhoc', 'adi', 'adichunchanagiri', 'aditya', 'adjoin', 'adjunct', 'adjust', 'admin', 'administ', 'administr', 'administrator2', 'administratordatabas', 'administratordbm', 'administratorlead', 'administratormicrosoft', 'administratororacl', 'administratorskil', 'admit', 'adob', 'adonet', 'adopt', 'ador', 'advanc', 'advantag', 'advert', 'advertis', 'advic', 'advis', 'advisor', 'advisori', 'advoc', 'advocateskil', 'ae', 'aegi', 'aeler', 'aelya', 'aentur', 'aentureskil', 'aept', 'aeptabl', 'aeptanc', 'aero', 'aerob', 'aeronaut', 'aess', 'aess2007', 'aessibl', 'aessori', 'affair', 'affect', 'aforesaid', 'africa', 'ag', 'age', 'agegroup', 'agenc', 'agent', 'aggarw', 'aggreg', 'agil', 'aglsmirror', 'agmirrorclust', 'agnel', 'agre', 'agreement', 'agri', 'agricultur', 'agro', 'ahmad', 'aht', 'ahu', 'ai', 'aib', 'aident', 'ailment', 'aim', 'air', 'aircheck', 'aircraft', 'airfreight', 'airlin', 'airlink', 'airoli', 'airport', 'airtel', 'airway', 'aisect', 'aissm', 'aix', 'ajax', 'akbar', 'akjunior', 'akmahavidyalyajr', 'akzonobel', 'al', 'alamuri', 'alarm', 'alarmeduc', 'alcatel', 'ale', 'aleidocodatafioris4hanaewmaporetailskil', 'alert', 'alfalah', 'algo', 'algorithm', 'ali', 'alia', 'align', 'allahabad', 'allana', 'allcargo', 'allenbreadi', 'allevi', 'alli', 'alll1', 'alloc', 'allot', 'allow', 'alm', 'almighti', 'along', 'alreadi', 'also', 'alter', 'altern', 'altivar', 'alto', 'alway', 'alwayson', 'amaravtijava', 'amazon', 'ambedkar', 'ambigu', 'ambiti', 'ambul', 'amc', 'amen', 'amend', 'america', 'american', 'amex', 'amf', 'amiti', 'aml', 'amman', 'among', 'amount', 'ampd', 'amr', 'amravati', 'amsterdam', 'amvhigh', 'amway', 'anaconda', 'anaconda3', 'analog', 'analy', 'analys', 'analysi', 'analyst', 'analystbusi', 'analystsenior', 'analystskil', 'analyt', 'analytica', 'analytika', 'analyz', 'anantrao', 'andheri', 'andhra', 'andor', 'andrew', 'android', 'androidio', 'angel', 'angular', 'angular15', 'angulareduc', 'angularj', 'anjular', 'anna', 'annet', 'annexur', 'annot', 'annual', 'anomali', 'anoth', 'anotherpubl', 'ansalon', 'ansibl', 'answer', 'ant', 'anti', 'antimoney', 'anushaktinagar', 'anyth', 'ao', 'aofpt5052c', 'aolit', 'aommod', 'aompani', 'aomplish', 'aord', 'aordanc', 'aordingli', 'aount', 'aountabl', 'aounthold', 'aountscustomersstor', 'ap', 'apac', 'apach', 'apachetomcatserv', 'apart', 'apeksha', 'apex', 'apfc', 'api', 'apiâ', 'apo', 'app', 'appdynam', 'appeal', 'appel', 'appl', 'applaud', 'appli', 'applianc', 'applic', 'applicationeduc', 'applicationseduc', 'applicationsent', 'applock', 'appoint', 'apprais', 'appreci', 'approach', 'appropri', 'approv', 'approxim', 'apr', 'april', 'aptech', 'ar', 'arabia', 'arabian', 'arbitr', 'architect', 'architectsap', 'architectur', 'archiv', 'arduinoâ', 'area', 'areaalong', 'arena', 'argu', 'aria', 'arif', 'arima', 'aris', 'arm', 'armi', 'aroma', 'aromathai', 'aromatherapi', 'around', 'arrang', 'arriv', 'arsi', 'art', 'articl', 'articul', 'artifact', 'artifici', 'artist', 'artshead', 'artsskil', 'arya', 'as400', 'as400rpgrpgl', 'asa', 'asallâ', 'asbuilt', 'ase', 'ash', 'asha', 'ashoka', 'asia', 'ask', 'asm', 'asmita', 'asp', 'aspcmvc', 'aspect', 'aspir', 'aspnet', 'aspnetc', 'aspnetjqueryajaxweb', 'ass', 'assam', 'assembl', 'asset', 'assi', 'assign', 'assist', 'associ', 'associatedata', 'associationpresid', 'associationskil', 'asst', 'asstprofessor', 'assur', 'astella', 'ata', 'atd', 'atex', 'atharva', 'athena', 'atm', 'ato', 'atom', 'atri', 'atribut', 'att', 'attach', 'attack', 'attend', 'attitud', 'attitudeeduc', 'attorney', 'attract', 'attribut', 'attskil', 'audienc', 'audiovideo', 'audit', 'aug', 'augest', 'augment', 'august', 'auraci', 'aurangabad', 'aurat', 'aurora', 'auru', 'australia', 'authent', 'authenticationvintelaâ', 'author', 'authoris', 'auto', 'autocad', 'autoit', 'autom', 'automat', 'automationtestingskil', 'automobil', 'automot', 'autonom', 'autosc', 'autosi', 'auxiliari', 'auxledg', 'auxledgerskil', 'avail', 'availabi', 'averag', 'aviat', 'avishkar', 'avoid', 'avro', 'aw', 'awar', 'award', 'awr', 'awvpb7123n', 'ax', 'axi', 'axial', 'ayur', 'ayurved', 'ayurveda', 'azur', 'azureweb', 'azurewebservic', 'b', 'b1visa', 'b2b', 'b2bb2c', 'b2c', 'b4600b146', 'ba', 'bachelor', 'bachelorâ', 'back', 'backend', 'background', 'backlog', 'backround', 'backup', 'backuprestor', 'bahadarpur', 'bahra', 'bail', 'bajaj', 'balaji', 'balanc', 'bali', 'ball', 'ballb', 'bam', 'banc', 'band', 'bandra', 'bangalor', 'bangkok', 'bangladesh', 'banglorecivil', 'bank', 'banker', 'bankskil', 'banner', 'banyan', 'bar', 'baramati', 'barc', 'barclay', 'barclaycard', 'bard', 'barg', 'barsha', 'barskil', 'base', 'baselin', 'basi', 'basic', 'basissal', 'basodadata', 'batch', 'batteri', 'bau', 'baxa', 'bay', 'bazar', 'bba', 'bbh', 'bbl', 'bblwtp', 'bc', 'bca', 'bci', 'bcom', 'bcp', 'bd', 'bdd', 'be', 'bean', 'bear', 'beat', 'beauti', 'becom', 'bed', 'beginn', 'behavior', 'behaviour', 'behind', 'belief', 'belong', 'belt', 'bench', 'benchmark', 'benefit', 'bengaluru', 'bent', 'berco', 'best', 'better', 'beverag', 'bex', 'beyond', 'bfa', 'bgp', 'bharat', 'bharathiar', 'bharati', 'bharatskil', 'bharti', 'bhavan', 'bhawan', 'bhawana', 'bhind', 'bhopal', 'bhulielectr', 'bi', 'bia', 'biar', 'bid', 'bidirect', 'big', 'biggest', 'bihar', 'bikan', 'bilingu', 'bill', 'billion', 'biogen', 'biographi', 'bioinformat', 'biolog', 'biopharmaceut', 'biotechnolog', 'biotechnologydata', 'birla', 'birst', 'birth', 'birthday', 'birthgender19931220yyyymmdd', 'bit', 'bitbucket', 'bitcoin', 'biweekli', 'biz', 'bizagi', 'bizcomp', 'biztalk', 'biztalk2006', 'black', 'blackbox', 'blob', 'block', 'blockad', 'blockchain', 'blood', 'blower', 'blue', 'bluecoat', 'bluemix', 'blumix', 'bmc', 'bmch', 'bmm', 'bmn', 'bni', 'bo', 'board', 'boardadvocatellb', 'boardadvocateskil', 'boardasstprofessorasstprofessorskil', 'boardbusi', 'boarddevop', 'boarddot', 'boardfin', 'boardjava', 'boardmysql', 'boardpython', 'boardqual', 'boardsit', 'boardsoftwar', 'boardtest', 'bobj', 'bobod', 'bod', 'bodi', 'bodsskil', 'boiler', 'bom', 'bombay', 'bond', 'book', 'bookmyflatcom', 'boost', 'boot', 'bootstrap', 'bootstrapcsshtml', 'bot', 'bottl', 'bottleneck', 'bottom', 'bought', 'bow', 'box', 'boy', 'bpbod', 'bpt', 'bput', 'br', 'bracket', 'brahmapur', 'brain', 'braindatawir', 'braindatawireskil', 'brainshark', 'brainstorm', 'branch', 'brand', 'braseri', 'brd', 'bread', 'break', 'breakdown', 'breaker', 'breweri', 'brick', 'brief', 'bring', 'british', 'bro', 'broad', 'brochur', 'broke', 'broker', 'brokerag', 'brooklyn', 'brose', 'brother', 'brought', 'brown', 'browser', 'browserbas', 'bsc', 'bscit', 'bse', 'bsomput', 'bt', 'btech', 'btecheduc', 'bu', 'bucket', 'budget', 'budgetari', 'bug', 'bugzilla', 'build', 'buildcon', 'buildcontrain', 'builder', 'built', 'bulk', 'burdwanadvocateskil', 'bureau', 'burkena', 'busi', 'bust', 'buy', 'bv', 'bw', 'byte', 'c', 'c300', 'ca', 'caab', 'cabinet', 'cabl', 'cach', 'cachar', 'cad', 'cadd', 'cadmicro', 'cag', 'cakephp', 'calcul', 'calendar', 'calibr', 'calibrationvalid', 'calicut', 'california', 'call', 'caller', 'callmi', 'calm', 'came', 'camp', 'campaign', 'campu', 'canada', 'canadaskil', 'canara', 'cancel', 'candid', 'canossa', 'capa', 'capabl', 'capac', 'capacityutil', 'capexopex', 'capgemini', 'capit', 'capitaskil', 'captur', 'caput', 'car', 'card', 'cardiolog', 'cardiovascular', 'care', 'career', 'cargo', 'cari', 'carlsberg', 'carolina', 'carri', 'carrier', 'casa', 'cascad', 'case', 'cash', 'cashier', 'cashingup', 'casino', 'cassandra', 'cast', 'casualti', 'catalogu', 'catalyst', 'catdm', 'categor', 'categori', 'cater', 'catia', 'caus', 'cb', 'cbi', 'cbil', 'cbp', 'cbse', 'cd', 'cdc', 'cdh3', 'cdomeri', 'ce', 'celebr', 'cem', 'cement', 'center', 'center8x96', 'cento', 'centr', 'central', 'centralis', 'centreon', 'centrepython', 'centreskil', 'centrex', 'centric', 'centrifug', 'certain', 'certainli', 'certif', 'certifi', 'cfbc', 'cfoc', 'cgpa', 'cha', 'chain', 'chakan', 'challeng', 'championship', 'chanc', 'chandigarh', 'chandrapur', 'chang', 'changer', 'channel', 'charact', 'character', 'charg', 'chargeback', 'charger', 'charl', 'charmsolmon', 'charni', 'chart', 'charter', 'chase', 'chassi', 'chat', 'chatbot', 'chauhan', 'chavan', 'chawla', 'check', 'checkin', 'checklist', 'checkout', 'checkpoint', 'checkup', 'chemic', 'chemtron', 'chennai', 'chequ', 'chess', 'cheven', 'chevron', 'chidambaram', 'chikmagalurhrskil', 'child', 'chill', 'chiller', 'china', 'chinchwad', 'chock', 'choic', 'chok', 'choos', 'chowki', 'christian', 'church', 'churn', 'ci', 'cicd', 'cipher', 'circuit', 'circul', 'cisco', 'ciso', 'citectscada74', 'citi', 'citibank', 'citizen', 'citrix', 'citru', 'cityspaceindia', 'civil', 'civilskil', 'cjava', 'cjm', 'cl', 'cl400', 'clacutta', 'claim', 'clarif', 'clarifi', 'clariti', 'class', 'classic', 'classif', 'classifi', 'clean', 'clear', 'clearanc', 'clearli', 'click', 'client', 'clientproject', 'clientâ', 'clinic', 'clock', 'clone', 'cloningdupl', 'clore', 'close', 'closeout', 'closur', 'cloud', 'cloudatix', 'cloudera', 'cloudform', 'club', 'cluster', 'cm', 'cmc', 'cmpi', 'cmu', 'cnc', 'cnet', 'co', 'coach', 'coachadv', 'coachmentor', 'coachskil', 'coat', 'cochin', 'cocoordin', 'code', 'codeignit', 'codesi', 'codestrik', 'coe', 'cognit', 'cogniz', 'cogno', 'cohes', 'coil', 'cold', 'collabnet', 'collabor', 'collat', 'collater', 'colleagu', 'collect', 'colleg', 'collegeadvocateadvoc', 'collegeappl', 'collegecivil', 'collegedata', 'collegedatabas', 'collegeetl', 'collegegroup', 'collegehrskil', 'collegejava', 'collegenetwork', 'collegesenior', 'collegetest', 'collegeâ', 'collis', 'coloni', 'color', 'columbia', 'column', 'com', 'combin', 'come', 'cometchat', 'comfort', 'comic', 'comm', 'command', 'commensur', 'comment', 'commerc', 'commerci', 'commis', 'commiss', 'commission', 'commit', 'committe', 'commod', 'common', 'commonli', 'commun', 'commvers', 'comnet', 'comp', 'compani', 'companiesskil', 'companybas', 'companyâ', 'compar', 'compareeduc', 'comparetool', 'comparison', 'compat', 'compel', 'compens', 'compet', 'competit', 'compil', 'complain', 'complaint', 'complet', 'complex', 'compli', 'complianc', 'compliancereport', 'complic', 'compon', 'comprehens', 'compress', 'compris', 'comput', 'computer', 'conceiv', 'concept', 'conceptu', 'concern', 'concess', 'concili', 'concis', 'conclus', 'concret', 'concurr', 'condens', 'condit', 'conduct', 'confer', 'confid', 'configur', 'configura', 'confirm', 'conflict', 'confluenc', 'conformiq', 'conglomer', 'congress', 'conjunct', 'connect', 'connector', 'consensuseduc', 'consent', 'consid', 'consider', 'consign', 'consist', 'consol', 'consolid', 'constant', 'constraint', 'construct', 'constructionbuild', 'consult', 'consultantconsult', 'consultantdata', 'consultantgym', 'consultantsap', 'consultantskil', 'consultantsr', 'consum', 'consumpt', 'contact', 'contactor', 'contactu', 'contain', 'content', 'contest', 'context', 'contextvari', 'contin', 'conting', 'continu', 'contract', 'contractor', 'contractu', 'contribut', 'contributor', 'control', 'controlflash', 'controllership', 'convent', 'convers', 'convert', 'convey', 'conveyor', 'convinc', 'cool', 'cooler', 'coop', 'cooper', 'coopsoc', 'coopt', 'coordin', 'coordinationâbank', 'cope', 'copi', 'copyright', 'cord', 'corda', 'core', 'corecod', 'corejava', 'corel', 'corp', 'corpcloud', 'corpor', 'corporatewideetl', 'correct', 'correctli', 'correl', 'correspond', 'corrupt', 'cosin', 'cosmos', 'cost', 'costli', 'could', 'council', 'counsel', 'counsellor', 'count', 'counter', 'counterpart', 'countersign', 'countri', 'courag', 'courrier', 'cours', 'coursera', 'courseskil', 'court', 'courter', 'courtskil', 'cover', 'coverag', 'cowork', 'cpi', 'cpp', 'cpro', 'cpu', 'cr', 'craft', 'craftspeopl', 'crane', 'crash', 'crawl', 'creat', 'createdmodifi', 'creatingmanag', 'creation', 'creationdelet', 'creativ', 'credenc', 'credibl', 'credit', 'creditrebil', 'cricket', 'criculum', 'crime', 'crimin', 'criminalcivil', 'criminolog', 'crimp', 'cript', 'criterion', 'critic', 'crm', 'croatia', 'cronjob', 'crontab', 'crontabat', 'cross', 'crossfunct', 'crsctl', 'crt', 'cru', 'crud', 'crunch', 'cryptographi', 'crystal', 'cs', 'csa', 'csat', 'cse', 'csicam', 'cslkm', 'csm', 'css3', 'ct', 'ctl', 'ctr', 'cu', 'cub', 'cube', 'cubicl', 'cucumb', 'cufflink', 'cug', 'cultur', 'cum', 'cumul', 'currenc', 'current', 'curricular', 'curriculum', 'curtail', 'custodi', 'custodian', 'custom', 'customersalesfund', 'customerscli', 'customerstakeholdersponsor', 'customis', 'cut', 'cutov', 'cv', 'cwpr', 'cxmt', 'cxprogramm', 'cybag', 'cyber', 'cyberattack', 'cycl', 'd', 'd365', 'd3j', 'dadar', 'dahej', 'daigram', 'daili', 'dailyweeklymonthli', 'dairi', 'dalla', 'damag', 'damageexpir', 'dammam', 'dan', 'danc', 'danfoss', 'dapp', 'daralhadassah', 'dashboard', 'databank', 'databas', 'databasedatafilestablespacetransact', 'databasesm', 'databaseâ', 'datacent', 'datadriven', 'datafe', 'datafil', 'dataguard', 'dataiku', 'datamart', 'datamit', 'datamitesskil', 'datapump', 'dataset', 'datastag', 'datawarehous', 'dataâ', 'date', 'davv', 'day', 'dayanand', 'dayoff', 'daysâ', 'daytoday', 'db', 'db2', 'db2400', 'dba', 'dbaoracl', 'dbartisan', 'dbaskil', 'dbca', 'dbm', 'dbms_job', 'dbms_schedul', 'dc', 'dcj', 'dcmtk', 'ddl', 'ddr', 'ddsm', 'deadlin', 'deadlock', 'deal', 'dealer', 'dealership', 'dealt', 'death', 'debiankali', 'debit', 'debt', 'debtor', 'debug', 'debugg', 'dec', 'decemb', 'decid', 'decis', 'declar', 'decommiss', 'decomposit', 'decor', 'decreas', 'dedic', 'deduct', 'dedupl', 'deed', 'deeksha', 'deep', 'deepli', 'default', 'defect', 'defenc', 'defens', 'deferr', 'defici', 'defin', 'definit', 'deft', 'degin', 'degre', 'deign', 'delay', 'delayedno', 'delet', 'delhi', 'delieri', 'delinqu', 'deliv', 'deliver', 'deliveri', 'dell', 'deloitt', 'delta', 'deltannex', 'demand', 'demo', 'demonstr', 'denorm', 'densiti', 'dental', 'dep', 'depart', 'department', 'depend', 'deploy', 'depot', 'dept', 'deput', 'deputi', 'derbi', 'deriv', 'describ', 'descript', 'design', 'designereduc', 'designerweb', 'designhoneywel', 'designingcr', 'designnew', 'desir', 'desk', 'desktop', 'destin', 'detach', 'detai', 'detail', 'detailexperi', 'detect', 'detector', 'determin', 'deutsch', 'dev', 'develop', 'developerabap', 'developeradministr', 'developeranalystpython', 'developerblockchain', 'developerdot', 'developeretl', 'developerful', 'developerhadoop', 'developerhadoopbig', 'developerhadoophivesqoopflumepigmapreducepythonimpalasparkscalasqlunixskil', 'developerhodoop', 'developerit', 'developerjava', 'developerphp', 'developerpython', 'developersap', 'developerskil', 'developerslinux', 'developersystem', 'developertalend', 'developmentfdd', 'developmentsupport', 'devi', 'deviat', 'devic', 'devolop', 'devop', 'devopscloud', 'devopseduc', 'devopsskil', 'devprod', 'devqaprodstandbydr', 'devsecop', 'dexter', 'dfmea', 'dg', 'dh600million', 'dhabi', 'dhamaka', 'dhanraj', 'dhcp', 'dhl', 'dhtml', 'diabet', 'diagnos', 'diagnosi', 'diagnost', 'diagram', 'dibrugarh', 'dicom', 'dictionari', 'didnt', 'diesel', 'diet', 'dietet', 'differ', 'differentdiffer', 'differenti', 'difficult', 'digit', 'diifernt', 'dilig', 'dim', 'dimens', 'dimension', 'dinman', 'diploma', 'diplomat', 'direct', 'directli', 'director', 'directori', 'disabl', 'disassembl', 'disast', 'disburs', 'disciplin', 'disciplinari', 'disclos', 'discontinu', 'discount', 'discov', 'discoveri', 'discrep', 'discus', 'diseas', 'disha', 'disk', 'diskgroup', 'diskmedia', 'dispatch', 'display', 'dispos', 'disput', 'dist', 'distanc', 'distribut', 'distributor', 'district', 'diver', 'divid', 'divis', 'divorc', 'diwali', 'django', 'dlt', 'dml', 'dmv', 'dmvpn', 'dn', 'dnyanganaga', 'dob', 'doc', 'doc2vec', 'docker', 'doctor', 'document', 'documentscr', 'dol', 'doll', 'dollar', 'domain', 'dombivali', 'donald', 'done', 'dongar', 'dont', 'door', 'dossier', 'dot', 'doubt', 'download', 'downstream', 'downtim', 'downtown', 'dp', 'dpa', 'dpf', 'dpmcu', 'dpwn', 'dr', 'draft', 'drain', 'drambedkar', 'drastic', 'draw', 'drbamuaurangabadpython', 'dream', 'dreamweav', 'dress', 'drf', 'dri', 'drill', 'drive', 'drivekey', 'driven', 'driver', 'drowsi', 'drpr', 'drt', 'druck', 'drug', 'drum', 'dsm', 'dsp', 'dt', 'dubai', 'duct', 'due', 'dummi', 'dump', 'duncan', 'duplic', 'durat', 'duti', 'dvd', 'dxc', 'dy', 'dyanam', 'dynam', 'dynamo', 'e', 'e2e', 'e60', 'ea', 'eager', 'eagl', 'eap', 'ear', 'earli', 'earlier', 'earliest', 'earth', 'easi', 'easier', 'easili', 'east', 'easyto', 'eat', 'eb', 'eboss', 'ec', 'ec2', 'eclerx', 'eclin', 'eclips', 'eco', 'ecoflex', 'ecommerc', 'econom', 'ecosystem', 'ecuador', 'edc', 'edg', 'edh', 'edi', 'edinburg', 'edit', 'editor', 'editori', 'eduavenir', 'educ', 'educationproject', 'educationsap', 'eduventur', 'edvanc', 'ee11', 'effect', 'effici', 'effluent', 'effort', 'effortissuerisk', 'effortless', 'eg', 'egc', 'egypt', 'ehterchannel', 'eigrp', 'eip', 'either', 'ejb', 'el', 'elast', 'elasticsearch', 'elb', 'elearn', 'electr', 'electromech', 'electron', 'element', 'elementari', 'eletr', 'elev', 'eleven', 'elicit', 'elig', 'elimin', 'elringkling', 'em', 'email', 'emailbhawanachdgmailcom', 'embassi', 'embed', 'emc', 'emea', 'emerg', 'emot', 'emperor', 'emphasi', 'employ', 'employe', 'empow', 'emr', 'enabl', 'encapsul', 'encharg', 'enchargeskil', 'encod', 'encourag', 'encrypt', 'end', 'endeavor', 'endocrinolog', 'endpoint', 'endtoend', 'endur', 'endus', 'enercon', 'energi', 'enfield', 'engag', 'engg', 'engin', 'engineerautom', 'engineerblockchain', 'engineercivil', 'engineerdevop', 'engineerelectr', 'engineerelectron', 'engineerhadoop', 'engineeringdata', 'engineeringskil', 'engineerjr', 'engineermechan', 'engineernetwork', 'engineerqaqc', 'engineerqu', 'engineerskil', 'engineersoftwar', 'engineersr', 'engineertest', 'enginnernetwork', 'english', 'enhanc', 'enhancementâ', 'enigma', 'enjoy', 'enough', 'enppi', 'enquiri', 'enrol', 'ensono', 'ensur', 'entail', 'enter', 'entermedi', 'enterpris', 'enterprisewid', 'enthusiasm', 'enthusiast', 'enthusiastskil', 'entir', 'entiti', 'entityframewokjqueryjavascript', 'entrepreneur', 'entrepreneurship', 'entri', 'entrust', 'environ', 'environment', 'environmento', 'environmentseduc', 'environmentâ', 'envis', 'eot', 'epap', 'epc', 'epec', 'epi', 'epic', 'epk', 'eplan', 'eprocess', 'equal', 'equip', 'equiti', 'era', 'erc', 'erda', 'erect', 'ernst', 'erp', 'erp9', 'error', 'esaya', 'escal', 'escalationseduc', 'esd', 'esens', 'esic', 'esign', 'especi', 'essay', 'essenti', 'establish', 'estado', 'estat', 'estim', 'esun', 'esxi', 'et200', 'eta', 'etap', 'etc', 'etd', 'eterni', 'ethereum', 'ethernet', 'ethic', 'ethydco', 'ethylen', 'etl', 'etp', 'etrack', 'eur', 'europ', 'european', 'ev', 'evalu', 'even', 'event', 'everi', 'everywher', 'evid', 'ewallet', 'ewm', 'exact', 'exam', 'examin', 'exampl', 'exatt', 'excav', 'exceed', 'excel', 'excelauto', 'except', 'excess', 'exchang', 'excit', 'exclus', 'exec', 'execut', 'executivemechan', 'executivesengin', 'exercis', 'exhibit', 'exim', 'exist', 'exit', 'exitentri', 'exp', 'expand', 'expdp', 'expdpimpdp', 'expect', 'expediti', 'expenditur', 'expens', 'experi', 'experienc', 'experienceskil', 'experinc', 'experion', 'expert', 'expertis', 'expimp', 'expiri', 'explain', 'explor', 'exploratori', 'exponenti', 'export', 'exposi', 'exposur', 'exposureskil', 'express', 'ext', 'extc', 'extend', 'extens', 'extent', 'exterior', 'extern', 'extra', 'extract', 'extractor', 'extraeduc', 'extrem', 'extrovert', 'ey', 'eye', 'f', 'f2', 'f5', 'fab', 'fabric', 'face', 'facebook', 'faceit', 'facet', 'facil', 'facilit', 'fact', 'factor', 'factori', 'factotytalk', 'factual', 'faculti', 'fadv', 'fahad', 'fahe', 'fail', 'failov', 'failoverfailback', 'failur', 'fair', 'faith', 'falseposit', 'famili', 'familiar', 'fan', 'fanuc', 'fap', 'far', 'faridabad', 'farm', 'fashion', 'faso', 'fast', 'faster', 'fastest', 'fat', 'father', 'fatherâ', 'fault', 'fcbc', 'fd', 'fda', 'fdm', 'feasibl', 'featur', 'feb', 'februari', 'feder', 'fee', 'feed', 'feedback', 'feeder', 'fellowship', 'festiv', 'fetch', 'fg', 'fgpwpmp', 'fi', 'field', 'fieldhoist', 'fight', 'fighter', 'figur', 'file', 'filenet', 'filesredologarchiveundo', 'fill', 'film', 'filter', 'final', 'finalis', 'financ', 'financehr', 'financi', 'finanza', 'find', 'finder', 'fine', 'finish', 'fino', 'finserv', 'fintech', 'fiori', 'fire', 'firefox10', 'firewal', 'firm', 'firr', 'first', 'fiserv', 'fit', 'five', 'fix', 'fixer', 'fl', 'flag', 'flash', 'flashback', 'flask', 'flat', 'flatbunglowsna', 'flatfil', 'flexibl', 'flip', 'float', 'floor', 'florida', 'flotilla', 'flow', 'flower', 'fluenci', 'fluent', 'fluiditi', 'flume', 'fm', 'fma', 'fmcg', 'focal', 'focu', 'focus', 'folder', 'follet', 'follow', 'followup', 'food', 'foot', 'footbal', 'forc', 'forcecom', 'forecast', 'forecastingi', 'foreign', 'foreman', 'forest', 'forg', 'form', 'formal', 'format', 'former', 'formerli', 'formul', 'formula', 'fort', 'fortinet', 'forum', 'forward', 'forwardersship', 'forwardrevers', 'foster', 'foundat', 'foundri', 'four', 'fox', 'fpga', 'fr', 'frame', 'framessqldata', 'framework', 'frameworktaf', 'framw', 'franc', 'francistalend', 'fraud', 'fraudrel', 'fraudul', 'frd', 'free', 'freelanc', 'freez', 'freight', 'french', 'frequenc', 'frequent', 'fresher', 'fricew', 'friendli', 'fromjspm', 'front', 'frontend', 'frontendframework', 'fruit', 'fruitbuddi', 'fruitsbuddi', 'fsd', 'ftc', 'ftcskill', 'ftp', 'fuel', 'fujitsu', 'fulfil', 'full', 'fulli', 'fulllifecycl', 'fulltext', 'fun', 'function', 'functionwid', 'fund', 'fundament', 'funnel', 'furnac', 'furnish', 'futur', 'fw', 'fwsm', 'fx', 'fzco', 'fzcoskil', 'fze', 'g', 'g2702', 'ga', 'gaarment', 'gac', 'gaia', 'gain', 'gajanan', 'galleri', 'game', 'gandhi', 'ganesh', 'ganga', 'ganj', 'gap', 'garden', 'garment', 'garwar', 'gas', 'gate', 'gateway', 'gather', 'gaug', 'gauhati', 'gcp', 'gdo', 'ge', 'gea', 'geci', 'geepa', 'gefanuc', 'gegenerat', 'gehealthcar', 'gender', 'genentech', 'gener', 'geneva', 'genr', 'genworth', 'geo', 'geograph', 'geographi', 'german', 'germani', 'get', 'gf', 'ggplot', 'gh', 'ghat', 'ghatkesar', 'ghatkopar', 'ghraisoni', 'ghrsec', 'gi', 'girija', 'girl', 'git', 'gitbash', 'giteduc', 'github', 'githubcomrathorolog', 'give', 'given', 'gland', 'glasgow', 'glassfish', 'glaxo', 'glaxosmithklineconsum', 'global', 'globe', 'glyphisoft', 'gm', 'gmf', 'gmoper', 'gmr', 'gn', 'gns3', 'go', 'goa', 'goal', 'gobind', 'goe', 'goetheinstitut', 'golang', 'golchha', 'gold', 'golden', 'goliv', 'golwinr', 'gondia', 'gone', 'good', 'googl', 'goqii', 'gorbanjaraeduc', 'goregaon', 'goregoan', 'got', 'govern', 'govt', 'govtofjk', 'grade', 'graduat', 'graduatelevel', 'grain', 'grandeur', 'grant', 'graph', 'grapheduc', 'graphic', 'grasp', 'gratuiti', 'grc', 'great', 'green', 'greenfield', 'greenplum', 'greyedout', 'grid', 'grievanc', 'grip', 'groom', 'gross', 'ground', 'group', 'grouper', 'groupskil', 'groupx', 'grow', 'growth', 'gsk', 'gsm', 'gssapi', 'gst', 'gstr', 'gt', 'guarante', 'guard', 'gui', 'guid', 'guidanc', 'guidelin', 'guin', 'guisil', 'gujarat', 'gulbarga', 'gulf', 'guru', 'guwahati', 'gwalior', 'gyandatt', 'gym', 'gynaecologist', 'h', 'ha', 'haayan', 'hackthon', 'hadapsar', 'hadoop', 'hadoophdf', 'hadoopsparksqoophiveflumepig', 'hadr', 'haldiram', 'hamsa', 'hana', 'hanapython', 'hand', 'handi', 'handl', 'handlingeduc', 'handoff', 'handov', 'handson', 'handwrit', 'handwritten', 'hangar', 'har', 'harbor', 'hard', 'hardwar', 'hardwarenetwork', 'hardwork', 'harriman', 'hart', 'harvard', 'haryana', 'haryanadata', 'hassel', 'hat', 'havevbeen', 'hayaan', 'hazard', 'hbase', 'hcl', 'hclcomnet', 'hdf', 'hdfc', 'hdfshbase', 'hdinsight', 'hdp23', 'head', 'headcount', 'headquart', 'health', 'healthcar', 'healthcareinsur', 'healthi', 'healthier', 'healthyskil', 'hear', 'heart', 'heat', 'heater', 'height', 'held', 'help', 'helpdesk', 'henc', 'herebi', 'heret', 'hertz', 'heterogen', 'hewlettpackard', 'hexawar', 'hg', 'hibern', 'hide', 'high', 'highenergi', 'higher', 'higherdata', 'highest', 'highlevel', 'highli', 'highlight', 'highnetworth', 'highperson', 'highschool', 'highschooljava', 'hightech', 'highway', 'hike', 'hilton', 'himalaya', 'himher', 'hindi', 'hindu', 'hindustan', 'hingna', 'hipot', 'hiral', 'hire', 'histor', 'histori', 'hit', 'hitech', 'hive', 'hiveql', 'hl7', 'hld', 'hm', 'hmi', 'hmiweb', 'ho', 'hoard', 'hobbi', 'hoc', 'hod', 'hold', 'holder', 'holi', 'holiday', 'holm', 'holtwint', 'home', 'homesciencehealth', 'honda', 'honest', 'honesti', 'honeywel', 'honore', 'hop', 'hope', 'hord', 'horizon', 'horton', 'hospit', 'hospitalsclin', 'host', 'hot', 'hotel', 'hotfix', 'hour', 'hous', 'housekeep', 'hp', 'hpalm', 'hpc', 'hpe', 'hpm', 'hpqc', 'hpqcalm', 'hpsm', 'hr', 'hrm', 'hsbc', 'hsc', 'hsrp', 'ht', 'htlt', 'html', 'html5', 'htmlcss', 'http', 'hub', 'hudson', 'hue', 'human', 'humana', 'hurdl', 'hv', 'hvac', 'hybrid', 'hyderabad', 'hydraul', 'hydraulicpneumat', 'hydrocarbon', 'hyperledg', 'hypertens', 'i', 'ia', 'iabac', 'iam', 'ibati', 'ibm', 'ice', 'icfai', 'icgmarket', 'icici', 'id', 'ide', 'idea', 'ideal', 'ideeclips', 'ident', 'identif', 'identifi', 'idera', 'idoc', 'idsdevelop', 'idt', 'ie', 'iec', 'iecex', 'ieee', 'ielt', 'iesag', 'ifix', 'igbt', 'igg', 'ignou', 'ignouoper', 'ii', 'iidatabas', 'iii', 'iinsur', 'iit', 'iitbombay', 'ijar20656', 'ijsrd', 'ile', 'illinoi', 'illustr', 'im', 'imag', 'imagin', 'imcost', 'imit', 'immunolog', 'impact', 'impala', 'impart', 'implement', 'implicit', 'import', 'importantli', 'importdatapump', 'importexport', 'improv', 'improvis', 'inbound', 'inbuilt', 'inc', 'incent', 'incept', 'incharg', 'incid', 'includ', 'inclus', 'incom', 'incorpor', 'increas', 'increment', 'indemn', 'indent', 'independ', 'indepth', 'index', 'india', 'indiaeduc', 'indiagroup', 'indiainx', 'indian', 'indic', 'indigo', 'indira', 'individu', 'indo', 'indoor', 'indor', 'induct', 'industri', 'inert', 'inetsoft', 'infa', 'infactor', 'infer', 'infiniteworx', 'influenc', 'info', 'infobank', 'infocomm', 'infonet', 'infopa', 'inform', 'informatica', 'infosi', 'infosysskil', 'infotech', 'infotek', 'infra', 'infrasoft', 'infrastructur', 'ingest', 'inhous', 'initi', 'inject', 'injector', 'injuri', 'inlight', 'inn', 'innodb', 'innotech', 'innov', 'innovativetechnolog', 'innovesta', 'inouvel', 'inov', 'inplant', 'input', 'inpython', 'inquiri', 'inr', 'inscript', 'insert', 'inservic', 'insid', 'insight', 'insolut', 'inspect', 'instal', 'installationgraphicalsilentdatabas', 'instanc', 'instancesdb', 'institut', 'institutesr', 'institutionblockchain', 'institutiondatabas', 'institutionuniversityboardsal', 'instiut', 'instruct', 'instructionobserv', 'instructor', 'instrument', 'insul', 'insur', 'integr', 'intellig', 'intelligen_for', 'intellij', 'intellimatch', 'intelux', 'intend', 'intent', 'inter', 'interact', 'intercolleg', 'interdepend', 'interest', 'interfac', 'interim', 'interior', 'interlock', 'intermedi', 'intern', 'internalextern', 'internet', 'interneteduc', 'internettechnologiesand', 'internship', 'internshipskil', 'interperson', 'interpret', 'interpretersanaconda', 'interrog', 'interteam', 'intertek', 'interv', 'interven', 'intervent', 'interview', 'interviewe', 'intervlan', 'intim', 'intio', 'intouch', 'intra', 'introduc', 'introduct', 'introductori', 'inventori', 'invert', 'inverterconvert', 'invest', 'investig', 'investor', 'invit', 'invoc', 'invoic', 'invoicesalong', 'involv', 'inward', 'io', 'ionic', 'iot', 'iotâ', 'ip', 'ipa', 'ipad', 'iphoneipad', 'ipsec', 'ipv4', 'ipv6', 'iqvia', 'ir', 'irda', 'ireport', 'iri', 'iron', 'irul', 'isauto', 'iseri', 'iso', 'iso90012015', 'isp', 'isretail', 'issu', 'issuanc', 'issuestask', 'issuesâ', 'itdb', 'ite', 'itechpow', 'item', 'itil', 'itr', 'itrack', 'itskil', 'itth', 'j', 'j1409038', 'j2ee', 'ja', 'jabalpur', 'jacob', 'jagiroad', 'jaipur', 'jalgaon', 'jallosh', 'jammu', 'jan', 'janta', 'januari', 'japan', 'jar', 'jaunpur', 'jaunpurnetwork', 'java', 'javacor', 'javae', 'javaj2e', 'javajspservletspringhibernatestrutsjavascript', 'javascript', 'javascriptjqueri', 'javascriptjqueryjson', 'javasw', 'jawalek', 'jayashre', 'jayawantrao', 'jaywant', 'jbk', 'jboss', 'jdbc', 'jdk', 'jebel', 'jenkin', 'jersey', 'jetal', 'jewelleri', 'jformdesign', 'jharkhand', 'jharnet', 'jhulel', 'jijayi', 'jio', 'jira', 'jiwaji', 'jm', 'jntudevop', 'jntudot', 'job', 'joblet', 'jobskil', 'jobsmainten', 'john', 'johnson', 'join', 'joiner', 'joint', 'jointli', 'joist', 'journal', 'journalistskil', 'journey', 'jqueri', 'jr', 'jscoe', 'jsf', 'json', 'jsp', 'jspmâ', 'jspservlet', 'jspservletsw', 'jsw', 'judg', 'judicatur', 'judici', 'juhu', 'juicer', 'juli', 'july2013to', 'jun', 'june', 'june2014', 'jungl', 'junior', 'juniorsâ', 'junip', 'junipernetscreen', 'junner', 'jupyt', 'jw', 'k', 'ka', 'kafka', 'kakatiya', 'kakinada', 'kale', 'kalepad', 'kalyan', 'kamaraj', 'kanban', 'kannada', 'kanya', 'karat', 'karma', 'karnataka', 'karvi', 'kaylan', 'kbppolytechn', 'kd', 'keen', 'keep', 'keil', 'kendo', 'kendoui', 'kepwar', 'kera', 'kerala', 'kerbero', 'key', 'kgp', 'kh', 'khadakwasla', 'khalsa', 'khana', 'kherwadi', 'kibana', 'kick', 'kickoff', 'kind', 'kindo', 'kinfolk', 'kinfra', 'king', 'kingdom', 'kirloskar', 'kisan', 'kisanv', 'kline', 'kmean', 'knn', 'knockout', 'know', 'knowledg', 'knowledgey', 'known', 'knox', 'kochi', 'kohlapur', 'kolhapur', 'kom', 'konkani', 'kopargaon', 'koramangala', 'korea', 'kpi', 'kpit', 'kpitsparkl', 'kr', 'kra', 'kranti', 'ksa', 'kt', 'kubler', 'kudo', 'kuehn', 'kuka', 'kunal', 'kurla', 'kv', 'kva', 'kw', 'kyc', 'l', 'l1', 'l3vpn', 'lab', 'label', 'labor', 'laboratori', 'labour', 'labview', 'ladder', 'lag', 'lake', 'lakesit', 'lambda', 'lan', 'land', 'landmark', 'landmarkgroup', 'landscap', 'langag', 'languag', 'lanka', 'laptop', 'laravel', 'larg', 'largescal', 'largest', 'larsen', 'last', 'late', 'later', 'latest', 'latex', 'lath', 'latin', 'launch', 'launder', 'lavisa', 'law', 'lawadvocateexperienc', 'laweduc', 'lawskil', 'lawyer', 'layer', 'layertolay', 'layout', 'layoutsschemat', 'lda', 'ldap', 'le', 'lea', 'lead', 'leader', 'leaderexecut', 'leaderfit', 'leadership', 'leadqa', 'leadskil', 'leadsol', 'leadtechn', 'leaflet', 'leakag', 'lean', 'learn', 'learner', 'learnereduc', 'learnerskil', 'learningai', 'learningeduc', 'learnt', 'learnunlearnrelearn', 'leav', 'lectur', 'lecturerskil', 'lectureship', 'led', 'ledger', 'leg', 'legaci', 'legal', 'legisl', 'lelo', 'lend', 'lenm', 'lenovo', 'lesson', 'let', 'letter', 'level', 'level3person', 'levelâ', 'lex', 'lf', 'liabil', 'liabrari', 'liabraymysqldjangohtml', 'liais', 'liaison', 'lias', 'lib', 'librari', 'licens', 'life', 'lifecycl', 'lifekonnect', 'lifestyl', 'lift', 'light', 'lightn', 'like', 'limit', 'limitedsap', 'limitedskil', 'line', 'lineag', 'linear', 'linescarri', 'linguist', 'link', 'linkedincominadityarathor', 'linq', 'linux', 'linuxmicrosoft', 'linuxubuntu', 'linuxunix', 'linuxxen', 'liquefi', 'lisa', 'list', 'listen', 'listenerora', 'listeneroratnsnamesora', 'lite', 'litecoin', 'literatur', 'litespe', 'litig', 'littl', 'live', 'llb', 'llc', 'lld', 'llm', 'llp', 'llpskill', 'lm', 'lnbolleg', 'lng', 'lo', 'load', 'loadbalanc', 'loadbalnc', 'loader', 'loadout', 'loan', 'lob', 'local', 'locat', 'lock', 'lockdown', 'lockout', 'lodg', 'lodha', 'loftwar', 'log', 'logger', 'logic', 'login', 'logist', 'logix', 'logo', 'logon', 'logstash', 'lok', 'london', 'londonhexad', 'long', 'longer', 'longterm', 'look', 'lookup', 'loop', 'loophol', 'loss', 'lot', 'lotu', 'love', 'low', 'lowlevel', 'loyal', 'loyalti', 'lrc', 'lsa', 'lstm', 'lt', 'ltd', 'ltdpune', 'ltdskill', 'ltm', 'ltspiceintermedi', 'lucent', 'lumira', 'luxuri', 'lv', 'm', 'm3', 'm3movex', 'mac', 'macaui', 'machin', 'machineri', 'machinesbrought', 'machinesvmlogist', 'macro', 'macromedia', 'made', 'madhya', 'madhyamik', 'madra', 'mafoii', 'magazin', 'magnet', 'maha', 'mahabaleshwartour', 'mahal', 'maharaj', 'maharaja', 'maharashatra', 'maharashtra', 'maharastra', 'maharshtra', 'mahatma', 'mahavidyalay', 'mahavir', 'mahindra', 'mahindraskil', 'mail', 'mailbox', 'main', 'mainli', 'maint', 'mainta', 'maintain', 'maintainingâ', 'mainten', 'maintenanceeduc', 'maintenanceenhanc', 'major', 'make', 'maker', 'maladautom', 'malappuram', 'malaviya', 'malaysia', 'malici', 'mall', 'man', 'manag', 'managementgym', 'managementhadoop', 'managementhrskil', 'managementskil', 'managementtest', 'managementtransit', 'managementâcross', 'managementâpeopl', 'managenow', 'managereduc', 'managerglob', 'manageri', 'manageroper', 'managerproject', 'managersal', 'managersdirector', 'managerservic', 'managerskil', 'managescustom', 'managingcr', 'mandakini', 'mandir', 'manger', 'mani', 'manip', 'manipul', 'manish', 'manner', 'manoharbhai', 'manonmaniam', 'manpow', 'mansa', 'manual', 'manualinspect', 'manufactur', 'map', 'mapco', 'mapl', 'mapplet', 'mapreduc', 'mar', 'marathi', 'march', 'marg', 'margaret', 'mariadb', 'marin', 'marit', 'mark', 'market', 'marketlead', 'marketplac', 'markup', 'marol', 'marri', 'marriag', 'marriot', 'marshal', 'mart', 'martial', 'martin', 'maruti', 'marvin', 'masonri', 'mass', 'massachusett', 'massag', 'mastek', 'master', 'mat', 'match', 'matelab', 'matelabsskil', 'materail', 'materi', 'materialerp', 'matern', 'math', 'mathemat', 'matlab', 'matplot', 'matplotlib', 'matplotliv', 'matric', 'matricul', 'matrix', 'matter', 'maven', 'maxgen', 'maxim', 'maximum', 'may', 'maza', 'mba', 'mbm', 'mc', 'mca', 'mcm', 'md', 'me', 'mean', 'meaning', 'measur', 'mec', 'mech', 'mechan', 'mechanicalskil', 'mecomput', 'medal', 'mediat', 'medic', 'medicap', 'medicin', 'medium', 'meet', 'megger', 'mellon', 'mellonskil', 'member', 'membership', 'memo', 'memoiz', 'memori', 'menon', 'menswear', 'mention', 'mentor', 'meraki', 'merchant', 'merg', 'merger', 'mesa', 'messag', 'messeng', 'met', 'meta', 'metabol', 'metadata', 'metafeatur', 'metal', 'meter', 'method', 'methodolog', 'metlif', 'metric', 'metro', 'mf', 'mfa', 'mfdb', 'mgm', 'mgmt', 'mgthrskill', 'mh', 'mi', 'mia', 'miami', 'micheal', 'micro', 'microbiolog', 'microprocessor', 'microservic', 'microsft', 'microsoft', 'microsystem', 'mid', 'midc', 'middl', 'middlewar', 'midi', 'midris', 'midyear', 'migrat', 'migrationmx8800', 'migrationr1', 'mileston', 'milknet', 'mill', 'million', 'mind', 'mine', 'mini', 'minilec', 'minim', 'minimum', 'ministri', 'minor', 'mintmetrixcom', 'minut', 'mipowerintermedi', 'mirag', 'mirror', 'miscellan', 'miss', 'mission', 'mistak', 'mit', 'mitig', 'mitpresid', 'mix', 'ml', 'ml200', 'mlrit', 'mm', 'mmpc', 'mmpolytechnicdot', 'mmrda', 'mnb', 'mnyl', 'mobil', 'mobileapp_dev_kauapc', 'mock', 'mode', 'model', 'modelsim', 'modelviewcontrol', 'modem', 'modern', 'modesâ', 'modif', 'modifi', 'modul', 'modular', 'mog', 'mohali', 'moistur', 'moitor', 'moledina', 'mom', 'money', 'mongodb', 'mongodbmysql', 'monitor', 'mono', 'monorail', 'monster', 'month', 'monthli', 'monthlyweekli', 'monthscompani', 'monthseduc', 'morgan', 'morigaon', 'mortar', 'mortgag', 'moss', 'mostli', 'moti', 'motil', 'motion', 'motiv', 'motor', 'mould', 'mount', 'move', 'movement', 'movex', 'movexm3', 'movi', 'mozilla', 'mp', 'mphasi', 'mpl', 'mr', 'mrn', 'msaess', 'msbte', 'msc', 'mscit', 'msexceleduc', 'msoffic', 'mspower', 'mssql', 'mtech', 'much', 'mukand', 'muktanand', 'mul', 'multi', 'multibilliondollar', 'multicli', 'multicontext', 'multicultur', 'multidevelop', 'multifunct', 'multimedia', 'multin', 'multipl', 'multiprofil', 'multiprotocol', 'multisim', 'multispecialti', 'multital', 'multitask', 'multivendor', 'mumbai', 'mumbaibusi', 'mumbaidraw', 'mumbaipython', 'murlidhar', 'music', 'must', 'mustanghoneywel', 'mutual', 'muweilah', 'mva', 'mvc', 'mvc5', 'mvcbase', 'mvp', 'mvt', 'mw', 'mwb', 'myanmar', 'myattcom', 'myisam', 'mysor', 'mysql', 'mysql50', 'mysqlbas', 'mysqloracl', 'n', 'na', 'nabinagar', 'nadu', 'nafjan', 'nagaland', 'nagaon', 'nagar', 'nagel', 'nagpur', 'naharkar', 'nallasopara', 'name', 'nanak', 'nand', 'nangal', 'narayangaon', 'narh', 'narout', 'nasecur', 'nashik', 'nashikcivil', 'nashikjava', 'nasscom', 'nat', 'nation', 'nativ', 'natur', 'naukri', 'nava', 'navi', 'navig', 'navnirman', 'navshar', 'naãv', 'nbf', 'nc', 'ncr', 'nd', 'near', 'nearbi', 'nec', 'necessari', 'nederland', 'need', 'neg', 'negoti', 'neighborhood', 'nendrasi', 'ner', 'nessa', 'nestl', 'net', 'netbackup', 'netbean', 'netca', 'netezza', 'netflow', 'netherland', 'netmgr', 'netmgrnetca', 'nettech', 'netweav', 'network', 'networkinfrastructur', 'networksrnn', 'neural', 'neurolog', 'neutral', 'new', 'newcastl', 'newexist', 'newhir', 'newli', 'news', 'newspap', 'next', 'nextgen', 'nexu', 'nf', 'nfpa', 'nhibernet', 'nibsnit', 'nichemarket', 'niit', 'niitproject', 'niketan', 'nilux', 'nippon', 'nirmiti', 'nld', 'nlp', 'nltk', 'nlu', 'nmf', 'nn', 'no', 'noc', 'node', 'nodej', 'nomin', 'non', 'nonasm', 'noncompli', 'nonconform', 'none', 'nonfunct', 'nontechn', 'nordea', 'norm', 'normal', 'north', 'northbound', 'norway', 'nosql', 'nosqlhbas', 'note', 'notebook', 'notebool', 'notepad', 'notic', 'notif', 'nov', 'nova', 'novemb', 'nprout', 'nternet', 'ntp', 'ntpcbrbcl', 'nuanc', 'nuclear', 'number', 'numer', 'numpi', 'numpypandasmatplolibrequestsbeauti', 'nunit', 'nutrient', 'nutrit', 'nutritionist', 'ny', 'nyskil', 'o', 'oam', 'oat', 'obes', 'object', 'observ', 'obsolet', 'obstacl', 'obtain', 'ocean', 'oceango', 'oceanweb', 'ocm', 'oct', 'octob', 'odata', 'oem', 'offer', 'offerstend', 'offic', 'officeeduc', 'offici', 'offlin', 'offload', 'offshor', 'offsit', 'often', 'oh', 'ohio', 'oil', 'oim', 'old', 'older', 'oldest', 'oltc', 'oltp', 'om', 'oman', 'omegasoft', 'omnichannel', 'omron', 'onboard', 'oncal', 'oncolog', 'one', 'onesignalwebpushnotif', 'onestop', 'onestoptestshop', 'onetoon', 'ongo', 'onlin', 'onlineofflin', 'onshor', 'onsit', 'onsiteoffshor', 'ontim', 'ontrack', 'onâ', 'ooad', 'oop', 'ootc', 'oozi', 'op', 'opc', 'open', 'opencart', 'openclos', 'opencv', 'opensourcetechnolog', 'oper', 'operatingsystem', 'operationeduc', 'operatornam', 'opex', 'opinion', 'opp', 'opportun', 'optim', 'optimaz', 'optimis', 'optimist', 'optimum', 'option', 'oracl', 'oracle1011geduc', 'oracle11g', 'oracle11gr2', 'oracleappl', 'oral', 'oralwritten', 'orc', 'orchestr', 'order', 'ordin', 'ore', 'orformatt', 'org', 'organ', 'organis', 'organiz', 'orgniz', 'orgnizationskil', 'orichid', 'orient', 'orissa', 'oro', 'oronit', 'orowealth', 'orphan', 'orthoped', 'os', 'oscar', 'osi', 'osmania', 'osmoflo', 'ospf', 'oswal', 'oswindow', 'otc', 'other', 'otherwis', 'oti', 'our', 'out', 'outag', 'outbound', 'outcom', 'outdat', 'outdoor', 'outfit', 'outlay', 'outlier', 'outlook', 'output', 'outreach', 'outsid', 'outstand', 'outward', 'overal', 'overcom', 'overdraft', 'overhaul', 'overland', 'overlook', 'overse', 'oversea', 'oversight', 'overview', 'own', 'owner', 'ownership', 'oxford', 'oxygen', 'p', 'p1', 'p2', 'p2p', 'p8', 'pa', 'pac', 'pace', 'pacemak', 'pack', 'packag', 'packet', 'paddl', 'padk', 'page', 'pagin', 'pain', 'paint', 'paintha', 'pair', 'pal', 'pali', 'palo', 'pamphlet', 'pan', 'panchakarma', 'panda', 'panel', 'panjab', 'panorama', 'panvel', 'paper', 'paperless', 'paperwork', 'par', 'parallel', 'paramet', 'parent', 'paripora', 'parivartan', 'park', 'parkar', 'parola', 'parquet', 'parser', 'parson', 'part', 'parti', 'particip', 'particular', 'particularli', 'partit', 'partitionmonitor', 'partner', 'partnership', 'pas', 'passeng', 'passion', 'passiv', 'passport', 'password', 'past', 'pat', 'patch', 'patel', 'path', 'pathway', 'patient', 'patientsold', 'patil', 'patni', 'patnigehealthcar', 'patron', 'pattern', 'pawar', 'pay', 'paybl', 'payer', 'payment', 'payrol', 'paytech', 'pba', 'pc', 'pca', 'pcb', 'pci', 'pdaco', 'pdf', 'pe8', 'peer', 'peerbhoy', 'penalti', 'penchant', 'pend', 'penultim', 'peopl', 'per', 'percentag', 'perfect', 'perform', 'performanceâ', 'performersartist', 'perhap', 'period', 'perman', 'permiss', 'permit', 'perprocess', 'persist', 'person', 'personnel', 'perspect', 'pertain', 'pertin', 'petit', 'petrochem', 'petroleum', 'petronet', 'petti', 'pf', 'pfizer', 'pg', 'pgdm', 'pgp', 'pharma', 'pharmaceut', 'pharmaci', 'phase', 'pheonix', 'philosophi', 'phioenix', 'phoenix', 'phone', 'photograph', 'photographi', 'photoshop', 'php', 'phule', 'physic', 'physiolog', 'phython', 'pi', 'pia', 'pick', 'pickup', 'pict', 'pictur', 'pid', 'pig', 'pii', 'pil', 'pilot', 'pimpl', 'pimpri', 'pin', 'pipe', 'pipelin', 'pirangoot', 'piston', 'pitch', 'pitr', 'pittsburgh', 'pivot', 'pjlcejava', 'place', 'placestravel', 'plaint', 'plaintiff', 'plan', 'plane', 'planner', 'planningschedulingreschedulingsplit', 'plansschedul', 'plant', 'plant3', 'plant6', 'planviz', 'plaster', 'plastic', 'platform', 'platinum', 'play', 'player', 'plaza', 'plc', 'plcscada', 'plea', 'plead', 'plot', 'plotli', 'plsql', 'plsqljavajavaeejavascripthtmlcssjquerymysqlspr', 'plu', 'plumb', 'pm', 'pmo', 'pmosenior', 'pmoskil', 'pmr', 'pneumat', 'pneumaticsfabr', 'po', 'poc', 'pod', 'poi', 'point', 'pointer', 'poland', 'polari', 'polic', 'polici', 'polit', 'politician', 'polytechn', 'polytechnicetl', 'polytechniclead', 'pom', 'pool', 'poona', 'popul', 'port', 'portal', 'portfolio', 'posit', 'positron', 'posoper', 'possibl', 'post', 'poster', 'postgresql', 'postgresqleduc', 'postgressql', 'postimplement', 'postissu', 'postman', 'postproject', 'potenti', 'pour', 'powai', 'power', 'powercent', 'powerpoint', 'powerpointexcel', 'powertech', 'pp', 'ppe', 'ppt', 'pr', 'prabhakar', 'practic', 'practition', 'pradesh', 'pragat', 'prajyoti', 'prakash', 'prakshal', 'prasanna', 'pravaranagar', 'prc', 'pre', 'preced', 'precis', 'preclin', 'predefin', 'predesign', 'predict', 'prefat', 'prefer', 'preform', 'preinspect', 'preissuanc', 'preliminari', 'premier', 'premis', 'premium', 'prepaid', 'prepar', 'preprocess', 'preproduct', 'prequalif', 'prerecord', 'presal', 'prescrib', 'presenc', 'present', 'presenteduc', 'preserv', 'presid', 'preson', 'press', 'pressur', 'pretend', 'pretransit', 'pretrial', 'preunivers', 'prevent', 'preventivepredict', 'previou', 'prgx', 'price', 'primari', 'primarili', 'prime', 'prince2', 'principl', 'print', 'printer', 'priorit', 'prioriti', 'privaci', 'privat', 'privileg', 'privilegesrol', 'priyadarshini', 'prize', 'prm', 'pro', 'proactiv', 'proactivelyeduc', 'problem', 'problemat', 'procedur', 'process', 'processdomain', 'processeduc', 'procur', 'prod', 'produc', 'product', 'productivityeffici', 'productssolut', 'proe', 'prof', 'profession', 'profici', 'profil', 'profit', 'profound', 'program', 'programm', 'programmeproject', 'programmingscriptingdeveloperweb', 'programmingxp', 'progre', 'progress', 'project', 'projecti', 'projectii', 'projectiii', 'projectiv', 'projectopportun', 'projectrespons', 'projectv', 'projectvi', 'projectvii', 'projectviii', 'proliant', 'promark', 'promot', 'promoter9yr', 'prompt', 'proof', 'propag', 'proper', 'properli', 'properti', 'prophet', 'propos', 'proposalestim', 'proposalsrf', 'prosecut', 'proship', 'protect', 'proteu', 'protiu', 'proto', 'protocol', 'protocolsripeigrpospfbgp', 'prototyp', 'prove', 'proven', 'provid', 'provis', 'proxi', 'prt', 'prudenti', 'prune', 'prv', 'psg', 'pso', 'psu', 'psycholog', 'psychotherapi', 'pt', 'ptf', 'pu', 'public', 'publish', 'pul', 'pulp', 'pump', 'pumprman', 'punch', 'punctual', 'pune', 'puneadvocateadvocateskil', 'puneautom', 'punenetwork', 'puneskil', 'punesoftwar', 'punjab', 'punjabi', 'puppet', 'purchas', 'purg', 'purpos', 'pursu', 'purvanch', 'pusad', 'push', 'put', 'putti', 'pvp', 'pvt', 'pvtltd', 'pw', 'pwd', 'pycharm', 'pymysql', 'pyspark', 'python', 'python2', 'python3', 'python36', 'pythonpython', 'q', 'qa', 'qaqc', 'qasit', 'qatar', 'qatif', 'qc', 'qliksens', 'qlikview', 'qm', 'qtp', 'quali', 'qualif', 'qualifi', 'qualit', 'qualiti', 'quantifi', 'quantit', 'quantiti', 'quarter', 'quarterli', 'quartil', 'queen', 'queri', 'query400', 'quest', 'question', 'questionnair', 'queu', 'queue', 'quick', 'quickest', 'quickli', 'quit', 'quot', 'quota', 'quotat', 'r', 'r2', 'r22012', 'r3', 'r4102', 'r75', 'r77', 'r80', 'rabal', 'rac', 'race', 'rachana', 'rack', 'radha', 'radiat', 'radio', 'raffinaderji', 'raid', 'rail', 'railtiffincom', 'railway', 'railwirerailtel', 'rais', 'raj', 'rajapur', 'rajapurtest', 'rajasthan', 'rajdevi', 'rakesh', 'ralli', 'ram', 'ramesh', 'ran', 'ranchi', 'random', 'rang', 'rangoli', 'ranjangaon', 'rank', 'rapport', 'rare', 'raspberri', 'rate', 'ratio', 'ration', 'ratnagiri', 'ratnamala', 'rave', 'ravichand', 'raw', 'ray', 'rayat', 'raymond', 'rb', 'rc', 'rca', 'rcm', 'rcsa', 'rcu', 'rd', 'rdbm', 'rdd', 'rddmapreduc', 'rdl', 'react', 'reactj', 'read', 'readi', 'readili', 'real', 'realest', 'realetor', 'realist', 'realiti', 'realiz', 'realm', 'reasearch', 'reason', 'reasoningâ', 'rebadg', 'rebat', 'rebuild', 'rebuildreorgan', 'rec', 'recal', 'recalibr', 'receipt', 'receiv', 'recent', 'reclaim', 'recogn', 'recognit', 'recommend', 'reconcili', 'reconnaiss', 'reconstruct', 'record', 'recoveri', 'recruit', 'recurr', 'red', 'redesign', 'redhat', 'redo', 'redshift', 'reduc', 'reduct', 'redund', 'redwood', 'reengin', 'refcon', 'refer', 'refin', 'reflexolog', 'refresh', 'refreshclon', 'refund', 'regard', 'regex', 'region', 'regionbu', 'regist', 'registr', 'registrar', 'registri', 'regress', 'regul', 'regular', 'regularli', 'regulatori', 'rehears', 'reimburs', 'reinforc', 'reject', 'relat', 'relationeduc', 'relationship', 'relay', 'releas', 'relev', 'reliabl', 'relianc', 'relocateeduc', 'remain', 'remanag', 'remark', 'remedi', 'remind', 'remot', 'remov', 'renam', 'render', 'renew', 'renov', 'rent', 'reorder', 'reorgan', 'rep', 'replac', 'replet', 'repli', 'replic', 'report', 'repositori', 'repot', 'repres', 'represent', 'reput', 'request', 'requestsâ', 'requir', 'requirementsâ', 'requisit', 'reschedul', 'research', 'reserv', 'reservoir', 'reset', 'residenti', 'residentialcommercialindustri', 'resign', 'resili', 'resist', 'resiz', 'resolut', 'resolv', 'resourc', 'respect', 'respond', 'responesbl', 'respons', 'responsiblit', 'resrent', 'rest', 'restapi', 'restart', 'restful', 'restor', 'restructur', 'result', 'resultori', 'resum', 'resumpt', 'reta', 'retail', 'retain', 'retent', 'retest', 'retir', 'retriev', 'retrospect', 'return', 'reus', 'reusabl', 'revenu', 'revers', 'review', 'revis', 'revok', 'revolution', 'reward', 'rework', 'rf', 'rfi', 'rfid', 'rfm', 'rfq', 'rfsmrp', 'rgb', 'rgpv', 'rh', 'rhd', 'rheinland', 'rhel', 'ri', 'rich', 'right', 'rip', 'ripng', 'rippl', 'ripv2', 'rise', 'risk', 'rivzi', 'rk', 'rkdf', 'rkim', 'rlm', 'rlmreleas', 'rlt', 'rm', 'rman', 'rnnlstm', 'rntai', 'road', 'roadblock', 'robot', 'robust', 'rockwel', 'rodc', 'roi', 'role', 'rolesap', 'rolesus', 'roll', 'rollback', 'rollout', 'rome', 'roof', 'rooki', 'room', 'root', 'rose', 'rot', 'rota', 'rotari', 'rotat', 'rotex', 'round', 'rout', 'route53', 'router', 'routin', 'routingconfigur', 'row', 'royal', 'rp', 'rpa', 'rpasenior', 'rpg', 'rpg400', 'rplu', 'rr', 'rrf', 'rrâ', 'rsa', 'rsaenvis', 'rslinx', 'rslogix5000', 'rt', 'rtc', 'rtlf', 'rtm', 'rtmnu', 'rtmnumechan', 'rtrm', 'ruah', 'rubik', 'rucku', 'rudraaksh', 'rule', 'rulesbas', 'run', 'runner', 'rvg', 'ryan', 'ryk', 's', 's3', 's4', 's4hana', 's7300', 'sa', 'sabic', 'sadm', 'sadvidya', 'safe', 'safeti', 'sagar', 'saiba', 'saint', 'salari', 'salclust', 'sale', 'salesforc', 'salesforcecom', 'salesperson', 'samarth', 'samn', 'san', 'sanarco', 'sanghavi', 'sangli', 'sanitari', 'saniti', 'sanpada', 'sansad', 'sant', 'santhwana', 'santnamdev', 'sap', 'saperp', 'sapkal', 'sapphir', 'saral', 'sarimax', 'sas', 'sasskil', 'sat', 'satara', 'satellit', 'sati', 'satisfact', 'satisfactori', 'satisfi', 'satish', 'saudagar', 'saudi', 'sav', 'save', 'saver', 'saviant', 'savitribai', 'savvi', 'sawant', 'sawitribai', 'sbi', 'sblc', 'scada', 'scadaifix', 'scala', 'scalabl', 'scale', 'scalp', 'scan', 'scanner', 'scd', 'scd1', 'scd2', 'scenario', 'schedul', 'schema', 'schemat', 'scheme', 'schenker', 'schlumberg', 'schlumbergerskil', 'schneider', 'schneiderelectr', 'schnider', 'scholar', 'scholarship', 'school', 'schoolabap', 'schoolblockchain', 'schooletl', 'schoolhead', 'schoolhradmin', 'schoolhrskil', 'schoolindustri', 'schooljava', 'schoolpass', 'schoolpmohav', 'schoolsal', 'schoolsap', 'schoolsenior', 'schoolsoftwar', 'schrader', 'sci', 'scien', 'scienc', 'sciencecivil', 'sciencedata', 'sciencegm', 'sciencei', 'sciencenutritionist', 'scienceskil', 'scientif', 'scientist', 'scientistdata', 'scikit', 'scikitlearn', 'scindia', 'scipi', 'scm', 'scoe', 'scom', 'scope', 'score', 'scorecard', 'scp', 'scrap', 'scrape', 'scratch', 'screen', 'script', 'scriptingeduc', 'scriptingprogrammingdevelop', 'scriptjqueryajax', 'scrum', 'sculpt', 'sd', 'sda', 'sdk', 'sdlc', 'sdm', 'sdnbvchrskill', 'se', 'sea', 'seaborn', 'seafreight', 'seam', 'seamless', 'seamlessli', 'search', 'searchnatur', 'season', 'seat', 'seattl', 'sec', 'second', 'secondari', 'secondaryweb', 'secret', 'secretari', 'section', 'sector', 'secur', 'secureddesign', 'securedsql', 'securityâ', 'see', 'seek', 'seema', 'seen', 'segment', 'selec', 'select', 'selenium', 'self', 'selfassess', 'selfconfid', 'selfmotiv', 'selfservic', 'selfstart', 'sell', 'seller', 'sem5', 'sem6', 'semi', 'semiannu', 'semienglish', 'semifinish', 'semist', 'sen', 'send', 'senior', 'sensibl', 'sensit', 'sensor', 'sent', 'sentenc', 'sentiment', 'seoul', 'sep', 'separ', 'sepsoft', 'sept', 'septemb', 'serck', 'serd', 'seri', 'serial', 'serv', 'server', 'server2', 'servereduc', 'serversid', 'servic', 'servicenow', 'serviceord', 'servicesolut', 'servicesskil', 'servicesâ', 'servicewcf', 'serviceweb', 'servlet', 'servo', 'session', 'set', 'settlement', 'setup', 'sever', 'sf6', 'sgbau', 'sgd', 'sgvidyalaya', 'shadow', 'shahani', 'shall', 'shankaracharya', 'share', 'sharepoint', 'sharepointeduc', 'sharjah', 'sharvari', 'sheet', 'shegaon', 'shell', 'shellbharat', 'shield', 'shift', 'ship', 'shipment', 'shirt', 'shivaji', 'shoop', 'shoot', 'shop', 'shope', 'shopkeep', 'shore', 'short', 'shortfal', 'shortlist', 'shoulder', 'show', 'showroom', 'shree', 'shri', 'shrink', 'shubhankan', 'shunt', 'shut', 'shutter', 'si', 'side', 'siebel', 'siem', 'siemen', 'sierra', 'sifi', 'sigmaqu', 'sign', 'signatur', 'signific', 'signoff', 'signup', 'sikkim', 'sikuli', 'silverlin', 'sim', 'similar', 'simpl', 'simpli', 'simul', 'simultan', 'sinc', 'sincer', 'singapor', 'singh', 'singhad', 'singl', 'singleeduc', 'sinhagad', 'sinhgad', 'sink', 'sinochem', 'sip', 'sit', 'site', 'siteapp', 'situat', 'situationseduc', 'six', 'size', 'sk', 'skill', 'skillgap', 'skillseduc', 'skillset', 'sklearn', 'skncoe', 'sksomaiya', 'sky', 'sl', 'sla', 'slab', 'slatat', 'slave', 'slaâ', 'sld', 'slender', 'slim', 'slip', 'slipstream', 'sloan', 'slot', 'slow', 'slt', 'sm', 'small', 'smallbusi', 'smart', 'smartbadg', 'smartform', 'smashingday', 'sme', 'smec', 'smith', 'smoke', 'smooth', 'smoothen', 'smoothli', 'smp', 'smsql', 'smt', 'smtp', 'sn', 'snag', 'snail', 'snap', 'snappi', 'snapshot', 'snd', 'snoop', 'soa', 'soap', 'soapbox', 'social', 'societi', 'sociolog', 'sod', 'soft', 'softeng', 'softgst', 'softstart', 'softtrust', 'softwar', 'softwareeduc', 'softwareskil', 'softwer', 'solapur', 'solar', 'solarwind', 'sold', 'solenoid', 'solicit', 'solid', 'solidwork', 'solman', 'solo', 'solut', 'solutionflora', 'solutionseduc', 'solv', 'somewher', 'sonarqub', 'sonia', 'sonic', 'sop', 'sophia', 'sophist', 'sopâ', 'sort', 'sorter', 'sound', 'soup', 'sourc', 'sourcecod', 'south', 'sow', 'sp2', 'sp6', 'spa', 'space', 'spaci', 'span', 'spark', 'sparkapi', 'sparkcontext', 'sparkcor', 'sparksql', 'speak', 'speaker', 'speakingâ', 'spearhead', 'spec', 'special', 'specialti', 'specif', 'specifi', 'specila', 'speed', 'spend', 'spent', 'spin', 'spirit', 'splat', 'spoc', 'spoken', 'sponsor', 'sponsorship', 'sport', 'sportsman', 'spot', 'spotfir', 'spread', 'spreadsheet', 'spring', 'springer', 'springernatur', 'springmvc', 'sprinng', 'sprint', 'sps12', 'spsseduc', 'sqa', 'sql', 'sql2000', 'sql400', 'sqlalchemi', 'sqleduc', 'sqlit3', 'sqlite', 'sqlpl', 'sqlplsql', 'sqlplu', 'sqlserver', 'sqoop', 'squar', 'sr', 'sri', 'srimedhavhrnaniskil', 'srm', 'srmce', 'srvctl', 'ssc', 'ssi', 'ssl', 'sslc', 'ssm', 'sso', 'sspm', 'ssr', 'st', 'staa', 'stabil', 'stack', 'stackwis', 'stadio', 'staf', 'staff', 'stage', 'stake', 'stakehold', 'stalk', 'stand', 'standalon', 'standard', 'standardâ', 'standbi', 'standbydr', 'stanley', 'star', 'starschema', 'start', 'starter', 'startup', 'stat', 'state', 'statement', 'statetest', 'static', 'station', 'statist', 'statsmodel', 'statu', 'statutori', 'stay', 'stbqtp', 'stc', 'steadi', 'steel', 'steelraw', 'steer', 'step', 'step7microwin', 'stepcon', 'still', 'stipul', 'stlc', 'stock', 'stop', 'storag', 'store', 'stori', 'storm', 'stormfur', 'stp', 'strateg', 'strategi', 'stratum', 'stream', 'streamlin', 'strength', 'strengthen', 'stress', 'stretchabl', 'strictli', 'stringent', 'stromfur', 'strong', 'structur', 'strut', 'student', 'studi', 'studio', 'su53', 'sub', 'subcon', 'subcontin', 'subcontractor', 'subfil', 'subject', 'subjob', 'sublim', 'submers', 'submiss', 'submit', 'submitt', 'subnet', 'subnettingsupernet', 'subordin', 'subproject', 'subscrib', 'subscript', 'subsequ', 'substanti', 'substat', 'subvers', 'sue', 'suession', 'suffer', 'suffic', 'suffici', 'sugar', 'sugarcan', 'suggest', 'suggestionworkaround', 'suisseskil', 'suit', 'suitabl', 'sukh', 'sultan', 'summari', 'summer', 'sun', 'sunbeam', 'sundaranar', 'sungard', 'sunnyval', 'suntechnolog', 'super', 'superior', 'supernet', 'supervis', 'supervisor', 'supplement', 'suppli', 'supplier', 'support', 'sure', 'surf', 'surfac', 'surgic', 'surround', 'surveil', 'survey', 'surveyor', 'surya', 'suspici', 'sustain', 'suzukijet', 'svm', 'svn', 'svvm', 'sw', 'swami', 'swbebs_support', 'sweden', 'swedish', 'swift', 'swing', 'swiss', 'switch', 'switchgear', 'switchingvirtu', 'switchov', 'switchyard', 'switzerland', 'sybas', 'syllabu', 'symantec', 'symbiosi', 'sync', 'synechron', 'synopsi', 'syntel', 'syntelskil', 'synthes', 'syracus', 'system', 'systemat', 'systemeduc', 'systemnetwork', 'systemslinux', 't', 't3', 'tab', 'tabl', 'tableau', 'tablespac', 'tabular', 'tac', 'taf', 'tag', 'taggreg', 'taggregaterow', 'taglin', 'tai', 'tail', 'tailgat', 'tailor', 'takalihadoopbig', 'take', 'taken', 'takeoff', 'takshshila', 'talend', 'talent', 'talk', 'talkview', 'talli', 'talreja', 'talwalkar', 'tamil', 'tango', 'tank', 'tanker', 'tap', 'tar', 'target', 'task', 'tat', 'tata', 'taught', 'tax', 'taxat', 'tb', 'tbe', 'tc', 'tcachein', 'tcacheout', 'tco', 'tconverttyp', 'tcpip', 'tct', 'td', 'tdd', 'tdm', 'tdp', 'tds_fdw', 'te', 'teach', 'teacher', 'teacherdraw', 'team', 'teambuild', 'teamleaderteam', 'teamwork', 'teamâ', 'tech', 'techn', 'technic', 'technicalfunct', 'technicalprofici', 'technicalskil', 'techniqu', 'techniquesobtain', 'techniquesskil', 'techno', 'technocommerci', 'technofunct', 'technolog', 'technologiesskil', 'technologiesânatur', 'technologist', 'technologyjava', 'technologyskil', 'technologyutil', 'technosoft', 'techwav', 'tectia', 'tektronix', 'telangana', 'telecom', 'telecommun', 'telecomskil', 'teleconfer', 'telemetari', 'teleperform', 'telephon', 'telerik', 'tell', 'temp', 'temperatur', 'templat', 'temporari', 'tenaciouseduc', 'tender', 'tendermint', 'tensor', 'tensorflow', 'tenur', 'terabyt', 'teradata', 'teresa', 'term', 'termin', 'test', 'testabl', 'testdriven', 'tester', 'testerautom', 'testerskil', 'testingjava', 'testingskil', 'testingsoftwar', 'testng', 'testvalid', 'tetrapak', 'teva', 'texa', 'text', 'text2', 'textaudio', 'tez', 'tfidf', 'tfileexist', 'tfileinputdelimit', 'tfilelist', 'tfileoutputdelimit', 'tfilter', 'tflowmet', 'tftp', 'tftpconnect', 'tftput', 'tgi', 'th', 'thadom', 'thai', 'thaitrad', 'thakur', 'thane', 'thank', 'thdfsconfigur', 'theatr', 'thee', 'themathcompani', 'themeduc', 'therapi', 'therebi', 'therefor', 'thergaon', 'thermal', 'thesi', 'thing', 'think', 'thinker', 'third', 'thorough', 'thread', 'three', 'thrissur', 'thrive', 'throttl', 'throughout', 'thu', 'thumb', 'thunderbird', 'thyristor', 'ti', 'tibco', 'ticket', 'tid', 'tidal', 'tie', 'tiebar', 'tier', 'tieriii', 'tieto', 'tikhat', 'tikona', 'tile', 'till', 'time', 'timefram', 'timelin', 'timesheet', 'tion', 'tipl', 'tipu', 'tirlok', 'tirunelv', 'tirupur', 'titl', 'tivoli', 'tjava', 'tjavarow', 'tjdbcinput', 'tjdbonfigur', 'tjoin', 'tk', 'tl', 'tl9k', 'tlogcatch', 'tlv', 'tm', 'tmap', 'tn', 'tnsname', 'tnsnamesora', 'toad', 'today', 'tofa', 'togeth', 'token', 'tokyo', 'toll', 'tomcat', 'ton', 'took', 'tool', 'toolsibm', 'toolspackag', 'top', 'topic', 'tor', 'tora', 'tortois', 'tosca', 'total', 'totalcite', 'toubro', 'toubroskil', 'touch', 'tour', 'tourist', 'tournament', 'toward', 'tower', 'toyo', 'tp', 'tparal', 'tparallel', 'tpt', 'tq', 'trace', 'traceabl', 'tracer', 'track', 'tracker', 'trackingmang', 'trade', 'tradefinex', 'tradeoff', 'tradit', 'traffic', 'train', 'traine', 'trainer', 'trainerskil', 'trainerweb', 'trainingeduc', 'tran', 'transact', 'transfer', 'transform', 'transit', 'translat', 'translationnat', 'transmiss', 'transmitt', 'transpar', 'transport', 'transship', 'travel', 'tray', 'trb', 'treasur', 'treasuri', 'treatment', 'tree', 'trench', 'trend', 'treplic', 'trexo', 'tri', 'triag', 'trial', 'tribun', 'trick', 'trigger', 'trimax', 'trimurti', 'trip', 'tripod', 'trippereri', 'trivial', 'trombay', 'troubl', 'troubleshooot', 'troubleshoot', 'trowgener', 'truba', 'truck', 'true', 'truli', 'trun', 'trunjob', 'trust', 'trustbankcb', 'truste', 'ts3configur', 'ts3put', 'tsi', 'tsortrow', 'tsp', 'tsql', 'tsqlrow', 'tsr', 'tube', 'tubro', 'tulu', 'tune', 'tunnel', 'turbin', 'turn', 'turnaround', 'turnov', 'tutori', 'tuv', 'tw', 'tweet', 'twice', 'twidosuit', 'twitter', 'two', 'twotim', 'tybcom', 'type', 'type1type2', 'typescript', 'typewrit', 'typic', 'u', 'uae', 'uat', 'ub', 'ubc', 'ubuntu', 'ubuntufedorac', 'uc', 'ucp', 'ud', 'udemi', 'udt', 'uft', 'uftqtp', 'ug', 'ugc', 'uh', 'ui', 'uitrgpvdata', 'uk', 'ul', 'ulhasnagar', 'uloom', 'ultim', 'uml', 'unanth', 'unbil', 'uncorrect', 'uncov', 'undeliv', 'undergo', 'undergradu', 'underperform', 'understand', 'understood', 'undertak', 'undertaken', 'underw', 'underwrit', 'undo', 'une', 'unicent', 'unicod', 'union', 'uniqu', 'unit', 'uniti', 'univers', 'universityadvocateadvocateskil', 'universityadvocatenewcom', 'universityadvocateskil', 'universityautom', 'universityblockchain', 'universitycloud', 'universitydata', 'universitydatabas', 'universitydesign', 'universitydot', 'universityelectr', 'universityetl', 'universitygm', 'universityhodoop', 'universityhrskil', 'universityjava', 'universitylead', 'universitymechan', 'universityoper', 'universityoracl', 'universityproject', 'universitypython', 'universityqa', 'universityqaqc', 'universitysal', 'universitysap', 'universitysenior', 'universityskil', 'universitysoftwar', 'universitysr', 'universitysystem', 'universityweb', 'unix', 'unixeduc', 'unixi', 'unravel', 'unstructur', 'unsupervis', 'unsupport', 'unus', 'uom', 'up', 'upcom', 'updat', 'updateskil', 'upgrad', 'upgradedowngrad', 'upgradepatch', 'uphenceforth', 'upload', 'upon', 'upstream', 'uptim', 'upto', 'uptod', 'urban', 'urja', 'url', 'urllib', 'usa', 'usabl', 'usag', 'usd', 'use', 'user', 'userfriendli', 'userlevel', 'usersth', 'userâ', 'usi', 'usiskil', 'utc', 'util', 'utilis', 'utilizationoptim', 'utm', 'utp', 'utr', 'uttar', 'v', 'v10', 'v100', 'v11', 'v12', 'v2002', 'v5', 'v85', 'v90', 'vacat', 'vacon', 'vacuum', 'vader', 'vain', 'valid', 'valley', 'valu', 'valuabl', 'valuelab', 'valv', 'vanet', 'vanetvirtu', 'varanasimarti', 'vari', 'variabl', 'varianc', 'variat', 'varieti', 'variou', 'vashi', 'vasundhara', 'vb', 'vb6', 'vba', 'vbnet', 'vbscript', 'vc', 'vcb', 'vdi', 'vector', 'vega', 'veget', 'vehicl', 'vendor', 'ventur', 'venturu', 'venu', 'ver', 'verbal', 'vergata', 'verif', 'verifi', 'vers', 'versa', 'versatil', 'version', 'versionon', 'vertex', 'vertic', 'vessel', 'vet', 'vfd', 'vhd', 'vi', 'via', 'viabil', 'viabl', 'viamedia', 'vice', 'viceversa', 'vidarbha', 'video', 'videoaudio', 'videosteam', 'videostream', 'vidisha', 'vidishtra', 'vidya', 'vidyabharati', 'vidyalankar', 'vidyapeeth', 'vidyashram', 'view', 'viewer', 'vijeocitect', 'villa', 'vimay', 'vinayaka', 'vintela', 'violat', 'violenc', 'vip', 'virtual', 'virtualbox', 'virtualis', 'virtuou', 'visa', 'vise', 'vish', 'vishweshwariya', 'visio', 'vision', 'visit', 'visitor', 'vista', 'vistaar', 'vistex', 'vistor', 'visual', 'visualforc', 'visvesvaraya', 'vitsanindia', 'vivid', 'vj', 'vkk', 'vl', 'vlan', 'vlsi', 'vm', 'vmware', 'vodafon', 'voic', 'voltag', 'volum', 'volunt', 'vpc', 'vpi', 'vpn', 'vqi', 'vsphere', 'vtp', 'vtu', 'vulner', 'vversatil', 'w', 'wab', 'wachovia', 'wagh', 'wagheduc', 'wai', 'waiver', 'walchand', 'walk', 'walkthrough', 'wall', 'wallac', 'wallet', 'wan', 'want', 'war', 'warang', 'ward', 'ware', 'wareh', 'warehous', 'warner', 'warrant', 'warranti', 'wast', 'wastag', 'watch', 'water', 'waterfal', 'waterproof', 'watson', 'wave', 'way', 'wayeduc', 'wcf', 'wd', 'wdeploy', 'wealth', 'wearabl', 'weather', 'web', 'webdata', 'webdriv', 'webframeworkdjango', 'webi', 'webiunivers', 'weblog', 'weblogic12c', 'webserv', 'webservic', 'websit', 'webspher', 'week', 'weekend', 'weekli', 'weeklymonthli', 'weight', 'weka', 'weld', 'welfar', 'well', 'wellnessfit', 'wellvers', 'west', 'western', 'wfm', 'wheeler', 'whenev', 'whether', 'whitacr', 'white', 'whole', 'wholesal', 'wholli', 'whose', 'whywhi', 'wide', 'wifi', 'will', 'willing', 'willingdon', 'wim', 'win', 'wind', 'window', 'windows7', 'windowseduc', 'windowslinux', 'windowsserver2012r2', 'windowsxp710', 'windowsâ', 'windsor', 'wing', 'winsol', 'winxp78110', 'wipro', 'wiproâ', 'wire', 'wireless', 'wise', 'withcustom', 'within', 'withinbudget', 'without', 'wm', 'wmdatalak', 'wn', 'woman', 'wonderwar', 'word', 'word2vec', 'work', 'workbench', 'worker', 'workereduc', 'workflow', 'workflowbatch', 'workforc', 'worklet', 'workload', 'workshop', 'workspac', 'workstat', 'world', 'worldwid', 'would', 'wpl', 'wqr', 'write', 'writer', 'written', 'wrote', 'wti', 'wtp', 'wwf', 'www1stexpertcom', 'www3staragroproductscom', 'wwwceusnursingcom', 'wwwfamilylinkcom', 'wwwjalloshbandcom', 'wwwjanetorg', 'wwwjustbecom', 'wwwluckystationerycoin', 'wwwmtpiancom', 'wwwnitkacom', 'wwwphysicaltherapyhiucom', 'wwwprayerlisterorg', 'wwwpropertysolutionscom', 'wwwrimsyseu', 'wwwsababanlbook', 'wwwshreekiaspackcoin', 'wwwsmashingdaycom', 'wwwspeedyceuscom', 'wwwstplafricacom', 'wwwstplafricaonlinecom', 'wwwviralsocialscom', 'x', 'xampp', 'xcode', 'xen', 'xento', 'xframework', 'xi', 'xii', 'xillinx', 'xinfin', 'xl', 'xml', 'xmlhttp', 'xmlxamlxslt', 'xoriant', 'xp', 'xp0708', 'xp7', 'xp788110', 'xslt', 'xtrabackup', 'xtraction', 'y', 'yalamanchili', 'yallaspre', 'yangon', 'yarn', 'yashwant', 'yashwantrao', 'ye', 'year', 'yearli', 'yee', 'yeola', 'yeshwantrao', 'yibal', 'ymca', 'ymcaskil', 'ymcaust', 'yogesh', 'york', 'young', 'youth', 'yr', 'zaggl', 'zambia', 'zd', 'zeno', 'zensar', 'zero', 'zhypil', 'zone', 'zookeep', 'zz', 'âcustom', 'âexcel', 'âintent', 'âintroduct', 'âmedic', 'âmulti', 'ârobot', 'âsocial', 'âvendor', 'âª', 'ââ', 'ââcisco', 'ã', 'ã¼', 'ã¼â', 'ãâ', 'ï'] \n",
            "\n"
          ],
          "name": "stdout"
        }
      ]
    },
    {
      "cell_type": "code",
      "metadata": {
        "id": "iGUBTsVy7Dht",
        "colab": {
          "base_uri": "https://localhost:8080/"
        },
        "outputId": "e6ac027e-c9f7-4f86-d540-21a38bbe64ca"
      },
      "source": [
        "bag_vector_numpy.shape"
      ],
      "execution_count": 272,
      "outputs": [
        {
          "output_type": "execute_result",
          "data": {
            "text/plain": [
              "(169, 6317)"
            ]
          },
          "metadata": {
            "tags": []
          },
          "execution_count": 272
        }
      ]
    },
    {
      "cell_type": "code",
      "metadata": {
        "id": "4tU-c-Mg-z3z",
        "colab": {
          "base_uri": "https://localhost:8080/"
        },
        "outputId": "4127c300-6af3-4d19-8820-317746362277"
      },
      "source": [
        "target=O_data['CategoryID']\n",
        "target_numpy = np.array(target,dtype='int')\n",
        "target_numpy.shape"
      ],
      "execution_count": 273,
      "outputs": [
        {
          "output_type": "execute_result",
          "data": {
            "text/plain": [
              "(169,)"
            ]
          },
          "metadata": {
            "tags": []
          },
          "execution_count": 273
        }
      ]
    },
    {
      "cell_type": "markdown",
      "metadata": {
        "id": "FqqHIOVyS2yh"
      },
      "source": [
        "#CountVectorizer - Inbuilt function"
      ]
    },
    {
      "cell_type": "code",
      "metadata": {
        "id": "yUZWMYsiQOyu"
      },
      "source": [
        "from sklearn.feature_extraction.text import CountVectorizer\n",
        "vectorizer = CountVectorizer()\n",
        "bag_vector_cv = vectorizer.fit_transform(proc_resume_list)"
      ],
      "execution_count": 274,
      "outputs": []
    },
    {
      "cell_type": "code",
      "metadata": {
        "id": "ROrrNB6fQ6-Q",
        "colab": {
          "base_uri": "https://localhost:8080/"
        },
        "outputId": "f2cc4b5f-f385-4105-9813-b4bc46d94be8"
      },
      "source": [
        "bag_vector_cv_numpy = bag_vector_cv.toarray()\n",
        "bag_vector_cv_numpy.shape"
      ],
      "execution_count": 275,
      "outputs": [
        {
          "output_type": "execute_result",
          "data": {
            "text/plain": [
              "(169, 6283)"
            ]
          },
          "metadata": {
            "tags": []
          },
          "execution_count": 275
        }
      ]
    },
    {
      "cell_type": "markdown",
      "metadata": {
        "id": "RHBrnH0lEbyZ"
      },
      "source": [
        "### TF-IDF Vectorizer"
      ]
    },
    {
      "cell_type": "code",
      "metadata": {
        "id": "2d02PEMZGh9W"
      },
      "source": [
        "from collections import Counter\n",
        "from scipy.sparse import csr_matrix\n",
        "import math\n",
        "import operator\n",
        "from sklearn.preprocessing import normalize\n",
        "import numpy as np "
      ],
      "execution_count": 276,
      "outputs": []
    },
    {
      "cell_type": "code",
      "metadata": {
        "id": "eM1W_QJ1EbMn"
      },
      "source": [
        "#IDF function\n",
        "def IDF(corpus, unique_words):\n",
        "   idf_dict={}\n",
        "   N=len(corpus)\n",
        "   for i in unique_words:\n",
        "     count=0\n",
        "     for sen in corpus:\n",
        "       if i in sen.split():\n",
        "         count=count+1\n",
        "       idf_dict[i]=(math.log((1+N)/(count+1)))+1\n",
        "   return idf_dict"
      ],
      "execution_count": 277,
      "outputs": []
    },
    {
      "cell_type": "code",
      "metadata": {
        "id": "umdmCAZxGaEC"
      },
      "source": [
        "def fit(whole_data):\n",
        "    unique_words = set()\n",
        "    if isinstance(whole_data, (list,)):\n",
        "      for x in whole_data:\n",
        "        for y in x.split():\n",
        "          unique_words.add(y)\n",
        "      unique_words = sorted(list(unique_words))\n",
        "      vocab = {j:i for i,j in enumerate(unique_words)}\n",
        "      Idf_values_of_all_unique_words=IDF(whole_data,unique_words)\n",
        "    return vocab, Idf_values_of_all_unique_words\n",
        "Vocabulary, idf_of_vocabulary=fit(proc_resume_list) "
      ],
      "execution_count": 278,
      "outputs": []
    },
    {
      "cell_type": "code",
      "metadata": {
        "id": "CtAsIHSFH9R9",
        "colab": {
          "base_uri": "https://localhost:8080/"
        },
        "outputId": "f0780b31-3dc7-423b-e7d3-b31d2cc9e6dd"
      },
      "source": [
        "print(list(Vocabulary.keys()))\n",
        "print(list(idf_of_vocabulary.values()))"
      ],
      "execution_count": 279,
      "outputs": [
        {
          "output_type": "stream",
          "text": [
            "['000', '01', '017', '02', '03', '0307', '04', '04th', '05', '050educ', '06th', '07', '07112016', '07educ', '08', '09876971076', '10', '100', '101', '104', '108', '109', '10g', '10grac', '10magicalfing', '10x', '11', '110', '110v', '11171iec60076', '11201', '11204', '115', '118', '1180', '11g', '11goracl', '11gr2', '12', '120', '1200', '1216', '125', '12c', '12d', '12k', '13', '130', '132kv', '14', '147', '15', '150', '1500', '15000', '16', '163', '168', '16aug2012', '16th', '17', '175', '17th', '18', '1800', '182', '18aug2012', '18c', '19', '1900', '1972', '19793', '1992', '1993', '1995', '1996', '1997', '1998', '1999', '19xx', '1autocad', '1evalu', '1exterior', '1intern', '1jan', '1page', '1project', '1st', '1web', '1x', '1year', '2', '20', '2000', '20002003', '20002005', '200020052008', '2000a', '2001', '2002', '2003', '200320082008', '2003xpvista78', '2004', '2005', '20052008', '200520082016', '2006', '20062007', '2006educ', '2007', '200708', '20071995', '20072015', '2008', '20082009', '2008201020122015', '20082012', '20082014', '2008r2', '2008r22008', '2008skill', '2009', '20092012', '201', '2010', '201012tf', '20102014', '2011', '2012', '20122008r22008', '20122008xp', '20122013', '2013', '2013sep', '2013till', '2014', '2015', '201516', '20152016', '2016', '201620142012', '2016201420122008', '2016201420122008r22008', '20162017', '2017', '201718', '20172018', '2018', '2018present', '2019', '2021', '2026', '2040', '2065864', '20th', '21', '210', '21031986', '218', '22', '2200', '2211kv', '229', '22k', '23', '230', '24', '242012', '2448', '247', '24hour', '24q', '24th', '24x7', '25', '250', '2500', '26', '2600', '27', '27012019', '28', '2800', '2829', '28xx', '29', '2900', '2960', '29th', '29xx', '2b', '2construct', '2d', '2fa', '2nd', '2no', '2page', '2pro', '2project', '2regul', '2x', '3', '30', '300', '3000', '301', '304050', '30th', '31', '31052016', '32', '33', '3322kv', '34', '35', '350', '3560', '36', '360', '3600', '360degre', '37', '3700', '3750', '3750e', '3800', '3845', '39', '3catia', '3d', '3deduc', '3network', '3page', '3prepar', '3provid', '3rd', '3t', '3tier', '3yearsi', '4', '40', '400', '4000', '400014', '400051', '400076', '400093', '400097', '4042', '41', '411028', '411041', '42', '43', '44', '45', '450', '4500', '47', '48', '4850', '49', '4cheack', '4page', '4project', '4word', '4x', '5', '50', '500', '5000', '55', '5500x', '555020', '56', '57', '588', '5914', '5act', '5k', '5m', '5photoshop', '5th', '6', '60', '600', '60a', '61', '621', '625', '63', '65', '6500', '66', '69', '6ensur', '6th', '6thmay', '7', '70', '7090', '70educ', '71', '712', '72', '7200', '721', '73', '74', '75', '76', '784', '784in', '78ntxp', '79', '7cee', '7educ', '7k', '7liais', '8', '80', '800', '81', '84', '85', '88i', '89', '8data', '8daytoday', '8i', '8th', '9', '90', '9001', '90012008', '91', '92', '94', '95', '96', '961', '97', '98', '993', '998', '9i', '9x', '9x2000xpvista', 'a', 'a1', 'a2', 'aaa', 'aag', 'aakruti', 'ab', 'abacu', 'abad', 'abap', 'abasaheb', 'abb', 'abil', 'abl', 'abridg', 'absa', 'absenc', 'abstract', 'abu', 'ac', 'academ', 'academi', 'academia', 'academydata', 'acb', 'ace', 'achiev', 'achievementstask', 'acid', 'acl', 'acn', 'acquir', 'acquisit', 'across', 'act', 'action', 'activ', 'activeact', 'activepass', 'activit', 'activitiesprogram', 'actual', 'actuat', 'ad', 'ada', 'adalat', 'adani', 'adapt', 'adav', 'add', 'addingdelet', 'addit', 'addm', 'addremov', 'address', 'adhar', 'adher', 'adhoc', 'adi', 'adichunchanagiri', 'aditya', 'adjoin', 'adjunct', 'adjust', 'admin', 'administ', 'administr', 'administrator2', 'administratordatabas', 'administratordbm', 'administratorlead', 'administratormicrosoft', 'administratororacl', 'administratorskil', 'admit', 'adob', 'adonet', 'adopt', 'ador', 'advanc', 'advantag', 'advert', 'advertis', 'advic', 'advis', 'advisor', 'advisori', 'advoc', 'advocateskil', 'ae', 'aegi', 'aeler', 'aelya', 'aentur', 'aentureskil', 'aept', 'aeptabl', 'aeptanc', 'aero', 'aerob', 'aeronaut', 'aess', 'aess2007', 'aessibl', 'aessori', 'affair', 'affect', 'aforesaid', 'africa', 'ag', 'age', 'agegroup', 'agenc', 'agent', 'aggarw', 'aggreg', 'agil', 'aglsmirror', 'agmirrorclust', 'agnel', 'agre', 'agreement', 'agri', 'agricultur', 'agro', 'ahmad', 'aht', 'ahu', 'ai', 'aib', 'aident', 'ailment', 'aim', 'air', 'aircheck', 'aircraft', 'airfreight', 'airlin', 'airlink', 'airoli', 'airport', 'airtel', 'airway', 'aisect', 'aissm', 'aix', 'ajax', 'akbar', 'akjunior', 'akmahavidyalyajr', 'akzonobel', 'al', 'alamuri', 'alarm', 'alarmeduc', 'alcatel', 'ale', 'aleidocodatafioris4hanaewmaporetailskil', 'alert', 'alfalah', 'algo', 'algorithm', 'ali', 'alia', 'align', 'allahabad', 'allana', 'allcargo', 'allenbreadi', 'allevi', 'alli', 'alll1', 'alloc', 'allot', 'allow', 'alm', 'almighti', 'along', 'alreadi', 'also', 'alter', 'altern', 'altivar', 'alto', 'alway', 'alwayson', 'amaravtijava', 'amazon', 'ambedkar', 'ambigu', 'ambiti', 'ambul', 'amc', 'amen', 'amend', 'america', 'american', 'amex', 'amf', 'amiti', 'aml', 'amman', 'among', 'amount', 'ampd', 'amr', 'amravati', 'amsterdam', 'amvhigh', 'amway', 'anaconda', 'anaconda3', 'analog', 'analy', 'analys', 'analysi', 'analyst', 'analystbusi', 'analystsenior', 'analystskil', 'analyt', 'analytica', 'analytika', 'analyz', 'anantrao', 'andheri', 'andhra', 'andor', 'andrew', 'android', 'androidio', 'angel', 'angular', 'angular15', 'angulareduc', 'angularj', 'anjular', 'anna', 'annet', 'annexur', 'annot', 'annual', 'anomali', 'anoth', 'anotherpubl', 'ansalon', 'ansibl', 'answer', 'ant', 'anti', 'antimoney', 'anushaktinagar', 'anyth', 'ao', 'aofpt5052c', 'aolit', 'aommod', 'aompani', 'aomplish', 'aord', 'aordanc', 'aordingli', 'aount', 'aountabl', 'aounthold', 'aountscustomersstor', 'ap', 'apac', 'apach', 'apachetomcatserv', 'apart', 'apeksha', 'apex', 'apfc', 'api', 'apiâ', 'apo', 'app', 'appdynam', 'appeal', 'appel', 'appl', 'applaud', 'appli', 'applianc', 'applic', 'applicationeduc', 'applicationseduc', 'applicationsent', 'applock', 'appoint', 'apprais', 'appreci', 'approach', 'appropri', 'approv', 'approxim', 'apr', 'april', 'aptech', 'ar', 'arabia', 'arabian', 'arbitr', 'architect', 'architectsap', 'architectur', 'archiv', 'arduinoâ', 'area', 'areaalong', 'arena', 'argu', 'aria', 'arif', 'arima', 'aris', 'arm', 'armi', 'aroma', 'aromathai', 'aromatherapi', 'around', 'arrang', 'arriv', 'arsi', 'art', 'articl', 'articul', 'artifact', 'artifici', 'artist', 'artshead', 'artsskil', 'arya', 'as400', 'as400rpgrpgl', 'asa', 'asallâ', 'asbuilt', 'ase', 'ash', 'asha', 'ashoka', 'asia', 'ask', 'asm', 'asmita', 'asp', 'aspcmvc', 'aspect', 'aspir', 'aspnet', 'aspnetc', 'aspnetjqueryajaxweb', 'ass', 'assam', 'assembl', 'asset', 'assi', 'assign', 'assist', 'associ', 'associatedata', 'associationpresid', 'associationskil', 'asst', 'asstprofessor', 'assur', 'astella', 'ata', 'atd', 'atex', 'atharva', 'athena', 'atm', 'ato', 'atom', 'atri', 'atribut', 'att', 'attach', 'attack', 'attend', 'attitud', 'attitudeeduc', 'attorney', 'attract', 'attribut', 'attskil', 'audienc', 'audiovideo', 'audit', 'aug', 'augest', 'augment', 'august', 'auraci', 'aurangabad', 'aurat', 'aurora', 'auru', 'australia', 'authent', 'authenticationvintelaâ', 'author', 'authoris', 'auto', 'autocad', 'autoit', 'autom', 'automat', 'automationtestingskil', 'automobil', 'automot', 'autonom', 'autosc', 'autosi', 'auxiliari', 'auxledg', 'auxledgerskil', 'avail', 'availabi', 'averag', 'aviat', 'avishkar', 'avoid', 'avro', 'aw', 'awar', 'award', 'awr', 'awvpb7123n', 'ax', 'axi', 'axial', 'ayur', 'ayurved', 'ayurveda', 'azur', 'azureweb', 'azurewebservic', 'b', 'b1visa', 'b2b', 'b2bb2c', 'b2c', 'b4600b146', 'ba', 'bachelor', 'bachelorâ', 'back', 'backend', 'background', 'backlog', 'backround', 'backup', 'backuprestor', 'bahadarpur', 'bahra', 'bail', 'bajaj', 'balaji', 'balanc', 'bali', 'ball', 'ballb', 'bam', 'banc', 'band', 'bandra', 'bangalor', 'bangkok', 'bangladesh', 'banglorecivil', 'bank', 'banker', 'bankskil', 'banner', 'banyan', 'bar', 'baramati', 'barc', 'barclay', 'barclaycard', 'bard', 'barg', 'barsha', 'barskil', 'base', 'baselin', 'basi', 'basic', 'basissal', 'basodadata', 'batch', 'batteri', 'bau', 'baxa', 'bay', 'bazar', 'bba', 'bbh', 'bbl', 'bblwtp', 'bc', 'bca', 'bci', 'bcom', 'bcp', 'bd', 'bdd', 'be', 'bean', 'bear', 'beat', 'beauti', 'becom', 'bed', 'beginn', 'behavior', 'behaviour', 'behind', 'belief', 'belong', 'belt', 'bench', 'benchmark', 'benefit', 'bengaluru', 'bent', 'berco', 'best', 'better', 'beverag', 'bex', 'beyond', 'bfa', 'bgp', 'bharat', 'bharathiar', 'bharati', 'bharatskil', 'bharti', 'bhavan', 'bhawan', 'bhawana', 'bhind', 'bhopal', 'bhulielectr', 'bi', 'bia', 'biar', 'bid', 'bidirect', 'big', 'biggest', 'bihar', 'bikan', 'bilingu', 'bill', 'billion', 'biogen', 'biographi', 'bioinformat', 'biolog', 'biopharmaceut', 'biotechnolog', 'biotechnologydata', 'birla', 'birst', 'birth', 'birthday', 'birthgender19931220yyyymmdd', 'bit', 'bitbucket', 'bitcoin', 'biweekli', 'biz', 'bizagi', 'bizcomp', 'biztalk', 'biztalk2006', 'black', 'blackbox', 'blob', 'block', 'blockad', 'blockchain', 'blood', 'blower', 'blue', 'bluecoat', 'bluemix', 'blumix', 'bmc', 'bmch', 'bmm', 'bmn', 'bni', 'bo', 'board', 'boardadvocatellb', 'boardadvocateskil', 'boardasstprofessorasstprofessorskil', 'boardbusi', 'boarddevop', 'boarddot', 'boardfin', 'boardjava', 'boardmysql', 'boardpython', 'boardqual', 'boardsit', 'boardsoftwar', 'boardtest', 'bobj', 'bobod', 'bod', 'bodi', 'bodsskil', 'boiler', 'bom', 'bombay', 'bond', 'book', 'bookmyflatcom', 'boost', 'boot', 'bootstrap', 'bootstrapcsshtml', 'bot', 'bottl', 'bottleneck', 'bottom', 'bought', 'bow', 'box', 'boy', 'bpbod', 'bpt', 'bput', 'br', 'bracket', 'brahmapur', 'brain', 'braindatawir', 'braindatawireskil', 'brainshark', 'brainstorm', 'branch', 'brand', 'braseri', 'brd', 'bread', 'break', 'breakdown', 'breaker', 'breweri', 'brick', 'brief', 'bring', 'british', 'bro', 'broad', 'brochur', 'broke', 'broker', 'brokerag', 'brooklyn', 'brose', 'brother', 'brought', 'brown', 'browser', 'browserbas', 'bsc', 'bscit', 'bse', 'bsomput', 'bt', 'btech', 'btecheduc', 'bu', 'bucket', 'budget', 'budgetari', 'bug', 'bugzilla', 'build', 'buildcon', 'buildcontrain', 'builder', 'built', 'bulk', 'burdwanadvocateskil', 'bureau', 'burkena', 'busi', 'bust', 'buy', 'bv', 'bw', 'byte', 'c', 'c300', 'ca', 'caab', 'cabinet', 'cabl', 'cach', 'cachar', 'cad', 'cadd', 'cadmicro', 'cag', 'cakephp', 'calcul', 'calendar', 'calibr', 'calibrationvalid', 'calicut', 'california', 'call', 'caller', 'callmi', 'calm', 'came', 'camp', 'campaign', 'campu', 'canada', 'canadaskil', 'canara', 'cancel', 'candid', 'canossa', 'capa', 'capabl', 'capac', 'capacityutil', 'capexopex', 'capgemini', 'capit', 'capitaskil', 'captur', 'caput', 'car', 'card', 'cardiolog', 'cardiovascular', 'care', 'career', 'cargo', 'cari', 'carlsberg', 'carolina', 'carri', 'carrier', 'casa', 'cascad', 'case', 'cash', 'cashier', 'cashingup', 'casino', 'cassandra', 'cast', 'casualti', 'catalogu', 'catalyst', 'catdm', 'categor', 'categori', 'cater', 'catia', 'caus', 'cb', 'cbi', 'cbil', 'cbp', 'cbse', 'cd', 'cdc', 'cdh3', 'cdomeri', 'ce', 'celebr', 'cem', 'cement', 'center', 'center8x96', 'cento', 'centr', 'central', 'centralis', 'centreon', 'centrepython', 'centreskil', 'centrex', 'centric', 'centrifug', 'certain', 'certainli', 'certif', 'certifi', 'cfbc', 'cfoc', 'cgpa', 'cha', 'chain', 'chakan', 'challeng', 'championship', 'chanc', 'chandigarh', 'chandrapur', 'chang', 'changer', 'channel', 'charact', 'character', 'charg', 'chargeback', 'charger', 'charl', 'charmsolmon', 'charni', 'chart', 'charter', 'chase', 'chassi', 'chat', 'chatbot', 'chauhan', 'chavan', 'chawla', 'check', 'checkin', 'checklist', 'checkout', 'checkpoint', 'checkup', 'chemic', 'chemtron', 'chennai', 'chequ', 'chess', 'cheven', 'chevron', 'chidambaram', 'chikmagalurhrskil', 'child', 'chill', 'chiller', 'china', 'chinchwad', 'chock', 'choic', 'chok', 'choos', 'chowki', 'christian', 'church', 'churn', 'ci', 'cicd', 'cipher', 'circuit', 'circul', 'cisco', 'ciso', 'citectscada74', 'citi', 'citibank', 'citizen', 'citrix', 'citru', 'cityspaceindia', 'civil', 'civilskil', 'cjava', 'cjm', 'cl', 'cl400', 'clacutta', 'claim', 'clarif', 'clarifi', 'clariti', 'class', 'classic', 'classif', 'classifi', 'clean', 'clear', 'clearanc', 'clearli', 'click', 'client', 'clientproject', 'clientâ', 'clinic', 'clock', 'clone', 'cloningdupl', 'clore', 'close', 'closeout', 'closur', 'cloud', 'cloudatix', 'cloudera', 'cloudform', 'club', 'cluster', 'cm', 'cmc', 'cmpi', 'cmu', 'cnc', 'cnet', 'co', 'coach', 'coachadv', 'coachmentor', 'coachskil', 'coat', 'cochin', 'cocoordin', 'code', 'codeignit', 'codesi', 'codestrik', 'coe', 'cognit', 'cogniz', 'cogno', 'cohes', 'coil', 'cold', 'collabnet', 'collabor', 'collat', 'collater', 'colleagu', 'collect', 'colleg', 'collegeadvocateadvoc', 'collegeappl', 'collegecivil', 'collegedata', 'collegedatabas', 'collegeetl', 'collegegroup', 'collegehrskil', 'collegejava', 'collegenetwork', 'collegesenior', 'collegetest', 'collegeâ', 'collis', 'coloni', 'color', 'columbia', 'column', 'com', 'combin', 'come', 'cometchat', 'comfort', 'comic', 'comm', 'command', 'commensur', 'comment', 'commerc', 'commerci', 'commis', 'commiss', 'commission', 'commit', 'committe', 'commod', 'common', 'commonli', 'commun', 'commvers', 'comnet', 'comp', 'compani', 'companiesskil', 'companybas', 'companyâ', 'compar', 'compareeduc', 'comparetool', 'comparison', 'compat', 'compel', 'compens', 'compet', 'competit', 'compil', 'complain', 'complaint', 'complet', 'complex', 'compli', 'complianc', 'compliancereport', 'complic', 'compon', 'comprehens', 'compress', 'compris', 'comput', 'computer', 'conceiv', 'concept', 'conceptu', 'concern', 'concess', 'concili', 'concis', 'conclus', 'concret', 'concurr', 'condens', 'condit', 'conduct', 'confer', 'confid', 'configur', 'configura', 'confirm', 'conflict', 'confluenc', 'conformiq', 'conglomer', 'congress', 'conjunct', 'connect', 'connector', 'consensuseduc', 'consent', 'consid', 'consider', 'consign', 'consist', 'consol', 'consolid', 'constant', 'constraint', 'construct', 'constructionbuild', 'consult', 'consultantconsult', 'consultantdata', 'consultantgym', 'consultantsap', 'consultantskil', 'consultantsr', 'consum', 'consumpt', 'contact', 'contactor', 'contactu', 'contain', 'content', 'contest', 'context', 'contextvari', 'contin', 'conting', 'continu', 'contract', 'contractor', 'contractu', 'contribut', 'contributor', 'control', 'controlflash', 'controllership', 'convent', 'convers', 'convert', 'convey', 'conveyor', 'convinc', 'cool', 'cooler', 'coop', 'cooper', 'coopsoc', 'coopt', 'coordin', 'coordinationâbank', 'cope', 'copi', 'copyright', 'cord', 'corda', 'core', 'corecod', 'corejava', 'corel', 'corp', 'corpcloud', 'corpor', 'corporatewideetl', 'correct', 'correctli', 'correl', 'correspond', 'corrupt', 'cosin', 'cosmos', 'cost', 'costli', 'could', 'council', 'counsel', 'counsellor', 'count', 'counter', 'counterpart', 'countersign', 'countri', 'courag', 'courrier', 'cours', 'coursera', 'courseskil', 'court', 'courter', 'courtskil', 'cover', 'coverag', 'cowork', 'cpi', 'cpp', 'cpro', 'cpu', 'cr', 'craft', 'craftspeopl', 'crane', 'crash', 'crawl', 'creat', 'createdmodifi', 'creatingmanag', 'creation', 'creationdelet', 'creativ', 'credenc', 'credibl', 'credit', 'creditrebil', 'cricket', 'criculum', 'crime', 'crimin', 'criminalcivil', 'criminolog', 'crimp', 'cript', 'criterion', 'critic', 'crm', 'croatia', 'cronjob', 'crontab', 'crontabat', 'cross', 'crossfunct', 'crsctl', 'crt', 'cru', 'crud', 'crunch', 'cryptographi', 'crystal', 'cs', 'csa', 'csat', 'cse', 'csicam', 'cslkm', 'csm', 'css3', 'ct', 'ctl', 'ctr', 'cu', 'cub', 'cube', 'cubicl', 'cucumb', 'cufflink', 'cug', 'cultur', 'cum', 'cumul', 'currenc', 'current', 'curricular', 'curriculum', 'curtail', 'custodi', 'custodian', 'custom', 'customersalesfund', 'customerscli', 'customerstakeholdersponsor', 'customis', 'cut', 'cutov', 'cv', 'cwpr', 'cxmt', 'cxprogramm', 'cybag', 'cyber', 'cyberattack', 'cycl', 'd', 'd365', 'd3j', 'dadar', 'dahej', 'daigram', 'daili', 'dailyweeklymonthli', 'dairi', 'dalla', 'damag', 'damageexpir', 'dammam', 'dan', 'danc', 'danfoss', 'dapp', 'daralhadassah', 'dashboard', 'databank', 'databas', 'databasedatafilestablespacetransact', 'databasesm', 'databaseâ', 'datacent', 'datadriven', 'datafe', 'datafil', 'dataguard', 'dataiku', 'datamart', 'datamit', 'datamitesskil', 'datapump', 'dataset', 'datastag', 'datawarehous', 'dataâ', 'date', 'davv', 'day', 'dayanand', 'dayoff', 'daysâ', 'daytoday', 'db', 'db2', 'db2400', 'dba', 'dbaoracl', 'dbartisan', 'dbaskil', 'dbca', 'dbm', 'dbms_job', 'dbms_schedul', 'dc', 'dcj', 'dcmtk', 'ddl', 'ddr', 'ddsm', 'deadlin', 'deadlock', 'deal', 'dealer', 'dealership', 'dealt', 'death', 'debiankali', 'debit', 'debt', 'debtor', 'debug', 'debugg', 'dec', 'decemb', 'decid', 'decis', 'declar', 'decommiss', 'decomposit', 'decor', 'decreas', 'dedic', 'deduct', 'dedupl', 'deed', 'deeksha', 'deep', 'deepli', 'default', 'defect', 'defenc', 'defens', 'deferr', 'defici', 'defin', 'definit', 'deft', 'degin', 'degre', 'deign', 'delay', 'delayedno', 'delet', 'delhi', 'delieri', 'delinqu', 'deliv', 'deliver', 'deliveri', 'dell', 'deloitt', 'delta', 'deltannex', 'demand', 'demo', 'demonstr', 'denorm', 'densiti', 'dental', 'dep', 'depart', 'department', 'depend', 'deploy', 'depot', 'dept', 'deput', 'deputi', 'derbi', 'deriv', 'describ', 'descript', 'design', 'designereduc', 'designerweb', 'designhoneywel', 'designingcr', 'designnew', 'desir', 'desk', 'desktop', 'destin', 'detach', 'detai', 'detail', 'detailexperi', 'detect', 'detector', 'determin', 'deutsch', 'dev', 'develop', 'developerabap', 'developeradministr', 'developeranalystpython', 'developerblockchain', 'developerdot', 'developeretl', 'developerful', 'developerhadoop', 'developerhadoopbig', 'developerhadoophivesqoopflumepigmapreducepythonimpalasparkscalasqlunixskil', 'developerhodoop', 'developerit', 'developerjava', 'developerphp', 'developerpython', 'developersap', 'developerskil', 'developerslinux', 'developersystem', 'developertalend', 'developmentfdd', 'developmentsupport', 'devi', 'deviat', 'devic', 'devolop', 'devop', 'devopscloud', 'devopseduc', 'devopsskil', 'devprod', 'devqaprodstandbydr', 'devsecop', 'dexter', 'dfmea', 'dg', 'dh600million', 'dhabi', 'dhamaka', 'dhanraj', 'dhcp', 'dhl', 'dhtml', 'diabet', 'diagnos', 'diagnosi', 'diagnost', 'diagram', 'dibrugarh', 'dicom', 'dictionari', 'didnt', 'diesel', 'diet', 'dietet', 'differ', 'differentdiffer', 'differenti', 'difficult', 'digit', 'diifernt', 'dilig', 'dim', 'dimens', 'dimension', 'dinman', 'diploma', 'diplomat', 'direct', 'directli', 'director', 'directori', 'disabl', 'disassembl', 'disast', 'disburs', 'disciplin', 'disciplinari', 'disclos', 'discontinu', 'discount', 'discov', 'discoveri', 'discrep', 'discus', 'diseas', 'disha', 'disk', 'diskgroup', 'diskmedia', 'dispatch', 'display', 'dispos', 'disput', 'dist', 'distanc', 'distribut', 'distributor', 'district', 'diver', 'divid', 'divis', 'divorc', 'diwali', 'django', 'dlt', 'dml', 'dmv', 'dmvpn', 'dn', 'dnyanganaga', 'dob', 'doc', 'doc2vec', 'docker', 'doctor', 'document', 'documentscr', 'dol', 'doll', 'dollar', 'domain', 'dombivali', 'donald', 'done', 'dongar', 'dont', 'door', 'dossier', 'dot', 'doubt', 'download', 'downstream', 'downtim', 'downtown', 'dp', 'dpa', 'dpf', 'dpmcu', 'dpwn', 'dr', 'draft', 'drain', 'drambedkar', 'drastic', 'draw', 'drbamuaurangabadpython', 'dream', 'dreamweav', 'dress', 'drf', 'dri', 'drill', 'drive', 'drivekey', 'driven', 'driver', 'drowsi', 'drpr', 'drt', 'druck', 'drug', 'drum', 'dsm', 'dsp', 'dt', 'dubai', 'duct', 'due', 'dummi', 'dump', 'duncan', 'duplic', 'durat', 'duti', 'dvd', 'dxc', 'dy', 'dyanam', 'dynam', 'dynamo', 'e', 'e2e', 'e60', 'ea', 'eager', 'eagl', 'eap', 'ear', 'earli', 'earlier', 'earliest', 'earth', 'easi', 'easier', 'easili', 'east', 'easyto', 'eat', 'eb', 'eboss', 'ec', 'ec2', 'eclerx', 'eclin', 'eclips', 'eco', 'ecoflex', 'ecommerc', 'econom', 'ecosystem', 'ecuador', 'edc', 'edg', 'edh', 'edi', 'edinburg', 'edit', 'editor', 'editori', 'eduavenir', 'educ', 'educationproject', 'educationsap', 'eduventur', 'edvanc', 'ee11', 'effect', 'effici', 'effluent', 'effort', 'effortissuerisk', 'effortless', 'eg', 'egc', 'egypt', 'ehterchannel', 'eigrp', 'eip', 'either', 'ejb', 'el', 'elast', 'elasticsearch', 'elb', 'elearn', 'electr', 'electromech', 'electron', 'element', 'elementari', 'eletr', 'elev', 'eleven', 'elicit', 'elig', 'elimin', 'elringkling', 'em', 'email', 'emailbhawanachdgmailcom', 'embassi', 'embed', 'emc', 'emea', 'emerg', 'emot', 'emperor', 'emphasi', 'employ', 'employe', 'empow', 'emr', 'enabl', 'encapsul', 'encharg', 'enchargeskil', 'encod', 'encourag', 'encrypt', 'end', 'endeavor', 'endocrinolog', 'endpoint', 'endtoend', 'endur', 'endus', 'enercon', 'energi', 'enfield', 'engag', 'engg', 'engin', 'engineerautom', 'engineerblockchain', 'engineercivil', 'engineerdevop', 'engineerelectr', 'engineerelectron', 'engineerhadoop', 'engineeringdata', 'engineeringskil', 'engineerjr', 'engineermechan', 'engineernetwork', 'engineerqaqc', 'engineerqu', 'engineerskil', 'engineersoftwar', 'engineersr', 'engineertest', 'enginnernetwork', 'english', 'enhanc', 'enhancementâ', 'enigma', 'enjoy', 'enough', 'enppi', 'enquiri', 'enrol', 'ensono', 'ensur', 'entail', 'enter', 'entermedi', 'enterpris', 'enterprisewid', 'enthusiasm', 'enthusiast', 'enthusiastskil', 'entir', 'entiti', 'entityframewokjqueryjavascript', 'entrepreneur', 'entrepreneurship', 'entri', 'entrust', 'environ', 'environment', 'environmento', 'environmentseduc', 'environmentâ', 'envis', 'eot', 'epap', 'epc', 'epec', 'epi', 'epic', 'epk', 'eplan', 'eprocess', 'equal', 'equip', 'equiti', 'era', 'erc', 'erda', 'erect', 'ernst', 'erp', 'erp9', 'error', 'esaya', 'escal', 'escalationseduc', 'esd', 'esens', 'esic', 'esign', 'especi', 'essay', 'essenti', 'establish', 'estado', 'estat', 'estim', 'esun', 'esxi', 'et200', 'eta', 'etap', 'etc', 'etd', 'eterni', 'ethereum', 'ethernet', 'ethic', 'ethydco', 'ethylen', 'etl', 'etp', 'etrack', 'eur', 'europ', 'european', 'ev', 'evalu', 'even', 'event', 'everi', 'everywher', 'evid', 'ewallet', 'ewm', 'exact', 'exam', 'examin', 'exampl', 'exatt', 'excav', 'exceed', 'excel', 'excelauto', 'except', 'excess', 'exchang', 'excit', 'exclus', 'exec', 'execut', 'executivemechan', 'executivesengin', 'exercis', 'exhibit', 'exim', 'exist', 'exit', 'exitentri', 'exp', 'expand', 'expdp', 'expdpimpdp', 'expect', 'expediti', 'expenditur', 'expens', 'experi', 'experienc', 'experienceskil', 'experinc', 'experion', 'expert', 'expertis', 'expimp', 'expiri', 'explain', 'explor', 'exploratori', 'exponenti', 'export', 'exposi', 'exposur', 'exposureskil', 'express', 'ext', 'extc', 'extend', 'extens', 'extent', 'exterior', 'extern', 'extra', 'extract', 'extractor', 'extraeduc', 'extrem', 'extrovert', 'ey', 'eye', 'f', 'f2', 'f5', 'fab', 'fabric', 'face', 'facebook', 'faceit', 'facet', 'facil', 'facilit', 'fact', 'factor', 'factori', 'factotytalk', 'factual', 'faculti', 'fadv', 'fahad', 'fahe', 'fail', 'failov', 'failoverfailback', 'failur', 'fair', 'faith', 'falseposit', 'famili', 'familiar', 'fan', 'fanuc', 'fap', 'far', 'faridabad', 'farm', 'fashion', 'faso', 'fast', 'faster', 'fastest', 'fat', 'father', 'fatherâ', 'fault', 'fcbc', 'fd', 'fda', 'fdm', 'feasibl', 'featur', 'feb', 'februari', 'feder', 'fee', 'feed', 'feedback', 'feeder', 'fellowship', 'festiv', 'fetch', 'fg', 'fgpwpmp', 'fi', 'field', 'fieldhoist', 'fight', 'fighter', 'figur', 'file', 'filenet', 'filesredologarchiveundo', 'fill', 'film', 'filter', 'final', 'finalis', 'financ', 'financehr', 'financi', 'finanza', 'find', 'finder', 'fine', 'finish', 'fino', 'finserv', 'fintech', 'fiori', 'fire', 'firefox10', 'firewal', 'firm', 'firr', 'first', 'fiserv', 'fit', 'five', 'fix', 'fixer', 'fl', 'flag', 'flash', 'flashback', 'flask', 'flat', 'flatbunglowsna', 'flatfil', 'flexibl', 'flip', 'float', 'floor', 'florida', 'flotilla', 'flow', 'flower', 'fluenci', 'fluent', 'fluiditi', 'flume', 'fm', 'fma', 'fmcg', 'focal', 'focu', 'focus', 'folder', 'follet', 'follow', 'followup', 'food', 'foot', 'footbal', 'forc', 'forcecom', 'forecast', 'forecastingi', 'foreign', 'foreman', 'forest', 'forg', 'form', 'formal', 'format', 'former', 'formerli', 'formul', 'formula', 'fort', 'fortinet', 'forum', 'forward', 'forwardersship', 'forwardrevers', 'foster', 'foundat', 'foundri', 'four', 'fox', 'fpga', 'fr', 'frame', 'framessqldata', 'framework', 'frameworktaf', 'framw', 'franc', 'francistalend', 'fraud', 'fraudrel', 'fraudul', 'frd', 'free', 'freelanc', 'freez', 'freight', 'french', 'frequenc', 'frequent', 'fresher', 'fricew', 'friendli', 'fromjspm', 'front', 'frontend', 'frontendframework', 'fruit', 'fruitbuddi', 'fruitsbuddi', 'fsd', 'ftc', 'ftcskill', 'ftp', 'fuel', 'fujitsu', 'fulfil', 'full', 'fulli', 'fulllifecycl', 'fulltext', 'fun', 'function', 'functionwid', 'fund', 'fundament', 'funnel', 'furnac', 'furnish', 'futur', 'fw', 'fwsm', 'fx', 'fzco', 'fzcoskil', 'fze', 'g', 'g2702', 'ga', 'gaarment', 'gac', 'gaia', 'gain', 'gajanan', 'galleri', 'game', 'gandhi', 'ganesh', 'ganga', 'ganj', 'gap', 'garden', 'garment', 'garwar', 'gas', 'gate', 'gateway', 'gather', 'gaug', 'gauhati', 'gcp', 'gdo', 'ge', 'gea', 'geci', 'geepa', 'gefanuc', 'gegenerat', 'gehealthcar', 'gender', 'genentech', 'gener', 'geneva', 'genr', 'genworth', 'geo', 'geograph', 'geographi', 'german', 'germani', 'get', 'gf', 'ggplot', 'gh', 'ghat', 'ghatkesar', 'ghatkopar', 'ghraisoni', 'ghrsec', 'gi', 'girija', 'girl', 'git', 'gitbash', 'giteduc', 'github', 'githubcomrathorolog', 'give', 'given', 'gland', 'glasgow', 'glassfish', 'glaxo', 'glaxosmithklineconsum', 'global', 'globe', 'glyphisoft', 'gm', 'gmf', 'gmoper', 'gmr', 'gn', 'gns3', 'go', 'goa', 'goal', 'gobind', 'goe', 'goetheinstitut', 'golang', 'golchha', 'gold', 'golden', 'goliv', 'golwinr', 'gondia', 'gone', 'good', 'googl', 'goqii', 'gorbanjaraeduc', 'goregaon', 'goregoan', 'got', 'govern', 'govt', 'govtofjk', 'grade', 'graduat', 'graduatelevel', 'grain', 'grandeur', 'grant', 'graph', 'grapheduc', 'graphic', 'grasp', 'gratuiti', 'grc', 'great', 'green', 'greenfield', 'greenplum', 'greyedout', 'grid', 'grievanc', 'grip', 'groom', 'gross', 'ground', 'group', 'grouper', 'groupskil', 'groupx', 'grow', 'growth', 'gsk', 'gsm', 'gssapi', 'gst', 'gstr', 'gt', 'guarante', 'guard', 'gui', 'guid', 'guidanc', 'guidelin', 'guin', 'guisil', 'gujarat', 'gulbarga', 'gulf', 'guru', 'guwahati', 'gwalior', 'gyandatt', 'gym', 'gynaecologist', 'h', 'ha', 'haayan', 'hackthon', 'hadapsar', 'hadoop', 'hadoophdf', 'hadoopsparksqoophiveflumepig', 'hadr', 'haldiram', 'hamsa', 'hana', 'hanapython', 'hand', 'handi', 'handl', 'handlingeduc', 'handoff', 'handov', 'handson', 'handwrit', 'handwritten', 'hangar', 'har', 'harbor', 'hard', 'hardwar', 'hardwarenetwork', 'hardwork', 'harriman', 'hart', 'harvard', 'haryana', 'haryanadata', 'hassel', 'hat', 'havevbeen', 'hayaan', 'hazard', 'hbase', 'hcl', 'hclcomnet', 'hdf', 'hdfc', 'hdfshbase', 'hdinsight', 'hdp23', 'head', 'headcount', 'headquart', 'health', 'healthcar', 'healthcareinsur', 'healthi', 'healthier', 'healthyskil', 'hear', 'heart', 'heat', 'heater', 'height', 'held', 'help', 'helpdesk', 'henc', 'herebi', 'heret', 'hertz', 'heterogen', 'hewlettpackard', 'hexawar', 'hg', 'hibern', 'hide', 'high', 'highenergi', 'higher', 'higherdata', 'highest', 'highlevel', 'highli', 'highlight', 'highnetworth', 'highperson', 'highschool', 'highschooljava', 'hightech', 'highway', 'hike', 'hilton', 'himalaya', 'himher', 'hindi', 'hindu', 'hindustan', 'hingna', 'hipot', 'hiral', 'hire', 'histor', 'histori', 'hit', 'hitech', 'hive', 'hiveql', 'hl7', 'hld', 'hm', 'hmi', 'hmiweb', 'ho', 'hoard', 'hobbi', 'hoc', 'hod', 'hold', 'holder', 'holi', 'holiday', 'holm', 'holtwint', 'home', 'homesciencehealth', 'honda', 'honest', 'honesti', 'honeywel', 'honore', 'hop', 'hope', 'hord', 'horizon', 'horton', 'hospit', 'hospitalsclin', 'host', 'hot', 'hotel', 'hotfix', 'hour', 'hous', 'housekeep', 'hp', 'hpalm', 'hpc', 'hpe', 'hpm', 'hpqc', 'hpqcalm', 'hpsm', 'hr', 'hrm', 'hsbc', 'hsc', 'hsrp', 'ht', 'htlt', 'html', 'html5', 'htmlcss', 'http', 'hub', 'hudson', 'hue', 'human', 'humana', 'hurdl', 'hv', 'hvac', 'hybrid', 'hyderabad', 'hydraul', 'hydraulicpneumat', 'hydrocarbon', 'hyperledg', 'hypertens', 'i', 'ia', 'iabac', 'iam', 'ibati', 'ibm', 'ice', 'icfai', 'icgmarket', 'icici', 'id', 'ide', 'idea', 'ideal', 'ideeclips', 'ident', 'identif', 'identifi', 'idera', 'idoc', 'idsdevelop', 'idt', 'ie', 'iec', 'iecex', 'ieee', 'ielt', 'iesag', 'ifix', 'igbt', 'igg', 'ignou', 'ignouoper', 'ii', 'iidatabas', 'iii', 'iinsur', 'iit', 'iitbombay', 'ijar20656', 'ijsrd', 'ile', 'illinoi', 'illustr', 'im', 'imag', 'imagin', 'imcost', 'imit', 'immunolog', 'impact', 'impala', 'impart', 'implement', 'implicit', 'import', 'importantli', 'importdatapump', 'importexport', 'improv', 'improvis', 'inbound', 'inbuilt', 'inc', 'incent', 'incept', 'incharg', 'incid', 'includ', 'inclus', 'incom', 'incorpor', 'increas', 'increment', 'indemn', 'indent', 'independ', 'indepth', 'index', 'india', 'indiaeduc', 'indiagroup', 'indiainx', 'indian', 'indic', 'indigo', 'indira', 'individu', 'indo', 'indoor', 'indor', 'induct', 'industri', 'inert', 'inetsoft', 'infa', 'infactor', 'infer', 'infiniteworx', 'influenc', 'info', 'infobank', 'infocomm', 'infonet', 'infopa', 'inform', 'informatica', 'infosi', 'infosysskil', 'infotech', 'infotek', 'infra', 'infrasoft', 'infrastructur', 'ingest', 'inhous', 'initi', 'inject', 'injector', 'injuri', 'inlight', 'inn', 'innodb', 'innotech', 'innov', 'innovativetechnolog', 'innovesta', 'inouvel', 'inov', 'inplant', 'input', 'inpython', 'inquiri', 'inr', 'inscript', 'insert', 'inservic', 'insid', 'insight', 'insolut', 'inspect', 'instal', 'installationgraphicalsilentdatabas', 'instanc', 'instancesdb', 'institut', 'institutesr', 'institutionblockchain', 'institutiondatabas', 'institutionuniversityboardsal', 'instiut', 'instruct', 'instructionobserv', 'instructor', 'instrument', 'insul', 'insur', 'integr', 'intellig', 'intelligen_for', 'intellij', 'intellimatch', 'intelux', 'intend', 'intent', 'inter', 'interact', 'intercolleg', 'interdepend', 'interest', 'interfac', 'interim', 'interior', 'interlock', 'intermedi', 'intern', 'internalextern', 'internet', 'interneteduc', 'internettechnologiesand', 'internship', 'internshipskil', 'interperson', 'interpret', 'interpretersanaconda', 'interrog', 'interteam', 'intertek', 'interv', 'interven', 'intervent', 'interview', 'interviewe', 'intervlan', 'intim', 'intio', 'intouch', 'intra', 'introduc', 'introduct', 'introductori', 'inventori', 'invert', 'inverterconvert', 'invest', 'investig', 'investor', 'invit', 'invoc', 'invoic', 'invoicesalong', 'involv', 'inward', 'io', 'ionic', 'iot', 'iotâ', 'ip', 'ipa', 'ipad', 'iphoneipad', 'ipsec', 'ipv4', 'ipv6', 'iqvia', 'ir', 'irda', 'ireport', 'iri', 'iron', 'irul', 'isauto', 'iseri', 'iso', 'iso90012015', 'isp', 'isretail', 'issu', 'issuanc', 'issuestask', 'issuesâ', 'itdb', 'ite', 'itechpow', 'item', 'itil', 'itr', 'itrack', 'itskil', 'itth', 'j', 'j1409038', 'j2ee', 'ja', 'jabalpur', 'jacob', 'jagiroad', 'jaipur', 'jalgaon', 'jallosh', 'jammu', 'jan', 'janta', 'januari', 'japan', 'jar', 'jaunpur', 'jaunpurnetwork', 'java', 'javacor', 'javae', 'javaj2e', 'javajspservletspringhibernatestrutsjavascript', 'javascript', 'javascriptjqueri', 'javascriptjqueryjson', 'javasw', 'jawalek', 'jayashre', 'jayawantrao', 'jaywant', 'jbk', 'jboss', 'jdbc', 'jdk', 'jebel', 'jenkin', 'jersey', 'jetal', 'jewelleri', 'jformdesign', 'jharkhand', 'jharnet', 'jhulel', 'jijayi', 'jio', 'jira', 'jiwaji', 'jm', 'jntudevop', 'jntudot', 'job', 'joblet', 'jobskil', 'jobsmainten', 'john', 'johnson', 'join', 'joiner', 'joint', 'jointli', 'joist', 'journal', 'journalistskil', 'journey', 'jqueri', 'jr', 'jscoe', 'jsf', 'json', 'jsp', 'jspmâ', 'jspservlet', 'jspservletsw', 'jsw', 'judg', 'judicatur', 'judici', 'juhu', 'juicer', 'juli', 'july2013to', 'jun', 'june', 'june2014', 'jungl', 'junior', 'juniorsâ', 'junip', 'junipernetscreen', 'junner', 'jupyt', 'jw', 'k', 'ka', 'kafka', 'kakatiya', 'kakinada', 'kale', 'kalepad', 'kalyan', 'kamaraj', 'kanban', 'kannada', 'kanya', 'karat', 'karma', 'karnataka', 'karvi', 'kaylan', 'kbppolytechn', 'kd', 'keen', 'keep', 'keil', 'kendo', 'kendoui', 'kepwar', 'kera', 'kerala', 'kerbero', 'key', 'kgp', 'kh', 'khadakwasla', 'khalsa', 'khana', 'kherwadi', 'kibana', 'kick', 'kickoff', 'kind', 'kindo', 'kinfolk', 'kinfra', 'king', 'kingdom', 'kirloskar', 'kisan', 'kisanv', 'kline', 'kmean', 'knn', 'knockout', 'know', 'knowledg', 'knowledgey', 'known', 'knox', 'kochi', 'kohlapur', 'kolhapur', 'kom', 'konkani', 'kopargaon', 'koramangala', 'korea', 'kpi', 'kpit', 'kpitsparkl', 'kr', 'kra', 'kranti', 'ksa', 'kt', 'kubler', 'kudo', 'kuehn', 'kuka', 'kunal', 'kurla', 'kv', 'kva', 'kw', 'kyc', 'l', 'l1', 'l3vpn', 'lab', 'label', 'labor', 'laboratori', 'labour', 'labview', 'ladder', 'lag', 'lake', 'lakesit', 'lambda', 'lan', 'land', 'landmark', 'landmarkgroup', 'landscap', 'langag', 'languag', 'lanka', 'laptop', 'laravel', 'larg', 'largescal', 'largest', 'larsen', 'last', 'late', 'later', 'latest', 'latex', 'lath', 'latin', 'launch', 'launder', 'lavisa', 'law', 'lawadvocateexperienc', 'laweduc', 'lawskil', 'lawyer', 'layer', 'layertolay', 'layout', 'layoutsschemat', 'lda', 'ldap', 'le', 'lea', 'lead', 'leader', 'leaderexecut', 'leaderfit', 'leadership', 'leadqa', 'leadskil', 'leadsol', 'leadtechn', 'leaflet', 'leakag', 'lean', 'learn', 'learner', 'learnereduc', 'learnerskil', 'learningai', 'learningeduc', 'learnt', 'learnunlearnrelearn', 'leav', 'lectur', 'lecturerskil', 'lectureship', 'led', 'ledger', 'leg', 'legaci', 'legal', 'legisl', 'lelo', 'lend', 'lenm', 'lenovo', 'lesson', 'let', 'letter', 'level', 'level3person', 'levelâ', 'lex', 'lf', 'liabil', 'liabrari', 'liabraymysqldjangohtml', 'liais', 'liaison', 'lias', 'lib', 'librari', 'licens', 'life', 'lifecycl', 'lifekonnect', 'lifestyl', 'lift', 'light', 'lightn', 'like', 'limit', 'limitedsap', 'limitedskil', 'line', 'lineag', 'linear', 'linescarri', 'linguist', 'link', 'linkedincominadityarathor', 'linq', 'linux', 'linuxmicrosoft', 'linuxubuntu', 'linuxunix', 'linuxxen', 'liquefi', 'lisa', 'list', 'listen', 'listenerora', 'listeneroratnsnamesora', 'lite', 'litecoin', 'literatur', 'litespe', 'litig', 'littl', 'live', 'llb', 'llc', 'lld', 'llm', 'llp', 'llpskill', 'lm', 'lnbolleg', 'lng', 'lo', 'load', 'loadbalanc', 'loadbalnc', 'loader', 'loadout', 'loan', 'lob', 'local', 'locat', 'lock', 'lockdown', 'lockout', 'lodg', 'lodha', 'loftwar', 'log', 'logger', 'logic', 'login', 'logist', 'logix', 'logo', 'logon', 'logstash', 'lok', 'london', 'londonhexad', 'long', 'longer', 'longterm', 'look', 'lookup', 'loop', 'loophol', 'loss', 'lot', 'lotu', 'love', 'low', 'lowlevel', 'loyal', 'loyalti', 'lrc', 'lsa', 'lstm', 'lt', 'ltd', 'ltdpune', 'ltdskill', 'ltm', 'ltspiceintermedi', 'lucent', 'lumira', 'luxuri', 'lv', 'm', 'm3', 'm3movex', 'mac', 'macaui', 'machin', 'machineri', 'machinesbrought', 'machinesvmlogist', 'macro', 'macromedia', 'made', 'madhya', 'madhyamik', 'madra', 'mafoii', 'magazin', 'magnet', 'maha', 'mahabaleshwartour', 'mahal', 'maharaj', 'maharaja', 'maharashatra', 'maharashtra', 'maharastra', 'maharshtra', 'mahatma', 'mahavidyalay', 'mahavir', 'mahindra', 'mahindraskil', 'mail', 'mailbox', 'main', 'mainli', 'maint', 'mainta', 'maintain', 'maintainingâ', 'mainten', 'maintenanceeduc', 'maintenanceenhanc', 'major', 'make', 'maker', 'maladautom', 'malappuram', 'malaviya', 'malaysia', 'malici', 'mall', 'man', 'manag', 'managementgym', 'managementhadoop', 'managementhrskil', 'managementskil', 'managementtest', 'managementtransit', 'managementâcross', 'managementâpeopl', 'managenow', 'managereduc', 'managerglob', 'manageri', 'manageroper', 'managerproject', 'managersal', 'managersdirector', 'managerservic', 'managerskil', 'managescustom', 'managingcr', 'mandakini', 'mandir', 'manger', 'mani', 'manip', 'manipul', 'manish', 'manner', 'manoharbhai', 'manonmaniam', 'manpow', 'mansa', 'manual', 'manualinspect', 'manufactur', 'map', 'mapco', 'mapl', 'mapplet', 'mapreduc', 'mar', 'marathi', 'march', 'marg', 'margaret', 'mariadb', 'marin', 'marit', 'mark', 'market', 'marketlead', 'marketplac', 'markup', 'marol', 'marri', 'marriag', 'marriot', 'marshal', 'mart', 'martial', 'martin', 'maruti', 'marvin', 'masonri', 'mass', 'massachusett', 'massag', 'mastek', 'master', 'mat', 'match', 'matelab', 'matelabsskil', 'materail', 'materi', 'materialerp', 'matern', 'math', 'mathemat', 'matlab', 'matplot', 'matplotlib', 'matplotliv', 'matric', 'matricul', 'matrix', 'matter', 'maven', 'maxgen', 'maxim', 'maximum', 'may', 'maza', 'mba', 'mbm', 'mc', 'mca', 'mcm', 'md', 'me', 'mean', 'meaning', 'measur', 'mec', 'mech', 'mechan', 'mechanicalskil', 'mecomput', 'medal', 'mediat', 'medic', 'medicap', 'medicin', 'medium', 'meet', 'megger', 'mellon', 'mellonskil', 'member', 'membership', 'memo', 'memoiz', 'memori', 'menon', 'menswear', 'mention', 'mentor', 'meraki', 'merchant', 'merg', 'merger', 'mesa', 'messag', 'messeng', 'met', 'meta', 'metabol', 'metadata', 'metafeatur', 'metal', 'meter', 'method', 'methodolog', 'metlif', 'metric', 'metro', 'mf', 'mfa', 'mfdb', 'mgm', 'mgmt', 'mgthrskill', 'mh', 'mi', 'mia', 'miami', 'micheal', 'micro', 'microbiolog', 'microprocessor', 'microservic', 'microsft', 'microsoft', 'microsystem', 'mid', 'midc', 'middl', 'middlewar', 'midi', 'midris', 'midyear', 'migrat', 'migrationmx8800', 'migrationr1', 'mileston', 'milknet', 'mill', 'million', 'mind', 'mine', 'mini', 'minilec', 'minim', 'minimum', 'ministri', 'minor', 'mintmetrixcom', 'minut', 'mipowerintermedi', 'mirag', 'mirror', 'miscellan', 'miss', 'mission', 'mistak', 'mit', 'mitig', 'mitpresid', 'mix', 'ml', 'ml200', 'mlrit', 'mm', 'mmpc', 'mmpolytechnicdot', 'mmrda', 'mnb', 'mnyl', 'mobil', 'mobileapp_dev_kauapc', 'mock', 'mode', 'model', 'modelsim', 'modelviewcontrol', 'modem', 'modern', 'modesâ', 'modif', 'modifi', 'modul', 'modular', 'mog', 'mohali', 'moistur', 'moitor', 'moledina', 'mom', 'money', 'mongodb', 'mongodbmysql', 'monitor', 'mono', 'monorail', 'monster', 'month', 'monthli', 'monthlyweekli', 'monthscompani', 'monthseduc', 'morgan', 'morigaon', 'mortar', 'mortgag', 'moss', 'mostli', 'moti', 'motil', 'motion', 'motiv', 'motor', 'mould', 'mount', 'move', 'movement', 'movex', 'movexm3', 'movi', 'mozilla', 'mp', 'mphasi', 'mpl', 'mr', 'mrn', 'msaess', 'msbte', 'msc', 'mscit', 'msexceleduc', 'msoffic', 'mspower', 'mssql', 'mtech', 'much', 'mukand', 'muktanand', 'mul', 'multi', 'multibilliondollar', 'multicli', 'multicontext', 'multicultur', 'multidevelop', 'multifunct', 'multimedia', 'multin', 'multipl', 'multiprofil', 'multiprotocol', 'multisim', 'multispecialti', 'multital', 'multitask', 'multivendor', 'mumbai', 'mumbaibusi', 'mumbaidraw', 'mumbaipython', 'murlidhar', 'music', 'must', 'mustanghoneywel', 'mutual', 'muweilah', 'mva', 'mvc', 'mvc5', 'mvcbase', 'mvp', 'mvt', 'mw', 'mwb', 'myanmar', 'myattcom', 'myisam', 'mysor', 'mysql', 'mysql50', 'mysqlbas', 'mysqloracl', 'n', 'na', 'nabinagar', 'nadu', 'nafjan', 'nagaland', 'nagaon', 'nagar', 'nagel', 'nagpur', 'naharkar', 'nallasopara', 'name', 'nanak', 'nand', 'nangal', 'narayangaon', 'narh', 'narout', 'nasecur', 'nashik', 'nashikcivil', 'nashikjava', 'nasscom', 'nat', 'nation', 'nativ', 'natur', 'naukri', 'nava', 'navi', 'navig', 'navnirman', 'navshar', 'naãv', 'nbf', 'nc', 'ncr', 'nd', 'near', 'nearbi', 'nec', 'necessari', 'nederland', 'need', 'neg', 'negoti', 'neighborhood', 'nendrasi', 'ner', 'nessa', 'nestl', 'net', 'netbackup', 'netbean', 'netca', 'netezza', 'netflow', 'netherland', 'netmgr', 'netmgrnetca', 'nettech', 'netweav', 'network', 'networkinfrastructur', 'networksrnn', 'neural', 'neurolog', 'neutral', 'new', 'newcastl', 'newexist', 'newhir', 'newli', 'news', 'newspap', 'next', 'nextgen', 'nexu', 'nf', 'nfpa', 'nhibernet', 'nibsnit', 'nichemarket', 'niit', 'niitproject', 'niketan', 'nilux', 'nippon', 'nirmiti', 'nld', 'nlp', 'nltk', 'nlu', 'nmf', 'nn', 'no', 'noc', 'node', 'nodej', 'nomin', 'non', 'nonasm', 'noncompli', 'nonconform', 'none', 'nonfunct', 'nontechn', 'nordea', 'norm', 'normal', 'north', 'northbound', 'norway', 'nosql', 'nosqlhbas', 'note', 'notebook', 'notebool', 'notepad', 'notic', 'notif', 'nov', 'nova', 'novemb', 'nprout', 'nternet', 'ntp', 'ntpcbrbcl', 'nuanc', 'nuclear', 'number', 'numer', 'numpi', 'numpypandasmatplolibrequestsbeauti', 'nunit', 'nutrient', 'nutrit', 'nutritionist', 'ny', 'nyskil', 'o', 'oam', 'oat', 'obes', 'object', 'observ', 'obsolet', 'obstacl', 'obtain', 'ocean', 'oceango', 'oceanweb', 'ocm', 'oct', 'octob', 'odata', 'oem', 'offer', 'offerstend', 'offic', 'officeeduc', 'offici', 'offlin', 'offload', 'offshor', 'offsit', 'often', 'oh', 'ohio', 'oil', 'oim', 'old', 'older', 'oldest', 'oltc', 'oltp', 'om', 'oman', 'omegasoft', 'omnichannel', 'omron', 'onboard', 'oncal', 'oncolog', 'one', 'onesignalwebpushnotif', 'onestop', 'onestoptestshop', 'onetoon', 'ongo', 'onlin', 'onlineofflin', 'onshor', 'onsit', 'onsiteoffshor', 'ontim', 'ontrack', 'onâ', 'ooad', 'oop', 'ootc', 'oozi', 'op', 'opc', 'open', 'opencart', 'openclos', 'opencv', 'opensourcetechnolog', 'oper', 'operatingsystem', 'operationeduc', 'operatornam', 'opex', 'opinion', 'opp', 'opportun', 'optim', 'optimaz', 'optimis', 'optimist', 'optimum', 'option', 'oracl', 'oracle1011geduc', 'oracle11g', 'oracle11gr2', 'oracleappl', 'oral', 'oralwritten', 'orc', 'orchestr', 'order', 'ordin', 'ore', 'orformatt', 'org', 'organ', 'organis', 'organiz', 'orgniz', 'orgnizationskil', 'orichid', 'orient', 'orissa', 'oro', 'oronit', 'orowealth', 'orphan', 'orthoped', 'os', 'oscar', 'osi', 'osmania', 'osmoflo', 'ospf', 'oswal', 'oswindow', 'otc', 'other', 'otherwis', 'oti', 'our', 'out', 'outag', 'outbound', 'outcom', 'outdat', 'outdoor', 'outfit', 'outlay', 'outlier', 'outlook', 'output', 'outreach', 'outsid', 'outstand', 'outward', 'overal', 'overcom', 'overdraft', 'overhaul', 'overland', 'overlook', 'overse', 'oversea', 'oversight', 'overview', 'own', 'owner', 'ownership', 'oxford', 'oxygen', 'p', 'p1', 'p2', 'p2p', 'p8', 'pa', 'pac', 'pace', 'pacemak', 'pack', 'packag', 'packet', 'paddl', 'padk', 'page', 'pagin', 'pain', 'paint', 'paintha', 'pair', 'pal', 'pali', 'palo', 'pamphlet', 'pan', 'panchakarma', 'panda', 'panel', 'panjab', 'panorama', 'panvel', 'paper', 'paperless', 'paperwork', 'par', 'parallel', 'paramet', 'parent', 'paripora', 'parivartan', 'park', 'parkar', 'parola', 'parquet', 'parser', 'parson', 'part', 'parti', 'particip', 'particular', 'particularli', 'partit', 'partitionmonitor', 'partner', 'partnership', 'pas', 'passeng', 'passion', 'passiv', 'passport', 'password', 'past', 'pat', 'patch', 'patel', 'path', 'pathway', 'patient', 'patientsold', 'patil', 'patni', 'patnigehealthcar', 'patron', 'pattern', 'pawar', 'pay', 'paybl', 'payer', 'payment', 'payrol', 'paytech', 'pba', 'pc', 'pca', 'pcb', 'pci', 'pdaco', 'pdf', 'pe8', 'peer', 'peerbhoy', 'penalti', 'penchant', 'pend', 'penultim', 'peopl', 'per', 'percentag', 'perfect', 'perform', 'performanceâ', 'performersartist', 'perhap', 'period', 'perman', 'permiss', 'permit', 'perprocess', 'persist', 'person', 'personnel', 'perspect', 'pertain', 'pertin', 'petit', 'petrochem', 'petroleum', 'petronet', 'petti', 'pf', 'pfizer', 'pg', 'pgdm', 'pgp', 'pharma', 'pharmaceut', 'pharmaci', 'phase', 'pheonix', 'philosophi', 'phioenix', 'phoenix', 'phone', 'photograph', 'photographi', 'photoshop', 'php', 'phule', 'physic', 'physiolog', 'phython', 'pi', 'pia', 'pick', 'pickup', 'pict', 'pictur', 'pid', 'pig', 'pii', 'pil', 'pilot', 'pimpl', 'pimpri', 'pin', 'pipe', 'pipelin', 'pirangoot', 'piston', 'pitch', 'pitr', 'pittsburgh', 'pivot', 'pjlcejava', 'place', 'placestravel', 'plaint', 'plaintiff', 'plan', 'plane', 'planner', 'planningschedulingreschedulingsplit', 'plansschedul', 'plant', 'plant3', 'plant6', 'planviz', 'plaster', 'plastic', 'platform', 'platinum', 'play', 'player', 'plaza', 'plc', 'plcscada', 'plea', 'plead', 'plot', 'plotli', 'plsql', 'plsqljavajavaeejavascripthtmlcssjquerymysqlspr', 'plu', 'plumb', 'pm', 'pmo', 'pmosenior', 'pmoskil', 'pmr', 'pneumat', 'pneumaticsfabr', 'po', 'poc', 'pod', 'poi', 'point', 'pointer', 'poland', 'polari', 'polic', 'polici', 'polit', 'politician', 'polytechn', 'polytechnicetl', 'polytechniclead', 'pom', 'pool', 'poona', 'popul', 'port', 'portal', 'portfolio', 'posit', 'positron', 'posoper', 'possibl', 'post', 'poster', 'postgresql', 'postgresqleduc', 'postgressql', 'postimplement', 'postissu', 'postman', 'postproject', 'potenti', 'pour', 'powai', 'power', 'powercent', 'powerpoint', 'powerpointexcel', 'powertech', 'pp', 'ppe', 'ppt', 'pr', 'prabhakar', 'practic', 'practition', 'pradesh', 'pragat', 'prajyoti', 'prakash', 'prakshal', 'prasanna', 'pravaranagar', 'prc', 'pre', 'preced', 'precis', 'preclin', 'predefin', 'predesign', 'predict', 'prefat', 'prefer', 'preform', 'preinspect', 'preissuanc', 'preliminari', 'premier', 'premis', 'premium', 'prepaid', 'prepar', 'preprocess', 'preproduct', 'prequalif', 'prerecord', 'presal', 'prescrib', 'presenc', 'present', 'presenteduc', 'preserv', 'presid', 'preson', 'press', 'pressur', 'pretend', 'pretransit', 'pretrial', 'preunivers', 'prevent', 'preventivepredict', 'previou', 'prgx', 'price', 'primari', 'primarili', 'prime', 'prince2', 'principl', 'print', 'printer', 'priorit', 'prioriti', 'privaci', 'privat', 'privileg', 'privilegesrol', 'priyadarshini', 'prize', 'prm', 'pro', 'proactiv', 'proactivelyeduc', 'problem', 'problemat', 'procedur', 'process', 'processdomain', 'processeduc', 'procur', 'prod', 'produc', 'product', 'productivityeffici', 'productssolut', 'proe', 'prof', 'profession', 'profici', 'profil', 'profit', 'profound', 'program', 'programm', 'programmeproject', 'programmingscriptingdeveloperweb', 'programmingxp', 'progre', 'progress', 'project', 'projecti', 'projectii', 'projectiii', 'projectiv', 'projectopportun', 'projectrespons', 'projectv', 'projectvi', 'projectvii', 'projectviii', 'proliant', 'promark', 'promot', 'promoter9yr', 'prompt', 'proof', 'propag', 'proper', 'properli', 'properti', 'prophet', 'propos', 'proposalestim', 'proposalsrf', 'prosecut', 'proship', 'protect', 'proteu', 'protiu', 'proto', 'protocol', 'protocolsripeigrpospfbgp', 'prototyp', 'prove', 'proven', 'provid', 'provis', 'proxi', 'prt', 'prudenti', 'prune', 'prv', 'psg', 'pso', 'psu', 'psycholog', 'psychotherapi', 'pt', 'ptf', 'pu', 'public', 'publish', 'pul', 'pulp', 'pump', 'pumprman', 'punch', 'punctual', 'pune', 'puneadvocateadvocateskil', 'puneautom', 'punenetwork', 'puneskil', 'punesoftwar', 'punjab', 'punjabi', 'puppet', 'purchas', 'purg', 'purpos', 'pursu', 'purvanch', 'pusad', 'push', 'put', 'putti', 'pvp', 'pvt', 'pvtltd', 'pw', 'pwd', 'pycharm', 'pymysql', 'pyspark', 'python', 'python2', 'python3', 'python36', 'pythonpython', 'q', 'qa', 'qaqc', 'qasit', 'qatar', 'qatif', 'qc', 'qliksens', 'qlikview', 'qm', 'qtp', 'quali', 'qualif', 'qualifi', 'qualit', 'qualiti', 'quantifi', 'quantit', 'quantiti', 'quarter', 'quarterli', 'quartil', 'queen', 'queri', 'query400', 'quest', 'question', 'questionnair', 'queu', 'queue', 'quick', 'quickest', 'quickli', 'quit', 'quot', 'quota', 'quotat', 'r', 'r2', 'r22012', 'r3', 'r4102', 'r75', 'r77', 'r80', 'rabal', 'rac', 'race', 'rachana', 'rack', 'radha', 'radiat', 'radio', 'raffinaderji', 'raid', 'rail', 'railtiffincom', 'railway', 'railwirerailtel', 'rais', 'raj', 'rajapur', 'rajapurtest', 'rajasthan', 'rajdevi', 'rakesh', 'ralli', 'ram', 'ramesh', 'ran', 'ranchi', 'random', 'rang', 'rangoli', 'ranjangaon', 'rank', 'rapport', 'rare', 'raspberri', 'rate', 'ratio', 'ration', 'ratnagiri', 'ratnamala', 'rave', 'ravichand', 'raw', 'ray', 'rayat', 'raymond', 'rb', 'rc', 'rca', 'rcm', 'rcsa', 'rcu', 'rd', 'rdbm', 'rdd', 'rddmapreduc', 'rdl', 'react', 'reactj', 'read', 'readi', 'readili', 'real', 'realest', 'realetor', 'realist', 'realiti', 'realiz', 'realm', 'reasearch', 'reason', 'reasoningâ', 'rebadg', 'rebat', 'rebuild', 'rebuildreorgan', 'rec', 'recal', 'recalibr', 'receipt', 'receiv', 'recent', 'reclaim', 'recogn', 'recognit', 'recommend', 'reconcili', 'reconnaiss', 'reconstruct', 'record', 'recoveri', 'recruit', 'recurr', 'red', 'redesign', 'redhat', 'redo', 'redshift', 'reduc', 'reduct', 'redund', 'redwood', 'reengin', 'refcon', 'refer', 'refin', 'reflexolog', 'refresh', 'refreshclon', 'refund', 'regard', 'regex', 'region', 'regionbu', 'regist', 'registr', 'registrar', 'registri', 'regress', 'regul', 'regular', 'regularli', 'regulatori', 'rehears', 'reimburs', 'reinforc', 'reject', 'relat', 'relationeduc', 'relationship', 'relay', 'releas', 'relev', 'reliabl', 'relianc', 'relocateeduc', 'remain', 'remanag', 'remark', 'remedi', 'remind', 'remot', 'remov', 'renam', 'render', 'renew', 'renov', 'rent', 'reorder', 'reorgan', 'rep', 'replac', 'replet', 'repli', 'replic', 'report', 'repositori', 'repot', 'repres', 'represent', 'reput', 'request', 'requestsâ', 'requir', 'requirementsâ', 'requisit', 'reschedul', 'research', 'reserv', 'reservoir', 'reset', 'residenti', 'residentialcommercialindustri', 'resign', 'resili', 'resist', 'resiz', 'resolut', 'resolv', 'resourc', 'respect', 'respond', 'responesbl', 'respons', 'responsiblit', 'resrent', 'rest', 'restapi', 'restart', 'restful', 'restor', 'restructur', 'result', 'resultori', 'resum', 'resumpt', 'reta', 'retail', 'retain', 'retent', 'retest', 'retir', 'retriev', 'retrospect', 'return', 'reus', 'reusabl', 'revenu', 'revers', 'review', 'revis', 'revok', 'revolution', 'reward', 'rework', 'rf', 'rfi', 'rfid', 'rfm', 'rfq', 'rfsmrp', 'rgb', 'rgpv', 'rh', 'rhd', 'rheinland', 'rhel', 'ri', 'rich', 'right', 'rip', 'ripng', 'rippl', 'ripv2', 'rise', 'risk', 'rivzi', 'rk', 'rkdf', 'rkim', 'rlm', 'rlmreleas', 'rlt', 'rm', 'rman', 'rnnlstm', 'rntai', 'road', 'roadblock', 'robot', 'robust', 'rockwel', 'rodc', 'roi', 'role', 'rolesap', 'rolesus', 'roll', 'rollback', 'rollout', 'rome', 'roof', 'rooki', 'room', 'root', 'rose', 'rot', 'rota', 'rotari', 'rotat', 'rotex', 'round', 'rout', 'route53', 'router', 'routin', 'routingconfigur', 'row', 'royal', 'rp', 'rpa', 'rpasenior', 'rpg', 'rpg400', 'rplu', 'rr', 'rrf', 'rrâ', 'rsa', 'rsaenvis', 'rslinx', 'rslogix5000', 'rt', 'rtc', 'rtlf', 'rtm', 'rtmnu', 'rtmnumechan', 'rtrm', 'ruah', 'rubik', 'rucku', 'rudraaksh', 'rule', 'rulesbas', 'run', 'runner', 'rvg', 'ryan', 'ryk', 's', 's3', 's4', 's4hana', 's7300', 'sa', 'sabic', 'sadm', 'sadvidya', 'safe', 'safeti', 'sagar', 'saiba', 'saint', 'salari', 'salclust', 'sale', 'salesforc', 'salesforcecom', 'salesperson', 'samarth', 'samn', 'san', 'sanarco', 'sanghavi', 'sangli', 'sanitari', 'saniti', 'sanpada', 'sansad', 'sant', 'santhwana', 'santnamdev', 'sap', 'saperp', 'sapkal', 'sapphir', 'saral', 'sarimax', 'sas', 'sasskil', 'sat', 'satara', 'satellit', 'sati', 'satisfact', 'satisfactori', 'satisfi', 'satish', 'saudagar', 'saudi', 'sav', 'save', 'saver', 'saviant', 'savitribai', 'savvi', 'sawant', 'sawitribai', 'sbi', 'sblc', 'scada', 'scadaifix', 'scala', 'scalabl', 'scale', 'scalp', 'scan', 'scanner', 'scd', 'scd1', 'scd2', 'scenario', 'schedul', 'schema', 'schemat', 'scheme', 'schenker', 'schlumberg', 'schlumbergerskil', 'schneider', 'schneiderelectr', 'schnider', 'scholar', 'scholarship', 'school', 'schoolabap', 'schoolblockchain', 'schooletl', 'schoolhead', 'schoolhradmin', 'schoolhrskil', 'schoolindustri', 'schooljava', 'schoolpass', 'schoolpmohav', 'schoolsal', 'schoolsap', 'schoolsenior', 'schoolsoftwar', 'schrader', 'sci', 'scien', 'scienc', 'sciencecivil', 'sciencedata', 'sciencegm', 'sciencei', 'sciencenutritionist', 'scienceskil', 'scientif', 'scientist', 'scientistdata', 'scikit', 'scikitlearn', 'scindia', 'scipi', 'scm', 'scoe', 'scom', 'scope', 'score', 'scorecard', 'scp', 'scrap', 'scrape', 'scratch', 'screen', 'script', 'scriptingeduc', 'scriptingprogrammingdevelop', 'scriptjqueryajax', 'scrum', 'sculpt', 'sd', 'sda', 'sdk', 'sdlc', 'sdm', 'sdnbvchrskill', 'se', 'sea', 'seaborn', 'seafreight', 'seam', 'seamless', 'seamlessli', 'search', 'searchnatur', 'season', 'seat', 'seattl', 'sec', 'second', 'secondari', 'secondaryweb', 'secret', 'secretari', 'section', 'sector', 'secur', 'secureddesign', 'securedsql', 'securityâ', 'see', 'seek', 'seema', 'seen', 'segment', 'selec', 'select', 'selenium', 'self', 'selfassess', 'selfconfid', 'selfmotiv', 'selfservic', 'selfstart', 'sell', 'seller', 'sem5', 'sem6', 'semi', 'semiannu', 'semienglish', 'semifinish', 'semist', 'sen', 'send', 'senior', 'sensibl', 'sensit', 'sensor', 'sent', 'sentenc', 'sentiment', 'seoul', 'sep', 'separ', 'sepsoft', 'sept', 'septemb', 'serck', 'serd', 'seri', 'serial', 'serv', 'server', 'server2', 'servereduc', 'serversid', 'servic', 'servicenow', 'serviceord', 'servicesolut', 'servicesskil', 'servicesâ', 'servicewcf', 'serviceweb', 'servlet', 'servo', 'session', 'set', 'settlement', 'setup', 'sever', 'sf6', 'sgbau', 'sgd', 'sgvidyalaya', 'shadow', 'shahani', 'shall', 'shankaracharya', 'share', 'sharepoint', 'sharepointeduc', 'sharjah', 'sharvari', 'sheet', 'shegaon', 'shell', 'shellbharat', 'shield', 'shift', 'ship', 'shipment', 'shirt', 'shivaji', 'shoop', 'shoot', 'shop', 'shope', 'shopkeep', 'shore', 'short', 'shortfal', 'shortlist', 'shoulder', 'show', 'showroom', 'shree', 'shri', 'shrink', 'shubhankan', 'shunt', 'shut', 'shutter', 'si', 'side', 'siebel', 'siem', 'siemen', 'sierra', 'sifi', 'sigmaqu', 'sign', 'signatur', 'signific', 'signoff', 'signup', 'sikkim', 'sikuli', 'silverlin', 'sim', 'similar', 'simpl', 'simpli', 'simul', 'simultan', 'sinc', 'sincer', 'singapor', 'singh', 'singhad', 'singl', 'singleeduc', 'sinhagad', 'sinhgad', 'sink', 'sinochem', 'sip', 'sit', 'site', 'siteapp', 'situat', 'situationseduc', 'six', 'size', 'sk', 'skill', 'skillgap', 'skillseduc', 'skillset', 'sklearn', 'skncoe', 'sksomaiya', 'sky', 'sl', 'sla', 'slab', 'slatat', 'slave', 'slaâ', 'sld', 'slender', 'slim', 'slip', 'slipstream', 'sloan', 'slot', 'slow', 'slt', 'sm', 'small', 'smallbusi', 'smart', 'smartbadg', 'smartform', 'smashingday', 'sme', 'smec', 'smith', 'smoke', 'smooth', 'smoothen', 'smoothli', 'smp', 'smsql', 'smt', 'smtp', 'sn', 'snag', 'snail', 'snap', 'snappi', 'snapshot', 'snd', 'snoop', 'soa', 'soap', 'soapbox', 'social', 'societi', 'sociolog', 'sod', 'soft', 'softeng', 'softgst', 'softstart', 'softtrust', 'softwar', 'softwareeduc', 'softwareskil', 'softwer', 'solapur', 'solar', 'solarwind', 'sold', 'solenoid', 'solicit', 'solid', 'solidwork', 'solman', 'solo', 'solut', 'solutionflora', 'solutionseduc', 'solv', 'somewher', 'sonarqub', 'sonia', 'sonic', 'sop', 'sophia', 'sophist', 'sopâ', 'sort', 'sorter', 'sound', 'soup', 'sourc', 'sourcecod', 'south', 'sow', 'sp2', 'sp6', 'spa', 'space', 'spaci', 'span', 'spark', 'sparkapi', 'sparkcontext', 'sparkcor', 'sparksql', 'speak', 'speaker', 'speakingâ', 'spearhead', 'spec', 'special', 'specialti', 'specif', 'specifi', 'specila', 'speed', 'spend', 'spent', 'spin', 'spirit', 'splat', 'spoc', 'spoken', 'sponsor', 'sponsorship', 'sport', 'sportsman', 'spot', 'spotfir', 'spread', 'spreadsheet', 'spring', 'springer', 'springernatur', 'springmvc', 'sprinng', 'sprint', 'sps12', 'spsseduc', 'sqa', 'sql', 'sql2000', 'sql400', 'sqlalchemi', 'sqleduc', 'sqlit3', 'sqlite', 'sqlpl', 'sqlplsql', 'sqlplu', 'sqlserver', 'sqoop', 'squar', 'sr', 'sri', 'srimedhavhrnaniskil', 'srm', 'srmce', 'srvctl', 'ssc', 'ssi', 'ssl', 'sslc', 'ssm', 'sso', 'sspm', 'ssr', 'st', 'staa', 'stabil', 'stack', 'stackwis', 'stadio', 'staf', 'staff', 'stage', 'stake', 'stakehold', 'stalk', 'stand', 'standalon', 'standard', 'standardâ', 'standbi', 'standbydr', 'stanley', 'star', 'starschema', 'start', 'starter', 'startup', 'stat', 'state', 'statement', 'statetest', 'static', 'station', 'statist', 'statsmodel', 'statu', 'statutori', 'stay', 'stbqtp', 'stc', 'steadi', 'steel', 'steelraw', 'steer', 'step', 'step7microwin', 'stepcon', 'still', 'stipul', 'stlc', 'stock', 'stop', 'storag', 'store', 'stori', 'storm', 'stormfur', 'stp', 'strateg', 'strategi', 'stratum', 'stream', 'streamlin', 'strength', 'strengthen', 'stress', 'stretchabl', 'strictli', 'stringent', 'stromfur', 'strong', 'structur', 'strut', 'student', 'studi', 'studio', 'su53', 'sub', 'subcon', 'subcontin', 'subcontractor', 'subfil', 'subject', 'subjob', 'sublim', 'submers', 'submiss', 'submit', 'submitt', 'subnet', 'subnettingsupernet', 'subordin', 'subproject', 'subscrib', 'subscript', 'subsequ', 'substanti', 'substat', 'subvers', 'sue', 'suession', 'suffer', 'suffic', 'suffici', 'sugar', 'sugarcan', 'suggest', 'suggestionworkaround', 'suisseskil', 'suit', 'suitabl', 'sukh', 'sultan', 'summari', 'summer', 'sun', 'sunbeam', 'sundaranar', 'sungard', 'sunnyval', 'suntechnolog', 'super', 'superior', 'supernet', 'supervis', 'supervisor', 'supplement', 'suppli', 'supplier', 'support', 'sure', 'surf', 'surfac', 'surgic', 'surround', 'surveil', 'survey', 'surveyor', 'surya', 'suspici', 'sustain', 'suzukijet', 'svm', 'svn', 'svvm', 'sw', 'swami', 'swbebs_support', 'sweden', 'swedish', 'swift', 'swing', 'swiss', 'switch', 'switchgear', 'switchingvirtu', 'switchov', 'switchyard', 'switzerland', 'sybas', 'syllabu', 'symantec', 'symbiosi', 'sync', 'synechron', 'synopsi', 'syntel', 'syntelskil', 'synthes', 'syracus', 'system', 'systemat', 'systemeduc', 'systemnetwork', 'systemslinux', 't', 't3', 'tab', 'tabl', 'tableau', 'tablespac', 'tabular', 'tac', 'taf', 'tag', 'taggreg', 'taggregaterow', 'taglin', 'tai', 'tail', 'tailgat', 'tailor', 'takalihadoopbig', 'take', 'taken', 'takeoff', 'takshshila', 'talend', 'talent', 'talk', 'talkview', 'talli', 'talreja', 'talwalkar', 'tamil', 'tango', 'tank', 'tanker', 'tap', 'tar', 'target', 'task', 'tat', 'tata', 'taught', 'tax', 'taxat', 'tb', 'tbe', 'tc', 'tcachein', 'tcacheout', 'tco', 'tconverttyp', 'tcpip', 'tct', 'td', 'tdd', 'tdm', 'tdp', 'tds_fdw', 'te', 'teach', 'teacher', 'teacherdraw', 'team', 'teambuild', 'teamleaderteam', 'teamwork', 'teamâ', 'tech', 'techn', 'technic', 'technicalfunct', 'technicalprofici', 'technicalskil', 'techniqu', 'techniquesobtain', 'techniquesskil', 'techno', 'technocommerci', 'technofunct', 'technolog', 'technologiesskil', 'technologiesânatur', 'technologist', 'technologyjava', 'technologyskil', 'technologyutil', 'technosoft', 'techwav', 'tectia', 'tektronix', 'telangana', 'telecom', 'telecommun', 'telecomskil', 'teleconfer', 'telemetari', 'teleperform', 'telephon', 'telerik', 'tell', 'temp', 'temperatur', 'templat', 'temporari', 'tenaciouseduc', 'tender', 'tendermint', 'tensor', 'tensorflow', 'tenur', 'terabyt', 'teradata', 'teresa', 'term', 'termin', 'test', 'testabl', 'testdriven', 'tester', 'testerautom', 'testerskil', 'testingjava', 'testingskil', 'testingsoftwar', 'testng', 'testvalid', 'tetrapak', 'teva', 'texa', 'text', 'text2', 'textaudio', 'tez', 'tfidf', 'tfileexist', 'tfileinputdelimit', 'tfilelist', 'tfileoutputdelimit', 'tfilter', 'tflowmet', 'tftp', 'tftpconnect', 'tftput', 'tgi', 'th', 'thadom', 'thai', 'thaitrad', 'thakur', 'thane', 'thank', 'thdfsconfigur', 'theatr', 'thee', 'themathcompani', 'themeduc', 'therapi', 'therebi', 'therefor', 'thergaon', 'thermal', 'thesi', 'thing', 'think', 'thinker', 'third', 'thorough', 'thread', 'three', 'thrissur', 'thrive', 'throttl', 'throughout', 'thu', 'thumb', 'thunderbird', 'thyristor', 'ti', 'tibco', 'ticket', 'tid', 'tidal', 'tie', 'tiebar', 'tier', 'tieriii', 'tieto', 'tikhat', 'tikona', 'tile', 'till', 'time', 'timefram', 'timelin', 'timesheet', 'tion', 'tipl', 'tipu', 'tirlok', 'tirunelv', 'tirupur', 'titl', 'tivoli', 'tjava', 'tjavarow', 'tjdbcinput', 'tjdbonfigur', 'tjoin', 'tk', 'tl', 'tl9k', 'tlogcatch', 'tlv', 'tm', 'tmap', 'tn', 'tnsname', 'tnsnamesora', 'toad', 'today', 'tofa', 'togeth', 'token', 'tokyo', 'toll', 'tomcat', 'ton', 'took', 'tool', 'toolsibm', 'toolspackag', 'top', 'topic', 'tor', 'tora', 'tortois', 'tosca', 'total', 'totalcite', 'toubro', 'toubroskil', 'touch', 'tour', 'tourist', 'tournament', 'toward', 'tower', 'toyo', 'tp', 'tparal', 'tparallel', 'tpt', 'tq', 'trace', 'traceabl', 'tracer', 'track', 'tracker', 'trackingmang', 'trade', 'tradefinex', 'tradeoff', 'tradit', 'traffic', 'train', 'traine', 'trainer', 'trainerskil', 'trainerweb', 'trainingeduc', 'tran', 'transact', 'transfer', 'transform', 'transit', 'translat', 'translationnat', 'transmiss', 'transmitt', 'transpar', 'transport', 'transship', 'travel', 'tray', 'trb', 'treasur', 'treasuri', 'treatment', 'tree', 'trench', 'trend', 'treplic', 'trexo', 'tri', 'triag', 'trial', 'tribun', 'trick', 'trigger', 'trimax', 'trimurti', 'trip', 'tripod', 'trippereri', 'trivial', 'trombay', 'troubl', 'troubleshooot', 'troubleshoot', 'trowgener', 'truba', 'truck', 'true', 'truli', 'trun', 'trunjob', 'trust', 'trustbankcb', 'truste', 'ts3configur', 'ts3put', 'tsi', 'tsortrow', 'tsp', 'tsql', 'tsqlrow', 'tsr', 'tube', 'tubro', 'tulu', 'tune', 'tunnel', 'turbin', 'turn', 'turnaround', 'turnov', 'tutori', 'tuv', 'tw', 'tweet', 'twice', 'twidosuit', 'twitter', 'two', 'twotim', 'tybcom', 'type', 'type1type2', 'typescript', 'typewrit', 'typic', 'u', 'uae', 'uat', 'ub', 'ubc', 'ubuntu', 'ubuntufedorac', 'uc', 'ucp', 'ud', 'udemi', 'udt', 'uft', 'uftqtp', 'ug', 'ugc', 'uh', 'ui', 'uitrgpvdata', 'uk', 'ul', 'ulhasnagar', 'uloom', 'ultim', 'uml', 'unanth', 'unbil', 'uncorrect', 'uncov', 'undeliv', 'undergo', 'undergradu', 'underperform', 'understand', 'understood', 'undertak', 'undertaken', 'underw', 'underwrit', 'undo', 'une', 'unicent', 'unicod', 'union', 'uniqu', 'unit', 'uniti', 'univers', 'universityadvocateadvocateskil', 'universityadvocatenewcom', 'universityadvocateskil', 'universityautom', 'universityblockchain', 'universitycloud', 'universitydata', 'universitydatabas', 'universitydesign', 'universitydot', 'universityelectr', 'universityetl', 'universitygm', 'universityhodoop', 'universityhrskil', 'universityjava', 'universitylead', 'universitymechan', 'universityoper', 'universityoracl', 'universityproject', 'universitypython', 'universityqa', 'universityqaqc', 'universitysal', 'universitysap', 'universitysenior', 'universityskil', 'universitysoftwar', 'universitysr', 'universitysystem', 'universityweb', 'unix', 'unixeduc', 'unixi', 'unravel', 'unstructur', 'unsupervis', 'unsupport', 'unus', 'uom', 'up', 'upcom', 'updat', 'updateskil', 'upgrad', 'upgradedowngrad', 'upgradepatch', 'uphenceforth', 'upload', 'upon', 'upstream', 'uptim', 'upto', 'uptod', 'urban', 'urja', 'url', 'urllib', 'usa', 'usabl', 'usag', 'usd', 'use', 'user', 'userfriendli', 'userlevel', 'usersth', 'userâ', 'usi', 'usiskil', 'utc', 'util', 'utilis', 'utilizationoptim', 'utm', 'utp', 'utr', 'uttar', 'v', 'v10', 'v100', 'v11', 'v12', 'v2002', 'v5', 'v85', 'v90', 'vacat', 'vacon', 'vacuum', 'vader', 'vain', 'valid', 'valley', 'valu', 'valuabl', 'valuelab', 'valv', 'vanet', 'vanetvirtu', 'varanasimarti', 'vari', 'variabl', 'varianc', 'variat', 'varieti', 'variou', 'vashi', 'vasundhara', 'vb', 'vb6', 'vba', 'vbnet', 'vbscript', 'vc', 'vcb', 'vdi', 'vector', 'vega', 'veget', 'vehicl', 'vendor', 'ventur', 'venturu', 'venu', 'ver', 'verbal', 'vergata', 'verif', 'verifi', 'vers', 'versa', 'versatil', 'version', 'versionon', 'vertex', 'vertic', 'vessel', 'vet', 'vfd', 'vhd', 'vi', 'via', 'viabil', 'viabl', 'viamedia', 'vice', 'viceversa', 'vidarbha', 'video', 'videoaudio', 'videosteam', 'videostream', 'vidisha', 'vidishtra', 'vidya', 'vidyabharati', 'vidyalankar', 'vidyapeeth', 'vidyashram', 'view', 'viewer', 'vijeocitect', 'villa', 'vimay', 'vinayaka', 'vintela', 'violat', 'violenc', 'vip', 'virtual', 'virtualbox', 'virtualis', 'virtuou', 'visa', 'vise', 'vish', 'vishweshwariya', 'visio', 'vision', 'visit', 'visitor', 'vista', 'vistaar', 'vistex', 'vistor', 'visual', 'visualforc', 'visvesvaraya', 'vitsanindia', 'vivid', 'vj', 'vkk', 'vl', 'vlan', 'vlsi', 'vm', 'vmware', 'vodafon', 'voic', 'voltag', 'volum', 'volunt', 'vpc', 'vpi', 'vpn', 'vqi', 'vsphere', 'vtp', 'vtu', 'vulner', 'vversatil', 'w', 'wab', 'wachovia', 'wagh', 'wagheduc', 'wai', 'waiver', 'walchand', 'walk', 'walkthrough', 'wall', 'wallac', 'wallet', 'wan', 'want', 'war', 'warang', 'ward', 'ware', 'wareh', 'warehous', 'warner', 'warrant', 'warranti', 'wast', 'wastag', 'watch', 'water', 'waterfal', 'waterproof', 'watson', 'wave', 'way', 'wayeduc', 'wcf', 'wd', 'wdeploy', 'wealth', 'wearabl', 'weather', 'web', 'webdata', 'webdriv', 'webframeworkdjango', 'webi', 'webiunivers', 'weblog', 'weblogic12c', 'webserv', 'webservic', 'websit', 'webspher', 'week', 'weekend', 'weekli', 'weeklymonthli', 'weight', 'weka', 'weld', 'welfar', 'well', 'wellnessfit', 'wellvers', 'west', 'western', 'wfm', 'wheeler', 'whenev', 'whether', 'whitacr', 'white', 'whole', 'wholesal', 'wholli', 'whose', 'whywhi', 'wide', 'wifi', 'will', 'willing', 'willingdon', 'wim', 'win', 'wind', 'window', 'windows7', 'windowseduc', 'windowslinux', 'windowsserver2012r2', 'windowsxp710', 'windowsâ', 'windsor', 'wing', 'winsol', 'winxp78110', 'wipro', 'wiproâ', 'wire', 'wireless', 'wise', 'withcustom', 'within', 'withinbudget', 'without', 'wm', 'wmdatalak', 'wn', 'woman', 'wonderwar', 'word', 'word2vec', 'work', 'workbench', 'worker', 'workereduc', 'workflow', 'workflowbatch', 'workforc', 'worklet', 'workload', 'workshop', 'workspac', 'workstat', 'world', 'worldwid', 'would', 'wpl', 'wqr', 'write', 'writer', 'written', 'wrote', 'wti', 'wtp', 'wwf', 'www1stexpertcom', 'www3staragroproductscom', 'wwwceusnursingcom', 'wwwfamilylinkcom', 'wwwjalloshbandcom', 'wwwjanetorg', 'wwwjustbecom', 'wwwluckystationerycoin', 'wwwmtpiancom', 'wwwnitkacom', 'wwwphysicaltherapyhiucom', 'wwwprayerlisterorg', 'wwwpropertysolutionscom', 'wwwrimsyseu', 'wwwsababanlbook', 'wwwshreekiaspackcoin', 'wwwsmashingdaycom', 'wwwspeedyceuscom', 'wwwstplafricacom', 'wwwstplafricaonlinecom', 'wwwviralsocialscom', 'x', 'xampp', 'xcode', 'xen', 'xento', 'xframework', 'xi', 'xii', 'xillinx', 'xinfin', 'xl', 'xml', 'xmlhttp', 'xmlxamlxslt', 'xoriant', 'xp', 'xp0708', 'xp7', 'xp788110', 'xslt', 'xtrabackup', 'xtraction', 'y', 'yalamanchili', 'yallaspre', 'yangon', 'yarn', 'yashwant', 'yashwantrao', 'ye', 'year', 'yearli', 'yee', 'yeola', 'yeshwantrao', 'yibal', 'ymca', 'ymcaskil', 'ymcaust', 'yogesh', 'york', 'young', 'youth', 'yr', 'zaggl', 'zambia', 'zd', 'zeno', 'zensar', 'zero', 'zhypil', 'zone', 'zookeep', 'zz', 'âcustom', 'âexcel', 'âintent', 'âintroduct', 'âmedic', 'âmulti', 'ârobot', 'âsocial', 'âvendor', 'âª', 'ââ', 'ââcisco', 'ã', 'ã¼', 'ã¼â', 'ãâ', 'ï']\n",
            "[5.037186148382152, 5.442651256490317, 5.442651256490317, 5.037186148382152, 5.442651256490317, 5.442651256490317, 5.442651256490317, 5.442651256490317, 5.442651256490317, 5.442651256490317, 5.037186148382152, 5.442651256490317, 5.442651256490317, 5.442651256490317, 5.442651256490317, 5.442651256490317, 2.916922612182061, 4.749504075930371, 5.442651256490317, 5.442651256490317, 5.442651256490317, 5.442651256490317, 3.833213344056216, 5.442651256490317, 5.037186148382152, 5.442651256490317, 3.570849079588725, 5.442651256490317, 5.442651256490317, 5.442651256490317, 5.442651256490317, 5.442651256490317, 5.442651256490317, 5.442651256490317, 5.442651256490317, 3.7379031642518914, 5.442651256490317, 5.442651256490317, 3.1913594578838214, 4.344038967822207, 5.442651256490317, 5.442651256490317, 5.442651256490317, 4.526360524616162, 5.442651256490317, 5.442651256490317, 4.189888287994949, 5.442651256490317, 5.442651256490317, 4.344038967822207, 5.442651256490317, 3.4277482359480516, 5.442651256490317, 5.442651256490317, 5.442651256490317, 3.7379031642518914, 5.442651256490317, 5.442651256490317, 5.442651256490317, 5.442651256490317, 4.526360524616162, 5.037186148382152, 5.442651256490317, 4.526360524616162, 5.037186148382152, 5.442651256490317, 5.442651256490317, 5.442651256490317, 4.344038967822207, 5.037186148382152, 5.442651256490317, 5.442651256490317, 5.442651256490317, 5.442651256490317, 4.749504075930371, 5.442651256490317, 5.442651256490317, 4.344038967822207, 4.749504075930371, 5.442651256490317, 5.442651256490317, 5.442651256490317, 5.442651256490317, 5.442651256490317, 5.442651256490317, 5.442651256490317, 5.442651256490317, 4.749504075930371, 5.442651256490317, 5.442651256490317, 5.442651256490317, 2.3516088031320006, 3.570849079588725, 4.056356895370426, 5.442651256490317, 5.442651256490317, 5.442651256490317, 5.442651256490317, 4.344038967822207, 4.526360524616162, 4.189888287994949, 5.442651256490317, 5.442651256490317, 4.056356895370426, 3.6508917872622613, 5.442651256490317, 5.442651256490317, 3.570849079588725, 5.442651256490317, 5.442651256490317, 3.570849079588725, 5.442651256490317, 5.442651256490317, 5.442651256490317, 2.957744606702316, 5.442651256490317, 5.442651256490317, 5.442651256490317, 5.442651256490317, 5.442651256490317, 5.442651256490317, 5.442651256490317, 3.3632097148104805, 5.442651256490317, 5.442651256490317, 2.7685026070637875, 5.442651256490317, 5.442651256490317, 2.916922612182061, 2.5522794985941517, 5.442651256490317, 5.442651256490317, 5.442651256490317, 2.803593926875058, 5.442651256490317, 5.442651256490317, 2.580450375560848, 2.5248805244060373, 5.442651256490317, 5.442651256490317, 2.307157040561167, 5.442651256490317, 5.442651256490317, 5.442651256490317, 5.442651256490317, 2.4722367909206153, 5.037186148382152, 5.442651256490317, 2.734601055388106, 5.442651256490317, 4.344038967822207, 5.442651256490317, 5.442651256490317, 5.442651256490317, 5.442651256490317, 5.442651256490317, 4.526360524616162, 5.442651256490317, 5.442651256490317, 5.442651256490317, 4.749504075930371, 5.442651256490317, 5.442651256490317, 5.442651256490317, 5.442651256490317, 4.344038967822207, 5.442651256490317, 3.044755983691946, 5.442651256490317, 5.442651256490317, 4.526360524616162, 5.442651256490317, 5.442651256490317, 5.442651256490317, 4.749504075930371, 4.749504075930371, 5.442651256490317, 5.442651256490317, 5.037186148382152, 5.037186148382152, 4.749504075930371, 5.442651256490317, 4.344038967822207, 5.442651256490317, 5.442651256490317, 5.442651256490317, 4.749504075930371, 5.442651256490317, 5.037186148382152, 5.442651256490317, 5.442651256490317, 5.442651256490317, 5.442651256490317, 5.442651256490317, 5.442651256490317, 5.037186148382152, 5.442651256490317, 5.442651256490317, 5.442651256490317, 5.442651256490317, 5.442651256490317, 5.442651256490317, 2.3745983213566992, 4.189888287994949, 5.442651256490317, 5.442651256490317, 5.442651256490317, 5.442651256490317, 4.749504075930371, 5.037186148382152, 5.442651256490317, 4.749504075930371, 5.442651256490317, 5.442651256490317, 5.442651256490317, 5.037186148382152, 5.037186148382152, 5.442651256490317, 4.056356895370426, 5.442651256490317, 5.037186148382152, 5.037186148382152, 5.442651256490317, 5.442651256490317, 5.442651256490317, 5.442651256490317, 5.442651256490317, 5.442651256490317, 5.442651256490317, 5.442651256490317, 4.526360524616162, 5.442651256490317, 5.442651256490317, 5.442651256490317, 5.442651256490317, 5.442651256490317, 5.442651256490317, 5.442651256490317, 5.442651256490317, 5.442651256490317, 2.803593926875058, 4.344038967822207, 5.037186148382152, 5.442651256490317, 5.442651256490317, 5.442651256490317, 5.442651256490317, 5.442651256490317, 5.442651256490317, 5.442651256490317, 4.749504075930371, 5.442651256490317, 5.442651256490317, 4.749504075930371, 5.442651256490317, 5.037186148382152, 4.344038967822207, 5.442651256490317, 5.037186148382152, 5.037186148382152, 3.7379031642518914, 5.442651256490317, 5.442651256490317, 5.442651256490317, 5.442651256490317, 5.442651256490317, 5.442651256490317, 5.442651256490317, 2.7685026070637875, 4.344038967822207, 5.442651256490317, 5.442651256490317, 5.037186148382152, 5.442651256490317, 5.442651256490317, 4.749504075930371, 5.442651256490317, 5.442651256490317, 5.442651256490317, 5.442651256490317, 5.442651256490317, 5.442651256490317, 5.442651256490317, 5.442651256490317, 1.8453389959018707, 3.496741107435003, 5.037186148382152, 5.442651256490317, 5.442651256490317, 5.442651256490317, 5.442651256490317, 5.037186148382152, 5.442651256490317, 5.442651256490317, 5.037186148382152, 5.442651256490317, 5.442651256490317, 5.442651256490317, 5.442651256490317, 3.0912759993268386, 5.037186148382152, 5.442651256490317, 5.442651256490317, 5.442651256490317, 5.442651256490317, 4.189888287994949, 5.442651256490317, 5.442651256490317, 5.037186148382152, 5.037186148382152, 5.442651256490317, 5.442651256490317, 5.442651256490317, 5.442651256490317, 5.442651256490317, 5.037186148382152, 5.442651256490317, 5.037186148382152, 5.442651256490317, 5.442651256490317, 3.302585092994046, 4.344038967822207, 5.442651256490317, 5.442651256490317, 4.749504075930371, 4.344038967822207, 5.442651256490317, 5.442651256490317, 5.442651256490317, 5.442651256490317, 5.442651256490317, 5.442651256490317, 3.9385738597140425, 5.037186148382152, 5.442651256490317, 5.442651256490317, 4.749504075930371, 5.037186148382152, 5.442651256490317, 4.749504075930371, 4.056356895370426, 5.442651256490317, 5.037186148382152, 5.442651256490317, 5.442651256490317, 5.442651256490317, 5.037186148382152, 5.442651256490317, 5.442651256490317, 5.442651256490317, 5.037186148382152, 5.442651256490317, 5.442651256490317, 5.442651256490317, 5.442651256490317, 4.526360524616162, 5.442651256490317, 5.442651256490317, 5.037186148382152, 5.442651256490317, 5.037186148382152, 2.957744606702316, 3.9385738597140425, 5.442651256490317, 5.442651256490317, 5.442651256490317, 5.037186148382152, 5.442651256490317, 5.442651256490317, 4.056356895370426, 3.9385738597140425, 5.037186148382152, 5.442651256490317, 5.037186148382152, 5.037186148382152, 2.7685026070637875, 5.442651256490317, 5.442651256490317, 5.037186148382152, 5.442651256490317, 4.344038967822207, 5.037186148382152, 3.044755983691946, 3.833213344056216, 3.4277482359480516, 2.2237754316221157, 5.037186148382152, 5.442651256490317, 5.442651256490317, 5.442651256490317, 4.344038967822207, 4.344038967822207, 3.302585092994046, 5.442651256490317, 5.442651256490317, 5.442651256490317, 4.344038967822207, 5.442651256490317, 4.344038967822207, 5.442651256490317, 3.9385738597140425, 4.749504075930371, 5.442651256490317, 3.9385738597140425, 5.442651256490317, 4.344038967822207, 4.526360524616162, 5.442651256490317, 5.442651256490317, 5.442651256490317, 5.442651256490317, 5.442651256490317, 5.442651256490317, 3.6508917872622613, 4.526360524616162, 2.734601055388106, 5.442651256490317, 4.526360524616162, 5.442651256490317, 5.442651256490317, 5.442651256490317, 5.442651256490317, 5.037186148382152, 5.442651256490317, 5.442651256490317, 5.442651256490317, 4.749504075930371, 5.442651256490317, 3.302585092994046, 5.037186148382152, 5.442651256490317, 4.344038967822207, 5.037186148382152, 5.037186148382152, 4.526360524616162, 5.442651256490317, 4.526360524616162, 5.442651256490317, 5.442651256490317, 5.442651256490317, 5.037186148382152, 5.442651256490317, 4.526360524616162, 5.442651256490317, 4.189888287994949, 5.442651256490317, 4.526360524616162, 5.442651256490317, 5.442651256490317, 5.442651256490317, 3.3632097148104805, 5.442651256490317, 4.749504075930371, 5.442651256490317, 5.442651256490317, 5.037186148382152, 5.442651256490317, 5.442651256490317, 5.442651256490317, 5.442651256490317, 5.442651256490317, 5.037186148382152, 4.056356895370426, 5.442651256490317, 4.749504075930371, 3.7379031642518914, 5.442651256490317, 5.442651256490317, 5.442651256490317, 5.442651256490317, 5.037186148382152, 5.442651256490317, 5.037186148382152, 5.442651256490317, 5.442651256490317, 5.442651256490317, 5.442651256490317, 4.749504075930371, 5.442651256490317, 5.037186148382152, 5.442651256490317, 4.056356895370426, 4.056356895370426, 5.442651256490317, 5.442651256490317, 5.442651256490317, 5.037186148382152, 5.442651256490317, 5.442651256490317, 5.442651256490317, 4.749504075930371, 5.442651256490317, 5.442651256490317, 4.749504075930371, 5.442651256490317, 3.6508917872622613, 5.442651256490317, 5.442651256490317, 5.442651256490317, 5.442651256490317, 4.749504075930371, 5.442651256490317, 5.037186148382152, 5.442651256490317, 5.442651256490317, 5.442651256490317, 5.442651256490317, 3.6508917872622613, 5.442651256490317, 5.442651256490317, 3.7379031642518914, 5.442651256490317, 5.442651256490317, 5.037186148382152, 5.442651256490317, 5.442651256490317, 5.442651256490317, 5.442651256490317, 5.442651256490317, 5.442651256490317, 5.442651256490317, 4.526360524616162, 5.442651256490317, 4.056356895370426, 5.442651256490317, 5.442651256490317, 3.496741107435003, 4.526360524616162, 2.734601055388106, 5.442651256490317, 4.344038967822207, 5.442651256490317, 5.442651256490317, 4.526360524616162, 5.037186148382152, 5.442651256490317, 4.749504075930371, 5.442651256490317, 5.442651256490317, 5.442651256490317, 5.442651256490317, 5.442651256490317, 5.442651256490317, 5.037186148382152, 5.037186148382152, 4.344038967822207, 5.442651256490317, 5.442651256490317, 5.442651256490317, 5.442651256490317, 5.442651256490317, 4.749504075930371, 4.749504075930371, 5.442651256490317, 5.442651256490317, 4.189888287994949, 5.442651256490317, 5.442651256490317, 5.442651256490317, 5.442651256490317, 5.442651256490317, 5.442651256490317, 5.442651256490317, 4.189888287994949, 2.398128818766893, 3.4277482359480516, 4.344038967822207, 5.442651256490317, 4.749504075930371, 2.803593926875058, 5.037186148382152, 5.037186148382152, 2.498212277323876, 5.442651256490317, 4.749504075930371, 5.037186148382152, 4.749504075930371, 5.037186148382152, 4.056356895370426, 5.442651256490317, 5.442651256490317, 3.570849079588725, 5.442651256490317, 5.442651256490317, 4.189888287994949, 5.442651256490317, 5.442651256490317, 5.442651256490317, 5.442651256490317, 5.037186148382152, 4.344038967822207, 5.442651256490317, 3.9385738597140425, 5.442651256490317, 5.442651256490317, 5.442651256490317, 4.056356895370426, 5.442651256490317, 5.442651256490317, 5.442651256490317, 5.442651256490317, 5.037186148382152, 5.037186148382152, 5.442651256490317, 5.442651256490317, 5.037186148382152, 5.442651256490317, 4.344038967822207, 3.7379031642518914, 4.189888287994949, 5.442651256490317, 2.957744606702316, 4.749504075930371, 5.442651256490317, 5.442651256490317, 4.526360524616162, 5.442651256490317, 3.6508917872622613, 5.037186148382152, 4.749504075930371, 5.442651256490317, 5.442651256490317, 5.442651256490317, 3.302585092994046, 5.037186148382152, 5.442651256490317, 3.833213344056216, 5.442651256490317, 5.442651256490317, 5.442651256490317, 5.442651256490317, 5.442651256490317, 3.302585092994046, 5.442651256490317, 1.9461436950238362, 5.442651256490317, 5.442651256490317, 5.442651256490317, 5.442651256490317, 5.037186148382152, 4.056356895370426, 4.526360524616162, 4.189888287994949, 3.570849079588725, 3.9385738597140425, 5.442651256490317, 5.442651256490317, 3.833213344056216, 5.037186148382152, 5.442651256490317, 5.442651256490317, 5.442651256490317, 5.442651256490317, 3.9385738597140425, 5.442651256490317, 3.4277482359480516, 4.749504075930371, 5.442651256490317, 2.8777018990287795, 5.442651256490317, 5.442651256490317, 5.442651256490317, 5.442651256490317, 5.442651256490317, 5.442651256490317, 5.442651256490317, 5.442651256490317, 5.442651256490317, 5.442651256490317, 5.442651256490317, 5.442651256490317, 3.7379031642518914, 3.6508917872622613, 5.037186148382152, 5.442651256490317, 3.833213344056216, 5.037186148382152, 5.442651256490317, 5.037186148382152, 5.442651256490317, 5.442651256490317, 5.442651256490317, 5.442651256490317, 5.037186148382152, 5.037186148382152, 5.442651256490317, 4.749504075930371, 5.442651256490317, 5.037186148382152, 5.442651256490317, 5.037186148382152, 5.442651256490317, 5.442651256490317, 4.749504075930371, 4.749504075930371, 4.344038967822207, 5.442651256490317, 4.056356895370426, 5.442651256490317, 4.056356895370426, 5.037186148382152, 4.344038967822207, 5.442651256490317, 5.442651256490317, 4.056356895370426, 5.037186148382152, 4.526360524616162, 4.056356895370426, 5.442651256490317, 3.4277482359480516, 2.957744606702316, 3.496741107435003, 5.442651256490317, 5.442651256490317, 5.442651256490317, 5.442651256490317, 5.442651256490317, 3.7379031642518914, 5.442651256490317, 5.442651256490317, 5.442651256490317, 5.442651256490317, 5.442651256490317, 5.442651256490317, 5.037186148382152, 4.749504075930371, 5.442651256490317, 5.442651256490317, 5.442651256490317, 5.037186148382152, 5.442651256490317, 5.037186148382152, 3.302585092994046, 3.833213344056216, 5.442651256490317, 5.442651256490317, 4.749504075930371, 4.344038967822207, 5.442651256490317, 4.749504075930371, 5.442651256490317, 3.1400661634962708, 3.9385738597140425, 5.442651256490317, 5.442651256490317, 3.302585092994046, 5.037186148382152, 5.442651256490317, 3.7379031642518914, 5.442651256490317, 5.442651256490317, 5.442651256490317, 4.344038967822207, 5.442651256490317, 3.570849079588725, 5.442651256490317, 4.189888287994949, 3.7379031642518914, 5.442651256490317, 2.5522794985941517, 4.526360524616162, 5.442651256490317, 5.442651256490317, 5.037186148382152, 5.442651256490317, 5.442651256490317, 4.749504075930371, 5.442651256490317, 5.442651256490317, 5.442651256490317, 3.000304221121112, 5.442651256490317, 5.037186148382152, 5.037186148382152, 5.442651256490317, 5.037186148382152, 5.442651256490317, 3.6508917872622613, 4.344038967822207, 4.344038967822207, 4.526360524616162, 5.442651256490317, 5.442651256490317, 5.442651256490317, 5.442651256490317, 5.442651256490317, 5.442651256490317, 5.442651256490317, 4.526360524616162, 5.037186148382152, 5.037186148382152, 3.7379031642518914, 5.442651256490317, 5.037186148382152, 5.442651256490317, 5.442651256490317, 5.442651256490317, 3.9385738597140425, 2.4469189829363254, 5.442651256490317, 3.6508917872622613, 3.7379031642518914, 4.749504075930371, 5.442651256490317, 5.442651256490317, 3.1913594578838214, 5.037186148382152, 5.442651256490317, 5.442651256490317, 5.442651256490317, 5.037186148382152, 5.442651256490317, 4.526360524616162, 5.442651256490317, 5.442651256490317, 5.442651256490317, 5.442651256490317, 5.442651256490317, 4.749504075930371, 4.749504075930371, 4.344038967822207, 5.442651256490317, 5.442651256490317, 5.442651256490317, 2.670062534250535, 5.442651256490317, 5.442651256490317, 5.037186148382152, 5.442651256490317, 4.749504075930371, 5.442651256490317, 5.442651256490317, 4.526360524616162, 5.442651256490317, 5.442651256490317, 5.037186148382152, 5.442651256490317, 5.442651256490317, 2.041453874828161, 5.442651256490317, 2.957744606702316, 2.7685026070637875, 5.442651256490317, 5.442651256490317, 4.526360524616162, 5.442651256490317, 5.442651256490317, 5.442651256490317, 5.037186148382152, 5.037186148382152, 5.037186148382152, 5.442651256490317, 5.442651256490317, 5.442651256490317, 5.037186148382152, 4.344038967822207, 5.442651256490317, 4.344038967822207, 5.037186148382152, 5.037186148382152, 5.442651256490317, 5.442651256490317, 4.749504075930371, 5.442651256490317, 5.442651256490317, 5.442651256490317, 5.037186148382152, 5.442651256490317, 5.442651256490317, 5.442651256490317, 5.442651256490317, 5.442651256490317, 4.749504075930371, 5.037186148382152, 5.037186148382152, 5.442651256490317, 5.442651256490317, 4.189888287994949, 4.189888287994949, 5.442651256490317, 5.442651256490317, 3.245426679154097, 4.189888287994949, 5.442651256490317, 5.442651256490317, 5.037186148382152, 5.442651256490317, 5.442651256490317, 4.749504075930371, 5.442651256490317, 5.442651256490317, 5.442651256490317, 5.442651256490317, 5.442651256490317, 5.442651256490317, 5.442651256490317, 5.442651256490317, 5.037186148382152, 5.442651256490317, 3.6508917872622613, 5.442651256490317, 5.442651256490317, 5.037186148382152, 5.442651256490317, 3.9385738597140425, 5.442651256490317, 5.442651256490317, 5.442651256490317, 5.442651256490317, 3.3632097148104805, 5.442651256490317, 5.442651256490317, 5.442651256490317, 5.442651256490317, 5.442651256490317, 5.442651256490317, 5.442651256490317, 5.442651256490317, 5.442651256490317, 5.442651256490317, 5.442651256490317, 5.037186148382152, 5.442651256490317, 5.442651256490317, 5.037186148382152, 5.037186148382152, 5.442651256490317, 5.442651256490317, 5.442651256490317, 5.442651256490317, 5.442651256490317, 5.442651256490317, 4.749504075930371, 5.442651256490317, 5.442651256490317, 4.189888287994949, 5.442651256490317, 4.526360524616162, 5.442651256490317, 5.442651256490317, 5.037186148382152, 5.442651256490317, 5.037186148382152, 5.442651256490317, 5.442651256490317, 5.442651256490317, 5.442651256490317, 5.442651256490317, 4.749504075930371, 4.749504075930371, 2.734601055388106, 5.442651256490317, 5.442651256490317, 5.442651256490317, 4.749504075930371, 5.442651256490317, 5.037186148382152, 5.442651256490317, 5.037186148382152, 5.442651256490317, 5.037186148382152, 5.442651256490317, 5.442651256490317, 5.442651256490317, 5.442651256490317, 5.442651256490317, 5.442651256490317, 5.442651256490317, 4.749504075930371, 5.442651256490317, 5.037186148382152, 4.526360524616162, 4.344038967822207, 4.344038967822207, 3.9385738597140425, 5.442651256490317, 5.037186148382152, 5.442651256490317, 3.7379031642518914, 5.442651256490317, 4.344038967822207, 5.442651256490317, 5.442651256490317, 5.442651256490317, 5.442651256490317, 5.442651256490317, 4.749504075930371, 5.442651256490317, 5.442651256490317, 5.442651256490317, 5.442651256490317, 5.442651256490317, 5.037186148382152, 5.442651256490317, 5.037186148382152, 5.442651256490317, 5.442651256490317, 5.442651256490317, 4.749504075930371, 3.6508917872622613, 4.344038967822207, 5.442651256490317, 4.526360524616162, 5.442651256490317, 5.037186148382152, 4.749504075930371, 4.749504075930371, 5.442651256490317, 5.442651256490317, 4.344038967822207, 3.9385738597140425, 4.344038967822207, 5.442651256490317, 5.037186148382152, 5.442651256490317, 5.442651256490317, 5.037186148382152, 5.037186148382152, 5.442651256490317, 5.442651256490317, 5.442651256490317, 4.749504075930371, 5.442651256490317, 5.037186148382152, 5.442651256490317, 3.3632097148104805, 5.442651256490317, 5.442651256490317, 5.442651256490317, 5.037186148382152, 3.9385738597140425, 5.442651256490317, 4.526360524616162, 4.749504075930371, 3.4277482359480516, 5.442651256490317, 3.302585092994046, 5.442651256490317, 2.5522794985941517, 5.442651256490317, 5.442651256490317, 4.526360524616162, 4.189888287994949, 5.037186148382152, 5.442651256490317, 5.442651256490317, 5.442651256490317, 2.0086640520051704, 5.442651256490317, 5.037186148382152, 5.442651256490317, 4.749504075930371, 5.442651256490317, 2.3745983213566992, 5.037186148382152, 4.526360524616162, 5.442651256490317, 5.442651256490317, 4.344038967822207, 5.442651256490317, 5.442651256490317, 5.037186148382152, 5.442651256490317, 5.442651256490317, 5.442651256490317, 5.442651256490317, 3.496741107435003, 5.442651256490317, 4.749504075930371, 5.442651256490317, 5.442651256490317, 4.749504075930371, 3.044755983691946, 5.442651256490317, 5.442651256490317, 5.442651256490317, 5.442651256490317, 5.037186148382152, 5.037186148382152, 5.442651256490317, 4.749504075930371, 5.442651256490317, 5.442651256490317, 5.442651256490317, 4.749504075930371, 5.442651256490317, 5.037186148382152, 3.833213344056216, 3.7379031642518914, 5.442651256490317, 5.442651256490317, 4.344038967822207, 4.189888287994949, 5.442651256490317, 4.056356895370426, 5.037186148382152, 4.344038967822207, 3.9385738597140425, 5.442651256490317, 5.442651256490317, 3.7379031642518914, 4.056356895370426, 5.037186148382152, 5.442651256490317, 5.442651256490317, 5.442651256490317, 3.7379031642518914, 5.037186148382152, 5.442651256490317, 5.442651256490317, 2.6392908755837814, 4.056356895370426, 5.442651256490317, 5.442651256490317, 5.442651256490317, 5.037186148382152, 5.442651256490317, 5.442651256490317, 5.442651256490317, 5.037186148382152, 5.442651256490317, 5.442651256490317, 3.9385738597140425, 5.037186148382152, 4.749504075930371, 3.570849079588725, 4.749504075930371, 5.442651256490317, 5.442651256490317, 5.442651256490317, 5.037186148382152, 5.442651256490317, 5.442651256490317, 5.442651256490317, 5.442651256490317, 5.442651256490317, 5.442651256490317, 5.442651256490317, 5.037186148382152, 3.245426679154097, 5.442651256490317, 4.749504075930371, 4.056356895370426, 3.833213344056216, 5.442651256490317, 5.442651256490317, 5.442651256490317, 5.442651256490317, 5.442651256490317, 5.442651256490317, 5.442651256490317, 5.442651256490317, 5.442651256490317, 3.000304221121112, 3.7379031642518914, 5.442651256490317, 5.442651256490317, 5.037186148382152, 5.442651256490317, 4.344038967822207, 5.442651256490317, 3.7379031642518914, 5.442651256490317, 5.442651256490317, 5.442651256490317, 5.037186148382152, 2.6392908755837814, 5.442651256490317, 4.056356895370426, 5.037186148382152, 5.442651256490317, 5.037186148382152, 5.442651256490317, 5.442651256490317, 5.442651256490317, 5.442651256490317, 5.442651256490317, 4.526360524616162, 5.442651256490317, 5.442651256490317, 5.442651256490317, 4.749504075930371, 5.442651256490317, 5.442651256490317, 5.037186148382152, 5.442651256490317, 2.916922612182061, 5.442651256490317, 5.037186148382152, 5.037186148382152, 5.037186148382152, 5.442651256490317, 4.749504075930371, 5.442651256490317, 4.189888287994949, 5.037186148382152, 5.442651256490317, 5.442651256490317, 5.442651256490317, 5.442651256490317, 5.442651256490317, 5.037186148382152, 5.442651256490317, 5.442651256490317, 5.037186148382152, 4.749504075930371, 5.442651256490317, 5.037186148382152, 5.442651256490317, 5.442651256490317, 5.442651256490317, 5.442651256490317, 5.442651256490317, 5.037186148382152, 5.037186148382152, 5.037186148382152, 5.442651256490317, 5.037186148382152, 5.442651256490317, 4.344038967822207, 5.442651256490317, 5.442651256490317, 4.056356895370426, 5.442651256490317, 5.442651256490317, 5.442651256490317, 5.442651256490317, 5.442651256490317, 3.833213344056216, 5.442651256490317, 5.442651256490317, 5.442651256490317, 5.442651256490317, 5.442651256490317, 5.442651256490317, 4.344038967822207, 4.526360524616162, 5.037186148382152, 5.442651256490317, 4.056356895370426, 5.037186148382152, 4.189888287994949, 4.749504075930371, 5.442651256490317, 4.056356895370426, 5.037186148382152, 5.442651256490317, 5.037186148382152, 1.8731185600089462, 5.442651256490317, 5.442651256490317, 4.189888287994949, 5.442651256490317, 4.749504075930371, 5.442651256490317, 5.442651256490317, 3.570849079588725, 5.442651256490317, 4.749504075930371, 3.6508917872622613, 5.442651256490317, 4.344038967822207, 5.442651256490317, 5.037186148382152, 3.4277482359480516, 5.037186148382152, 5.037186148382152, 5.442651256490317, 5.442651256490317, 5.037186148382152, 4.749504075930371, 4.056356895370426, 4.344038967822207, 5.442651256490317, 5.442651256490317, 5.442651256490317, 5.442651256490317, 5.442651256490317, 4.749504075930371, 2.803593926875058, 5.442651256490317, 5.442651256490317, 5.442651256490317, 4.526360524616162, 5.442651256490317, 5.442651256490317, 5.442651256490317, 5.037186148382152, 5.037186148382152, 4.189888287994949, 5.442651256490317, 3.6508917872622613, 5.442651256490317, 5.442651256490317, 5.442651256490317, 3.6508917872622613, 2.128465251817791, 5.442651256490317, 5.442651256490317, 5.442651256490317, 5.442651256490317, 5.442651256490317, 5.442651256490317, 5.442651256490317, 5.442651256490317, 5.442651256490317, 5.442651256490317, 5.442651256490317, 5.442651256490317, 5.442651256490317, 5.442651256490317, 5.442651256490317, 5.037186148382152, 5.442651256490317, 4.526360524616162, 5.442651256490317, 4.526360524616162, 3.7379031642518914, 5.442651256490317, 4.526360524616162, 5.442651256490317, 5.442651256490317, 4.056356895370426, 5.442651256490317, 4.344038967822207, 3.6508917872622613, 3.7379031642518914, 5.442651256490317, 3.9385738597140425, 5.037186148382152, 4.749504075930371, 4.749504075930371, 5.037186148382152, 4.749504075930371, 5.442651256490317, 2.184554718468834, 5.442651256490317, 5.442651256490317, 5.442651256490317, 3.570849079588725, 5.442651256490317, 5.442651256490317, 5.442651256490317, 4.189888287994949, 5.442651256490317, 5.442651256490317, 4.526360524616162, 5.037186148382152, 5.442651256490317, 4.344038967822207, 3.9385738597140425, 3.9385738597140425, 4.344038967822207, 5.037186148382152, 4.189888287994949, 2.4469189829363254, 3.570849079588725, 4.344038967822207, 3.570849079588725, 5.442651256490317, 5.442651256490317, 3.6508917872622613, 5.442651256490317, 5.037186148382152, 4.344038967822207, 1.9461436950238362, 4.749504075930371, 5.442651256490317, 3.4277482359480516, 5.037186148382152, 4.344038967822207, 5.442651256490317, 5.442651256490317, 5.442651256490317, 5.037186148382152, 5.037186148382152, 5.037186148382152, 5.442651256490317, 3.9385738597140425, 2.839961571045933, 4.056356895370426, 4.526360524616162, 2.839961571045933, 5.037186148382152, 5.442651256490317, 4.749504075930371, 5.037186148382152, 5.442651256490317, 4.749504075930371, 5.442651256490317, 5.442651256490317, 3.6508917872622613, 5.442651256490317, 5.442651256490317, 5.442651256490317, 5.037186148382152, 5.442651256490317, 5.037186148382152, 4.056356895370426, 5.037186148382152, 4.749504075930371, 5.442651256490317, 4.526360524616162, 3.7379031642518914, 5.442651256490317, 2.916922612182061, 5.442651256490317, 5.442651256490317, 5.442651256490317, 5.442651256490317, 5.442651256490317, 5.442651256490317, 4.189888287994949, 5.442651256490317, 4.056356895370426, 5.442651256490317, 5.442651256490317, 5.037186148382152, 4.189888287994949, 5.442651256490317, 5.037186148382152, 5.442651256490317, 5.442651256490317, 5.442651256490317, 3.4277482359480516, 3.302585092994046, 5.037186148382152, 4.749504075930371, 3.4277482359480516, 5.442651256490317, 2.3745983213566992, 5.442651256490317, 5.442651256490317, 4.749504075930371, 4.189888287994949, 4.344038967822207, 5.037186148382152, 5.037186148382152, 5.442651256490317, 5.037186148382152, 5.442651256490317, 5.037186148382152, 4.749504075930371, 5.442651256490317, 5.442651256490317, 2.580450375560848, 5.442651256490317, 5.442651256490317, 4.749504075930371, 5.442651256490317, 5.442651256490317, 5.442651256490317, 2.6392908755837814, 5.442651256490317, 5.442651256490317, 5.442651256490317, 5.442651256490317, 5.442651256490317, 3.0912759993268386, 5.442651256490317, 3.302585092994046, 5.442651256490317, 5.442651256490317, 4.526360524616162, 5.442651256490317, 5.037186148382152, 5.442651256490317, 3.4277482359480516, 5.442651256490317, 5.442651256490317, 5.037186148382152, 4.344038967822207, 5.442651256490317, 4.526360524616162, 5.442651256490317, 5.037186148382152, 5.442651256490317, 3.6508917872622613, 5.442651256490317, 5.442651256490317, 3.4277482359480516, 5.442651256490317, 5.442651256490317, 4.189888287994949, 5.442651256490317, 5.442651256490317, 4.526360524616162, 4.344038967822207, 5.442651256490317, 5.442651256490317, 5.442651256490317, 5.442651256490317, 5.037186148382152, 5.037186148382152, 5.037186148382152, 5.442651256490317, 5.442651256490317, 4.749504075930371, 4.526360524616162, 2.092747169215712, 5.442651256490317, 5.442651256490317, 3.302585092994046, 5.442651256490317, 4.749504075930371, 5.442651256490317, 5.442651256490317, 4.056356895370426, 5.442651256490317, 4.344038967822207, 5.442651256490317, 5.442651256490317, 4.344038967822207, 5.442651256490317, 5.442651256490317, 5.442651256490317, 5.442651256490317, 5.442651256490317, 3.4277482359480516, 3.833213344056216, 5.442651256490317, 5.442651256490317, 5.442651256490317, 5.442651256490317, 4.189888287994949, 5.037186148382152, 5.442651256490317, 5.442651256490317, 5.442651256490317, 5.442651256490317, 5.442651256490317, 5.442651256490317, 4.526360524616162, 3.245426679154097, 5.442651256490317, 5.442651256490317, 4.344038967822207, 5.442651256490317, 5.442651256490317, 5.442651256490317, 3.833213344056216, 4.749504075930371, 5.442651256490317, 5.442651256490317, 5.442651256490317, 5.442651256490317, 5.442651256490317, 5.442651256490317, 5.442651256490317, 5.442651256490317, 5.442651256490317, 4.344038967822207, 5.442651256490317, 5.442651256490317, 5.037186148382152, 3.1913594578838214, 5.442651256490317, 5.037186148382152, 5.442651256490317, 5.442651256490317, 5.037186148382152, 2.0086640520051704, 5.442651256490317, 5.442651256490317, 5.442651256490317, 5.442651256490317, 5.442651256490317, 5.037186148382152, 4.344038967822207, 5.442651256490317, 5.442651256490317, 5.442651256490317, 5.442651256490317, 5.442651256490317, 5.442651256490317, 3.570849079588725, 5.442651256490317, 5.442651256490317, 5.442651256490317, 5.442651256490317, 5.442651256490317, 5.442651256490317, 2.803593926875058, 5.037186148382152, 5.037186148382152, 5.037186148382152, 4.749504075930371, 5.442651256490317, 5.442651256490317, 5.442651256490317, 5.037186148382152, 5.442651256490317, 4.749504075930371, 5.442651256490317, 3.570849079588725, 5.442651256490317, 1.9016919324530024, 5.442651256490317, 5.442651256490317, 5.442651256490317, 5.037186148382152, 5.442651256490317, 5.442651256490317, 5.442651256490317, 4.749504075930371, 5.442651256490317, 5.442651256490317, 5.442651256490317, 5.442651256490317, 4.526360524616162, 4.749504075930371, 5.442651256490317, 5.442651256490317, 5.442651256490317, 2.803593926875058, 5.442651256490317, 3.000304221121112, 5.442651256490317, 5.442651256490317, 5.442651256490317, 4.526360524616162, 3.302585092994046, 4.749504075930371, 5.442651256490317, 3.9385738597140425, 5.442651256490317, 5.442651256490317, 5.442651256490317, 5.037186148382152, 4.749504075930371, 5.442651256490317, 5.442651256490317, 4.526360524616162, 5.442651256490317, 5.442651256490317, 5.442651256490317, 5.442651256490317, 5.442651256490317, 3.9385738597140425, 5.442651256490317, 3.6508917872622613, 5.037186148382152, 5.442651256490317, 5.442651256490317, 5.442651256490317, 5.442651256490317, 4.749504075930371, 5.037186148382152, 5.442651256490317, 3.7379031642518914, 5.442651256490317, 4.056356895370426, 5.442651256490317, 5.442651256490317, 3.496741107435003, 4.344038967822207, 4.749504075930371, 5.442651256490317, 5.442651256490317, 5.442651256490317, 4.189888287994949, 5.442651256490317, 5.442651256490317, 5.442651256490317, 5.442651256490317, 4.189888287994949, 5.442651256490317, 5.442651256490317, 3.4277482359480516, 5.037186148382152, 5.442651256490317, 5.442651256490317, 5.442651256490317, 3.1913594578838214, 5.442651256490317, 5.442651256490317, 5.442651256490317, 4.189888287994949, 5.442651256490317, 5.442651256490317, 5.442651256490317, 4.526360524616162, 5.037186148382152, 5.442651256490317, 5.037186148382152, 3.570849079588725, 4.526360524616162, 3.1913594578838214, 4.749504075930371, 5.442651256490317, 5.037186148382152, 5.442651256490317, 4.189888287994949, 4.749504075930371, 5.442651256490317, 5.442651256490317, 5.442651256490317, 5.442651256490317, 5.442651256490317, 3.1400661634962708, 5.442651256490317, 4.344038967822207, 2.839961571045933, 5.442651256490317, 5.442651256490317, 5.442651256490317, 5.442651256490317, 5.442651256490317, 4.344038967822207, 5.442651256490317, 5.442651256490317, 1.8873031950009027, 5.442651256490317, 4.749504075930371, 5.442651256490317, 5.442651256490317, 5.442651256490317, 5.037186148382152, 4.344038967822207, 4.749504075930371, 5.037186148382152, 5.442651256490317, 5.442651256490317, 3.302585092994046, 5.442651256490317, 3.9385738597140425, 5.442651256490317, 3.9385738597140425, 5.442651256490317, 4.344038967822207, 1.4914075379088891, 5.442651256490317, 5.442651256490317, 5.442651256490317, 5.037186148382152, 4.189888287994949, 4.749504075930371, 5.442651256490317, 5.037186148382152, 5.442651256490317, 5.442651256490317, 5.442651256490317, 5.442651256490317, 3.6508917872622613, 5.442651256490317, 4.526360524616162, 5.037186148382152, 3.302585092994046, 5.442651256490317, 5.442651256490317, 5.442651256490317, 5.442651256490317, 5.442651256490317, 5.037186148382152, 5.442651256490317, 3.7379031642518914, 5.442651256490317, 3.9385738597140425, 5.442651256490317, 5.442651256490317, 5.442651256490317, 5.442651256490317, 5.442651256490317, 5.442651256490317, 5.442651256490317, 5.442651256490317, 5.442651256490317, 5.442651256490317, 5.442651256490317, 5.442651256490317, 5.442651256490317, 5.037186148382152, 5.442651256490317, 5.442651256490317, 5.037186148382152, 5.037186148382152, 5.442651256490317, 4.526360524616162, 3.9385738597140425, 5.037186148382152, 5.442651256490317, 5.442651256490317, 5.442651256490317, 5.442651256490317, 5.037186148382152, 5.037186148382152, 2.4469189829363254, 5.442651256490317, 5.037186148382152, 4.749504075930371, 3.9385738597140425, 5.442651256490317, 5.442651256490317, 5.037186148382152, 5.037186148382152, 4.749504075930371, 5.442651256490317, 2.5248805244060373, 5.037186148382152, 3.570849079588725, 4.189888287994949, 5.037186148382152, 4.749504075930371, 5.037186148382152, 5.442651256490317, 5.037186148382152, 5.442651256490317, 4.526360524616162, 5.442651256490317, 5.442651256490317, 5.442651256490317, 5.037186148382152, 5.442651256490317, 5.442651256490317, 4.749504075930371, 3.570849079588725, 4.749504075930371, 5.442651256490317, 4.344038967822207, 5.442651256490317, 5.442651256490317, 4.749504075930371, 4.344038967822207, 5.442651256490317, 4.749504075930371, 5.442651256490317, 5.037186148382152, 3.4277482359480516, 5.037186148382152, 4.056356895370426, 4.344038967822207, 5.442651256490317, 5.037186148382152, 5.037186148382152, 5.442651256490317, 4.344038967822207, 5.442651256490317, 5.442651256490317, 5.442651256490317, 5.442651256490317, 5.037186148382152, 5.442651256490317, 5.037186148382152, 5.442651256490317, 5.442651256490317, 5.037186148382152, 5.037186148382152, 2.203972804325936, 5.442651256490317, 5.442651256490317, 5.442651256490317, 5.442651256490317, 3.496741107435003, 5.442651256490317, 5.442651256490317, 3.245426679154097, 5.442651256490317, 5.442651256490317, 5.442651256490317, 4.526360524616162, 4.344038967822207, 5.442651256490317, 4.749504075930371, 5.037186148382152, 4.526360524616162, 5.442651256490317, 5.442651256490317, 5.442651256490317, 5.442651256490317, 5.442651256490317, 5.442651256490317, 3.496741107435003, 3.9385738597140425, 5.442651256490317, 5.442651256490317, 5.442651256490317, 3.302585092994046, 5.442651256490317, 5.442651256490317, 5.442651256490317, 5.442651256490317, 5.442651256490317, 5.037186148382152, 4.526360524616162, 3.570849079588725, 5.442651256490317, 4.056356895370426, 4.056356895370426, 5.442651256490317, 5.442651256490317, 5.442651256490317, 5.442651256490317, 5.442651256490317, 5.442651256490317, 5.442651256490317, 5.442651256490317, 5.442651256490317, 4.526360524616162, 5.037186148382152, 4.056356895370426, 5.442651256490317, 5.037186148382152, 5.442651256490317, 5.442651256490317, 3.0912759993268386, 3.9385738597140425, 5.442651256490317, 5.442651256490317, 5.442651256490317, 5.442651256490317, 3.7379031642518914, 5.442651256490317, 3.833213344056216, 5.037186148382152, 5.442651256490317, 5.442651256490317, 5.442651256490317, 5.442651256490317, 5.442651256490317, 5.442651256490317, 5.442651256490317, 5.442651256490317, 5.037186148382152, 4.749504075930371, 4.526360524616162, 5.442651256490317, 4.526360524616162, 5.442651256490317, 5.442651256490317, 5.442651256490317, 5.442651256490317, 5.442651256490317, 5.442651256490317, 4.749504075930371, 5.442651256490317, 5.442651256490317, 3.570849079588725, 5.037186148382152, 5.442651256490317, 4.189888287994949, 4.526360524616162, 4.526360524616162, 5.442651256490317, 5.037186148382152, 5.037186148382152, 5.442651256490317, 5.442651256490317, 5.442651256490317, 4.749504075930371, 5.037186148382152, 5.442651256490317, 5.442651256490317, 1.4353180712578455, 5.442651256490317, 5.442651256490317, 5.442651256490317, 5.442651256490317, 5.442651256490317, 2.734601055388106, 3.1400661634962708, 5.442651256490317, 3.570849079588725, 5.442651256490317, 5.442651256490317, 4.749504075930371, 5.442651256490317, 5.037186148382152, 5.442651256490317, 5.037186148382152, 5.442651256490317, 4.526360524616162, 5.037186148382152, 5.442651256490317, 5.037186148382152, 5.442651256490317, 5.442651256490317, 5.442651256490317, 3.4277482359480516, 5.442651256490317, 3.000304221121112, 4.526360524616162, 5.442651256490317, 5.442651256490317, 5.442651256490317, 5.442651256490317, 5.037186148382152, 4.749504075930371, 4.526360524616162, 5.442651256490317, 5.037186148382152, 3.833213344056216, 5.442651256490317, 5.442651256490317, 4.344038967822207, 5.442651256490317, 5.037186148382152, 4.526360524616162, 5.442651256490317, 5.442651256490317, 5.037186148382152, 4.189888287994949, 3.000304221121112, 5.442651256490317, 5.442651256490317, 4.189888287994949, 5.442651256490317, 5.442651256490317, 5.442651256490317, 5.442651256490317, 5.442651256490317, 4.749504075930371, 2.839961571045933, 5.037186148382152, 5.442651256490317, 5.037186148382152, 3.9385738597140425, 5.442651256490317, 5.037186148382152, 5.442651256490317, 3.833213344056216, 5.442651256490317, 4.344038967822207, 4.749504075930371, 1.7049816382069483, 5.442651256490317, 5.037186148382152, 4.526360524616162, 5.442651256490317, 4.749504075930371, 5.442651256490317, 5.442651256490317, 5.442651256490317, 4.526360524616162, 5.442651256490317, 5.442651256490317, 5.442651256490317, 5.442651256490317, 5.442651256490317, 3.7379031642518914, 5.037186148382152, 5.442651256490317, 5.442651256490317, 5.442651256490317, 3.1400661634962708, 3.000304221121112, 5.442651256490317, 5.442651256490317, 5.037186148382152, 5.442651256490317, 5.442651256490317, 3.9385738597140425, 5.037186148382152, 5.037186148382152, 2.580450375560848, 5.442651256490317, 5.037186148382152, 5.442651256490317, 3.302585092994046, 5.442651256490317, 5.442651256490317, 4.189888287994949, 5.442651256490317, 3.4277482359480516, 3.9385738597140425, 5.442651256490317, 5.037186148382152, 5.442651256490317, 4.526360524616162, 5.442651256490317, 2.285650835340203, 4.526360524616162, 5.442651256490317, 5.442651256490317, 5.442651256490317, 5.442651256490317, 5.442651256490317, 5.442651256490317, 5.442651256490317, 5.442651256490317, 5.442651256490317, 5.442651256490317, 5.442651256490317, 5.037186148382152, 5.442651256490317, 5.037186148382152, 3.3632097148104805, 4.749504075930371, 5.037186148382152, 5.442651256490317, 5.442651256490317, 5.442651256490317, 5.037186148382152, 3.7379031642518914, 5.442651256490317, 3.496741107435003, 5.442651256490317, 4.189888287994949, 5.442651256490317, 5.442651256490317, 5.442651256490317, 5.442651256490317, 5.442651256490317, 4.749504075930371, 5.442651256490317, 5.037186148382152, 3.6508917872622613, 5.442651256490317, 4.749504075930371, 3.4277482359480516, 5.442651256490317, 5.442651256490317, 5.442651256490317, 5.037186148382152, 5.442651256490317, 2.307157040561167, 5.442651256490317, 5.442651256490317, 4.526360524616162, 5.442651256490317, 4.344038967822207, 5.442651256490317, 5.442651256490317, 3.833213344056216, 5.442651256490317, 5.442651256490317, 5.442651256490317, 5.037186148382152, 5.442651256490317, 5.442651256490317, 3.4277482359480516, 5.037186148382152, 3.4277482359480516, 3.9385738597140425, 5.442651256490317, 5.037186148382152, 5.442651256490317, 5.442651256490317, 5.037186148382152, 5.442651256490317, 4.344038967822207, 5.442651256490317, 5.442651256490317, 5.442651256490317, 4.526360524616162, 2.6094379124341005, 5.442651256490317, 4.526360524616162, 5.442651256490317, 4.526360524616162, 5.442651256490317, 5.442651256490317, 5.442651256490317, 2.5248805244060373, 5.442651256490317, 5.442651256490317, 4.749504075930371, 4.526360524616162, 5.442651256490317, 3.1400661634962708, 5.442651256490317, 5.442651256490317, 5.037186148382152, 5.037186148382152, 5.442651256490317, 4.749504075930371, 4.526360524616162, 5.442651256490317, 4.749504075930371, 3.9385738597140425, 2.243978138939635, 4.189888287994949, 5.037186148382152, 5.442651256490317, 5.442651256490317, 4.056356895370426, 3.1400661634962708, 5.442651256490317, 5.442651256490317, 4.749504075930371, 4.749504075930371, 5.037186148382152, 5.442651256490317, 3.6508917872622613, 5.442651256490317, 3.833213344056216, 5.442651256490317, 3.9385738597140425, 5.442651256490317, 5.442651256490317, 4.749504075930371, 4.189888287994949, 5.442651256490317, 5.442651256490317, 3.833213344056216, 4.526360524616162, 3.3632097148104805, 5.037186148382152, 5.442651256490317, 5.442651256490317, 5.442651256490317, 5.442651256490317, 5.442651256490317, 4.344038967822207, 5.442651256490317, 5.037186148382152, 5.442651256490317, 4.526360524616162, 4.526360524616162, 5.442651256490317, 5.442651256490317, 5.442651256490317, 3.7379031642518914, 4.056356895370426, 4.526360524616162, 4.344038967822207, 4.056356895370426, 5.442651256490317, 5.442651256490317, 5.037186148382152, 5.442651256490317, 5.442651256490317, 5.442651256490317, 4.749504075930371, 4.526360524616162, 5.442651256490317, 4.189888287994949, 5.037186148382152, 5.442651256490317, 5.442651256490317, 4.749504075930371, 5.037186148382152, 5.442651256490317, 5.442651256490317, 5.442651256490317, 5.442651256490317, 5.442651256490317, 5.037186148382152, 5.037186148382152, 5.442651256490317, 4.526360524616162, 4.344038967822207, 5.442651256490317, 5.037186148382152, 5.037186148382152, 5.442651256490317, 5.037186148382152, 5.442651256490317, 5.442651256490317, 5.442651256490317, 5.442651256490317, 4.526360524616162, 3.496741107435003, 4.056356895370426, 4.344038967822207, 5.442651256490317, 5.037186148382152, 5.037186148382152, 4.344038967822207, 5.442651256490317, 5.442651256490317, 5.442651256490317, 4.344038967822207, 5.037186148382152, 5.442651256490317, 5.442651256490317, 3.7379031642518914, 5.442651256490317, 5.442651256490317, 5.442651256490317, 5.442651256490317, 2.7685026070637875, 5.442651256490317, 5.442651256490317, 4.056356895370426, 5.442651256490317, 4.056356895370426, 3.496741107435003, 5.442651256490317, 3.7379031642518914, 5.442651256490317, 3.302585092994046, 5.442651256490317, 3.496741107435003, 5.037186148382152, 5.037186148382152, 4.749504075930371, 5.442651256490317, 5.442651256490317, 5.442651256490317, 5.442651256490317, 5.037186148382152, 5.442651256490317, 4.344038967822207, 4.344038967822207, 5.442651256490317, 3.9385738597140425, 5.442651256490317, 3.570849079588725, 4.344038967822207, 3.1913594578838214, 5.442651256490317, 5.442651256490317, 5.037186148382152, 5.037186148382152, 5.442651256490317, 4.749504075930371, 3.833213344056216, 5.442651256490317, 5.442651256490317, 4.189888287994949, 5.442651256490317, 5.037186148382152, 4.526360524616162, 5.442651256490317, 5.442651256490317, 3.1913594578838214, 5.037186148382152, 5.442651256490317, 5.442651256490317, 5.442651256490317, 4.749504075930371, 5.037186148382152, 5.442651256490317, 5.442651256490317, 5.442651256490317, 5.442651256490317, 4.526360524616162, 4.749504075930371, 5.442651256490317, 2.7018112325651154, 5.037186148382152, 3.833213344056216, 5.442651256490317, 5.442651256490317, 4.749504075930371, 5.442651256490317, 3.7379031642518914, 5.442651256490317, 4.749504075930371, 5.442651256490317, 5.037186148382152, 5.037186148382152, 3.7379031642518914, 4.526360524616162, 3.6508917872622613, 5.442651256490317, 5.037186148382152, 5.037186148382152, 5.442651256490317, 5.442651256490317, 5.037186148382152, 4.749504075930371, 5.037186148382152, 5.442651256490317, 5.442651256490317, 5.037186148382152, 3.7379031642518914, 5.037186148382152, 4.056356895370426, 5.442651256490317, 5.442651256490317, 5.442651256490317, 4.056356895370426, 5.442651256490317, 2.916922612182061, 5.442651256490317, 5.442651256490317, 5.442651256490317, 5.442651256490317, 4.749504075930371, 5.442651256490317, 5.442651256490317, 5.037186148382152, 4.344038967822207, 5.037186148382152, 5.442651256490317, 5.037186148382152, 5.442651256490317, 4.749504075930371, 4.749504075930371, 5.037186148382152, 5.442651256490317, 4.749504075930371, 5.442651256490317, 4.056356895370426, 4.344038967822207, 5.442651256490317, 4.749504075930371, 5.442651256490317, 5.442651256490317, 5.037186148382152, 5.442651256490317, 5.442651256490317, 4.344038967822207, 5.442651256490317, 5.442651256490317, 5.037186148382152, 4.189888287994949, 5.037186148382152, 5.442651256490317, 5.442651256490317, 5.037186148382152, 2.498212277323876, 5.442651256490317, 4.189888287994949, 4.526360524616162, 5.442651256490317, 5.037186148382152, 5.442651256490317, 3.833213344056216, 5.442651256490317, 5.442651256490317, 5.442651256490317, 5.442651256490317, 5.442651256490317, 5.442651256490317, 4.344038967822207, 5.442651256490317, 4.344038967822207, 5.442651256490317, 5.442651256490317, 5.442651256490317, 4.749504075930371, 5.442651256490317, 5.442651256490317, 5.442651256490317, 5.037186148382152, 5.442651256490317, 5.442651256490317, 5.442651256490317, 4.526360524616162, 5.442651256490317, 5.037186148382152, 5.442651256490317, 5.442651256490317, 4.344038967822207, 4.526360524616162, 3.000304221121112, 5.037186148382152, 5.442651256490317, 5.442651256490317, 5.442651256490317, 4.749504075930371, 5.442651256490317, 5.442651256490317, 5.442651256490317, 5.442651256490317, 5.442651256490317, 5.442651256490317, 5.442651256490317, 5.442651256490317, 2.329135947279942, 5.442651256490317, 5.442651256490317, 5.442651256490317, 5.037186148382152, 5.442651256490317, 5.442651256490317, 5.037186148382152, 5.037186148382152, 3.0912759993268386, 5.442651256490317, 5.442651256490317, 5.442651256490317, 5.442651256490317, 5.442651256490317, 5.442651256490317, 5.037186148382152, 5.442651256490317, 5.037186148382152, 5.442651256490317, 5.442651256490317, 4.056356895370426, 5.442651256490317, 5.442651256490317, 4.344038967822207, 5.442651256490317, 3.570849079588725, 3.570849079588725, 5.442651256490317, 5.442651256490317, 5.442651256490317, 5.442651256490317, 5.442651256490317, 2.734601055388106, 4.526360524616162, 5.442651256490317, 4.749504075930371, 5.442651256490317, 5.442651256490317, 5.442651256490317, 5.037186148382152, 5.442651256490317, 3.570849079588725, 5.442651256490317, 3.570849079588725, 5.442651256490317, 5.442651256490317, 5.442651256490317, 5.442651256490317, 5.442651256490317, 4.344038967822207, 4.749504075930371, 5.037186148382152, 5.442651256490317, 5.442651256490317, 5.442651256490317, 2.4469189829363254, 5.442651256490317, 5.442651256490317, 5.442651256490317, 5.442651256490317, 5.442651256490317, 4.344038967822207, 3.6508917872622613, 4.344038967822207, 5.442651256490317, 5.037186148382152, 4.749504075930371, 5.442651256490317, 5.442651256490317, 5.442651256490317, 4.344038967822207, 5.037186148382152, 5.442651256490317, 4.189888287994949, 4.526360524616162, 5.442651256490317, 5.442651256490317, 5.442651256490317, 5.442651256490317, 5.442651256490317, 5.442651256490317, 5.442651256490317, 4.344038967822207, 5.442651256490317, 5.442651256490317, 4.749504075930371, 5.442651256490317, 5.442651256490317, 2.7685026070637875, 5.442651256490317, 5.442651256490317, 5.442651256490317, 4.749504075930371, 3.833213344056216, 5.442651256490317, 5.037186148382152, 5.442651256490317, 5.037186148382152, 5.037186148382152, 5.442651256490317, 5.442651256490317, 4.749504075930371, 4.749504075930371, 4.056356895370426, 4.526360524616162, 5.037186148382152, 5.442651256490317, 5.442651256490317, 5.037186148382152, 5.037186148382152, 5.442651256490317, 5.037186148382152, 5.442651256490317, 5.442651256490317, 5.442651256490317, 4.344038967822207, 5.442651256490317, 4.749504075930371, 5.037186148382152, 5.442651256490317, 5.442651256490317, 5.442651256490317, 3.9385738597140425, 5.442651256490317, 5.442651256490317, 5.442651256490317, 5.442651256490317, 5.442651256490317, 4.749504075930371, 5.442651256490317, 3.570849079588725, 5.442651256490317, 2.1655065234981397, 5.442651256490317, 5.442651256490317, 5.037186148382152, 5.442651256490317, 5.442651256490317, 5.442651256490317, 5.442651256490317, 5.442651256490317, 5.442651256490317, 3.833213344056216, 3.833213344056216, 5.442651256490317, 4.189888287994949, 5.442651256490317, 5.442651256490317, 5.442651256490317, 5.442651256490317, 5.442651256490317, 5.442651256490317, 5.442651256490317, 5.442651256490317, 5.442651256490317, 5.442651256490317, 4.344038967822207, 5.442651256490317, 5.442651256490317, 4.056356895370426, 5.442651256490317, 5.442651256490317, 5.442651256490317, 5.442651256490317, 3.9385738597140425, 5.442651256490317, 4.526360524616162, 2.916922612182061, 4.344038967822207, 5.442651256490317, 5.442651256490317, 5.442651256490317, 5.442651256490317, 5.442651256490317, 5.037186148382152, 4.526360524616162, 5.442651256490317, 5.442651256490317, 5.037186148382152, 2.839961571045933, 5.442651256490317, 5.442651256490317, 4.526360524616162, 5.442651256490317, 5.442651256490317, 4.749504075930371, 5.442651256490317, 5.442651256490317, 5.037186148382152, 3.6508917872622613, 5.442651256490317, 2.4469189829363254, 5.442651256490317, 3.4277482359480516, 5.442651256490317, 5.037186148382152, 5.442651256490317, 5.037186148382152, 3.9385738597140425, 5.442651256490317, 5.442651256490317, 5.442651256490317, 5.442651256490317, 5.442651256490317, 5.037186148382152, 5.442651256490317, 5.442651256490317, 5.442651256490317, 5.442651256490317, 3.6508917872622613, 5.442651256490317, 5.037186148382152, 5.442651256490317, 5.442651256490317, 5.037186148382152, 4.526360524616162, 5.442651256490317, 4.344038967822207, 5.442651256490317, 5.442651256490317, 3.9385738597140425, 5.442651256490317, 5.442651256490317, 5.442651256490317, 5.442651256490317, 5.037186148382152, 5.442651256490317, 5.442651256490317, 5.442651256490317, 5.037186148382152, 4.749504075930371, 5.442651256490317, 4.189888287994949, 4.344038967822207, 5.037186148382152, 5.442651256490317, 5.442651256490317, 5.442651256490317, 4.526360524616162, 5.442651256490317, 5.442651256490317, 5.442651256490317, 4.749504075930371, 5.037186148382152, 5.442651256490317, 5.442651256490317, 5.442651256490317, 5.442651256490317, 5.442651256490317, 5.442651256490317, 4.189888287994949, 5.442651256490317, 4.189888287994949, 4.344038967822207, 4.056356895370426, 5.442651256490317, 3.9385738597140425, 3.6508917872622613, 4.749504075930371, 4.189888287994949, 5.442651256490317, 5.442651256490317, 5.442651256490317, 5.442651256490317, 4.749504075930371, 5.442651256490317, 5.442651256490317, 3.496741107435003, 5.442651256490317, 4.749504075930371, 2.6094379124341005, 5.442651256490317, 5.037186148382152, 5.037186148382152, 2.734601055388106, 3.6508917872622613, 5.442651256490317, 5.442651256490317, 4.749504075930371, 5.442651256490317, 5.037186148382152, 4.189888287994949, 5.442651256490317, 5.442651256490317, 5.442651256490317, 5.037186148382152, 5.037186148382152, 4.344038967822207, 5.037186148382152, 5.442651256490317, 5.442651256490317, 5.037186148382152, 5.442651256490317, 5.442651256490317, 5.442651256490317, 5.442651256490317, 5.442651256490317, 5.442651256490317, 3.833213344056216, 5.037186148382152, 5.442651256490317, 5.442651256490317, 5.037186148382152, 4.749504075930371, 3.6508917872622613, 3.7379031642518914, 5.442651256490317, 5.442651256490317, 5.037186148382152, 4.526360524616162, 2.8777018990287795, 5.442651256490317, 5.442651256490317, 5.442651256490317, 5.442651256490317, 4.056356895370426, 5.037186148382152, 5.442651256490317, 5.442651256490317, 5.442651256490317, 5.442651256490317, 5.442651256490317, 5.442651256490317, 5.442651256490317, 5.442651256490317, 5.442651256490317, 4.526360524616162, 5.442651256490317, 5.442651256490317, 5.442651256490317, 4.749504075930371, 5.442651256490317, 5.442651256490317, 5.442651256490317, 5.442651256490317, 5.442651256490317, 5.442651256490317, 4.189888287994949, 4.189888287994949, 5.442651256490317, 5.442651256490317, 5.442651256490317, 5.442651256490317, 3.833213344056216, 5.442651256490317, 5.442651256490317, 2.092747169215712, 5.442651256490317, 3.3632097148104805, 5.442651256490317, 5.442651256490317, 5.442651256490317, 3.000304221121112, 5.442651256490317, 5.037186148382152, 5.037186148382152, 4.344038967822207, 5.037186148382152, 5.037186148382152, 4.749504075930371, 3.496741107435003, 2.398128818766893, 5.442651256490317, 4.344038967822207, 4.749504075930371, 3.7379031642518914, 4.749504075930371, 5.442651256490317, 5.442651256490317, 4.749504075930371, 5.037186148382152, 3.833213344056216, 2.075355426503842, 5.442651256490317, 5.442651256490317, 5.442651256490317, 4.189888287994949, 5.037186148382152, 5.442651256490317, 5.037186148382152, 3.4277482359480516, 5.442651256490317, 5.037186148382152, 4.526360524616162, 5.442651256490317, 2.916922612182061, 5.442651256490317, 5.442651256490317, 5.442651256490317, 5.442651256490317, 5.442651256490317, 5.442651256490317, 5.442651256490317, 5.442651256490317, 5.442651256490317, 5.442651256490317, 5.442651256490317, 5.442651256490317, 2.329135947279942, 4.189888287994949, 4.749504075930371, 5.442651256490317, 4.526360524616162, 5.442651256490317, 5.442651256490317, 5.442651256490317, 3.3632097148104805, 5.442651256490317, 5.037186148382152, 3.6508917872622613, 5.442651256490317, 5.442651256490317, 5.442651256490317, 5.442651256490317, 5.442651256490317, 5.442651256490317, 5.442651256490317, 3.833213344056216, 5.442651256490317, 5.442651256490317, 5.442651256490317, 5.442651256490317, 5.442651256490317, 4.189888287994949, 5.442651256490317, 5.037186148382152, 5.442651256490317, 5.442651256490317, 4.749504075930371, 5.442651256490317, 5.037186148382152, 4.189888287994949, 5.442651256490317, 4.056356895370426, 2.803593926875058, 5.442651256490317, 4.344038967822207, 5.442651256490317, 2.5522794985941517, 5.442651256490317, 5.442651256490317, 5.442651256490317, 5.442651256490317, 5.442651256490317, 4.749504075930371, 5.442651256490317, 5.442651256490317, 4.056356895370426, 5.037186148382152, 3.6508917872622613, 2.839961571045933, 4.189888287994949, 5.442651256490317, 5.442651256490317, 5.037186148382152, 5.442651256490317, 5.442651256490317, 5.442651256490317, 4.526360524616162, 2.7018112325651154, 5.442651256490317, 5.442651256490317, 3.9385738597140425, 3.302585092994046, 5.442651256490317, 4.749504075930371, 5.442651256490317, 5.442651256490317, 2.498212277323876, 5.442651256490317, 3.6508917872622613, 5.442651256490317, 5.037186148382152, 4.189888287994949, 5.442651256490317, 3.7379031642518914, 4.526360524616162, 5.442651256490317, 5.442651256490317, 5.442651256490317, 5.442651256490317, 4.749504075930371, 5.442651256490317, 5.442651256490317, 4.344038967822207, 5.442651256490317, 5.442651256490317, 5.442651256490317, 5.442651256490317, 5.442651256490317, 5.442651256490317, 4.344038967822207, 5.442651256490317, 5.442651256490317, 3.7379031642518914, 5.442651256490317, 5.442651256490317, 3.833213344056216, 4.749504075930371, 5.442651256490317, 5.442651256490317, 5.442651256490317, 3.302585092994046, 5.442651256490317, 2.422226370345954, 5.442651256490317, 4.056356895370426, 5.037186148382152, 5.037186148382152, 5.442651256490317, 4.344038967822207, 5.442651256490317, 5.442651256490317, 5.442651256490317, 5.037186148382152, 5.442651256490317, 5.442651256490317, 5.442651256490317, 5.442651256490317, 5.442651256490317, 5.442651256490317, 5.442651256490317, 5.442651256490317, 5.442651256490317, 5.442651256490317, 5.442651256490317, 4.189888287994949, 5.442651256490317, 5.442651256490317, 5.442651256490317, 2.2237754316221157, 5.442651256490317, 5.442651256490317, 5.442651256490317, 5.442651256490317, 5.442651256490317, 5.442651256490317, 4.344038967822207, 4.344038967822207, 5.442651256490317, 5.442651256490317, 5.442651256490317, 5.442651256490317, 3.570849079588725, 5.442651256490317, 3.833213344056216, 5.442651256490317, 5.442651256490317, 5.442651256490317, 5.442651256490317, 5.442651256490317, 5.037186148382152, 5.037186148382152, 5.442651256490317, 3.833213344056216, 5.442651256490317, 1.7537718023763802, 4.749504075930371, 5.442651256490317, 5.037186148382152, 5.442651256490317, 2.3516088031320006, 5.442651256490317, 5.442651256490317, 5.442651256490317, 5.442651256490317, 2.957744606702316, 5.442651256490317, 5.442651256490317, 5.442651256490317, 5.442651256490317, 5.442651256490317, 5.442651256490317, 5.442651256490317, 5.442651256490317, 5.037186148382152, 4.189888287994949, 5.442651256490317, 5.442651256490317, 4.189888287994949, 5.442651256490317, 5.442651256490317, 5.442651256490317, 5.442651256490317, 5.442651256490317, 5.442651256490317, 5.442651256490317, 5.442651256490317, 5.037186148382152, 3.6508917872622613, 5.442651256490317, 5.442651256490317, 5.442651256490317, 5.442651256490317, 2.422226370345954, 5.442651256490317, 5.442651256490317, 5.442651256490317, 5.442651256490317, 5.037186148382152, 3.7379031642518914, 4.526360524616162, 5.037186148382152, 5.442651256490317, 5.442651256490317, 5.442651256490317, 5.442651256490317, 5.442651256490317, 3.1913594578838214, 3.833213344056216, 5.442651256490317, 5.037186148382152, 3.9385738597140425, 3.6508917872622613, 5.442651256490317, 5.442651256490317, 5.442651256490317, 5.442651256490317, 5.442651256490317, 5.442651256490317, 5.442651256490317, 5.442651256490317, 5.442651256490317, 3.3632097148104805, 5.442651256490317, 5.442651256490317, 2.6392908755837814, 5.442651256490317, 5.442651256490317, 3.833213344056216, 5.442651256490317, 5.442651256490317, 5.442651256490317, 5.442651256490317, 5.037186148382152, 5.442651256490317, 3.833213344056216, 5.442651256490317, 5.442651256490317, 5.442651256490317, 5.442651256490317, 5.442651256490317, 5.442651256490317, 5.442651256490317, 5.442651256490317, 5.442651256490317, 5.442651256490317, 5.442651256490317, 5.442651256490317, 5.442651256490317, 4.189888287994949, 5.442651256490317, 5.442651256490317, 5.442651256490317, 5.442651256490317, 5.442651256490317, 3.570849079588725, 5.442651256490317, 5.442651256490317, 5.037186148382152, 5.442651256490317, 5.037186148382152, 4.344038967822207, 5.442651256490317, 2.6392908755837814, 5.442651256490317, 5.442651256490317, 5.442651256490317, 5.442651256490317, 5.442651256490317, 5.442651256490317, 5.442651256490317, 5.442651256490317, 5.442651256490317, 4.749504075930371, 5.442651256490317, 5.442651256490317, 5.442651256490317, 5.442651256490317, 5.037186148382152, 5.442651256490317, 5.037186148382152, 5.442651256490317, 5.442651256490317, 5.037186148382152, 5.037186148382152, 5.442651256490317, 4.749504075930371, 2.329135947279942, 5.442651256490317, 4.056356895370426, 5.442651256490317, 5.442651256490317, 5.442651256490317, 5.037186148382152, 5.442651256490317, 5.442651256490317, 5.442651256490317, 5.442651256490317, 5.442651256490317, 4.189888287994949, 5.442651256490317, 5.442651256490317, 5.442651256490317, 5.442651256490317, 5.442651256490317, 5.037186148382152, 4.749504075930371, 5.442651256490317, 5.442651256490317, 5.442651256490317, 5.442651256490317, 5.442651256490317, 5.037186148382152, 5.442651256490317, 5.442651256490317, 5.442651256490317, 4.526360524616162, 4.526360524616162, 5.442651256490317, 5.442651256490317, 5.037186148382152, 5.037186148382152, 4.526360524616162, 5.442651256490317, 4.526360524616162, 5.442651256490317, 5.442651256490317, 5.442651256490317, 4.749504075930371, 5.442651256490317, 5.442651256490317, 4.344038967822207, 4.344038967822207, 5.442651256490317, 5.442651256490317, 5.442651256490317, 5.442651256490317, 2.285650835340203, 5.442651256490317, 5.442651256490317, 5.442651256490317, 3.833213344056216, 5.442651256490317, 4.189888287994949, 5.037186148382152, 4.749504075930371, 4.526360524616162, 5.037186148382152, 4.526360524616162, 5.442651256490317, 5.442651256490317, 5.442651256490317, 4.749504075930371, 5.442651256490317, 5.442651256490317, 3.833213344056216, 5.442651256490317, 5.442651256490317, 5.442651256490317, 5.037186148382152, 3.833213344056216, 5.442651256490317, 5.037186148382152, 5.442651256490317, 5.442651256490317, 5.037186148382152, 2.2237754316221157, 4.749504075930371, 2.6392908755837814, 3.570849079588725, 5.442651256490317, 5.442651256490317, 3.570849079588725, 5.442651256490317, 5.442651256490317, 5.442651256490317, 5.442651256490317, 5.442651256490317, 5.442651256490317, 4.749504075930371, 2.5522794985941517, 3.833213344056216, 5.037186148382152, 5.442651256490317, 5.442651256490317, 5.442651256490317, 5.037186148382152, 5.442651256490317, 4.749504075930371, 5.442651256490317, 5.442651256490317, 5.442651256490317, 5.037186148382152, 4.749504075930371, 5.442651256490317, 4.749504075930371, 3.7379031642518914, 5.442651256490317, 5.442651256490317, 5.442651256490317, 5.442651256490317, 5.442651256490317, 4.749504075930371, 5.037186148382152, 4.749504075930371, 2.422226370345954, 5.442651256490317, 5.442651256490317, 5.442651256490317, 5.442651256490317, 5.037186148382152, 5.442651256490317, 5.442651256490317, 4.344038967822207, 4.526360524616162, 5.442651256490317, 5.037186148382152, 4.189888287994949, 4.344038967822207, 3.245426679154097, 4.344038967822207, 5.442651256490317, 4.749504075930371, 5.442651256490317, 4.749504075930371, 5.037186148382152, 2.041453874828161, 3.1400661634962708, 5.442651256490317, 5.442651256490317, 3.4277482359480516, 5.442651256490317, 4.526360524616162, 5.442651256490317, 5.037186148382152, 4.056356895370426, 5.442651256490317, 5.037186148382152, 3.000304221121112, 5.442651256490317, 5.442651256490317, 5.442651256490317, 5.442651256490317, 5.442651256490317, 5.442651256490317, 3.9385738597140425, 4.189888287994949, 5.442651256490317, 5.442651256490317, 5.442651256490317, 5.442651256490317, 5.442651256490317, 5.442651256490317, 5.037186148382152, 5.442651256490317, 3.7379031642518914, 4.189888287994949, 4.526360524616162, 5.442651256490317, 5.037186148382152, 4.526360524616162, 5.442651256490317, 5.442651256490317, 5.442651256490317, 5.037186148382152, 5.037186148382152, 3.302585092994046, 5.442651256490317, 5.442651256490317, 5.442651256490317, 5.442651256490317, 3.9385738597140425, 5.442651256490317, 4.056356895370426, 3.570849079588725, 5.442651256490317, 5.442651256490317, 5.442651256490317, 5.442651256490317, 5.442651256490317, 5.442651256490317, 3.0912759993268386, 5.037186148382152, 3.6508917872622613, 4.344038967822207, 4.056356895370426, 5.442651256490317, 5.442651256490317, 5.442651256490317, 5.442651256490317, 5.442651256490317, 5.037186148382152, 5.442651256490317, 5.037186148382152, 5.442651256490317, 5.442651256490317, 4.189888287994949, 4.526360524616162, 5.037186148382152, 5.442651256490317, 4.749504075930371, 4.749504075930371, 5.442651256490317, 5.442651256490317, 5.037186148382152, 5.442651256490317, 5.442651256490317, 4.749504075930371, 5.442651256490317, 5.442651256490317, 5.442651256490317, 4.526360524616162, 1.916290731874155, 5.442651256490317, 3.000304221121112, 5.442651256490317, 5.442651256490317, 5.442651256490317, 5.442651256490317, 5.442651256490317, 5.442651256490317, 2.4469189829363254, 5.442651256490317, 5.442651256490317, 4.189888287994949, 5.442651256490317, 3.000304221121112, 5.037186148382152, 5.442651256490317, 5.442651256490317, 5.037186148382152, 5.442651256490317, 3.496741107435003, 4.189888287994949, 5.442651256490317, 5.442651256490317, 5.442651256490317, 4.526360524616162, 5.442651256490317, 5.442651256490317, 5.442651256490317, 5.442651256490317, 5.442651256490317, 5.442651256490317, 5.442651256490317, 1.4723593429381947, 5.442651256490317, 5.442651256490317, 5.442651256490317, 5.442651256490317, 5.442651256490317, 4.189888287994949, 4.749504075930371, 4.056356895370426, 5.442651256490317, 3.6508917872622613, 5.037186148382152, 5.442651256490317, 5.442651256490317, 2.2645974261423705, 5.442651256490317, 2.7018112325651154, 5.442651256490317, 5.442651256490317, 3.833213344056216, 2.6094379124341005, 5.442651256490317, 5.442651256490317, 5.442651256490317, 5.442651256490317, 5.037186148382152, 5.442651256490317, 5.442651256490317, 4.526360524616162, 1.916290731874155, 5.442651256490317, 5.442651256490317, 5.442651256490317, 5.037186148382152, 5.442651256490317, 5.442651256490317, 5.442651256490317, 5.442651256490317, 5.442651256490317, 5.442651256490317, 5.442651256490317, 5.442651256490317, 4.749504075930371, 4.526360524616162, 4.749504075930371, 5.442651256490317, 5.442651256490317, 4.056356895370426, 5.442651256490317, 5.442651256490317, 5.442651256490317, 5.037186148382152, 4.749504075930371, 4.749504075930371, 5.037186148382152, 5.442651256490317, 5.442651256490317, 4.056356895370426, 5.442651256490317, 5.442651256490317, 5.037186148382152, 5.442651256490317, 3.000304221121112, 5.442651256490317, 4.056356895370426, 3.245426679154097, 5.442651256490317, 5.442651256490317, 5.442651256490317, 4.344038967822207, 4.189888287994949, 4.189888287994949, 3.833213344056216, 5.442651256490317, 5.442651256490317, 5.442651256490317, 5.037186148382152, 4.749504075930371, 5.037186148382152, 2.957744606702316, 5.442651256490317, 5.442651256490317, 5.442651256490317, 5.442651256490317, 5.442651256490317, 5.442651256490317, 5.442651256490317, 5.037186148382152, 5.442651256490317, 5.442651256490317, 5.442651256490317, 4.749504075930371, 5.442651256490317, 5.442651256490317, 5.037186148382152, 5.442651256490317, 5.442651256490317, 5.442651256490317, 3.302585092994046, 5.442651256490317, 5.442651256490317, 5.442651256490317, 5.442651256490317, 5.442651256490317, 3.4277482359480516, 5.442651256490317, 5.442651256490317, 4.749504075930371, 5.442651256490317, 4.189888287994949, 5.442651256490317, 5.037186148382152, 5.442651256490317, 5.037186148382152, 5.442651256490317, 3.833213344056216, 4.056356895370426, 4.526360524616162, 4.749504075930371, 4.344038967822207, 5.037186148382152, 2.734601055388106, 5.442651256490317, 3.7379031642518914, 5.442651256490317, 4.526360524616162, 4.344038967822207, 5.037186148382152, 5.442651256490317, 5.037186148382152, 4.344038967822207, 4.526360524616162, 3.496741107435003, 5.037186148382152, 5.442651256490317, 3.833213344056216, 5.442651256490317, 5.442651256490317, 5.442651256490317, 5.037186148382152, 4.526360524616162, 5.442651256490317, 4.526360524616162, 3.833213344056216, 2.498212277323876, 5.442651256490317, 4.749504075930371, 5.442651256490317, 2.7018112325651154, 5.442651256490317, 5.442651256490317, 5.442651256490317, 5.037186148382152, 5.442651256490317, 5.442651256490317, 4.526360524616162, 4.189888287994949, 5.037186148382152, 4.189888287994949, 5.442651256490317, 5.442651256490317, 5.037186148382152, 4.344038967822207, 5.442651256490317, 4.526360524616162, 5.442651256490317, 5.442651256490317, 5.037186148382152, 5.442651256490317, 5.442651256490317, 5.037186148382152, 3.833213344056216, 3.496741107435003, 5.442651256490317, 4.056356895370426, 5.442651256490317, 5.442651256490317, 5.442651256490317, 5.442651256490317, 5.037186148382152, 5.442651256490317, 5.442651256490317, 5.442651256490317, 3.570849079588725, 5.442651256490317, 5.037186148382152, 5.442651256490317, 4.526360524616162, 5.442651256490317, 5.442651256490317, 5.442651256490317, 5.442651256490317, 2.916922612182061, 5.442651256490317, 5.442651256490317, 5.037186148382152, 5.037186148382152, 4.749504075930371, 5.442651256490317, 5.442651256490317, 5.442651256490317, 3.4277482359480516, 5.442651256490317, 5.442651256490317, 5.442651256490317, 5.442651256490317, 4.749504075930371, 4.526360524616162, 5.442651256490317, 4.526360524616162, 5.037186148382152, 5.442651256490317, 3.833213344056216, 5.442651256490317, 5.037186148382152, 5.037186148382152, 5.442651256490317, 5.442651256490317, 5.442651256490317, 5.442651256490317, 4.749504075930371, 5.442651256490317, 5.037186148382152, 5.442651256490317, 5.037186148382152, 5.037186148382152, 4.526360524616162, 5.442651256490317, 5.037186148382152, 5.442651256490317, 5.442651256490317, 5.442651256490317, 5.037186148382152, 5.442651256490317, 5.442651256490317, 5.442651256490317, 5.442651256490317, 5.442651256490317, 3.496741107435003, 5.442651256490317, 4.749504075930371, 4.189888287994949, 3.000304221121112, 5.442651256490317, 5.442651256490317, 5.442651256490317, 4.056356895370426, 5.442651256490317, 3.9385738597140425, 4.189888287994949, 3.000304221121112, 5.442651256490317, 5.442651256490317, 5.442651256490317, 5.442651256490317, 5.442651256490317, 5.442651256490317, 5.442651256490317, 5.037186148382152, 4.189888287994949, 5.442651256490317, 2.329135947279942, 5.442651256490317, 5.442651256490317, 5.442651256490317, 4.526360524616162, 3.0912759993268386, 5.442651256490317, 1.2759860326885897, 5.442651256490317, 5.442651256490317, 5.442651256490317, 5.442651256490317, 5.037186148382152, 5.442651256490317, 5.442651256490317, 5.442651256490317, 5.442651256490317, 5.442651256490317, 4.189888287994949, 3.833213344056216, 5.442651256490317, 5.442651256490317, 3.833213344056216, 5.037186148382152, 5.442651256490317, 5.442651256490317, 5.442651256490317, 5.442651256490317, 5.442651256490317, 5.442651256490317, 5.442651256490317, 4.056356895370426, 5.442651256490317, 5.442651256490317, 5.037186148382152, 4.344038967822207, 4.749504075930371, 5.442651256490317, 4.056356895370426, 5.442651256490317, 4.344038967822207, 4.526360524616162, 5.037186148382152, 5.442651256490317, 5.442651256490317, 5.442651256490317, 4.526360524616162, 5.442651256490317, 5.037186148382152, 5.442651256490317, 5.442651256490317, 5.442651256490317, 5.442651256490317, 5.037186148382152, 4.344038967822207, 2.8777018990287795, 5.442651256490317, 5.442651256490317, 5.037186148382152, 5.442651256490317, 5.442651256490317, 4.189888287994949, 5.442651256490317, 2.2237754316221157, 5.442651256490317, 5.442651256490317, 5.442651256490317, 5.442651256490317, 5.037186148382152, 5.442651256490317, 5.442651256490317, 4.526360524616162, 5.442651256490317, 5.442651256490317, 3.4277482359480516, 5.442651256490317, 5.037186148382152, 5.442651256490317, 5.442651256490317, 4.526360524616162, 5.442651256490317, 5.442651256490317, 5.442651256490317, 5.442651256490317, 5.442651256490317, 2.7018112325651154, 5.442651256490317, 5.442651256490317, 5.442651256490317, 4.344038967822207, 5.037186148382152, 5.442651256490317, 4.344038967822207, 5.442651256490317, 5.442651256490317, 5.442651256490317, 5.442651256490317, 5.442651256490317, 3.3632097148104805, 5.442651256490317, 5.442651256490317, 2.8777018990287795, 5.442651256490317, 4.749504075930371, 5.442651256490317, 5.442651256490317, 5.442651256490317, 5.442651256490317, 5.442651256490317, 3.833213344056216, 5.442651256490317, 5.037186148382152, 5.037186148382152, 5.442651256490317, 3.245426679154097, 5.037186148382152, 4.189888287994949, 5.442651256490317, 5.442651256490317, 4.749504075930371, 5.037186148382152, 5.442651256490317, 5.442651256490317, 5.037186148382152, 5.442651256490317, 5.442651256490317, 5.442651256490317, 5.442651256490317, 5.442651256490317, 5.442651256490317, 5.442651256490317, 3.570849079588725, 5.442651256490317, 3.1400661634962708, 5.037186148382152, 4.056356895370426, 5.442651256490317, 5.442651256490317, 5.442651256490317, 5.442651256490317, 5.442651256490317, 3.245426679154097, 5.442651256490317, 5.442651256490317, 5.442651256490317, 5.442651256490317, 5.442651256490317, 5.442651256490317, 5.442651256490317, 5.442651256490317, 5.442651256490317, 5.442651256490317, 2.6392908755837814, 5.442651256490317, 5.442651256490317, 4.749504075930371, 5.442651256490317, 5.037186148382152, 2.1655065234981397, 5.442651256490317, 5.442651256490317, 5.442651256490317, 5.037186148382152, 5.037186148382152, 5.442651256490317, 5.442651256490317, 5.442651256490317, 5.442651256490317, 5.442651256490317, 5.442651256490317, 5.442651256490317, 5.442651256490317, 5.442651256490317, 5.442651256490317, 5.442651256490317, 5.037186148382152, 5.442651256490317, 5.442651256490317, 5.442651256490317, 5.442651256490317, 4.526360524616162, 5.037186148382152, 5.442651256490317, 5.442651256490317, 5.442651256490317, 5.442651256490317, 5.037186148382152, 4.056356895370426, 4.526360524616162, 5.442651256490317, 5.442651256490317, 5.442651256490317, 5.442651256490317, 4.749504075930371, 5.442651256490317, 5.442651256490317, 5.442651256490317, 5.442651256490317, 4.749504075930371, 4.749504075930371, 4.749504075930371, 5.442651256490317, 5.442651256490317, 5.037186148382152, 5.442651256490317, 4.526360524616162, 5.037186148382152, 5.442651256490317, 5.037186148382152, 4.526360524616162, 4.344038967822207, 3.833213344056216, 5.442651256490317, 4.749504075930371, 5.442651256490317, 5.442651256490317, 5.442651256490317, 5.442651256490317, 5.442651256490317, 5.442651256490317, 3.7379031642518914, 4.749504075930371, 4.189888287994949, 5.442651256490317, 5.442651256490317, 5.442651256490317, 4.749504075930371, 5.442651256490317, 5.037186148382152, 5.442651256490317, 3.7379031642518914, 5.442651256490317, 5.442651256490317, 5.442651256490317, 3.0912759993268386, 5.442651256490317, 5.037186148382152, 5.442651256490317, 4.056356895370426, 5.442651256490317, 5.442651256490317, 5.037186148382152, 5.442651256490317, 4.526360524616162, 4.344038967822207, 5.037186148382152, 4.749504075930371, 3.302585092994046, 5.442651256490317, 2.3516088031320006, 5.037186148382152, 4.749504075930371, 5.037186148382152, 5.442651256490317, 3.9385738597140425, 5.037186148382152, 5.442651256490317, 5.442651256490317, 5.442651256490317, 4.344038967822207, 5.442651256490317, 4.344038967822207, 5.442651256490317, 5.442651256490317, 5.442651256490317, 5.037186148382152, 4.526360524616162, 5.442651256490317, 5.442651256490317, 5.442651256490317, 5.442651256490317, 5.037186148382152, 5.442651256490317, 5.442651256490317, 3.1400661634962708, 5.037186148382152, 5.442651256490317, 5.442651256490317, 5.442651256490317, 4.344038967822207, 3.1913594578838214, 5.442651256490317, 4.526360524616162, 3.6508917872622613, 5.442651256490317, 4.526360524616162, 5.442651256490317, 5.442651256490317, 5.037186148382152, 5.037186148382152, 5.442651256490317, 4.749504075930371, 5.037186148382152, 5.442651256490317, 3.496741107435003, 5.442651256490317, 5.442651256490317, 5.442651256490317, 5.037186148382152, 1.8453389959018707, 5.037186148382152, 5.442651256490317, 5.442651256490317, 5.442651256490317, 5.442651256490317, 5.442651256490317, 3.9385738597140425, 3.570849079588725, 5.442651256490317, 4.749504075930371, 5.442651256490317, 5.037186148382152, 4.344038967822207, 2.6094379124341005, 5.442651256490317, 5.442651256490317, 5.442651256490317, 5.442651256490317, 5.037186148382152, 5.442651256490317, 5.442651256490317, 5.442651256490317, 2.916922612182061, 5.442651256490317, 5.442651256490317, 5.442651256490317, 5.442651256490317, 2.498212277323876, 4.056356895370426, 4.526360524616162, 5.442651256490317, 5.442651256490317, 5.442651256490317, 3.9385738597140425, 5.442651256490317, 5.442651256490317, 5.442651256490317, 5.442651256490317, 5.442651256490317, 5.442651256490317, 4.344038967822207, 5.442651256490317, 5.442651256490317, 5.037186148382152, 5.442651256490317, 5.037186148382152, 5.442651256490317, 5.442651256490317, 5.442651256490317, 4.189888287994949, 5.442651256490317, 5.442651256490317, 5.442651256490317, 5.442651256490317, 5.442651256490317, 5.442651256490317, 5.037186148382152, 5.442651256490317, 5.442651256490317, 5.442651256490317, 5.442651256490317, 5.037186148382152, 5.037186148382152, 4.749504075930371, 5.442651256490317, 5.037186148382152, 4.344038967822207, 5.442651256490317, 3.7379031642518914, 5.037186148382152, 5.442651256490317, 5.442651256490317, 5.442651256490317, 5.442651256490317, 4.526360524616162, 5.442651256490317, 5.037186148382152, 5.037186148382152, 5.037186148382152, 4.344038967822207, 5.442651256490317, 5.442651256490317, 5.442651256490317, 3.9385738597140425, 5.442651256490317, 5.442651256490317, 5.442651256490317, 5.442651256490317, 4.749504075930371, 4.749504075930371, 5.037186148382152, 5.442651256490317, 4.189888287994949, 3.1913594578838214, 5.442651256490317, 5.442651256490317, 5.442651256490317, 3.9385738597140425, 5.442651256490317, 5.442651256490317, 5.037186148382152, 5.442651256490317, 5.037186148382152, 5.442651256490317, 5.442651256490317, 5.442651256490317, 5.442651256490317, 4.189888287994949, 5.442651256490317, 4.749504075930371, 3.496741107435003, 5.442651256490317, 5.442651256490317, 5.442651256490317, 3.833213344056216, 5.442651256490317, 5.442651256490317, 5.037186148382152, 5.442651256490317, 4.056356895370426, 4.749504075930371, 5.442651256490317, 5.442651256490317, 5.442651256490317, 5.442651256490317, 5.442651256490317, 5.442651256490317, 5.442651256490317, 5.442651256490317, 3.1400661634962708, 4.526360524616162, 2.734601055388106, 4.056356895370426, 5.442651256490317, 4.749504075930371, 5.442651256490317, 4.189888287994949, 5.037186148382152, 4.189888287994949, 5.442651256490317, 5.037186148382152, 5.442651256490317, 5.442651256490317, 4.749504075930371, 3.9385738597140425, 5.442651256490317, 4.056356895370426, 5.442651256490317, 5.037186148382152, 5.442651256490317, 4.344038967822207, 5.442651256490317, 4.749504075930371, 5.442651256490317, 5.442651256490317, 5.442651256490317, 4.056356895370426, 5.442651256490317, 4.749504075930371, 5.442651256490317, 5.037186148382152, 3.3632097148104805, 4.344038967822207, 5.442651256490317, 5.442651256490317, 5.442651256490317, 5.442651256490317, 5.037186148382152, 5.442651256490317, 5.442651256490317, 5.442651256490317, 5.442651256490317, 4.526360524616162, 5.442651256490317, 5.442651256490317, 5.442651256490317, 5.442651256490317, 5.442651256490317, 3.1400661634962708, 2.3745983213566992, 5.442651256490317, 5.037186148382152, 2.128465251817791, 5.442651256490317, 5.442651256490317, 5.442651256490317, 3.570849079588725, 4.749504075930371, 4.344038967822207, 5.037186148382152, 5.442651256490317, 5.442651256490317, 2.6392908755837814, 4.749504075930371, 4.749504075930371, 5.037186148382152, 5.442651256490317, 5.442651256490317, 5.442651256490317, 5.037186148382152, 5.442651256490317, 5.442651256490317, 4.749504075930371, 5.442651256490317, 4.749504075930371, 5.442651256490317, 5.442651256490317, 5.442651256490317, 4.344038967822207, 5.442651256490317, 4.056356895370426, 5.442651256490317, 5.442651256490317, 5.442651256490317, 5.442651256490317, 4.344038967822207, 5.037186148382152, 5.037186148382152, 4.344038967822207, 3.9385738597140425, 3.9385738597140425, 4.056356895370426, 5.442651256490317, 5.442651256490317, 4.749504075930371, 5.442651256490317, 5.037186148382152, 5.442651256490317, 5.442651256490317, 5.442651256490317, 5.037186148382152, 4.344038967822207, 5.442651256490317, 5.442651256490317, 5.037186148382152, 5.442651256490317, 5.037186148382152, 5.442651256490317, 4.526360524616162, 5.037186148382152, 5.442651256490317, 5.442651256490317, 5.442651256490317, 5.442651256490317, 5.442651256490317, 4.526360524616162, 5.442651256490317, 3.570849079588725, 5.442651256490317, 5.442651256490317, 5.442651256490317, 2.184554718468834, 5.442651256490317, 5.037186148382152, 5.442651256490317, 5.442651256490317, 3.9385738597140425, 5.442651256490317, 5.442651256490317, 5.442651256490317, 5.037186148382152, 5.442651256490317, 2.6392908755837814, 5.442651256490317, 3.9385738597140425, 3.9385738597140425, 5.442651256490317, 4.526360524616162, 5.442651256490317, 5.442651256490317, 5.442651256490317, 4.749504075930371, 5.442651256490317, 3.7379031642518914, 5.442651256490317, 4.749504075930371, 5.442651256490317, 4.749504075930371, 4.344038967822207, 5.442651256490317, 5.442651256490317, 5.442651256490317, 4.344038967822207, 5.442651256490317, 4.526360524616162, 4.749504075930371, 5.442651256490317, 5.442651256490317, 3.3632097148104805, 5.442651256490317, 5.442651256490317, 5.442651256490317, 4.189888287994949, 3.1913594578838214, 5.037186148382152, 5.442651256490317, 3.570849079588725, 5.442651256490317, 5.442651256490317, 5.442651256490317, 5.442651256490317, 5.442651256490317, 5.442651256490317, 5.037186148382152, 3.9385738597140425, 4.749504075930371, 3.0912759993268386, 5.442651256490317, 5.442651256490317, 4.189888287994949, 3.570849079588725, 5.037186148382152, 4.189888287994949, 5.442651256490317, 5.442651256490317, 5.442651256490317, 5.442651256490317, 4.749504075930371, 5.442651256490317, 3.7379031642518914, 5.442651256490317, 5.442651256490317, 2.6392908755837814, 5.442651256490317, 4.056356895370426, 5.442651256490317, 5.442651256490317, 4.749504075930371, 5.442651256490317, 5.442651256490317, 4.749504075930371, 5.442651256490317, 3.496741107435003, 5.442651256490317, 3.496741107435003, 5.442651256490317, 5.442651256490317, 5.037186148382152, 5.442651256490317, 5.442651256490317, 5.442651256490317, 5.442651256490317, 4.749504075930371, 5.442651256490317, 5.037186148382152, 5.442651256490317, 5.037186148382152, 5.442651256490317, 4.056356895370426, 5.442651256490317, 4.749504075930371, 5.037186148382152, 5.442651256490317, 5.442651256490317, 5.442651256490317, 5.442651256490317, 5.442651256490317, 5.442651256490317, 5.442651256490317, 2.398128818766893, 4.749504075930371, 4.749504075930371, 5.442651256490317, 5.442651256490317, 5.037186148382152, 5.442651256490317, 5.442651256490317, 2.7018112325651154, 5.442651256490317, 5.442651256490317, 4.749504075930371, 5.442651256490317, 5.037186148382152, 4.056356895370426, 5.442651256490317, 5.442651256490317, 5.442651256490317, 5.442651256490317, 4.056356895370426, 5.442651256490317, 4.526360524616162, 5.442651256490317, 3.9385738597140425, 3.9385738597140425, 5.442651256490317, 5.037186148382152, 5.442651256490317, 5.442651256490317, 4.056356895370426, 5.037186148382152, 4.749504075930371, 4.344038967822207, 5.442651256490317, 3.6508917872622613, 4.344038967822207, 5.442651256490317, 5.442651256490317, 5.442651256490317, 5.442651256490317, 5.442651256490317, 3.833213344056216, 5.442651256490317, 2.6392908755837814, 5.442651256490317, 3.1400661634962708, 2.0249245728769507, 5.442651256490317, 5.442651256490317, 3.9385738597140425, 4.526360524616162, 4.189888287994949, 2.184554718468834, 5.442651256490317, 5.442651256490317, 5.442651256490317, 5.442651256490317, 3.245426679154097, 3.245426679154097, 3.1913594578838214, 4.056356895370426, 5.442651256490317, 2.184554718468834, 4.056356895370426, 5.442651256490317, 5.442651256490317, 5.442651256490317, 5.442651256490317, 3.4277482359480516, 2.285650835340203, 5.442651256490317, 5.442651256490317, 5.442651256490317, 5.442651256490317, 5.442651256490317, 5.442651256490317, 5.442651256490317, 5.442651256490317, 5.442651256490317, 5.442651256490317, 5.442651256490317, 5.442651256490317, 3.496741107435003, 5.442651256490317, 5.037186148382152, 4.526360524616162, 5.442651256490317, 3.6508917872622613, 4.526360524616162, 4.189888287994949, 5.442651256490317, 3.6508917872622613, 5.442651256490317, 5.442651256490317, 5.442651256490317, 5.442651256490317, 3.833213344056216, 5.442651256490317, 5.442651256490317, 5.442651256490317, 4.344038967822207, 5.442651256490317, 4.344038967822207, 5.037186148382152, 4.056356895370426, 2.0249245728769507, 4.526360524616162, 4.526360524616162, 5.442651256490317, 5.442651256490317, 5.442651256490317, 5.442651256490317, 5.442651256490317, 5.442651256490317, 5.037186148382152, 5.442651256490317, 5.442651256490317, 4.749504075930371, 5.442651256490317, 5.442651256490317, 3.7379031642518914, 4.749504075930371, 5.442651256490317, 5.442651256490317, 4.056356895370426, 5.442651256490317, 5.037186148382152, 5.037186148382152, 2.1655065234981397, 5.442651256490317, 5.442651256490317, 5.442651256490317, 5.037186148382152, 5.442651256490317, 4.749504075930371, 5.442651256490317, 5.442651256490317, 3.6508917872622613, 5.037186148382152, 4.056356895370426, 5.037186148382152, 5.442651256490317, 5.442651256490317, 5.037186148382152, 5.037186148382152, 4.056356895370426, 5.442651256490317, 2.092747169215712, 4.344038967822207, 5.442651256490317, 5.442651256490317, 5.442651256490317, 5.442651256490317, 5.037186148382152, 2.734601055388106, 5.442651256490317, 5.442651256490317, 5.442651256490317, 5.442651256490317, 5.442651256490317, 3.833213344056216, 5.442651256490317, 5.442651256490317, 5.442651256490317, 5.442651256490317, 4.526360524616162, 5.442651256490317, 5.442651256490317, 5.037186148382152, 5.037186148382152, 5.442651256490317, 3.7379031642518914, 5.037186148382152, 5.037186148382152, 2.580450375560848, 5.442651256490317, 4.749504075930371, 4.344038967822207, 5.442651256490317, 4.189888287994949, 5.442651256490317, 5.442651256490317, 2.734601055388106, 5.442651256490317, 5.442651256490317, 4.526360524616162, 5.442651256490317, 5.442651256490317, 5.442651256490317, 3.496741107435003, 5.442651256490317, 4.056356895370426, 5.442651256490317, 4.526360524616162, 5.037186148382152, 4.526360524616162, 3.833213344056216, 4.344038967822207, 5.442651256490317, 5.037186148382152, 5.442651256490317, 5.442651256490317, 5.442651256490317, 5.442651256490317, 5.442651256490317, 4.749504075930371, 5.442651256490317, 5.442651256490317, 4.749504075930371, 5.442651256490317, 5.442651256490317, 5.442651256490317, 5.442651256490317, 5.442651256490317, 5.442651256490317, 5.442651256490317, 4.749504075930371, 5.442651256490317, 3.7379031642518914, 5.442651256490317, 5.442651256490317, 5.442651256490317, 4.344038967822207, 5.442651256490317, 5.442651256490317, 5.442651256490317, 5.442651256490317, 5.442651256490317, 5.442651256490317, 5.442651256490317, 4.749504075930371, 3.6508917872622613, 5.442651256490317, 5.037186148382152, 5.037186148382152, 5.442651256490317, 5.442651256490317, 5.037186148382152, 3.9385738597140425, 5.037186148382152, 4.749504075930371, 5.442651256490317, 5.442651256490317, 5.442651256490317, 5.442651256490317, 4.344038967822207, 5.442651256490317, 5.442651256490317, 5.442651256490317, 5.037186148382152, 5.442651256490317, 4.749504075930371, 5.442651256490317, 5.442651256490317, 5.442651256490317, 4.526360524616162, 4.344038967822207, 5.037186148382152, 5.442651256490317, 5.442651256490317, 5.037186148382152, 5.442651256490317, 4.526360524616162, 4.526360524616162, 5.442651256490317, 3.7379031642518914, 5.442651256490317, 5.442651256490317, 5.442651256490317, 5.037186148382152, 5.442651256490317, 5.442651256490317, 5.442651256490317, 4.749504075930371, 5.442651256490317, 5.442651256490317, 5.442651256490317, 5.037186148382152, 5.442651256490317, 5.442651256490317, 5.442651256490317, 5.442651256490317, 5.442651256490317, 3.6508917872622613, 5.037186148382152, 5.442651256490317, 4.749504075930371, 3.9385738597140425, 3.7379031642518914, 4.344038967822207, 5.442651256490317, 5.442651256490317, 3.302585092994046, 3.7379031642518914, 3.7379031642518914, 5.442651256490317, 5.037186148382152, 5.442651256490317, 5.037186148382152, 5.037186148382152, 5.442651256490317, 3.245426679154097, 4.526360524616162, 4.749504075930371, 5.442651256490317, 5.442651256490317, 5.442651256490317, 4.749504075930371, 5.442651256490317, 5.442651256490317, 4.749504075930371, 5.442651256490317, 5.442651256490317, 4.056356895370426, 5.037186148382152, 3.9385738597140425, 5.442651256490317, 4.749504075930371, 4.526360524616162, 5.442651256490317, 5.442651256490317, 3.4277482359480516, 4.189888287994949, 3.496741107435003, 4.344038967822207, 5.442651256490317, 5.442651256490317, 5.442651256490317, 5.442651256490317, 5.442651256490317, 2.307157040561167, 5.442651256490317, 3.4277482359480516, 4.526360524616162, 3.570849079588725, 3.7379031642518914, 4.526360524616162, 4.526360524616162, 5.442651256490317, 5.037186148382152, 5.442651256490317, 5.442651256490317, 4.189888287994949, 5.037186148382152, 4.056356895370426, 4.526360524616162, 5.037186148382152, 5.442651256490317, 5.442651256490317, 4.749504075930371, 5.037186148382152, 5.442651256490317, 4.749504075930371, 5.442651256490317, 5.442651256490317, 5.037186148382152, 5.442651256490317, 3.7379031642518914, 2.0249245728769507, 3.9385738597140425, 5.442651256490317, 3.570849079588725, 4.749504075930371, 5.037186148382152, 2.957744606702316, 5.442651256490317, 1.77908961036067, 5.442651256490317, 5.442651256490317, 5.442651256490317, 3.000304221121112, 5.442651256490317, 5.442651256490317, 5.442651256490317, 4.749504075930371, 5.442651256490317, 5.442651256490317, 5.442651256490317, 5.442651256490317, 5.037186148382152, 3.570849079588725, 2.957744606702316, 2.916922612182061, 3.833213344056216, 4.344038967822207, 5.442651256490317, 1.7537718023763802, 5.442651256490317, 5.442651256490317, 4.189888287994949, 5.037186148382152, 5.442651256490317, 5.442651256490317, 3.833213344056216, 4.749504075930371, 3.0912759993268386, 5.442651256490317, 5.037186148382152, 5.442651256490317, 5.442651256490317, 3.9385738597140425, 5.037186148382152, 5.442651256490317, 5.442651256490317, 5.442651256490317, 5.442651256490317, 5.442651256490317, 3.833213344056216, 5.442651256490317, 4.526360524616162, 4.189888287994949, 4.749504075930371, 2.839961571045933, 5.037186148382152, 5.037186148382152, 5.442651256490317, 5.037186148382152, 5.442651256490317, 5.442651256490317, 5.442651256490317, 5.442651256490317, 5.442651256490317, 5.037186148382152, 5.442651256490317, 5.442651256490317, 5.442651256490317, 5.442651256490317, 5.442651256490317, 5.442651256490317, 5.037186148382152, 5.442651256490317, 5.442651256490317, 3.833213344056216, 5.442651256490317, 5.442651256490317, 5.442651256490317, 5.442651256490317, 5.442651256490317, 3.3632097148104805, 5.442651256490317, 5.442651256490317, 5.442651256490317, 5.442651256490317, 5.442651256490317, 5.442651256490317, 5.442651256490317, 4.749504075930371, 4.189888287994949, 5.442651256490317, 5.442651256490317, 4.189888287994949, 5.442651256490317, 4.526360524616162, 5.442651256490317, 5.037186148382152, 5.442651256490317, 5.037186148382152, 2.041453874828161, 5.442651256490317, 5.442651256490317, 4.749504075930371, 5.442651256490317, 5.037186148382152, 5.442651256490317, 5.442651256490317, 5.442651256490317, 5.442651256490317, 3.9385738597140425, 5.442651256490317, 5.442651256490317, 5.442651256490317, 5.442651256490317, 5.037186148382152, 5.442651256490317, 4.526360524616162, 4.056356895370426, 5.442651256490317, 3.9385738597140425, 4.749504075930371, 5.442651256490317, 4.749504075930371, 4.749504075930371, 5.442651256490317, 5.442651256490317, 5.442651256490317, 5.442651256490317, 5.442651256490317, 5.442651256490317, 5.442651256490317, 5.442651256490317, 5.442651256490317, 5.442651256490317, 5.442651256490317, 5.442651256490317, 5.442651256490317, 5.037186148382152, 5.037186148382152, 5.442651256490317, 5.037186148382152, 5.442651256490317, 5.442651256490317, 5.442651256490317, 5.442651256490317, 5.442651256490317, 5.442651256490317, 5.442651256490317, 3.570849079588725, 5.442651256490317, 3.245426679154097, 5.442651256490317, 5.442651256490317, 5.442651256490317, 5.442651256490317, 5.442651256490317, 5.037186148382152, 5.442651256490317, 5.442651256490317, 5.442651256490317, 5.442651256490317, 5.442651256490317, 5.442651256490317, 5.442651256490317, 4.189888287994949, 4.056356895370426, 5.442651256490317, 5.442651256490317, 5.442651256490317, 5.037186148382152, 5.037186148382152, 2.7018112325651154, 5.037186148382152, 5.442651256490317, 5.442651256490317, 5.442651256490317, 5.442651256490317, 5.442651256490317, 5.442651256490317, 5.442651256490317, 5.037186148382152, 5.442651256490317, 4.749504075930371, 5.442651256490317, 5.442651256490317, 5.442651256490317, 5.442651256490317, 5.442651256490317, 3.7379031642518914, 5.442651256490317, 5.037186148382152, 5.442651256490317, 5.442651256490317, 5.442651256490317, 5.037186148382152, 5.442651256490317, 5.442651256490317, 5.442651256490317, 5.442651256490317, 5.442651256490317, 4.344038967822207, 5.037186148382152, 4.749504075930371, 5.442651256490317, 5.442651256490317, 5.442651256490317, 5.442651256490317, 4.344038967822207, 5.442651256490317, 5.442651256490317, 4.056356895370426, 5.442651256490317, 5.442651256490317, 5.442651256490317, 4.749504075930371, 5.442651256490317, 5.037186148382152, 5.442651256490317, 4.189888287994949, 5.037186148382152, 4.749504075930371, 5.442651256490317, 4.526360524616162, 5.037186148382152, 5.037186148382152, 5.442651256490317, 5.037186148382152, 3.833213344056216, 2.498212277323876, 3.9385738597140425, 5.037186148382152, 4.749504075930371, 5.442651256490317, 5.442651256490317, 5.442651256490317, 5.037186148382152, 5.442651256490317, 5.442651256490317, 5.442651256490317, 5.442651256490317, 2.839961571045933, 5.442651256490317, 4.749504075930371, 5.442651256490317, 5.442651256490317, 5.442651256490317, 5.442651256490317, 5.442651256490317, 5.037186148382152, 5.442651256490317, 5.442651256490317, 5.037186148382152, 5.442651256490317, 5.037186148382152, 5.442651256490317, 5.442651256490317, 5.442651256490317, 5.442651256490317, 2.3516088031320006, 5.442651256490317, 5.037186148382152, 5.442651256490317, 5.442651256490317, 5.442651256490317, 4.749504075930371, 5.442651256490317, 4.526360524616162, 5.037186148382152, 5.442651256490317, 5.037186148382152, 5.442651256490317, 5.037186148382152, 5.037186148382152, 5.442651256490317, 5.037186148382152, 3.496741107435003, 5.442651256490317, 5.442651256490317, 5.442651256490317, 5.037186148382152, 4.749504075930371, 5.037186148382152, 4.189888287994949, 2.5248805244060373, 5.442651256490317, 5.442651256490317, 5.442651256490317, 4.056356895370426, 5.442651256490317, 5.442651256490317, 5.442651256490317, 5.442651256490317, 4.344038967822207, 5.442651256490317, 5.037186148382152, 5.442651256490317, 4.749504075930371, 5.442651256490317, 5.442651256490317, 5.442651256490317, 5.037186148382152, 5.037186148382152, 3.9385738597140425, 5.442651256490317, 5.037186148382152, 5.442651256490317, 5.442651256490317, 5.442651256490317, 5.037186148382152, 3.496741107435003, 5.442651256490317, 5.442651256490317, 5.037186148382152, 5.037186148382152, 4.056356895370426, 2.422226370345954, 5.442651256490317, 5.442651256490317, 5.442651256490317, 4.749504075930371, 5.442651256490317, 5.442651256490317, 5.442651256490317, 4.526360524616162, 5.442651256490317, 3.302585092994046, 3.6508917872622613, 4.344038967822207, 5.442651256490317, 5.037186148382152, 5.037186148382152, 5.442651256490317, 5.442651256490317, 4.189888287994949, 5.442651256490317, 5.442651256490317, 5.442651256490317, 5.442651256490317, 5.442651256490317, 5.442651256490317, 5.442651256490317, 5.442651256490317, 4.526360524616162, 3.833213344056216, 3.3632097148104805, 5.442651256490317, 5.442651256490317, 5.037186148382152, 4.189888287994949, 5.442651256490317, 4.344038967822207, 5.442651256490317, 4.749504075930371, 5.037186148382152, 5.442651256490317, 4.344038967822207, 3.9385738597140425, 5.442651256490317, 5.442651256490317, 3.833213344056216, 5.442651256490317, 4.189888287994949, 2.3516088031320006, 5.442651256490317, 4.749504075930371, 5.037186148382152, 1.8873031950009027, 5.442651256490317, 5.442651256490317, 5.442651256490317, 5.037186148382152, 5.442651256490317, 5.442651256490317, 5.442651256490317, 3.9385738597140425, 5.442651256490317, 3.245426679154097, 2.670062534250535, 5.037186148382152, 3.496741107435003, 3.9385738597140425, 5.037186148382152, 5.037186148382152, 5.442651256490317, 5.442651256490317, 5.442651256490317, 5.442651256490317, 5.442651256490317, 5.442651256490317, 3.1913594578838214, 4.526360524616162, 5.442651256490317, 5.037186148382152, 5.442651256490317, 4.344038967822207, 5.442651256490317, 3.3632097148104805, 5.442651256490317, 5.037186148382152, 4.344038967822207, 4.344038967822207, 4.749504075930371, 5.442651256490317, 4.749504075930371, 5.442651256490317, 5.037186148382152, 4.056356895370426, 5.442651256490317, 5.442651256490317, 5.442651256490317, 5.442651256490317, 5.442651256490317, 5.442651256490317, 5.442651256490317, 3.9385738597140425, 5.442651256490317, 5.442651256490317, 5.037186148382152, 5.037186148382152, 5.442651256490317, 5.442651256490317, 5.037186148382152, 5.442651256490317, 5.442651256490317, 3.833213344056216, 5.442651256490317, 5.442651256490317, 5.037186148382152, 5.442651256490317, 5.442651256490317, 5.442651256490317, 4.749504075930371, 5.442651256490317, 4.526360524616162, 5.037186148382152, 5.442651256490317, 5.442651256490317, 5.037186148382152, 5.442651256490317, 5.442651256490317, 4.749504075930371, 4.526360524616162, 5.442651256490317, 5.442651256490317, 4.526360524616162, 4.189888287994949, 4.749504075930371, 5.442651256490317, 5.037186148382152, 5.442651256490317, 3.9385738597140425, 5.442651256490317, 5.442651256490317, 5.442651256490317, 5.442651256490317, 5.442651256490317, 5.442651256490317, 5.037186148382152, 3.044755983691946, 5.442651256490317, 4.749504075930371, 5.442651256490317, 4.526360524616162, 3.3632097148104805, 5.442651256490317, 1.5406785869156718, 5.442651256490317, 5.442651256490317, 5.037186148382152, 5.037186148382152, 5.442651256490317, 5.442651256490317, 5.037186148382152, 5.442651256490317, 3.7379031642518914, 5.442651256490317, 5.442651256490317, 5.037186148382152, 5.442651256490317, 4.749504075930371, 5.442651256490317, 5.442651256490317, 5.442651256490317, 5.442651256490317, 5.442651256490317, 5.442651256490317, 4.749504075930371, 5.442651256490317, 4.749504075930371, 4.344038967822207, 5.442651256490317, 3.7379031642518914, 5.442651256490317, 5.442651256490317, 5.442651256490317, 4.526360524616162, 5.442651256490317, 5.442651256490317, 4.526360524616162, 3.833213344056216, 5.442651256490317, 4.526360524616162, 5.037186148382152, 5.442651256490317, 5.037186148382152, 5.442651256490317, 5.442651256490317, 5.442651256490317, 5.442651256490317, 5.442651256490317, 5.442651256490317, 5.037186148382152, 5.442651256490317, 5.442651256490317, 5.037186148382152, 5.037186148382152, 5.442651256490317, 4.056356895370426, 4.526360524616162, 5.442651256490317, 5.442651256490317, 4.526360524616162, 5.442651256490317, 5.037186148382152, 5.442651256490317, 5.037186148382152, 1.9461436950238362, 5.442651256490317, 4.344038967822207, 5.442651256490317, 4.749504075930371, 4.749504075930371, 5.442651256490317, 5.442651256490317, 5.442651256490317, 5.037186148382152, 4.526360524616162, 5.037186148382152, 5.442651256490317, 5.442651256490317, 2.1468143904859875, 5.442651256490317, 5.037186148382152, 3.1400661634962708, 5.442651256490317, 5.442651256490317, 5.442651256490317, 5.442651256490317, 5.037186148382152, 5.442651256490317, 5.442651256490317, 5.442651256490317, 4.526360524616162, 5.037186148382152, 4.526360524616162, 5.442651256490317, 2.916922612182061, 5.442651256490317, 5.442651256490317, 5.037186148382152, 5.442651256490317, 5.442651256490317, 5.442651256490317, 3.9385738597140425, 5.442651256490317, 5.037186148382152, 4.056356895370426, 5.442651256490317, 5.442651256490317, 5.442651256490317, 5.442651256490317, 4.749504075930371, 5.037186148382152, 5.442651256490317, 4.749504075930371, 4.749504075930371, 3.6508917872622613, 5.037186148382152, 2.7018112325651154, 4.749504075930371, 5.442651256490317, 4.526360524616162, 5.442651256490317, 5.037186148382152, 5.442651256490317, 5.442651256490317, 5.442651256490317, 4.526360524616162, 5.442651256490317, 5.442651256490317, 5.442651256490317, 4.056356895370426, 5.442651256490317, 4.749504075930371, 5.442651256490317, 5.442651256490317, 5.442651256490317, 3.7379031642518914, 5.442651256490317, 5.442651256490317, 5.037186148382152, 5.442651256490317, 5.037186148382152, 5.037186148382152, 5.442651256490317, 5.442651256490317, 2.1468143904859875, 5.442651256490317, 5.442651256490317, 5.442651256490317, 5.442651256490317, 5.442651256490317, 5.442651256490317, 5.442651256490317, 5.442651256490317, 4.749504075930371, 5.037186148382152, 4.056356895370426, 5.442651256490317, 3.570849079588725, 4.749504075930371, 5.442651256490317, 5.442651256490317, 5.442651256490317, 5.442651256490317, 2.398128818766893, 5.037186148382152, 4.749504075930371, 5.442651256490317, 4.749504075930371, 5.442651256490317, 5.442651256490317, 5.037186148382152, 3.9385738597140425, 5.442651256490317, 5.037186148382152, 4.749504075930371, 5.442651256490317, 5.442651256490317, 5.442651256490317, 3.4277482359480516, 3.9385738597140425, 4.749504075930371, 3.7379031642518914, 5.442651256490317, 5.442651256490317, 4.749504075930371, 2.734601055388106, 5.442651256490317, 4.526360524616162, 5.442651256490317, 5.442651256490317, 4.749504075930371, 5.442651256490317, 3.9385738597140425, 5.037186148382152, 4.344038967822207, 5.442651256490317, 2.6392908755837814, 4.189888287994949, 5.442651256490317, 4.344038967822207, 3.9385738597140425, 4.189888287994949, 5.442651256490317, 3.0912759993268386, 4.749504075930371, 5.442651256490317, 5.442651256490317, 5.442651256490317, 5.037186148382152, 5.037186148382152, 5.442651256490317, 5.037186148382152, 4.526360524616162, 5.442651256490317, 5.442651256490317, 4.749504075930371, 4.344038967822207, 5.442651256490317, 3.9385738597140425, 5.442651256490317, 4.056356895370426, 3.1400661634962708, 5.037186148382152, 4.749504075930371, 5.442651256490317, 4.526360524616162, 3.833213344056216, 3.1913594578838214, 5.442651256490317, 5.442651256490317, 4.344038967822207, 3.302585092994046, 5.442651256490317, 4.749504075930371, 5.442651256490317, 4.749504075930371, 5.442651256490317, 5.442651256490317, 3.3632097148104805, 3.1913594578838214, 4.749504075930371, 3.7379031642518914, 4.056356895370426, 3.302585092994046, 5.442651256490317, 5.442651256490317, 5.442651256490317, 5.442651256490317, 4.526360524616162, 5.442651256490317, 4.189888287994949, 5.442651256490317, 4.526360524616162, 5.442651256490317, 4.189888287994949, 4.056356895370426, 4.749504075930371, 5.442651256490317, 5.442651256490317, 5.442651256490317, 5.442651256490317, 5.442651256490317, 5.442651256490317, 5.442651256490317, 5.442651256490317, 4.749504075930371, 5.442651256490317, 3.044755983691946, 5.442651256490317, 5.442651256490317, 5.442651256490317, 5.442651256490317, 5.442651256490317, 5.442651256490317, 3.7379031642518914, 5.442651256490317, 5.442651256490317, 4.056356895370426, 4.749504075930371, 5.442651256490317, 5.037186148382152, 3.7379031642518914, 5.442651256490317, 5.037186148382152, 5.442651256490317, 5.442651256490317, 5.037186148382152, 5.442651256490317, 5.037186148382152, 5.037186148382152, 5.442651256490317, 5.442651256490317, 3.3632097148104805, 4.344038967822207, 5.442651256490317, 4.189888287994949, 4.056356895370426, 2.203972804325936, 4.056356895370426, 5.037186148382152, 5.442651256490317, 5.442651256490317, 5.442651256490317, 5.442651256490317, 4.526360524616162, 5.442651256490317, 5.442651256490317, 5.442651256490317, 5.442651256490317, 5.442651256490317, 5.037186148382152, 4.056356895370426, 5.442651256490317, 5.442651256490317, 5.442651256490317, 5.442651256490317, 4.749504075930371, 5.442651256490317, 5.037186148382152, 5.442651256490317, 5.442651256490317, 3.7379031642518914, 4.749504075930371, 5.442651256490317, 5.442651256490317, 5.442651256490317, 5.442651256490317, 5.037186148382152, 5.442651256490317, 5.037186148382152, 5.442651256490317, 5.037186148382152, 5.037186148382152, 5.442651256490317, 5.037186148382152, 5.442651256490317, 5.037186148382152, 5.442651256490317, 1.5819215454497209, 5.037186148382152, 5.442651256490317, 5.442651256490317, 5.442651256490317, 5.442651256490317, 5.442651256490317, 5.442651256490317, 3.1913594578838214, 4.056356895370426, 4.189888287994949, 5.442651256490317, 5.442651256490317, 5.442651256490317, 4.749504075930371, 5.442651256490317, 5.442651256490317, 5.442651256490317, 5.442651256490317, 5.442651256490317, 5.442651256490317, 5.442651256490317, 5.442651256490317, 2.7018112325651154, 4.526360524616162, 5.442651256490317, 5.442651256490317, 5.037186148382152, 4.344038967822207, 5.442651256490317, 5.442651256490317, 4.749504075930371, 5.442651256490317, 5.037186148382152, 4.344038967822207, 5.442651256490317, 5.442651256490317, 5.442651256490317, 5.037186148382152, 5.442651256490317, 3.1913594578838214, 2.803593926875058, 5.037186148382152, 3.833213344056216, 5.037186148382152, 4.056356895370426, 5.442651256490317, 5.442651256490317, 5.442651256490317, 4.526360524616162, 5.442651256490317, 5.442651256490317, 5.442651256490317, 5.442651256490317, 5.442651256490317, 5.442651256490317, 5.037186148382152, 5.442651256490317, 5.442651256490317, 5.442651256490317, 5.442651256490317, 4.749504075930371, 5.442651256490317, 4.526360524616162, 5.442651256490317, 1.647162067318122, 5.442651256490317, 5.442651256490317, 5.442651256490317, 5.442651256490317, 3.6508917872622613, 5.442651256490317, 1.8591323180342063, 5.442651256490317, 5.442651256490317, 5.037186148382152, 3.496741107435003, 5.442651256490317, 5.442651256490317, 5.037186148382152, 5.037186148382152, 5.037186148382152, 1.7537718023763802, 4.344038967822207, 5.442651256490317, 5.442651256490317, 5.442651256490317, 5.442651256490317, 5.442651256490317, 5.442651256490317, 5.442651256490317, 5.442651256490317, 5.442651256490317, 4.344038967822207, 4.526360524616162, 4.056356895370426, 5.442651256490317, 5.442651256490317, 5.442651256490317, 5.442651256490317, 4.526360524616162, 5.037186148382152, 5.442651256490317, 5.442651256490317, 4.526360524616162, 5.037186148382152, 5.037186148382152, 5.442651256490317, 4.749504075930371, 5.442651256490317, 4.749504075930371, 5.037186148382152, 4.344038967822207, 5.442651256490317, 4.749504075930371, 5.442651256490317, 4.056356895370426, 5.037186148382152, 2.075355426503842, 5.442651256490317, 5.442651256490317, 4.749504075930371, 5.037186148382152, 5.442651256490317, 5.442651256490317, 5.442651256490317, 5.442651256490317, 5.037186148382152, 5.442651256490317, 5.442651256490317, 5.442651256490317, 5.442651256490317, 3.833213344056216, 5.442651256490317, 5.442651256490317, 5.442651256490317, 5.037186148382152, 5.442651256490317, 5.442651256490317, 5.442651256490317, 5.442651256490317, 5.442651256490317, 5.442651256490317, 5.442651256490317, 5.442651256490317, 5.442651256490317, 5.442651256490317, 5.442651256490317, 5.442651256490317, 4.749504075930371, 5.442651256490317, 5.037186148382152, 5.442651256490317, 5.037186148382152, 5.442651256490317, 5.442651256490317, 5.442651256490317, 5.442651256490317, 5.442651256490317, 5.037186148382152, 5.442651256490317, 5.442651256490317, 5.442651256490317, 5.037186148382152, 5.442651256490317, 4.749504075930371, 3.7379031642518914, 5.442651256490317, 5.037186148382152, 5.037186148382152, 5.442651256490317, 4.189888287994949, 5.442651256490317, 5.442651256490317, 5.442651256490317, 4.056356895370426, 4.749504075930371, 5.442651256490317, 5.442651256490317, 5.442651256490317, 5.442651256490317, 5.442651256490317, 3.302585092994046, 5.442651256490317, 5.442651256490317, 5.442651256490317, 5.442651256490317, 5.037186148382152, 5.442651256490317, 5.037186148382152, 5.442651256490317, 5.442651256490317, 5.442651256490317, 2.8777018990287795, 2.128465251817791, 5.037186148382152, 3.833213344056216, 5.037186148382152, 5.442651256490317, 5.442651256490317, 5.442651256490317, 5.442651256490317, 5.442651256490317, 5.442651256490317, 3.4277482359480516, 5.442651256490317, 5.442651256490317, 5.442651256490317, 5.442651256490317, 5.442651256490317, 5.442651256490317, 5.442651256490317, 5.442651256490317, 5.442651256490317, 5.442651256490317, 5.442651256490317, 5.037186148382152, 5.442651256490317, 5.442651256490317, 5.442651256490317, 5.442651256490317, 4.749504075930371, 5.442651256490317, 5.442651256490317, 5.037186148382152, 5.442651256490317, 5.442651256490317, 5.442651256490317, 3.9385738597140425, 5.442651256490317, 5.442651256490317, 1.9461436950238362, 5.442651256490317, 5.442651256490317, 3.7379031642518914, 4.526360524616162, 5.442651256490317, 5.442651256490317, 5.037186148382152, 5.442651256490317, 4.056356895370426, 5.442651256490317, 5.442651256490317, 5.442651256490317, 5.442651256490317, 4.526360524616162, 5.442651256490317, 5.037186148382152, 3.6508917872622613, 4.344038967822207, 5.442651256490317, 5.442651256490317, 5.442651256490317, 5.442651256490317, 5.442651256490317, 5.442651256490317, 4.344038967822207, 4.526360524616162, 5.442651256490317, 2.7018112325651154, 4.526360524616162, 5.442651256490317, 3.833213344056216, 5.442651256490317, 5.442651256490317, 5.442651256490317, 4.749504075930371, 2.5522794985941517, 4.749504075930371, 4.344038967822207, 5.442651256490317, 5.442651256490317, 5.442651256490317, 5.442651256490317, 3.4277482359480516, 4.056356895370426, 3.245426679154097, 4.189888287994949, 4.344038967822207, 5.442651256490317, 5.037186148382152, 5.037186148382152, 5.442651256490317, 4.189888287994949, 5.442651256490317, 4.056356895370426, 5.442651256490317, 5.442651256490317, 5.037186148382152, 5.442651256490317, 4.526360524616162, 4.189888287994949, 5.037186148382152, 4.344038967822207, 5.442651256490317, 5.442651256490317, 5.442651256490317, 5.442651256490317, 5.037186148382152, 4.749504075930371, 5.442651256490317, 5.442651256490317, 5.442651256490317, 5.442651256490317, 4.749504075930371, 5.442651256490317, 5.442651256490317, 5.442651256490317, 5.442651256490317, 5.037186148382152, 5.442651256490317, 2.839961571045933, 5.442651256490317, 5.442651256490317, 5.037186148382152, 5.442651256490317, 5.442651256490317, 5.442651256490317, 5.442651256490317, 3.570849079588725, 5.037186148382152, 5.442651256490317, 5.442651256490317, 5.442651256490317, 5.442651256490317, 5.442651256490317, 5.442651256490317, 5.037186148382152, 5.442651256490317, 5.037186148382152, 5.442651256490317, 5.442651256490317, 5.442651256490317, 3.9385738597140425, 5.442651256490317, 5.442651256490317, 4.526360524616162, 5.442651256490317, 5.442651256490317, 5.442651256490317, 5.442651256490317, 5.442651256490317, 5.442651256490317, 5.037186148382152, 5.442651256490317, 5.442651256490317, 4.344038967822207, 5.442651256490317, 5.442651256490317, 3.044755983691946, 5.442651256490317, 5.442651256490317, 5.442651256490317, 5.037186148382152, 3.570849079588725, 4.749504075930371, 3.4277482359480516, 5.442651256490317, 5.442651256490317, 4.189888287994949, 5.442651256490317, 5.442651256490317, 5.442651256490317, 5.037186148382152, 5.037186148382152, 5.442651256490317, 5.037186148382152, 5.442651256490317, 5.442651256490317, 5.442651256490317, 5.442651256490317, 3.9385738597140425, 5.442651256490317, 3.7379031642518914, 5.037186148382152, 5.442651256490317, 5.442651256490317, 5.442651256490317, 4.526360524616162, 5.442651256490317, 5.442651256490317, 5.442651256490317, 5.442651256490317, 5.442651256490317, 5.442651256490317, 5.442651256490317, 5.442651256490317, 2.803593926875058, 5.442651256490317, 4.189888287994949, 5.037186148382152, 5.442651256490317, 5.442651256490317, 5.442651256490317, 5.442651256490317, 5.442651256490317, 5.442651256490317, 4.749504075930371, 4.526360524616162, 2.6392908755837814, 5.442651256490317, 1.7663505845832401, 5.442651256490317, 5.442651256490317, 5.037186148382152, 5.037186148382152, 5.442651256490317, 5.442651256490317, 5.442651256490317, 5.442651256490317, 5.442651256490317, 5.442651256490317, 5.037186148382152, 5.442651256490317, 5.442651256490317, 5.442651256490317, 5.037186148382152, 4.749504075930371, 5.442651256490317, 5.442651256490317, 4.749504075930371, 5.037186148382152, 5.037186148382152, 5.442651256490317, 5.442651256490317, 5.442651256490317, 5.442651256490317, 5.442651256490317, 5.442651256490317, 5.442651256490317, 5.442651256490317, 5.442651256490317, 5.442651256490317, 5.037186148382152, 3.570849079588725, 5.442651256490317, 5.442651256490317, 5.442651256490317, 5.037186148382152, 5.442651256490317, 5.442651256490317, 5.442651256490317, 5.442651256490317, 4.344038967822207, 5.442651256490317, 3.0912759993268386, 5.442651256490317, 3.4277482359480516, 5.442651256490317, 5.442651256490317, 5.442651256490317, 5.037186148382152, 5.442651256490317, 5.442651256490317, 5.442651256490317, 5.037186148382152, 5.442651256490317, 4.749504075930371, 5.442651256490317, 5.442651256490317, 5.442651256490317, 3.833213344056216, 5.442651256490317, 3.496741107435003, 5.442651256490317, 1.77908961036067, 2.3516088031320006, 4.749504075930371, 5.442651256490317, 5.442651256490317, 5.037186148382152, 5.442651256490317, 5.442651256490317, 5.442651256490317, 3.1913594578838214, 5.037186148382152, 5.442651256490317, 5.442651256490317, 5.442651256490317, 5.037186148382152, 4.344038967822207, 4.344038967822207, 5.442651256490317, 5.442651256490317, 5.442651256490317, 5.442651256490317, 5.442651256490317, 5.442651256490317, 5.442651256490317, 5.442651256490317, 5.442651256490317, 5.442651256490317, 5.442651256490317, 5.442651256490317, 5.442651256490317, 3.1400661634962708, 5.442651256490317, 4.056356895370426, 5.442651256490317, 5.442651256490317, 4.526360524616162, 5.442651256490317, 5.442651256490317, 5.442651256490317, 4.749504075930371, 5.442651256490317, 4.749504075930371, 5.037186148382152, 5.037186148382152, 2.1104467463151124, 5.442651256490317, 5.442651256490317, 4.526360524616162, 5.442651256490317, 5.442651256490317, 5.442651256490317, 5.037186148382152, 5.442651256490317, 5.037186148382152, 5.442651256490317, 5.037186148382152, 5.442651256490317, 5.442651256490317, 5.037186148382152, 3.000304221121112, 5.037186148382152, 5.442651256490317, 5.442651256490317, 5.442651256490317, 4.526360524616162, 5.442651256490317, 4.749504075930371, 4.526360524616162, 5.442651256490317, 5.037186148382152, 5.442651256490317, 3.3632097148104805, 5.442651256490317, 5.442651256490317, 4.749504075930371, 5.037186148382152, 5.442651256490317, 5.037186148382152, 5.442651256490317, 5.442651256490317, 3.7379031642518914, 5.037186148382152, 5.442651256490317, 5.442651256490317, 4.749504075930371, 5.442651256490317, 5.037186148382152, 5.037186148382152, 5.442651256490317, 5.442651256490317, 5.442651256490317, 5.442651256490317, 5.442651256490317, 4.749504075930371, 5.442651256490317, 5.442651256490317, 5.442651256490317, 5.442651256490317, 3.3632097148104805, 5.037186148382152, 5.442651256490317, 5.037186148382152, 5.442651256490317, 5.442651256490317, 5.442651256490317, 5.442651256490317, 5.442651256490317, 5.037186148382152, 4.749504075930371, 5.442651256490317, 5.442651256490317, 5.442651256490317, 5.037186148382152, 5.442651256490317, 5.442651256490317, 5.442651256490317, 4.526360524616162, 4.526360524616162, 3.833213344056216, 5.442651256490317, 4.526360524616162, 5.442651256490317, 5.442651256490317, 5.442651256490317, 3.1913594578838214, 5.442651256490317, 5.442651256490317, 5.442651256490317, 5.442651256490317, 5.442651256490317, 5.442651256490317, 5.442651256490317, 5.037186148382152, 5.442651256490317, 5.037186148382152, 5.037186148382152, 5.037186148382152, 5.037186148382152, 5.442651256490317, 3.9385738597140425, 5.037186148382152, 5.442651256490317, 5.442651256490317, 4.189888287994949, 5.442651256490317, 5.442651256490317, 5.442651256490317, 5.442651256490317, 5.442651256490317, 5.442651256490317, 5.442651256490317, 5.442651256490317, 5.442651256490317, 4.749504075930371, 5.442651256490317, 5.442651256490317, 5.442651256490317, 5.037186148382152, 4.526360524616162, 4.749504075930371, 5.442651256490317, 5.442651256490317, 4.749504075930371, 4.749504075930371, 4.749504075930371, 5.442651256490317, 5.442651256490317, 5.442651256490317, 5.442651256490317, 4.526360524616162, 3.7379031642518914, 5.442651256490317, 5.442651256490317, 5.442651256490317, 4.344038967822207, 5.442651256490317, 4.344038967822207, 3.9385738597140425, 5.442651256490317, 5.442651256490317, 5.442651256490317, 5.037186148382152, 3.9385738597140425, 5.442651256490317, 5.037186148382152, 5.442651256490317, 5.442651256490317, 5.037186148382152, 5.442651256490317, 5.442651256490317, 2.3745983213566992, 5.442651256490317, 4.344038967822207, 5.442651256490317, 5.037186148382152, 5.442651256490317, 5.037186148382152, 5.442651256490317, 4.749504075930371, 5.037186148382152, 3.245426679154097, 5.442651256490317, 4.189888287994949, 4.749504075930371, 3.0912759993268386, 5.037186148382152, 5.037186148382152, 5.442651256490317, 5.442651256490317, 5.442651256490317, 2.5248805244060373, 5.442651256490317, 5.442651256490317, 5.037186148382152, 5.442651256490317, 5.442651256490317, 5.442651256490317, 5.442651256490317, 5.037186148382152, 5.442651256490317, 5.442651256490317, 5.037186148382152, 5.442651256490317, 5.442651256490317, 5.442651256490317, 5.442651256490317, 4.344038967822207, 5.037186148382152, 4.526360524616162, 4.526360524616162, 5.442651256490317, 5.442651256490317, 4.344038967822207, 4.749504075930371, 2.203972804325936, 5.442651256490317, 5.442651256490317, 5.442651256490317, 5.037186148382152, 5.442651256490317, 5.442651256490317, 5.442651256490317, 5.442651256490317, 5.442651256490317, 5.037186148382152, 4.189888287994949, 5.442651256490317, 4.749504075930371, 5.442651256490317, 5.037186148382152, 5.442651256490317, 3.044755983691946, 5.442651256490317, 5.037186148382152, 5.037186148382152, 5.442651256490317, 5.442651256490317, 5.037186148382152, 5.442651256490317, 3.3632097148104805, 5.442651256490317, 1.2759860326885897, 5.442651256490317, 4.749504075930371, 5.442651256490317, 3.9385738597140425, 5.442651256490317, 5.037186148382152, 5.442651256490317, 5.442651256490317, 4.056356895370426, 5.442651256490317, 5.442651256490317, 3.4277482359480516, 4.749504075930371, 4.526360524616162, 5.442651256490317, 5.442651256490317, 2.839961571045933, 5.442651256490317, 4.189888287994949, 4.526360524616162, 5.442651256490317, 5.442651256490317, 5.442651256490317, 5.442651256490317, 5.442651256490317, 5.442651256490317, 5.442651256490317, 5.037186148382152, 5.442651256490317, 5.442651256490317, 5.442651256490317, 5.442651256490317, 5.442651256490317, 5.442651256490317, 5.442651256490317, 5.442651256490317, 5.442651256490317, 5.442651256490317, 5.442651256490317, 5.442651256490317, 5.442651256490317, 5.442651256490317, 5.442651256490317, 5.442651256490317, 4.749504075930371, 5.037186148382152, 5.442651256490317, 5.442651256490317, 5.442651256490317, 5.442651256490317, 5.442651256490317, 5.442651256490317, 5.442651256490317, 5.442651256490317, 5.442651256490317, 4.344038967822207, 5.442651256490317, 5.442651256490317, 5.442651256490317, 3.6508917872622613, 5.442651256490317, 5.442651256490317, 5.442651256490317, 5.442651256490317, 5.442651256490317, 5.442651256490317, 5.442651256490317, 5.442651256490317, 5.442651256490317, 5.442651256490317, 5.037186148382152, 5.442651256490317, 5.442651256490317, 5.442651256490317, 1.7663505845832401, 5.442651256490317, 5.442651256490317, 5.442651256490317, 5.442651256490317, 5.442651256490317, 5.442651256490317, 5.442651256490317, 5.442651256490317, 5.442651256490317, 4.526360524616162, 4.749504075930371, 5.442651256490317, 5.037186148382152, 5.442651256490317, 5.442651256490317, 5.442651256490317, 5.442651256490317, 4.749504075930371, 5.037186148382152, 5.442651256490317, 4.526360524616162, 5.442651256490317, 5.442651256490317, 5.442651256490317, 5.442651256490317, 5.442651256490317, 5.442651256490317, 5.442651256490317, 5.442651256490317, 5.442651256490317, 5.442651256490317, 5.442651256490317, 5.442651256490317, 5.442651256490317, 5.442651256490317, 5.442651256490317, 5.442651256490317, 5.442651256490317, 5.037186148382152, 4.749504075930371]\n"
          ],
          "name": "stdout"
        }
      ]
    },
    {
      "cell_type": "code",
      "metadata": {
        "id": "FrVuJXT-Ic2N",
        "colab": {
          "base_uri": "https://localhost:8080/"
        },
        "outputId": "07e41b35-d1f2-4a37-b073-03fe9a999f51"
      },
      "source": [
        "def transform(dataset,vocabulary,idf_values):\n",
        "     sparse_matrix= csr_matrix( (len(dataset), len(vocabulary)), dtype=np.float64)\n",
        "     for row  in range(0,len(dataset)):\n",
        "       number_of_words_in_sentence=Counter(dataset[row].split())\n",
        "       for word in dataset[row].split():\n",
        "           if word in  list(vocabulary.keys()):\n",
        "               tf_idf_value=(number_of_words_in_sentence[word]/len(dataset[row].split()))*(idf_values[word])\n",
        "               sparse_matrix[row,vocabulary[word]]=tf_idf_value\n",
        "     print(\"NORM FORM\\n\",normalize(sparse_matrix, norm='l2', axis=1, copy=True, return_norm=False))\n",
        "     output =normalize(sparse_matrix, norm='l2', axis=1, copy=True, return_norm=False)\n",
        "     return output\n",
        "final_output=transform(proc_resume_list,Vocabulary,idf_of_vocabulary)\n",
        "print(final_output.shape) "
      ],
      "execution_count": 280,
      "outputs": [
        {
          "output_type": "stream",
          "text": [
            "/usr/local/lib/python3.7/dist-packages/scipy/sparse/_index.py:84: SparseEfficiencyWarning: Changing the sparsity structure of a csr_matrix is expensive. lil_matrix is more efficient.\n",
            "  self._set_intXint(row, col, x.flat[0])\n"
          ],
          "name": "stderr"
        },
        {
          "output_type": "stream",
          "text": [
            "NORM FORM\n",
            "   (0, 167)\t0.07426564672790036\n",
            "  (0, 240)\t0.02279446117160016\n",
            "  (0, 284)\t0.015003423886500441\n",
            "  (0, 382)\t0.07426564672790036\n",
            "  (0, 384)\t0.02786911232805678\n",
            "  (0, 403)\t0.03202235104596588\n",
            "  (0, 428)\t0.026851480503835873\n",
            "  (0, 440)\t0.04095455585516971\n",
            "  (0, 528)\t0.02223351854893603\n",
            "  (0, 564)\t0.15598280113213672\n",
            "  (0, 569)\t0.18235568937280128\n",
            "  (0, 572)\t0.020311573016334215\n",
            "  (0, 581)\t0.02903258560880623\n",
            "  (0, 591)\t0.044251166885252775\n",
            "  (0, 596)\t0.032979979327011265\n",
            "  (0, 611)\t0.024047774517807444\n",
            "  (0, 694)\t0.03861557310613201\n",
            "  (0, 710)\t0.1202388725890372\n",
            "  (0, 711)\t0.02843005495072091\n",
            "  (0, 712)\t0.044251166885252775\n",
            "  (0, 717)\t0.09117242806526261\n",
            "  (0, 759)\t0.041502326975448756\n",
            "  (0, 838)\t0.01659792476981528\n",
            "  (0, 848)\t0.08190911171033942\n",
            "  (0, 881)\t0.02638675726684513\n",
            "  :\t:\n",
            "  (168, 4684)\t0.024938070109128525\n",
            "  (168, 4704)\t0.0245831822682661\n",
            "  (168, 4775)\t0.1144628568646319\n",
            "  (168, 4867)\t0.0762913896093047\n",
            "  (168, 4903)\t0.053731381803720175\n",
            "  (168, 4991)\t0.033953124503729434\n",
            "  (168, 5038)\t0.03296325539772041\n",
            "  (168, 5053)\t0.037427123562032594\n",
            "  (168, 5141)\t0.0215961862698681\n",
            "  (168, 5202)\t0.08183916250138275\n",
            "  (168, 5282)\t0.03009258638207217\n",
            "  (168, 5301)\t0.03361534138856913\n",
            "  (168, 5419)\t0.05239538842135646\n",
            "  (168, 5476)\t0.06652290617261568\n",
            "  (168, 5558)\t0.0245831822682661\n",
            "  (168, 5594)\t0.4945456935074538\n",
            "  (168, 5670)\t0.02983538061577193\n",
            "  (168, 5735)\t0.11361646577040115\n",
            "  (168, 5942)\t0.03296325539772041\n",
            "  (168, 6061)\t0.1903423449466146\n",
            "  (168, 6131)\t0.06657101370740644\n",
            "  (168, 6175)\t0.3398317363672613\n",
            "  (168, 6176)\t0.22887416882791412\n",
            "  (168, 6262)\t0.20470288808697\n",
            "  (168, 6265)\t0.0762913896093047\n",
            "(169, 6318)\n"
          ],
          "name": "stdout"
        }
      ]
    },
    {
      "cell_type": "code",
      "metadata": {
        "id": "WMTC6Z7LI2q3",
        "colab": {
          "base_uri": "https://localhost:8080/"
        },
        "outputId": "fe821a45-8367-4eb2-c4f9-3c81338d643d"
      },
      "source": [
        "final_output.shape"
      ],
      "execution_count": 281,
      "outputs": [
        {
          "output_type": "execute_result",
          "data": {
            "text/plain": [
              "(169, 6318)"
            ]
          },
          "metadata": {
            "tags": []
          },
          "execution_count": 281
        }
      ]
    },
    {
      "cell_type": "code",
      "metadata": {
        "id": "R45uv6QJLCiM",
        "colab": {
          "base_uri": "https://localhost:8080/"
        },
        "outputId": "0380cfac-fb17-4191-aa55-a08d67565ca8"
      },
      "source": [
        "type(final_output[0][0])"
      ],
      "execution_count": 282,
      "outputs": [
        {
          "output_type": "execute_result",
          "data": {
            "text/plain": [
              "scipy.sparse.csr.csr_matrix"
            ]
          },
          "metadata": {
            "tags": []
          },
          "execution_count": 282
        }
      ]
    },
    {
      "cell_type": "code",
      "metadata": {
        "id": "RlTHxiPbKERB"
      },
      "source": [
        "tf_idf_vector = csr_matrix.toarray(final_output)"
      ],
      "execution_count": 283,
      "outputs": []
    },
    {
      "cell_type": "code",
      "metadata": {
        "id": "Gr0ELiWZLZmj",
        "colab": {
          "base_uri": "https://localhost:8080/"
        },
        "outputId": "9150029f-84e0-4d69-eded-7757edaf6aaa"
      },
      "source": [
        "type(tf_idf_vector),tf_idf_vector.shape"
      ],
      "execution_count": 284,
      "outputs": [
        {
          "output_type": "execute_result",
          "data": {
            "text/plain": [
              "(numpy.ndarray, (169, 6318))"
            ]
          },
          "metadata": {
            "tags": []
          },
          "execution_count": 284
        }
      ]
    },
    {
      "cell_type": "markdown",
      "metadata": {
        "id": "8l8Dt784S89g"
      },
      "source": [
        "# TF-IDF Vectorizer - Inbuilt Function"
      ]
    },
    {
      "cell_type": "code",
      "metadata": {
        "id": "k5FHkkG7S8ee"
      },
      "source": [
        "from sklearn.feature_extraction.text import TfidfVectorizer\n",
        "vectorizer = TfidfVectorizer()\n",
        "tf_idf_vector_fn = vectorizer.fit_transform(proc_resume_list)"
      ],
      "execution_count": 285,
      "outputs": []
    },
    {
      "cell_type": "code",
      "metadata": {
        "id": "sux69pQdTw6i",
        "colab": {
          "base_uri": "https://localhost:8080/"
        },
        "outputId": "c13e9fea-6d6d-40cf-ff95-212635dece2f"
      },
      "source": [
        "tf_idf_vector_fn_numpy = tf_idf_vector_fn.toarray()\n",
        "tf_idf_vector_fn_numpy.shape"
      ],
      "execution_count": 286,
      "outputs": [
        {
          "output_type": "execute_result",
          "data": {
            "text/plain": [
              "(169, 6283)"
            ]
          },
          "metadata": {
            "tags": []
          },
          "execution_count": 286
        }
      ]
    },
    {
      "cell_type": "markdown",
      "metadata": {
        "id": "MpYB18Wa9-wY"
      },
      "source": [
        "# Classifiers"
      ]
    },
    {
      "cell_type": "markdown",
      "metadata": {
        "id": "n1AsSE81EUqp"
      },
      "source": [
        "### With BOW model - Features from scratch"
      ]
    },
    {
      "cell_type": "code",
      "metadata": {
        "id": "-KCOERqA_m3R"
      },
      "source": [
        "from sklearn.model_selection import train_test_split\n",
        "X_train, X_test, y_train, y_test = train_test_split(bag_vector_numpy, target_numpy, test_size=0.33, random_state=42)"
      ],
      "execution_count": 287,
      "outputs": []
    },
    {
      "cell_type": "code",
      "metadata": {
        "id": "CePdzMOTATjC",
        "colab": {
          "base_uri": "https://localhost:8080/"
        },
        "outputId": "e6c9904b-b4d8-4e0b-8cc9-271bc4489ea9"
      },
      "source": [
        "X_train.shape,X_test.shape,y_train.shape,y_test.shape"
      ],
      "execution_count": 288,
      "outputs": [
        {
          "output_type": "execute_result",
          "data": {
            "text/plain": [
              "((113, 6317), (56, 6317), (113,), (56,))"
            ]
          },
          "metadata": {
            "tags": []
          },
          "execution_count": 288
        }
      ]
    },
    {
      "cell_type": "code",
      "metadata": {
        "id": "Mb0afJwM7J7H"
      },
      "source": [
        "from sklearn.naive_bayes import MultinomialNB\n",
        "from sklearn import metrics\n",
        "from sklearn.model_selection import train_test_split\n"
      ],
      "execution_count": 289,
      "outputs": []
    },
    {
      "cell_type": "code",
      "metadata": {
        "id": "rU4IqeUCAEY5",
        "colab": {
          "base_uri": "https://localhost:8080/"
        },
        "outputId": "66b1d0b6-a083-47da-e334-20389c108f83"
      },
      "source": [
        "%%time\n",
        "clf_1 = MultinomialNB(alpha=.01)\n",
        "clf_1.fit(X_train,y_train)\n",
        "pred = clf_1.predict(X_test)\n",
        "acc_score = metrics.accuracy_score(y_test, pred)\n",
        "f1_score = metrics.f1_score(y_test, pred, average='macro')\n",
        "\n",
        "print('Total accuracy classification score: {}'.format(acc_score))\n",
        "print('Total F1 classification score: {}'.format(f1_score))"
      ],
      "execution_count": 290,
      "outputs": [
        {
          "output_type": "stream",
          "text": [
            "Total accuracy classification score: 0.6785714285714286\n",
            "Total F1 classification score: 0.6215353535353535\n",
            "CPU times: user 19.5 ms, sys: 18.4 ms, total: 38 ms\n",
            "Wall time: 39.6 ms\n"
          ],
          "name": "stdout"
        }
      ]
    },
    {
      "cell_type": "code",
      "metadata": {
        "id": "ypZ6pV8rO9-0"
      },
      "source": [
        "from sklearn.linear_model import SGDClassifier\n"
      ],
      "execution_count": 291,
      "outputs": []
    },
    {
      "cell_type": "code",
      "metadata": {
        "id": "DXwb2IhXT5GY",
        "colab": {
          "base_uri": "https://localhost:8080/"
        },
        "outputId": "99efd33d-cf1f-4477-b24d-aa63e92c8cfa"
      },
      "source": [
        "%%time\n",
        "sgd=SGDClassifier(loss='hinge', penalty='l2',alpha=1e-3, random_state=42, max_iter=5, tol=None)\n",
        "sgd.fit(X_train, y_train)\n",
        "y_pred = sgd.predict(X_test)\n",
        "\n",
        "accuracy_score = metrics.accuracy_score(y_test, y_pred)\n",
        "f1_score_value = metrics.f1_score(y_test, y_pred, average='macro')\n",
        "\n",
        "print('Total accuracy classification score: {}'.format(accuracy_score))\n",
        "print('Total F1 classification score: {}'.format(f1_score_value))"
      ],
      "execution_count": 292,
      "outputs": [
        {
          "output_type": "stream",
          "text": [
            "Total accuracy classification score: 0.5535714285714286\n",
            "Total F1 classification score: 0.4408074768368886\n",
            "CPU times: user 174 ms, sys: 40.9 ms, total: 215 ms\n",
            "Wall time: 210 ms\n"
          ],
          "name": "stdout"
        }
      ]
    },
    {
      "cell_type": "code",
      "metadata": {
        "id": "OOzL01OOaEQy"
      },
      "source": [
        "from sklearn.svm import LinearSVC\n"
      ],
      "execution_count": 293,
      "outputs": []
    },
    {
      "cell_type": "code",
      "metadata": {
        "colab": {
          "base_uri": "https://localhost:8080/"
        },
        "id": "MhzSE9aLbQHU",
        "outputId": "e5264887-a5f4-49b3-da43-bbe2b96528af"
      },
      "source": [
        "%%time\n",
        "svc = LinearSVC(random_state=42,max_iter=2000)\n",
        "svc.fit(X_train,y_train)\n",
        "y_pred_svc = svc.predict(X_test)\n",
        "\n",
        "acc = metrics.accuracy_score(y_test, y_pred_svc)\n",
        "f1 = metrics.f1_score(y_test, y_pred_svc, average='macro')\n",
        "\n",
        "print('Total accuracy classification score: {}'.format(acc))\n",
        "print('Total F1 classification score: {}'.format(f1))"
      ],
      "execution_count": 294,
      "outputs": [
        {
          "output_type": "stream",
          "text": [
            "Total accuracy classification score: 0.6785714285714286\n",
            "Total F1 classification score: 0.6328169515669515\n",
            "CPU times: user 112 ms, sys: 56.4 ms, total: 169 ms\n",
            "Wall time: 120 ms\n"
          ],
          "name": "stdout"
        },
        {
          "output_type": "stream",
          "text": [
            "/usr/local/lib/python3.7/dist-packages/sklearn/svm/_base.py:947: ConvergenceWarning: Liblinear failed to converge, increase the number of iterations.\n",
            "  \"the number of iterations.\", ConvergenceWarning)\n"
          ],
          "name": "stderr"
        }
      ]
    },
    {
      "cell_type": "markdown",
      "metadata": {
        "id": "HTgNMHlDRstQ"
      },
      "source": [
        "#With BoW Model - Inbuilt features"
      ]
    },
    {
      "cell_type": "code",
      "metadata": {
        "id": "SRBG4OPrRxuB"
      },
      "source": [
        "X_train, X_test, y_train, y_test = train_test_split(bag_vector_cv_numpy, target_numpy, test_size=0.33, random_state=42)"
      ],
      "execution_count": 295,
      "outputs": []
    },
    {
      "cell_type": "code",
      "metadata": {
        "id": "fVRXEbryR8es",
        "colab": {
          "base_uri": "https://localhost:8080/"
        },
        "outputId": "b09d3e06-2e36-46d0-f509-c2409eabfd6a"
      },
      "source": [
        "X_train.shape,X_test.shape,y_train.shape,y_test.shape"
      ],
      "execution_count": 296,
      "outputs": [
        {
          "output_type": "execute_result",
          "data": {
            "text/plain": [
              "((113, 6283), (56, 6283), (113,), (56,))"
            ]
          },
          "metadata": {
            "tags": []
          },
          "execution_count": 296
        }
      ]
    },
    {
      "cell_type": "code",
      "metadata": {
        "id": "q3Tdc6AsR9tn",
        "colab": {
          "base_uri": "https://localhost:8080/"
        },
        "outputId": "d01f1ef5-b3c9-4b17-95c1-17748ec1fd46"
      },
      "source": [
        "%%time\n",
        "clf_3 = MultinomialNB(alpha=.01)\n",
        "clf_3.fit(X_train,y_train)\n",
        "pred = clf_3.predict(X_test)\n",
        "acc_score = metrics.accuracy_score(y_test, pred)\n",
        "f1_score = metrics.f1_score(y_test, pred, average='macro')\n",
        "\n",
        "print('Total accuracy classification score: {}'.format(acc_score))\n",
        "print('Total F1 classification score: {}'.format(f1_score))"
      ],
      "execution_count": 297,
      "outputs": [
        {
          "output_type": "stream",
          "text": [
            "Total accuracy classification score: 0.6785714285714286\n",
            "Total F1 classification score: 0.6188888888888889\n",
            "CPU times: user 118 ms, sys: 14.3 ms, total: 132 ms\n",
            "Wall time: 123 ms\n"
          ],
          "name": "stdout"
        }
      ]
    },
    {
      "cell_type": "code",
      "metadata": {
        "id": "n6iAUsV6SYVZ",
        "colab": {
          "base_uri": "https://localhost:8080/"
        },
        "outputId": "10eba714-82a6-4051-d20a-12007230aa35"
      },
      "source": [
        "%%time\n",
        "sgd3=SGDClassifier(loss='hinge', penalty='l2',alpha=1e-3, max_iter=5, tol=None)\n",
        "sgd3.fit(X_train, y_train)\n",
        "y_pred = sgd3.predict(X_test)\n",
        "\n",
        "accuracy_score = metrics.accuracy_score(y_test, y_pred)\n",
        "f1_score_value = metrics.f1_score(y_test, y_pred, average='macro')\n",
        "\n",
        "print('Total accuracy classification score: {}'.format(accuracy_score))\n",
        "print('Total F1 classification score: {}'.format(f1_score_value))"
      ],
      "execution_count": 298,
      "outputs": [
        {
          "output_type": "stream",
          "text": [
            "Total accuracy classification score: 0.5357142857142857\n",
            "Total F1 classification score: 0.4419047619047619\n",
            "CPU times: user 175 ms, sys: 67.6 ms, total: 242 ms\n",
            "Wall time: 207 ms\n"
          ],
          "name": "stdout"
        }
      ]
    },
    {
      "cell_type": "code",
      "metadata": {
        "id": "r23ogSdFSqv9",
        "colab": {
          "base_uri": "https://localhost:8080/"
        },
        "outputId": "10ad083c-7f07-47f4-fc2f-2820ff49ef14"
      },
      "source": [
        "%%time\n",
        "svc3 = LinearSVC(max_iter=2000)\n",
        "svc3.fit(X_train,y_train)\n",
        "y_pred_svc = svc3.predict(X_test)\n",
        "\n",
        "acc = metrics.accuracy_score(y_test, y_pred_svc)\n",
        "f1 = metrics.f1_score(y_test, y_pred_svc, average='macro')\n",
        "\n",
        "print('Total accuracy classification score: {}'.format(acc))\n",
        "print('Total F1 classification score: {}'.format(f1))"
      ],
      "execution_count": 299,
      "outputs": [
        {
          "output_type": "stream",
          "text": [
            "Total accuracy classification score: 0.6964285714285714\n",
            "Total F1 classification score: 0.6057336182336183\n",
            "CPU times: user 126 ms, sys: 69 ms, total: 195 ms\n",
            "Wall time: 127 ms\n"
          ],
          "name": "stdout"
        },
        {
          "output_type": "stream",
          "text": [
            "/usr/local/lib/python3.7/dist-packages/sklearn/svm/_base.py:947: ConvergenceWarning: Liblinear failed to converge, increase the number of iterations.\n",
            "  \"the number of iterations.\", ConvergenceWarning)\n"
          ],
          "name": "stderr"
        }
      ]
    },
    {
      "cell_type": "markdown",
      "metadata": {
        "id": "5Sv2Gt07J5vx"
      },
      "source": [
        "### With TF-IDF Vectorizer"
      ]
    },
    {
      "cell_type": "code",
      "metadata": {
        "id": "OvW21GfWJ5KO"
      },
      "source": [
        "X_train_1, X_test_1, y_train_1, y_test_1 = train_test_split(tf_idf_vector, target_numpy, test_size=0.33,random_state=42)"
      ],
      "execution_count": 300,
      "outputs": []
    },
    {
      "cell_type": "code",
      "metadata": {
        "id": "jVRtYIAyL-_3",
        "colab": {
          "base_uri": "https://localhost:8080/"
        },
        "outputId": "bebcdeb0-5c1d-4d67-ba96-58f50a83fb48"
      },
      "source": [
        "X_train_1.shape,X_test_1.shape,y_train_1.shape,y_test_1.shape"
      ],
      "execution_count": 301,
      "outputs": [
        {
          "output_type": "execute_result",
          "data": {
            "text/plain": [
              "((113, 6318), (56, 6318), (113,), (56,))"
            ]
          },
          "metadata": {
            "tags": []
          },
          "execution_count": 301
        }
      ]
    },
    {
      "cell_type": "code",
      "metadata": {
        "id": "nG6H1LCOLoYx",
        "colab": {
          "base_uri": "https://localhost:8080/"
        },
        "outputId": "34b49a5e-cbf4-4c4f-a120-8cadb82cde5d"
      },
      "source": [
        "%%time\n",
        "\n",
        "clf_2 = MultinomialNB(alpha=.01)\n",
        "clf_2.fit(X_train_1,y_train_1)\n",
        "# Predict and score the vectors\n",
        "pred_1 = clf_2.predict(X_test_1)\n",
        "acc_score = metrics.accuracy_score(y_test_1, pred_1)\n",
        "f1_score = metrics.f1_score(y_test_1, pred_1, average='macro')\n",
        "\n",
        "print('Total accuracy classification score: {}'.format(acc_score))\n",
        "print('Total F1 classification score: {}'.format(f1_score))"
      ],
      "execution_count": 302,
      "outputs": [
        {
          "output_type": "stream",
          "text": [
            "Total accuracy classification score: 0.7142857142857143\n",
            "Total F1 classification score: 0.6835555555555556\n",
            "CPU times: user 18.8 ms, sys: 16.4 ms, total: 35.2 ms\n",
            "Wall time: 39.1 ms\n"
          ],
          "name": "stdout"
        }
      ]
    },
    {
      "cell_type": "code",
      "metadata": {
        "id": "ADA20HTpMtT6",
        "colab": {
          "base_uri": "https://localhost:8080/"
        },
        "outputId": "5dbd593e-aedc-46ed-ccd6-61145205714d"
      },
      "source": [
        "%%time\n",
        "\n",
        "sgd_2=SGDClassifier(loss='hinge', penalty='l2',alpha=1e-3, random_state=42, max_iter=5, tol=None)\n",
        "sgd_2.fit(X_train_1, y_train_1)\n",
        "y_pred_1 = sgd_2.predict(X_test_1)\n",
        "\n",
        "accuracy_score = metrics.accuracy_score(y_test_1, y_pred_1)\n",
        "f1_score_value = metrics.f1_score(y_test_1, y_pred_1, average='macro')\n",
        "\n",
        "print('Total accuracy classification score: {}'.format(accuracy_score))\n",
        "print('Total F1 classification score: {}'.format(f1_score_value))"
      ],
      "execution_count": 303,
      "outputs": [
        {
          "output_type": "stream",
          "text": [
            "Total accuracy classification score: 0.7857142857142857\n",
            "Total F1 classification score: 0.7731672262922263\n",
            "CPU times: user 195 ms, sys: 63.7 ms, total: 258 ms\n",
            "Wall time: 213 ms\n"
          ],
          "name": "stdout"
        }
      ]
    },
    {
      "cell_type": "code",
      "metadata": {
        "colab": {
          "base_uri": "https://localhost:8080/"
        },
        "id": "613g5tDFbk34",
        "outputId": "48fa5e57-e212-457b-acf1-ff145625570d"
      },
      "source": [
        "%%time\n",
        "\n",
        "svc_2 = LinearSVC(random_state=42,max_iter=2000)\n",
        "svc_2.fit(X_train_1,y_train_1)\n",
        "y_pred_svc_2 = svc_2.predict(X_test_1)\n",
        "\n",
        "acc = metrics.accuracy_score(y_test_1, y_pred_svc_2)\n",
        "f1 = metrics.f1_score(y_test_1, y_pred_svc_2, average='macro')\n",
        "\n",
        "print('Total accuracy classification score: {}'.format(acc))\n",
        "print('Total F1 classification score: {}'.format(f1))"
      ],
      "execution_count": 304,
      "outputs": [
        {
          "output_type": "stream",
          "text": [
            "Total accuracy classification score: 0.8214285714285714\n",
            "Total F1 classification score: 0.7738571613571613\n",
            "CPU times: user 58.1 ms, sys: 46.1 ms, total: 104 ms\n",
            "Wall time: 65.6 ms\n"
          ],
          "name": "stdout"
        }
      ]
    },
    {
      "cell_type": "markdown",
      "metadata": {
        "id": "P2ofSVwnULJI"
      },
      "source": [
        "# With TF-IDF vectorizer - Inbuilt function"
      ]
    },
    {
      "cell_type": "code",
      "metadata": {
        "id": "LKFUUqB6UQJC"
      },
      "source": [
        "X_train_2, X_test_2, y_train_2, y_test_2= train_test_split(tf_idf_vector_fn_numpy, target_numpy, test_size=0.33,random_state=42)"
      ],
      "execution_count": 305,
      "outputs": []
    },
    {
      "cell_type": "code",
      "metadata": {
        "id": "mo8-FxRFUe2f",
        "colab": {
          "base_uri": "https://localhost:8080/"
        },
        "outputId": "4f12551e-28c2-4165-c512-d0aaa932f797"
      },
      "source": [
        "%%time\n",
        "\n",
        "clf_4 = MultinomialNB(alpha=.01)\n",
        "clf_4.fit(X_train_2,y_train_2)\n",
        "pred_1 = clf_4.predict(X_test_2)\n",
        "acc_score = metrics.accuracy_score(y_test_2, pred_1)\n",
        "f1_score = metrics.f1_score(y_test_2, pred_1, average='macro')\n",
        "\n",
        "print('Total accuracy classification score: {}'.format(acc_score))\n",
        "print('Total F1 classification score: {}'.format(f1_score))"
      ],
      "execution_count": 306,
      "outputs": [
        {
          "output_type": "stream",
          "text": [
            "Total accuracy classification score: 0.7678571428571429\n",
            "Total F1 classification score: 0.7213333333333334\n",
            "CPU times: user 25.6 ms, sys: 13.4 ms, total: 39 ms\n",
            "Wall time: 34.8 ms\n"
          ],
          "name": "stdout"
        }
      ]
    },
    {
      "cell_type": "code",
      "metadata": {
        "id": "nJ94iQmd3erU",
        "outputId": "267a4ed2-bf88-4542-b51b-0305207a42c7",
        "colab": {
          "base_uri": "https://localhost:8080/",
          "height": 296
        }
      },
      "source": [
        "alpha_list=[0.01,0.05,0.1,0.5,1]\n",
        "result_list=[]\n",
        "for i in alpha_list:\n",
        "  clf_4 = MultinomialNB(alpha=i)\n",
        "  clf_4.fit(X_train_2,y_train_2)\n",
        "  pred_1 = clf_4.predict(X_test_2)\n",
        "  acc_score = metrics.accuracy_score(y_test_2, pred_1)\n",
        "  result_list.append(acc_score)\n",
        "print(result_list)\n",
        "plt.plot(alpha_list,result_list)\n",
        "plt.xlabel(\"Learning rate parameter\")\n",
        "plt.ylabel(\"Accuracy\")\n",
        "plt.show()\n"
      ],
      "execution_count": 347,
      "outputs": [
        {
          "output_type": "stream",
          "text": [
            "[0.7678571428571429, 0.6964285714285714, 0.5892857142857143, 0.42857142857142855, 0.2857142857142857]\n"
          ],
          "name": "stdout"
        },
        {
          "output_type": "display_data",
          "data": {
            "image/png": "[encoded data removed]",
            "text/plain": [
              "<Figure size 432x288 with 1 Axes>"
            ]
          },
          "metadata": {
            "tags": [],
            "needs_background": "light"
          }
        }
      ]
    },
    {
      "cell_type": "code",
      "metadata": {
        "id": "az52ihKNUvnB",
        "colab": {
          "base_uri": "https://localhost:8080/"
        },
        "outputId": "b6e98a73-3c3d-46f2-b1fa-43c8f55af99a"
      },
      "source": [
        "%%time\n",
        "\n",
        "sgd_4=SGDClassifier(loss='hinge', penalty='l2',alpha=0.005)\n",
        "sgd_4.fit(X_train_2, y_train_2)\n",
        "y_pred_1 = sgd_4.predict(X_test_2)\n",
        "\n",
        "accuracy_score = metrics.accuracy_score(y_test_2, y_pred_1)\n",
        "f1_score_value = metrics.f1_score(y_test_2, y_pred_1, average='macro')\n",
        "\n",
        "print('Total accuracy classification score: {}'.format(accuracy_score))\n",
        "print('Total F1 classification score: {}'.format(f1_score_value))"
      ],
      "execution_count": 307,
      "outputs": [
        {
          "output_type": "stream",
          "text": [
            "Total accuracy classification score: 0.7857142857142857\n",
            "Total F1 classification score: 0.750945004070004\n",
            "CPU times: user 620 ms, sys: 65.2 ms, total: 686 ms\n",
            "Wall time: 640 ms\n"
          ],
          "name": "stdout"
        }
      ]
    },
    {
      "cell_type": "code",
      "metadata": {
        "id": "kkLNwhuZ9SuB",
        "colab": {
          "base_uri": "https://localhost:8080/",
          "height": 296
        },
        "outputId": "61b81ce7-862a-4919-fa70-3c651e308447"
      },
      "source": [
        "alpha_param = [0.01,0.05,0.1,0.5,1]\n",
        "acc_iter=[]\n",
        "for i in alpha_param:\n",
        "  sgd_5=SGDClassifier(loss='hinge', penalty='l2',alpha=i,random_state=42)\n",
        "  sgd_5.fit(X_train_2, y_train_2)\n",
        "  y_pred_2 = sgd_5.predict(X_test_2)\n",
        "  acc_iter.append(metrics.accuracy_score(y_test_2, y_pred_2))\n",
        "print(acc_iter)\n",
        "plt.plot(alpha_param,acc_iter)\n",
        "plt.xlabel(\"Learning rate parameter in SGD\")\n",
        "plt.ylabel(\"Accuracy\")\n",
        "plt.show()"
      ],
      "execution_count": 350,
      "outputs": [
        {
          "output_type": "stream",
          "text": [
            "[0.8214285714285714, 0.7857142857142857, 0.7857142857142857, 0.7142857142857143, 0.7142857142857143]\n"
          ],
          "name": "stdout"
        },
        {
          "output_type": "display_data",
          "data": {
            "image/png": "[encoded data removed]",
            "text/plain": [
              "<Figure size 432x288 with 1 Axes>"
            ]
          },
          "metadata": {
            "tags": [],
            "needs_background": "light"
          }
        }
      ]
    },
    {
      "cell_type": "code",
      "metadata": {
        "id": "tgxylYM_U3ay",
        "colab": {
          "base_uri": "https://localhost:8080/"
        },
        "outputId": "9ac23833-ec1e-4ab1-9c7c-d168c1a776b0"
      },
      "source": [
        "%%time\n",
        "\n",
        "svc_4 = LinearSVC(random_state=42,max_iter=2000,loss='hinge')\n",
        "svc_4.fit(X_train_2,y_train_2)\n",
        "y_pred_svc_2 = svc_4.predict(X_test_2)\n",
        "\n",
        "acc = metrics.accuracy_score(y_test_2, y_pred_svc_2)\n",
        "f1 = metrics.f1_score(y_test_2, y_pred_svc_2, average='macro')\n",
        "\n",
        "print('Total accuracy classification score: {}'.format(acc))\n",
        "print('Total F1 classification score: {}'.format(f1))"
      ],
      "execution_count": 309,
      "outputs": [
        {
          "output_type": "stream",
          "text": [
            "Total accuracy classification score: 0.875\n",
            "Total F1 classification score: 0.84494301994302\n",
            "CPU times: user 36.4 ms, sys: 3.92 ms, total: 40.3 ms\n",
            "Wall time: 37 ms\n"
          ],
          "name": "stdout"
        }
      ]
    },
    {
      "cell_type": "code",
      "metadata": {
        "colab": {
          "base_uri": "https://localhost:8080/",
          "height": 279
        },
        "id": "bUnSQXh53K8P",
        "outputId": "71fdffcd-fdff-4e1a-84b2-9c3c6a1a81e9"
      },
      "source": [
        "\n",
        "#iter = [50,100,200,300,500,700,900,1000,2000]\n",
        "c_param = [0.1,0.25,0.5,1,1.5,2,2.5]\n",
        "acc_iter=[]\n",
        "for i in c_param:\n",
        "  svc_5 = LinearSVC(random_state=42,max_iter=2000,C=i,loss='hinge')\n",
        "  svc_5.fit(X_train_2,y_train_2)\n",
        "  y_pred_svc_3=svc_5.predict(X_test_2)\n",
        "  acc_iter.append(metrics.accuracy_score(y_test_2, y_pred_svc_3))\n",
        "\n",
        "plt.plot(c_param,acc_iter)\n",
        "plt.xlabel(\"C parameter in SVC\")\n",
        "plt.ylabel(\"Accuracy\")\n",
        "plt.show()\n",
        "\n"
      ],
      "execution_count": 310,
      "outputs": [
        {
          "output_type": "display_data",
          "data": {
            "image/png": "[encoded data removed]",
            "text/plain": [
              "<Figure size 432x288 with 1 Axes>"
            ]
          },
          "metadata": {
            "tags": [],
            "needs_background": "light"
          }
        }
      ]
    },
    {
      "cell_type": "code",
      "metadata": {
        "id": "iZnUz2K5-f9y",
        "colab": {
          "base_uri": "https://localhost:8080/",
          "height": 280
        },
        "outputId": "21efdd17-1fa8-45b1-81d9-cefcb6f475cb"
      },
      "source": [
        "loss=['hinge','squared_hinge']\n",
        "acc_iter=[]\n",
        "for l in loss:\n",
        "  svc_5 = LinearSVC(random_state=42,max_iter=2000,C=1,loss=l)\n",
        "  svc_5.fit(X_train_2,y_train_2)\n",
        "  y_pred_svc_3=svc_5.predict(X_test_2)\n",
        "  acc_iter.append(metrics.accuracy_score(y_test_2, y_pred_svc_3))\n",
        "\n",
        "\n",
        "plt.scatter(loss,acc_iter)\n",
        "plt.xlabel(\"Loss in SVC\")\n",
        "plt.ylabel(\"Accuracy\")\n",
        "plt.show()\n"
      ],
      "execution_count": 311,
      "outputs": [
        {
          "output_type": "display_data",
          "data": {
            "image/png": "[encoded data removed]",
            "text/plain": [
              "<Figure size 432x288 with 1 Axes>"
            ]
          },
          "metadata": {
            "tags": [],
            "needs_background": "light"
          }
        }
      ]
    },
    {
      "cell_type": "markdown",
      "metadata": {
        "id": "gxfH6CPJWDd5"
      },
      "source": [
        "# Resume Recommendation system"
      ]
    },
    {
      "cell_type": "markdown",
      "metadata": {
        "id": "AHOLwJBEYwYG"
      },
      "source": [
        "##Considering Job description"
      ]
    },
    {
      "cell_type": "code",
      "metadata": {
        "id": "n_5L2RqvWC0L"
      },
      "source": [
        "job_desc = \"Advanced analytical knowledge of data, conducting big data analysis, Data conditioning, Programming advanced computing, developing algorithms, developing software and data models, executing predictive analytics. Master’s degree in Operations Research, Industrial Engineering, Applied Mathematics, Statistics, Physics, Computer Science, or related fields. 5-7 years of professional experience. Proficient with one or more programming languages (Java, C++, Python, R, etc.). Demonstrated experience applying data science methods to real-world data problems. Experience utilizing visualization tools to take advantage of the growing volume of available information\"\n",
        "#text to lowercase\n",
        "job_desc = job_desc.lower()\n",
        "# removing stopwords\n",
        "cleaned_job_desc = remove_stopwords(job_desc)\n",
        "# stemming\n",
        "cleaned_job_desc = stem_words(cleaned_job_desc)\n",
        "#lemmetizing\n",
        "cleaned_job_desc = lemmatize_words(cleaned_job_desc)\n"
      ],
      "execution_count": 312,
      "outputs": []
    },
    {
      "cell_type": "code",
      "metadata": {
        "id": "q7BBWbTZfKwp"
      },
      "source": [
        "def transform_jobdesc(data,vocabulary,idf_values):\n",
        "     sparse_matrix= csr_matrix( (1, len(vocabulary)), dtype=np.float64)\n",
        "     number_of_words_in_sentence=Counter(data.split())\n",
        "     for word in data.split():\n",
        "        if word in  list(vocabulary.keys()):\n",
        "            tf_idf_value=(number_of_words_in_sentence[word]/len(data.split()))*(idf_values[word])\n",
        "            sparse_matrix[0,vocabulary[word]]=tf_idf_value\n",
        "     print(\"NORM FORM\\n\",normalize(sparse_matrix, norm='l2', axis=1, copy=True, return_norm=False))\n",
        "     output =normalize(sparse_matrix, norm='l2', axis=1, copy=True, return_norm=False)\n",
        "     return output"
      ],
      "execution_count": 313,
      "outputs": []
    },
    {
      "cell_type": "code",
      "metadata": {
        "id": "Vht3IyzwdaHy",
        "colab": {
          "base_uri": "https://localhost:8080/"
        },
        "outputId": "4e30d412-8f45-42db-c67e-cea7633aeb9a"
      },
      "source": [
        "cleaned_job_desc_vector=transform_jobdesc(cleaned_job_desc,Vocabulary,idf_of_vocabulary)"
      ],
      "execution_count": 314,
      "outputs": [
        {
          "output_type": "stream",
          "text": [
            "NORM FORM\n",
            "   (0, 428)\t0.3163716586759364\n",
            "  (0, 429)\t0.24126901986624846\n",
            "  (0, 569)\t0.1342853606983266\n",
            "  (0, 632)\t0.3163716586759364\n",
            "  (0, 770)\t0.14370730749407687\n",
            "  (0, 904)\t0.1886481513313218\n",
            "  (0, 1365)\t0.09321557075433648\n",
            "  (0, 1379)\t0.13602728279639514\n",
            "  (0, 1677)\t0.2006855039332413\n",
            "  (0, 1694)\t0.26068981678371783\n",
            "  (0, 1730)\t0.14286961978087037\n",
            "  (0, 2152)\t0.1209356635744898\n",
            "  (0, 2169)\t0.21496223893061495\n",
            "  (0, 2544)\t0.22748974516626047\n",
            "  (0, 2837)\t0.1397135303194817\n",
            "  (0, 2850)\t0.11155997229047508\n",
            "  (0, 3140)\t0.11155997229047508\n",
            "  (0, 3190)\t0.10947714071994744\n",
            "  (0, 3569)\t0.18360163774287108\n",
            "  (0, 3933)\t0.15040156612541372\n",
            "  (0, 3958)\t0.08838726974686226\n",
            "  (0, 4307)\t0.1942896735488031\n",
            "  (0, 4375)\t0.15544807971386446\n",
            "  (0, 4376)\t0.15544807971386446\n",
            "  (0, 4380)\t0.209269763015785\n",
            "  (0, 4648)\t0.11050723587661954\n",
            "  (0, 4934)\t0.1126363676718058\n",
            "  (0, 5202)\t0.09321557075433648\n",
            "  (0, 5499)\t0.12941021608938794\n",
            "  (0, 5707)\t0.09321557075433648\n",
            "  (0, 5950)\t0.1528583907290806\n",
            "  (0, 6065)\t0.1528583907290806\n",
            "  (0, 6080)\t0.1886481513313218\n",
            "  (0, 6277)\t0.08460391610094649\n"
          ],
          "name": "stdout"
        },
        {
          "output_type": "stream",
          "text": [
            "/usr/local/lib/python3.7/dist-packages/scipy/sparse/_index.py:84: SparseEfficiencyWarning: Changing the sparsity structure of a csr_matrix is expensive. lil_matrix is more efficient.\n",
            "  self._set_intXint(row, col, x.flat[0])\n"
          ],
          "name": "stderr"
        }
      ]
    },
    {
      "cell_type": "code",
      "metadata": {
        "id": "kEneXmhgdhR_"
      },
      "source": [
        "cleaned_job_desc_vector=csr_matrix.toarray(cleaned_job_desc_vector)"
      ],
      "execution_count": 315,
      "outputs": []
    },
    {
      "cell_type": "code",
      "metadata": {
        "id": "bbqXHKAveiTc",
        "colab": {
          "base_uri": "https://localhost:8080/"
        },
        "outputId": "996e9cf3-de4d-4d77-9c04-ffce630fd23d"
      },
      "source": [
        "cleaned_job_desc_vector.shape"
      ],
      "execution_count": 316,
      "outputs": [
        {
          "output_type": "execute_result",
          "data": {
            "text/plain": [
              "(1, 6318)"
            ]
          },
          "metadata": {
            "tags": []
          },
          "execution_count": 316
        }
      ]
    },
    {
      "cell_type": "code",
      "metadata": {
        "id": "bSEFmjAgeuji",
        "colab": {
          "base_uri": "https://localhost:8080/"
        },
        "outputId": "672855a7-1c6d-43c1-a1a1-129adeb7568f"
      },
      "source": [
        "cleaned_job_desc_vector[0][5499]"
      ],
      "execution_count": 317,
      "outputs": [
        {
          "output_type": "execute_result",
          "data": {
            "text/plain": [
              "0.12941021608938794"
            ]
          },
          "metadata": {
            "tags": []
          },
          "execution_count": 317
        }
      ]
    },
    {
      "cell_type": "code",
      "metadata": {
        "id": "0JtzN-Bohu2d",
        "colab": {
          "base_uri": "https://localhost:8080/"
        },
        "outputId": "75e1d3ec-5a8e-4e95-dbe3-18eaa799e949"
      },
      "source": [
        "tf_idf_vector.shape"
      ],
      "execution_count": 318,
      "outputs": [
        {
          "output_type": "execute_result",
          "data": {
            "text/plain": [
              "(169, 6318)"
            ]
          },
          "metadata": {
            "tags": []
          },
          "execution_count": 318
        }
      ]
    },
    {
      "cell_type": "markdown",
      "metadata": {
        "id": "L3oXcZS1Z4wv"
      },
      "source": [
        "##Cosine Similarity"
      ]
    },
    {
      "cell_type": "code",
      "metadata": {
        "id": "7koBRxoSdmcY"
      },
      "source": [
        "def cosine_similarity_Jobdesc_resume(job_desc_vector,tf_idf_vector):\n",
        "  cosine_similarity_dict={}\n",
        "  count=0\n",
        "  for row in tf_idf_vector:\n",
        "    sim_score = np.dot(job_desc_vector,row)\n",
        "    #print(sim_score)\n",
        "    cosine_similarity_dict[count]=sim_score\n",
        "    count+=1\n",
        "  cosine_sim_score_sorted= dict(sorted(cosine_similarity_dict.items(),\n",
        "                            key=operator.itemgetter(1),\n",
        "                            reverse=True))\n",
        "  cosine_sim_score_items = cosine_sim_score_sorted.items()\n",
        "  return list(cosine_sim_score_items)[:5]\n",
        "  \n",
        "\n"
      ],
      "execution_count": 319,
      "outputs": []
    },
    {
      "cell_type": "code",
      "metadata": {
        "id": "lgoFVW_EkYw3",
        "colab": {
          "base_uri": "https://localhost:8080/"
        },
        "outputId": "b153a592-e4a8-43ba-f035-5b112fe5355e"
      },
      "source": [
        "cosine_similarity_Jobdesc_resume(cleaned_job_desc_vector,tf_idf_vector)"
      ],
      "execution_count": 320,
      "outputs": [
        {
          "output_type": "execute_result",
          "data": {
            "text/plain": [
              "[(3, array([0.15156932])),\n",
              " (0, array([0.13365248])),\n",
              " (20, array([0.12090708])),\n",
              " (103, array([0.11163754])),\n",
              " (6, array([0.10984415]))]"
            ]
          },
          "metadata": {
            "tags": []
          },
          "execution_count": 320
        }
      ]
    },
    {
      "cell_type": "markdown",
      "metadata": {
        "id": "shRZ03g1mIBQ"
      },
      "source": [
        "Need to candidate IDs, so that distinction will be clear"
      ]
    },
    {
      "cell_type": "markdown",
      "metadata": {
        "id": "rF38Ju_mkBzh"
      },
      "source": [
        "## KNN "
      ]
    },
    {
      "cell_type": "code",
      "metadata": {
        "id": "GfKfdm4136zo"
      },
      "source": [
        "import math\n",
        "def euclidean_distance(d1,d2):\n",
        "  temp=np.sum(np.square(d1 - d2))\n",
        "  temp_2=np.sqrt(temp)\n",
        "  return temp_2\n"
      ],
      "execution_count": 321,
      "outputs": []
    },
    {
      "cell_type": "code",
      "metadata": {
        "id": "izWK_Qs6kErx"
      },
      "source": [
        "def knn(tf_idf_vector,cleaned_job_desc_vector,k):\n",
        "  neighbor_distances=[]\n",
        "  for i in range(tf_idf_vector.shape[0]):\n",
        "    neighbor_distances.append(euclidean_distance(tf_idf_vector[i],cleaned_job_desc_vector))\n",
        "  sorted_neighbor_distances = sorted(neighbor_distances)\n",
        "  k_nearest_distances = sorted_neighbor_distances[:k]\n",
        "  s = numpy.array(neighbor_distances)\n",
        "  sort_index = numpy.argsort(s)\n",
        "  return k_nearest_distances,sort_index[:k]"
      ],
      "execution_count": 322,
      "outputs": []
    },
    {
      "cell_type": "code",
      "metadata": {
        "id": "aKWntYaZ6L1S"
      },
      "source": [
        "knn_list,sort_list=knn(tf_idf_vector,cleaned_job_desc_vector,5)"
      ],
      "execution_count": 323,
      "outputs": []
    },
    {
      "cell_type": "code",
      "metadata": {
        "colab": {
          "base_uri": "https://localhost:8080/"
        },
        "id": "sG8n7uYrFC84",
        "outputId": "27739daa-ae93-4869-e6f9-11ca03eb2c20"
      },
      "source": [
        "knn_list"
      ],
      "execution_count": 324,
      "outputs": [
        {
          "output_type": "execute_result",
          "data": {
            "text/plain": [
              "[1.3026363094177922,\n",
              " 1.3163187433872736,\n",
              " 1.3259659989186292,\n",
              " 1.332938451215057,\n",
              " 1.334283216809398]"
            ]
          },
          "metadata": {
            "tags": []
          },
          "execution_count": 324
        }
      ]
    },
    {
      "cell_type": "code",
      "metadata": {
        "colab": {
          "base_uri": "https://localhost:8080/"
        },
        "id": "btW7FSVpF9fC",
        "outputId": "b7e7642a-3868-4360-cdbe-95f659ceeaa0"
      },
      "source": [
        "sort_list"
      ],
      "execution_count": 325,
      "outputs": [
        {
          "output_type": "execute_result",
          "data": {
            "text/plain": [
              "array([  3,   0,  20, 103,   6])"
            ]
          },
          "metadata": {
            "tags": []
          },
          "execution_count": 325
        }
      ]
    },
    {
      "cell_type": "code",
      "metadata": {
        "colab": {
          "base_uri": "https://localhost:8080/"
        },
        "id": "KXiP4PvJFFBC",
        "outputId": "7c4895c8-d092-43f8-8f6b-2732750b725d"
      },
      "source": [
        "for i in sort_list:\n",
        "  print(O_data._get_value(i, 'candidate_id'))"
      ],
      "execution_count": 326,
      "outputs": [
        {
          "output_type": "stream",
          "text": [
            "DS137\n",
            "DS538\n",
            "HR927\n",
            "OM573\n",
            "DS941\n"
          ],
          "name": "stdout"
        }
      ]
    },
    {
      "cell_type": "markdown",
      "metadata": {
        "id": "Oq2k1y5YiD2M"
      },
      "source": [
        "### BlockChain"
      ]
    },
    {
      "cell_type": "code",
      "metadata": {
        "id": "9Kacu8ctiArs"
      },
      "source": [
        "job_desc_block = \"Excellent programming skills, knowledge of blockchain protocols, strong analytical abilities, and effective communication skills\"\n",
        "#text to lowercase\n",
        "job_desc = job_desc_block.lower()\n",
        "# removing stopwords\n",
        "cleaned_job_desc_block = remove_stopwords(job_desc_block)\n",
        "# stemming\n",
        "cleaned_job_desc_block = stem_words(cleaned_job_desc_block)\n",
        "#lemmetizing\n",
        "cleaned_job_desc_block = lemmatize_words(cleaned_job_desc_block)"
      ],
      "execution_count": 327,
      "outputs": []
    },
    {
      "cell_type": "code",
      "metadata": {
        "id": "ggqfOPoYiqi2",
        "colab": {
          "base_uri": "https://localhost:8080/"
        },
        "outputId": "12a9c1a9-90c0-4c98-8fb5-e3d30414001f"
      },
      "source": [
        "cleaned_job_desc_block_vector=transform_jobdesc(cleaned_job_desc_block,Vocabulary,idf_of_vocabulary)"
      ],
      "execution_count": 328,
      "outputs": [
        {
          "output_type": "stream",
          "text": [
            "NORM FORM\n",
            "   (0, 569)\t0.33204890321746794\n",
            "  (0, 937)\t0.536087995254321\n",
            "  (0, 1335)\t0.25873183392669236\n",
            "  (0, 1958)\t0.32387760312744357\n",
            "  (0, 2144)\t0.3090536716219803\n",
            "  (0, 3140)\t0.2758555828378169\n",
            "  (0, 4380)\t0.25873183392669236\n",
            "  (0, 5141)\t0.18247315707599826\n",
            "  (0, 5376)\t0.3983280482911822\n"
          ],
          "name": "stdout"
        },
        {
          "output_type": "stream",
          "text": [
            "/usr/local/lib/python3.7/dist-packages/scipy/sparse/_index.py:84: SparseEfficiencyWarning: Changing the sparsity structure of a csr_matrix is expensive. lil_matrix is more efficient.\n",
            "  self._set_intXint(row, col, x.flat[0])\n"
          ],
          "name": "stderr"
        }
      ]
    },
    {
      "cell_type": "code",
      "metadata": {
        "id": "Oixa8ml_kbfW"
      },
      "source": [
        "cleaned_job_desc_block_vector=csr_matrix.toarray(cleaned_job_desc_block_vector)"
      ],
      "execution_count": 329,
      "outputs": []
    },
    {
      "cell_type": "code",
      "metadata": {
        "id": "Bt8tvekKi_jq",
        "colab": {
          "base_uri": "https://localhost:8080/"
        },
        "outputId": "a11877d6-3028-4575-aca1-1a3794b87be0"
      },
      "source": [
        "cleaned_job_desc_block_vector.shape"
      ],
      "execution_count": 330,
      "outputs": [
        {
          "output_type": "execute_result",
          "data": {
            "text/plain": [
              "(1, 6318)"
            ]
          },
          "metadata": {
            "tags": []
          },
          "execution_count": 330
        }
      ]
    },
    {
      "cell_type": "code",
      "metadata": {
        "id": "G1ZmlIVejJFv",
        "colab": {
          "base_uri": "https://localhost:8080/"
        },
        "outputId": "5f6b66c9-5e90-4f6b-dbff-3b1b475602d0"
      },
      "source": [
        "cosine_similarity_Jobdesc_resume(cleaned_job_desc_block_vector,tf_idf_vector)"
      ],
      "execution_count": 331,
      "outputs": [
        {
          "output_type": "execute_result",
          "data": {
            "text/plain": [
              "[(160, array([0.22016347])),\n",
              " (158, array([0.19781177])),\n",
              " (157, array([0.1528357])),\n",
              " (94, array([0.12860427])),\n",
              " (137, array([0.12592264]))]"
            ]
          },
          "metadata": {
            "tags": []
          },
          "execution_count": 331
        }
      ]
    },
    {
      "cell_type": "code",
      "metadata": {
        "id": "Jqg8HM-djZ9X",
        "colab": {
          "base_uri": "https://localhost:8080/"
        },
        "outputId": "642c1533-56d8-46d8-fd75-9b9a87b28c06"
      },
      "source": [
        "knn_list,sort_list=knn(tf_idf_vector,cleaned_job_desc_block_vector,5)\n",
        "print(sort_list)"
      ],
      "execution_count": 332,
      "outputs": [
        {
          "output_type": "stream",
          "text": [
            "[160 158 157  94 137]\n"
          ],
          "name": "stdout"
        }
      ]
    },
    {
      "cell_type": "code",
      "metadata": {
        "id": "2uyRlPHZjcXg",
        "colab": {
          "base_uri": "https://localhost:8080/"
        },
        "outputId": "c9bedc67-1731-44e0-bfce-e3a602803dbe"
      },
      "source": [
        "for i in sort_list:\n",
        "  print(O_data._get_value(i, 'candidate_id'))"
      ],
      "execution_count": 333,
      "outputs": [
        {
          "output_type": "stream",
          "text": [
            "Bl965\n",
            "Bl838\n",
            "Bl133\n",
            "AT389\n",
            "Da426\n"
          ],
          "name": "stdout"
        }
      ]
    },
    {
      "cell_type": "markdown",
      "metadata": {
        "id": "v2hOINt0lUkV"
      },
      "source": [
        "### Project Management Office"
      ]
    },
    {
      "cell_type": "code",
      "metadata": {
        "id": "8n4busVjlEvS"
      },
      "source": [
        "job_desc = \"A Bachelor's degree in Business, Administration, or a related field.A Project Management Professional (PMP) Certification may be advantageous.A minimum of five years' experience in the industry.A minimum of one year's experience in a supervisory position may be advantageous.Strong leadership skills.Good written and verbal communication skills.Strong attention to details and technicalities.Excellent organizational and technical skills.Good interpersonal and multi-tasking skills\"\n",
        "#text to lowercase\n",
        "job_desc = job_desc.lower()\n",
        "# removing stopwords\n",
        "cleaned_job_desc = remove_stopwords(job_desc)\n",
        "# stemming\n",
        "cleaned_job_desc = stem_words(cleaned_job_desc)\n",
        "#lemmetizing\n",
        "cleaned_job_desc = lemmatize_words(cleaned_job_desc)"
      ],
      "execution_count": 334,
      "outputs": []
    },
    {
      "cell_type": "code",
      "metadata": {
        "id": "quvbCGZvnLnb",
        "colab": {
          "base_uri": "https://localhost:8080/"
        },
        "outputId": "e6e3e1c7-b469-4f2d-ba29-f9a9b3f10d85"
      },
      "source": [
        "cleaned_job_desc_vector=transform_jobdesc(cleaned_job_desc,Vocabulary,idf_of_vocabulary)"
      ],
      "execution_count": 335,
      "outputs": [
        {
          "output_type": "stream",
          "text": [
            "NORM FORM\n",
            "   (0, 1153)\t0.15706399866428886\n",
            "  (0, 1335)\t0.1143600362150757\n",
            "  (0, 1677)\t0.21933796040964662\n",
            "  (0, 1723)\t0.17288820813007091\n",
            "  (0, 2169)\t0.23494162820956221\n",
            "  (0, 2298)\t0.2274076494765242\n",
            "  (0, 2927)\t0.1956768295242822\n",
            "  (0, 3225)\t0.1869316555030307\n",
            "  (0, 3427)\t0.1003165888421159\n",
            "  (0, 3519)\t0.2863092172368761\n",
            "  (0, 3611)\t0.5698385941410692\n",
            "  (0, 3933)\t0.16438044656847098\n",
            "  (0, 3988)\t0.23695206585642598\n",
            "  (0, 4265)\t0.16182631281563617\n",
            "  (0, 4375)\t0.1698960018825138\n",
            "  (0, 4387)\t0.11965235299197782\n",
            "  (0, 4648)\t0.12077818902031137\n",
            "  (0, 5141)\t0.08065353433626136\n",
            "  (0, 5548)\t0.09732438259455879\n",
            "  (0, 6005)\t0.23695206585642598\n",
            "  (0, 6221)\t0.21933796040964662\n"
          ],
          "name": "stdout"
        },
        {
          "output_type": "stream",
          "text": [
            "/usr/local/lib/python3.7/dist-packages/scipy/sparse/_index.py:84: SparseEfficiencyWarning: Changing the sparsity structure of a csr_matrix is expensive. lil_matrix is more efficient.\n",
            "  self._set_intXint(row, col, x.flat[0])\n"
          ],
          "name": "stderr"
        }
      ]
    },
    {
      "cell_type": "code",
      "metadata": {
        "id": "wu7U3qgjnTlk"
      },
      "source": [
        "cleaned_job_desc_vector=csr_matrix.toarray(cleaned_job_desc_vector)"
      ],
      "execution_count": 336,
      "outputs": []
    },
    {
      "cell_type": "code",
      "metadata": {
        "id": "J3ZorrTUnXUn",
        "colab": {
          "base_uri": "https://localhost:8080/"
        },
        "outputId": "add7f1a6-10d4-4187-9a2f-a07b4baf8c60"
      },
      "source": [
        "cosine_similarity_Jobdesc_resume(cleaned_job_desc_vector,tf_idf_vector)"
      ],
      "execution_count": 337,
      "outputs": [
        {
          "output_type": "execute_result",
          "data": {
            "text/plain": [
              "[(56, array([0.10615323])),\n",
              " (89, array([0.0870378])),\n",
              " (15, array([0.07903487])),\n",
              " (103, array([0.07244539])),\n",
              " (124, array([0.07125405]))]"
            ]
          },
          "metadata": {
            "tags": []
          },
          "execution_count": 337
        }
      ]
    },
    {
      "cell_type": "code",
      "metadata": {
        "id": "9MrfewFIna5x",
        "colab": {
          "base_uri": "https://localhost:8080/"
        },
        "outputId": "7a926594-0529-4df3-af75-5ec553e3152e"
      },
      "source": [
        "knn_list,sort_list=knn(tf_idf_vector,cleaned_job_desc_vector,5)\n",
        "print(sort_list)\n",
        "for i in sort_list:\n",
        "  print(O_data._get_value(i, 'candidate_id'))"
      ],
      "execution_count": 338,
      "outputs": [
        {
          "output_type": "stream",
          "text": [
            "[ 56  89  15 103 124]\n",
            "Ha587\n",
            "SD145\n",
            "HR668\n",
            "OM573\n",
            "PM895\n"
          ],
          "name": "stdout"
        }
      ]
    },
    {
      "cell_type": "markdown",
      "metadata": {
        "id": "RTdOZy0Bnt14"
      },
      "source": [
        "### Network Security Engineer"
      ]
    },
    {
      "cell_type": "code",
      "metadata": {
        "id": "DqTVCZTUnxs7"
      },
      "source": [
        "job_desc = \"Maintaining LAN, WLAN and architecture of the server as per the business policyAs a precautionary measure, analyze and implement new security protocols for greater efficiency against any threat or malfunctionsImplement a virus detection system beforehand for sound safety.Resolving the existing security issue including hardware malfunctionsTracking the vulnerable scripts  to avert the potential threatsGenerating and maintaining the virtual private network, firewalls,web protocols and email security decorum.Reporting the security analysis of findingsMaintaining the regulatory systems about ISMS policy (Information System Management Systems)Investigations of Security breach alertDeveloping the security authentication protocolMaintaining server and switchesMaintaining & implementation of the SOP for Network securityStatus reports of hardware and software products as per designated policies.Supervising the installation of new software’s and hardware’sRecommend modifications in legal, technical and regulatory areas that affect IT security.Knowledge of performing routing protocols (MPLS, HAIPE/IP, QOS and WAN)Monitoring of web security gateways, perimeter security, network access controls, endpoint security\"\n",
        "#text to lowercase\n",
        "job_desc = job_desc.lower()\n",
        "# removing stopwords\n",
        "cleaned_job_desc = remove_stopwords(job_desc)\n",
        "# stemming\n",
        "cleaned_job_desc = stem_words(cleaned_job_desc)\n",
        "#lemmetizing\n",
        "cleaned_job_desc = lemmatize_words(cleaned_job_desc)"
      ],
      "execution_count": 339,
      "outputs": []
    },
    {
      "cell_type": "code",
      "metadata": {
        "id": "moX_W3k5ohT7",
        "colab": {
          "base_uri": "https://localhost:8080/"
        },
        "outputId": "9428f32c-8665-4a4b-9ffd-5130f26e48c4"
      },
      "source": [
        "cleaned_job_desc_vector=transform_jobdesc(cleaned_job_desc,Vocabulary,idf_of_vocabulary)"
      ],
      "execution_count": 340,
      "outputs": [
        {
          "output_type": "stream",
          "text": [
            "/usr/local/lib/python3.7/dist-packages/scipy/sparse/_index.py:84: SparseEfficiencyWarning: Changing the sparsity structure of a csr_matrix is expensive. lil_matrix is more efficient.\n",
            "  self._set_intXint(row, col, x.flat[0])\n"
          ],
          "name": "stderr"
        },
        {
          "output_type": "stream",
          "text": [
            "NORM FORM\n",
            "   (0, 455)\t0.14213271064780936\n",
            "  (0, 564)\t0.06766725299668408\n",
            "  (0, 572)\t0.07049127673467527\n",
            "  (0, 655)\t0.09671970299331129\n",
            "  (0, 658)\t0.08119921704237137\n",
            "  (0, 752)\t0.12257439281940949\n",
            "  (0, 1047)\t0.05667784713177681\n",
            "  (0, 1711)\t0.05325344567738586\n",
            "  (0, 1725)\t0.11113351031260953\n",
            "  (0, 1959)\t0.08860226767171138\n",
            "  (0, 1990)\t0.10816058550011126\n",
            "  (0, 2014)\t0.14213271064780936\n",
            "  (0, 2158)\t0.08860226767171138\n",
            "  (0, 2595)\t0.21632117100022252\n",
            "  (0, 2798)\t0.11810078845575062\n",
            "  (0, 2813)\t0.06766725299668408\n",
            "  (0, 2886)\t0.07910813550348406\n",
            "  (0, 2982)\t0.06274757784561319\n",
            "  (0, 3412)\t0.12779887866841966\n",
            "  (0, 3427)\t0.0540713779652609\n",
            "  (0, 3646)\t0.11113351031260953\n",
            "  (0, 3811)\t0.1489440950897705\n",
            "  (0, 3817)\t0.12220684447373888\n",
            "  (0, 4138)\t0.13400660057900252\n",
            "  (0, 4141)\t0.060058240225587034\n",
            "  (0, 4252)\t0.09004959456307517\n",
            "  (0, 4278)\t0.1054712478800851\n",
            "  (0, 4352)\t0.1030160749910096\n",
            "  (0, 4370)\t0.061640899213971485\n",
            "  (0, 4418)\t0.36772317845822844\n",
            "  (0, 4643)\t0.30714718630921867\n",
            "  (0, 4676)\t0.057136665178196176\n",
            "  (0, 4793)\t0.11445695749780958\n",
            "  (0, 4959)\t0.07124376634581076\n",
            "  (0, 4991)\t0.5467776487560626\n",
            "  (0, 5038)\t0.13270922444657068\n",
            "  (0, 5202)\t0.05491372971648537\n",
            "  (0, 5224)\t0.14213271064780936\n",
            "  (0, 5230)\t0.12771890332851116\n",
            "  (0, 5476)\t0.13390976072573127\n",
            "  (0, 5548)\t0.052458556827409866\n",
            "  (0, 6049)\t0.13401527532620947\n",
            "  (0, 6089)\t0.15357359315460933\n",
            "  (0, 6131)\t0.06700330028950126\n"
          ],
          "name": "stdout"
        }
      ]
    },
    {
      "cell_type": "code",
      "metadata": {
        "id": "aPo0JENYoiP9"
      },
      "source": [
        "cleaned_job_desc_vector=csr_matrix.toarray(cleaned_job_desc_vector)"
      ],
      "execution_count": 341,
      "outputs": []
    },
    {
      "cell_type": "code",
      "metadata": {
        "id": "882v-rywolHG",
        "colab": {
          "base_uri": "https://localhost:8080/"
        },
        "outputId": "0dd131bb-4fdd-4a6e-a6e0-537bae471cb2"
      },
      "source": [
        "cosine_similarity_Jobdesc_resume(cleaned_job_desc_vector,tf_idf_vector)"
      ],
      "execution_count": 342,
      "outputs": [
        {
          "output_type": "execute_result",
          "data": {
            "text/plain": [
              "[(120, array([0.25622026])),\n",
              " (123, array([0.19362962])),\n",
              " (119, array([0.18779425])),\n",
              " (121, array([0.1643392])),\n",
              " (134, array([0.13707371]))]"
            ]
          },
          "metadata": {
            "tags": []
          },
          "execution_count": 342
        }
      ]
    },
    {
      "cell_type": "code",
      "metadata": {
        "id": "NBwl4KeYonvT",
        "colab": {
          "base_uri": "https://localhost:8080/"
        },
        "outputId": "e363bda1-4650-4df3-dfea-acda5dc6f5a9"
      },
      "source": [
        "knn_list,sort_list=knn(tf_idf_vector,cleaned_job_desc_vector,5)\n",
        "print(sort_list)\n",
        "for i in sort_list:\n",
        "  print(O_data._get_value(i, 'candidate_id'))"
      ],
      "execution_count": 343,
      "outputs": [
        {
          "output_type": "stream",
          "text": [
            "[120 123 119 121 134]\n",
            "NS750\n",
            "NS904\n",
            "NS945\n",
            "NS610\n",
            "Da240\n"
          ],
          "name": "stdout"
        }
      ]
    }
  ]
}