{
  "nbformat": 4,
  "nbformat_minor": 0,
  "metadata": {
    "colab": {
      "name": "AOML_Project.ipynb",
      "provenance": [],
      "authorship_tag": "ABX9TyN5sduK2WZCWShKDRBHu8dv",
      "include_colab_link": true
    },
    "kernelspec": {
      "name": "python3",
      "display_name": "Python 3"
    },
    "language_info": {
      "name": "python"
    }
  },
  "cells": [
    {
      "cell_type": "markdown",
      "metadata": {
        "id": "view-in-github",
        "colab_type": "text"
      },
      "source": [
        "<a href=\"https://colab.research.google.com/github/suchith1012/AOML_Project/blob/main/AOML_Project.ipynb\" target=\"_parent\"><img src=\"https://colab.research.google.com/assets/colab-badge.svg\" alt=\"Open In Colab\"/></a>"
      ]
    },
    {
      "cell_type": "code",
      "metadata": {
        "id": "E0EbO_ohUFRE"
      },
      "source": [
        "import pandas as pd\n",
        "import numpy as np"
      ],
      "execution_count": 2,
      "outputs": []
    },
    {
      "cell_type": "code",
      "metadata": {
        "id": "182utcWgSgNh"
      },
      "source": [
        "ori_data=pd.read_excel('/content/resume_data.xlsx', index_col=0)"
      ],
      "execution_count": 6,
      "outputs": []
    },
    {
      "cell_type": "code",
      "metadata": {
        "colab": {
          "base_uri": "https://localhost:8080/",
          "height": 1000
        },
        "id": "48RIIh-rUcq_",
        "outputId": "ede00413-7b2a-4885-ee00-b7e1ca5e73da"
      },
      "source": [
        "ori_data"
      ],
      "execution_count": 11,
      "outputs": [
        {
          "output_type": "execute_result",
          "data": {
            "text/html": [
              "<div>\n",
              "<style scoped>\n",
              "    .dataframe tbody tr th:only-of-type {\n",
              "        vertical-align: middle;\n",
              "    }\n",
              "\n",
              "    .dataframe tbody tr th {\n",
              "        vertical-align: top;\n",
              "    }\n",
              "\n",
              "    .dataframe thead th {\n",
              "        text-align: right;\n",
              "    }\n",
              "</style>\n",
              "<table border=\"1\" class=\"dataframe\">\n",
              "  <thead>\n",
              "    <tr style=\"text-align: right;\">\n",
              "      <th></th>\n",
              "      <th>City</th>\n",
              "      <th>State</th>\n",
              "      <th>Description</th>\n",
              "      <th>work_experiences</th>\n",
              "      <th>Educations</th>\n",
              "      <th>Skills</th>\n",
              "      <th>Links</th>\n",
              "      <th>Certificates</th>\n",
              "      <th>Additional Information</th>\n",
              "    </tr>\n",
              "    <tr>\n",
              "      <th>Resume_title</th>\n",
              "      <th></th>\n",
              "      <th></th>\n",
              "      <th></th>\n",
              "      <th></th>\n",
              "      <th></th>\n",
              "      <th></th>\n",
              "      <th></th>\n",
              "      <th></th>\n",
              "      <th></th>\n",
              "    </tr>\n",
              "  </thead>\n",
              "  <tbody>\n",
              "    <tr>\n",
              "      <th>Java Developer</th>\n",
              "      <td>Tirur</td>\n",
              "      <td>Kerala</td>\n",
              "      <td>To prove myself dedicated, worthy and energeti...</td>\n",
              "      <td>{0: [{'wtitle:': 'Java Developer'}, {'wcompany...</td>\n",
              "      <td>{0: [{'e_title:': \"Bachelor's in Bachelor of C...</td>\n",
              "      <td>['Java (Less than 1 year)', ' Jsp (Less than 1...</td>\n",
              "      <td>['https://www.linkedin.com/in/mohamed-rihan-k-...</td>\n",
              "      <td>{0: [{'c_title:': 'Java Developer'}, {'c_durat...</td>\n",
              "      <td>\\nTechnical Expertise \\nâ€¢ Operating Systems:...</td>\n",
              "    </tr>\n",
              "    <tr>\n",
              "      <th>Software Developer</th>\n",
              "      <td>Bengaluru</td>\n",
              "      <td>Karnataka</td>\n",
              "      <td>Working as Software Developer at IngroInfo Sof...</td>\n",
              "      <td>{0: [{'wtitle:': 'JAVA DEVELOPER'}, {'wcompany...</td>\n",
              "      <td>{0: [{'e_title:': 'MCA in Master of Computer A...</td>\n",
              "      <td>['Programming Languages: Core Java', ' J2EE \\n...</td>\n",
              "      <td>['http://github.com/NK-PATEL/Train_Project', '...</td>\n",
              "      <td>{}</td>\n",
              "      <td>NONE</td>\n",
              "    </tr>\n",
              "    <tr>\n",
              "      <th>Java developer</th>\n",
              "      <td>Pune</td>\n",
              "      <td>Maharashtra</td>\n",
              "      <td>Looking for a challenging career which demands...</td>\n",
              "      <td>{0: [{'wtitle:': 'Java Developer'}, {'wcompany...</td>\n",
              "      <td>{0: [{'e_title:': \"Bachelor's in Electrical En...</td>\n",
              "      <td>['ECLIPSE (1 year)', ' HIBERNATE', ' SPRING (L...</td>\n",
              "      <td>[]</td>\n",
              "      <td>{}</td>\n",
              "      <td>\\nTECHNICAL SKILLS \\n \\nFrameworks: Spring, Sp...</td>\n",
              "    </tr>\n",
              "    <tr>\n",
              "      <th>Seeking innovative and challenging career assignment in an organisation.I possess high learning desire and capability, good presentation skills and thinking ability.</th>\n",
              "      <td>Pune</td>\n",
              "      <td>Maharashtra</td>\n",
              "      <td>NONE</td>\n",
              "      <td>{0: [{'wtitle:': 'Java Developer'}, {'wcompany...</td>\n",
              "      <td>{0: [{'e_title:': 'BE in Computer'}, {'e_schoo...</td>\n",
              "      <td>['GIT', ' Angular 7', ' MAVEN', ' Java', ' Jen...</td>\n",
              "      <td>[]</td>\n",
              "      <td>{}</td>\n",
              "      <td>NONE</td>\n",
              "    </tr>\n",
              "    <tr>\n",
              "      <th>NONE</th>\n",
              "      <td>Pune</td>\n",
              "      <td>Maharashtra</td>\n",
              "      <td>NONE</td>\n",
              "      <td>{0: [{'wtitle:': 'Java Developer'}, {'wcompany...</td>\n",
              "      <td>{0: [{'e_title:': 'Bachelor of Engineering in ...</td>\n",
              "      <td>['Project: HR Payroll Systems Role: Java Devel...</td>\n",
              "      <td>[]</td>\n",
              "      <td>{}</td>\n",
              "      <td>NONE</td>\n",
              "    </tr>\n",
              "    <tr>\n",
              "      <th>...</th>\n",
              "      <td>...</td>\n",
              "      <td>...</td>\n",
              "      <td>...</td>\n",
              "      <td>...</td>\n",
              "      <td>...</td>\n",
              "      <td>...</td>\n",
              "      <td>...</td>\n",
              "      <td>...</td>\n",
              "      <td>...</td>\n",
              "    </tr>\n",
              "    <tr>\n",
              "      <th>Back Office Operations &amp; HR Coordinator</th>\n",
              "      <td>Calicut</td>\n",
              "      <td>Kerala</td>\n",
              "      <td>Management Professional seeking a full-time po...</td>\n",
              "      <td>{0: [{'wtitle:': 'Project Administration &amp; Pay...</td>\n",
              "      <td>{0: [{'e_title:': 'MBA in MARKETING &amp; HR'}, {'...</td>\n",
              "      <td>['MS OFFICE (9 years)', ' ACONEX PROJECT MANAG...</td>\n",
              "      <td>['http://www.linkedin.com/in/akhil-ravi-1512b6...</td>\n",
              "      <td>{0: [{'c_title:': 'ISO 9001:2018 QMS INTERNAL ...</td>\n",
              "      <td>\\nISO 9001:2015 QMS LLYOD REGISTER CERTIFIED \\...</td>\n",
              "    </tr>\n",
              "    <tr>\n",
              "      <th>NONE</th>\n",
              "      <td>NONE</td>\n",
              "      <td>NONE</td>\n",
              "      <td>NONE</td>\n",
              "      <td>{0: [{'wtitle:': 'Accountant'}, {'wcompany:': ...</td>\n",
              "      <td>{0: [{'e_title:': 'B.COM'}, {'e_schoolname:': ...</td>\n",
              "      <td>['NONE']</td>\n",
              "      <td>[]</td>\n",
              "      <td>{}</td>\n",
              "      <td>\\nCOMPUTER PROFICIENCY \\n \\nApplications \\nAcc...</td>\n",
              "    </tr>\n",
              "    <tr>\n",
              "      <th>NONE</th>\n",
              "      <td>Durgapur</td>\n",
              "      <td>West Bengal</td>\n",
              "      <td>To be potential resource to the organization w...</td>\n",
              "      <td>{0: [{'wtitle:': 'Administrative works'}, {'wc...</td>\n",
              "      <td>{0: [{'e_title:': 'CERTIFICATE'}, {'e_schoolna...</td>\n",
              "      <td>['ACCOUNTING', ' ERP', ' Tally', ' PAYROLL', '...</td>\n",
              "      <td>[]</td>\n",
              "      <td>{}</td>\n",
              "      <td>\\nYEAR OF \\nDEGREE/CERTIFICATE INSTITUTION % O...</td>\n",
              "    </tr>\n",
              "    <tr>\n",
              "      <th>NONE</th>\n",
              "      <td>NONE</td>\n",
              "      <td>NONE</td>\n",
              "      <td>A finance professional with close to 6 years o...</td>\n",
              "      <td>{0: [{'wtitle:': 'Assistant Manger'}, {'wcompa...</td>\n",
              "      <td>{0: [{'e_title:': 'Bachelor of Commerce in Com...</td>\n",
              "      <td>['ERP (2 years)', ' Tally (5 years)', ' MS OFF...</td>\n",
              "      <td>[]</td>\n",
              "      <td>{}</td>\n",
              "      <td>\\nStrengths and Core Competencies \\n \\nâ€¢ Kno...</td>\n",
              "    </tr>\n",
              "    <tr>\n",
              "      <th>NONE</th>\n",
              "      <td>Howrah</td>\n",
              "      <td>West Bengal</td>\n",
              "      <td>Age: 32 years \\nGender: Male \\nFunctional Area...</td>\n",
              "      <td>{0: [{'wtitle:': 'Commercial Officer'}, {'wcom...</td>\n",
              "      <td>{0: [{'e_title:': 'B.Com in Accountancy'}, {'e...</td>\n",
              "      <td>['ACCOUNTING', ' ECOMMERCE', ' MANAGEMENT ACCO...</td>\n",
              "      <td>[]</td>\n",
              "      <td>{}</td>\n",
              "      <td>\\nKey Skills \\n \\nâž¢ Good communication and l...</td>\n",
              "    </tr>\n",
              "  </tbody>\n",
              "</table>\n",
              "<p>14806 rows × 9 columns</p>\n",
              "</div>"
            ],
            "text/plain": [
              "                                                         City  ...                             Additional Information\n",
              "Resume_title                                                   ...                                                   \n",
              "Java Developer                                          Tirur  ...  \\nTechnical Expertise \\nâ€¢ Operating Systems:...\n",
              "Software Developer                                  Bengaluru  ...                                               NONE\n",
              "Java developer                                           Pune  ...  \\nTECHNICAL SKILLS \\n \\nFrameworks: Spring, Sp...\n",
              "Seeking innovative and challenging career assig...       Pune  ...                                               NONE\n",
              "NONE                                                     Pune  ...                                               NONE\n",
              "...                                                       ...  ...                                                ...\n",
              "Back Office Operations & HR Coordinator               Calicut  ...  \\nISO 9001:2015 QMS LLYOD REGISTER CERTIFIED \\...\n",
              "NONE                                                     NONE  ...  \\nCOMPUTER PROFICIENCY \\n \\nApplications \\nAcc...\n",
              "NONE                                                 Durgapur  ...  \\nYEAR OF \\nDEGREE/CERTIFICATE INSTITUTION % O...\n",
              "NONE                                                     NONE  ...  \\nStrengths and Core Competencies \\n \\nâ€¢ Kno...\n",
              "NONE                                                   Howrah  ...  \\nKey Skills \\n \\nâž¢ Good communication and l...\n",
              "\n",
              "[14806 rows x 9 columns]"
            ]
          },
          "metadata": {
            "tags": []
          },
          "execution_count": 11
        }
      ]
    },
    {
      "cell_type": "code",
      "metadata": {
        "id": "3Kti2kXVVUn_"
      },
      "source": [
        ""
      ],
      "execution_count": null,
      "outputs": []
    },
    {
      "cell_type": "code",
      "metadata": {
        "id": "dkx3FYYaVVAS"
      },
      "source": [
        ""
      ],
      "execution_count": null,
      "outputs": []
    },
    {
      "cell_type": "code",
      "metadata": {
        "id": "Jua1No8HVVL-"
      },
      "source": [
        ""
      ],
      "execution_count": null,
      "outputs": []
    }
  ]
}